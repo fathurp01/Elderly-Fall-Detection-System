{
  "cells": [
    {
      "cell_type": "code",
      "execution_count": null,
      "metadata": {
        "colab": {
          "base_uri": "https://localhost:8080/"
        },
        "id": "lU7xzqBKKGVo",
        "outputId": "0908692d-ba60-4d50-9235-2ffc937539dc"
      },
      "outputs": [
        {
          "output_type": "stream",
          "name": "stdout",
          "text": [
            "Requirement already satisfied: ultralytics in /usr/local/lib/python3.11/dist-packages (8.3.179)\n",
            "Requirement already satisfied: lap in /usr/local/lib/python3.11/dist-packages (0.5.12)\n",
            "Requirement already satisfied: norfair in /usr/local/lib/python3.11/dist-packages (2.3.0)\n",
            "Requirement already satisfied: numpy>=1.23.0 in /usr/local/lib/python3.11/dist-packages (from ultralytics) (1.26.4)\n",
            "Requirement already satisfied: matplotlib>=3.3.0 in /usr/local/lib/python3.11/dist-packages (from ultralytics) (3.10.0)\n",
            "Requirement already satisfied: opencv-python>=4.6.0 in /usr/local/lib/python3.11/dist-packages (from ultralytics) (4.11.0.86)\n",
            "Requirement already satisfied: pillow>=7.1.2 in /usr/local/lib/python3.11/dist-packages (from ultralytics) (11.3.0)\n",
            "Requirement already satisfied: pyyaml>=5.3.1 in /usr/local/lib/python3.11/dist-packages (from ultralytics) (6.0.2)\n",
            "Requirement already satisfied: requests>=2.23.0 in /usr/local/lib/python3.11/dist-packages (from ultralytics) (2.32.3)\n",
            "Requirement already satisfied: scipy>=1.4.1 in /usr/local/lib/python3.11/dist-packages (from ultralytics) (1.16.1)\n",
            "Requirement already satisfied: torch>=1.8.0 in /usr/local/lib/python3.11/dist-packages (from ultralytics) (2.6.0+cu124)\n",
            "Requirement already satisfied: torchvision>=0.9.0 in /usr/local/lib/python3.11/dist-packages (from ultralytics) (0.21.0+cu124)\n",
            "Requirement already satisfied: tqdm>=4.64.0 in /usr/local/lib/python3.11/dist-packages (from ultralytics) (4.67.1)\n",
            "Requirement already satisfied: psutil in /usr/local/lib/python3.11/dist-packages (from ultralytics) (5.9.5)\n",
            "Requirement already satisfied: py-cpuinfo in /usr/local/lib/python3.11/dist-packages (from ultralytics) (9.0.0)\n",
            "Requirement already satisfied: pandas>=1.1.4 in /usr/local/lib/python3.11/dist-packages (from ultralytics) (2.2.2)\n",
            "Requirement already satisfied: ultralytics-thop>=2.0.0 in /usr/local/lib/python3.11/dist-packages (from ultralytics) (2.0.15)\n",
            "Requirement already satisfied: filterpy<2.0.0,>=1.4.5 in /usr/local/lib/python3.11/dist-packages (from norfair) (1.4.5)\n",
            "Requirement already satisfied: rich<15.0.0,>=9.10.0 in /usr/local/lib/python3.11/dist-packages (from norfair) (13.9.4)\n",
            "Requirement already satisfied: contourpy>=1.0.1 in /usr/local/lib/python3.11/dist-packages (from matplotlib>=3.3.0->ultralytics) (1.3.3)\n",
            "Requirement already satisfied: cycler>=0.10 in /usr/local/lib/python3.11/dist-packages (from matplotlib>=3.3.0->ultralytics) (0.12.1)\n",
            "Requirement already satisfied: fonttools>=4.22.0 in /usr/local/lib/python3.11/dist-packages (from matplotlib>=3.3.0->ultralytics) (4.59.0)\n",
            "Requirement already satisfied: kiwisolver>=1.3.1 in /usr/local/lib/python3.11/dist-packages (from matplotlib>=3.3.0->ultralytics) (1.4.9)\n",
            "Requirement already satisfied: packaging>=20.0 in /usr/local/lib/python3.11/dist-packages (from matplotlib>=3.3.0->ultralytics) (25.0)\n",
            "Requirement already satisfied: pyparsing>=2.3.1 in /usr/local/lib/python3.11/dist-packages (from matplotlib>=3.3.0->ultralytics) (3.2.3)\n",
            "Requirement already satisfied: python-dateutil>=2.7 in /usr/local/lib/python3.11/dist-packages (from matplotlib>=3.3.0->ultralytics) (2.9.0.post0)\n",
            "Requirement already satisfied: pytz>=2020.1 in /usr/local/lib/python3.11/dist-packages (from pandas>=1.1.4->ultralytics) (2025.2)\n",
            "Requirement already satisfied: tzdata>=2022.7 in /usr/local/lib/python3.11/dist-packages (from pandas>=1.1.4->ultralytics) (2025.2)\n",
            "Requirement already satisfied: charset-normalizer<4,>=2 in /usr/local/lib/python3.11/dist-packages (from requests>=2.23.0->ultralytics) (3.4.3)\n",
            "Requirement already satisfied: idna<4,>=2.5 in /usr/local/lib/python3.11/dist-packages (from requests>=2.23.0->ultralytics) (3.10)\n",
            "Requirement already satisfied: urllib3<3,>=1.21.1 in /usr/local/lib/python3.11/dist-packages (from requests>=2.23.0->ultralytics) (2.5.0)\n",
            "Requirement already satisfied: certifi>=2017.4.17 in /usr/local/lib/python3.11/dist-packages (from requests>=2.23.0->ultralytics) (2025.8.3)\n",
            "Requirement already satisfied: markdown-it-py>=2.2.0 in /usr/local/lib/python3.11/dist-packages (from rich<15.0.0,>=9.10.0->norfair) (4.0.0)\n",
            "Requirement already satisfied: pygments<3.0.0,>=2.13.0 in /usr/local/lib/python3.11/dist-packages (from rich<15.0.0,>=9.10.0->norfair) (2.19.2)\n",
            "Requirement already satisfied: filelock in /usr/local/lib/python3.11/dist-packages (from torch>=1.8.0->ultralytics) (3.18.0)\n",
            "Requirement already satisfied: typing-extensions>=4.10.0 in /usr/local/lib/python3.11/dist-packages (from torch>=1.8.0->ultralytics) (4.14.1)\n",
            "Requirement already satisfied: networkx in /usr/local/lib/python3.11/dist-packages (from torch>=1.8.0->ultralytics) (3.5)\n",
            "Requirement already satisfied: jinja2 in /usr/local/lib/python3.11/dist-packages (from torch>=1.8.0->ultralytics) (3.1.6)\n",
            "Requirement already satisfied: fsspec in /usr/local/lib/python3.11/dist-packages (from torch>=1.8.0->ultralytics) (2025.3.0)\n",
            "Requirement already satisfied: nvidia-cuda-nvrtc-cu12==12.4.127 in /usr/local/lib/python3.11/dist-packages (from torch>=1.8.0->ultralytics) (12.4.127)\n",
            "Requirement already satisfied: nvidia-cuda-runtime-cu12==12.4.127 in /usr/local/lib/python3.11/dist-packages (from torch>=1.8.0->ultralytics) (12.4.127)\n",
            "Requirement already satisfied: nvidia-cuda-cupti-cu12==12.4.127 in /usr/local/lib/python3.11/dist-packages (from torch>=1.8.0->ultralytics) (12.4.127)\n",
            "Requirement already satisfied: nvidia-cudnn-cu12==9.1.0.70 in /usr/local/lib/python3.11/dist-packages (from torch>=1.8.0->ultralytics) (9.1.0.70)\n",
            "Requirement already satisfied: nvidia-cublas-cu12==12.4.5.8 in /usr/local/lib/python3.11/dist-packages (from torch>=1.8.0->ultralytics) (12.4.5.8)\n",
            "Requirement already satisfied: nvidia-cufft-cu12==11.2.1.3 in /usr/local/lib/python3.11/dist-packages (from torch>=1.8.0->ultralytics) (11.2.1.3)\n",
            "Requirement already satisfied: nvidia-curand-cu12==10.3.5.147 in /usr/local/lib/python3.11/dist-packages (from torch>=1.8.0->ultralytics) (10.3.5.147)\n",
            "Requirement already satisfied: nvidia-cusolver-cu12==11.6.1.9 in /usr/local/lib/python3.11/dist-packages (from torch>=1.8.0->ultralytics) (11.6.1.9)\n",
            "Requirement already satisfied: nvidia-cusparse-cu12==12.3.1.170 in /usr/local/lib/python3.11/dist-packages (from torch>=1.8.0->ultralytics) (12.3.1.170)\n",
            "Requirement already satisfied: nvidia-cusparselt-cu12==0.6.2 in /usr/local/lib/python3.11/dist-packages (from torch>=1.8.0->ultralytics) (0.6.2)\n",
            "Requirement already satisfied: nvidia-nccl-cu12==2.21.5 in /usr/local/lib/python3.11/dist-packages (from torch>=1.8.0->ultralytics) (2.21.5)\n",
            "Requirement already satisfied: nvidia-nvtx-cu12==12.4.127 in /usr/local/lib/python3.11/dist-packages (from torch>=1.8.0->ultralytics) (12.4.127)\n",
            "Requirement already satisfied: nvidia-nvjitlink-cu12==12.4.127 in /usr/local/lib/python3.11/dist-packages (from torch>=1.8.0->ultralytics) (12.4.127)\n",
            "Requirement already satisfied: triton==3.2.0 in /usr/local/lib/python3.11/dist-packages (from torch>=1.8.0->ultralytics) (3.2.0)\n",
            "Requirement already satisfied: sympy==1.13.1 in /usr/local/lib/python3.11/dist-packages (from torch>=1.8.0->ultralytics) (1.13.1)\n",
            "Requirement already satisfied: mpmath<1.4,>=1.1.0 in /usr/local/lib/python3.11/dist-packages (from sympy==1.13.1->torch>=1.8.0->ultralytics) (1.3.0)\n",
            "Requirement already satisfied: mdurl~=0.1 in /usr/local/lib/python3.11/dist-packages (from markdown-it-py>=2.2.0->rich<15.0.0,>=9.10.0->norfair) (0.1.2)\n",
            "Requirement already satisfied: six>=1.5 in /usr/local/lib/python3.11/dist-packages (from python-dateutil>=2.7->matplotlib>=3.3.0->ultralytics) (1.17.0)\n",
            "Requirement already satisfied: MarkupSafe>=2.0 in /usr/local/lib/python3.11/dist-packages (from jinja2->torch>=1.8.0->ultralytics) (3.0.2)\n"
          ]
        }
      ],
      "source": [
        "!pip install ultralytics lap norfair"
      ]
    },
    {
      "cell_type": "code",
      "execution_count": null,
      "metadata": {
        "colab": {
          "base_uri": "https://localhost:8080/"
        },
        "id": "_GYClUCoMyMO",
        "outputId": "c53d44ea-e5e1-4468-d752-4bbdddd1837e"
      },
      "outputs": [
        {
          "output_type": "stream",
          "name": "stdout",
          "text": [
            "Creating new Ultralytics Settings v0.0.6 file ✅ \n",
            "View Ultralytics Settings with 'yolo settings' or at '/root/.config/Ultralytics/settings.json'\n",
            "Update Settings with 'yolo settings key=value', i.e. 'yolo settings runs_dir=path/to/dir'. For help see https://docs.ultralytics.com/quickstart/#ultralytics-settings.\n"
          ]
        }
      ],
      "source": [
        "import os\n",
        "import cv2\n",
        "import numpy as np\n",
        "import norfair\n",
        "from tqdm import tqdm\n",
        "from ultralytics import YOLO\n",
        "\n"
      ]
    },
    {
      "cell_type": "code",
      "source": [
        "!rm -f /content/*.npz"
      ],
      "metadata": {
        "id": "N7oaeQM9sBFN"
      },
      "execution_count": null,
      "outputs": []
    },
    {
      "cell_type": "code",
      "execution_count": null,
      "metadata": {
        "colab": {
          "base_uri": "https://localhost:8080/"
        },
        "id": "mf3JbIj31yj8",
        "outputId": "cf8fba2d-4791-44ef-ae05-e31bf73cc9db"
      },
      "outputs": [
        {
          "output_type": "stream",
          "name": "stderr",
          "text": [
            "Downloading https://github.com/ultralytics/assets/releases/download/v8.3.0/yolov8n.pt to 'yolov8n.pt': 100%|██████████| 6.25M/6.25M [00:00<00:00, 96.2MB/s]"
          ]
        },
        {
          "output_type": "stream",
          "name": "stdout",
          "text": [
            "{0: 'person', 1: 'bicycle', 2: 'car', 3: 'motorcycle', 4: 'airplane', 5: 'bus', 6: 'train', 7: 'truck', 8: 'boat', 9: 'traffic light', 10: 'fire hydrant', 11: 'stop sign', 12: 'parking meter', 13: 'bench', 14: 'bird', 15: 'cat', 16: 'dog', 17: 'horse', 18: 'sheep', 19: 'cow', 20: 'elephant', 21: 'bear', 22: 'zebra', 23: 'giraffe', 24: 'backpack', 25: 'umbrella', 26: 'handbag', 27: 'tie', 28: 'suitcase', 29: 'frisbee', 30: 'skis', 31: 'snowboard', 32: 'sports ball', 33: 'kite', 34: 'baseball bat', 35: 'baseball glove', 36: 'skateboard', 37: 'surfboard', 38: 'tennis racket', 39: 'bottle', 40: 'wine glass', 41: 'cup', 42: 'fork', 43: 'knife', 44: 'spoon', 45: 'bowl', 46: 'banana', 47: 'apple', 48: 'sandwich', 49: 'orange', 50: 'broccoli', 51: 'carrot', 52: 'hot dog', 53: 'pizza', 54: 'donut', 55: 'cake', 56: 'chair', 57: 'couch', 58: 'potted plant', 59: 'bed', 60: 'dining table', 61: 'toilet', 62: 'tv', 63: 'laptop', 64: 'mouse', 65: 'remote', 66: 'keyboard', 67: 'cell phone', 68: 'microwave', 69: 'oven', 70: 'toaster', 71: 'sink', 72: 'refrigerator', 73: 'book', 74: 'clock', 75: 'vase', 76: 'scissors', 77: 'teddy bear', 78: 'hair drier', 79: 'toothbrush'}\n"
          ]
        },
        {
          "output_type": "stream",
          "name": "stderr",
          "text": [
            "\n"
          ]
        }
      ],
      "source": [
        "# Load YOLO best model\n",
        "yolo_model = YOLO(\"yolov8n.pt\")  # ganti path ke best.pt kamu\n",
        "print(yolo_model.names)\n",
        "tracker = norfair.Tracker(distance_function=\"iou\", distance_threshold=0.7)"
      ]
    },
    {
      "cell_type": "code",
      "execution_count": null,
      "metadata": {
        "id": "HE_ms8kfOaaE"
      },
      "outputs": [],
      "source": [
        "def process_video(video_path, label, model, tracker, sequence_length=60):\n",
        "    cap = cv2.VideoCapture(video_path)\n",
        "    sequence = []\n",
        "    frame_count = 0\n",
        "    person_detected_total = 0\n",
        "\n",
        "    while True:\n",
        "        ret, frame = cap.read()\n",
        "        if not ret:\n",
        "            break\n",
        "        frame_count += 1\n",
        "\n",
        "        results = model(frame, conf=0.25, iou=0.4, verbose=False)\n",
        "\n",
        "        detections = []\n",
        "\n",
        "        # Ambil hanya class 'person' (0)\n",
        "        persons = [r for r in results[0].boxes if int(r.cls[0]) == 0]\n",
        "\n",
        "        if persons:\n",
        "            # Pilih kotak dengan confidence tertinggi\n",
        "            best_box = max(persons, key=lambda b: b.conf[0])\n",
        "            x1, y1, x2, y2 = best_box.xyxy[0].cpu().numpy()\n",
        "\n",
        "            detections.append(\n",
        "                norfair.Detection(points=np.array([[x1, y1], [x2, y2]]))\n",
        "            )\n",
        "            person_detected_total += 1\n",
        "\n",
        "        tracked_objects = tracker.update(detections=detections)\n",
        "\n",
        "        for obj in tracked_objects:\n",
        "            x_min, y_min = obj.estimate[0]\n",
        "            x_max, y_max = obj.estimate[1]\n",
        "            w = x_max - x_min\n",
        "            h = y_max - y_min\n",
        "            sequence.append([x_min, y_min, w, h])\n",
        "\n",
        "    cap.release()\n",
        "\n",
        "    # Padding/truncating\n",
        "    if len(sequence) < sequence_length:\n",
        "        sequence += [[0, 0, 0, 0]] * (sequence_length - len(sequence))\n",
        "    else:\n",
        "        sequence = sequence[:sequence_length]\n",
        "\n",
        "    return np.array(sequence, dtype=np.float32), label, frame_count, person_detected_total"
      ]
    },
    {
      "cell_type": "code",
      "execution_count": null,
      "metadata": {
        "id": "CNVaLeT_7Wyt"
      },
      "outputs": [],
      "source": [
        "features, label, frame_count, person_count = process_video(\n",
        "    \"/content/drive/MyDrive/dataset/Subject 1/ADL/04.mp4\",\n",
        "    label=1,\n",
        "    model=yolo_model,\n",
        "    tracker=tracker,\n",
        "    sequence_length=30,\n",
        "    save_preview=True,\n",
        "    preview_path=\"/content/output_preview.mp4\"\n",
        ")"
      ]
    },
    {
      "cell_type": "code",
      "execution_count": null,
      "metadata": {
        "colab": {
          "base_uri": "https://localhost:8080/"
        },
        "id": "dQRsV3dC2xZX",
        "outputId": "31db4d02-6a91-4d3d-859d-7afcaeec8290"
      },
      "outputs": [
        {
          "output_type": "stream",
          "name": "stdout",
          "text": [
            "Total video ditemukan: 1352\n"
          ]
        },
        {
          "output_type": "stream",
          "name": "stderr",
          "text": [
            "nonJatuh:   0%|          | 1/677 [00:00<04:02,  2.79it/s]"
          ]
        },
        {
          "output_type": "stream",
          "name": "stdout",
          "text": [
            "[1/1352] nonJatuh/video_102_flip.avi | Frames: 30 | Person detections: 0\n"
          ]
        },
        {
          "output_type": "stream",
          "name": "stderr",
          "text": [
            "\rnonJatuh:   0%|          | 2/677 [00:00<04:00,  2.80it/s]"
          ]
        },
        {
          "output_type": "stream",
          "name": "stdout",
          "text": [
            "[2/1352] nonJatuh/video_105.avi | Frames: 30 | Person detections: 15\n"
          ]
        },
        {
          "output_type": "stream",
          "name": "stderr",
          "text": [
            "\rnonJatuh:   0%|          | 3/677 [00:01<03:53,  2.88it/s]"
          ]
        },
        {
          "output_type": "stream",
          "name": "stdout",
          "text": [
            "[3/1352] nonJatuh/video_109_flip.avi | Frames: 30 | Person detections: 0\n"
          ]
        },
        {
          "output_type": "stream",
          "name": "stderr",
          "text": [
            "\rnonJatuh:   1%|          | 4/677 [00:01<03:51,  2.90it/s]"
          ]
        },
        {
          "output_type": "stream",
          "name": "stdout",
          "text": [
            "[4/1352] nonJatuh/video_108.avi | Frames: 30 | Person detections: 0\n"
          ]
        },
        {
          "output_type": "stream",
          "name": "stderr",
          "text": [
            "\rnonJatuh:   1%|          | 5/677 [00:01<03:48,  2.95it/s]"
          ]
        },
        {
          "output_type": "stream",
          "name": "stdout",
          "text": [
            "[5/1352] nonJatuh/video_102.avi | Frames: 30 | Person detections: 0\n"
          ]
        },
        {
          "output_type": "stream",
          "name": "stderr",
          "text": [
            "\rnonJatuh:   1%|          | 6/677 [00:02<03:45,  2.98it/s]"
          ]
        },
        {
          "output_type": "stream",
          "name": "stdout",
          "text": [
            "[6/1352] nonJatuh/video_106_flip.avi | Frames: 30 | Person detections: 0\n"
          ]
        },
        {
          "output_type": "stream",
          "name": "stderr",
          "text": [
            "\rnonJatuh:   1%|          | 7/677 [00:03<06:03,  1.84it/s]"
          ]
        },
        {
          "output_type": "stream",
          "name": "stdout",
          "text": [
            "[7/1352] nonJatuh/video_106.avi | Frames: 30 | Person detections: 0\n"
          ]
        },
        {
          "output_type": "stream",
          "name": "stderr",
          "text": [
            "\rnonJatuh:   1%|          | 8/677 [00:04<10:00,  1.11it/s]"
          ]
        },
        {
          "output_type": "stream",
          "name": "stdout",
          "text": [
            "[8/1352] nonJatuh/video_108_flip.avi | Frames: 30 | Person detections: 0\n"
          ]
        },
        {
          "output_type": "stream",
          "name": "stderr",
          "text": [
            "\rnonJatuh:   1%|▏         | 9/677 [00:05<11:10,  1.00s/it]"
          ]
        },
        {
          "output_type": "stream",
          "name": "stdout",
          "text": [
            "[9/1352] nonJatuh/video_100_flip.avi | Frames: 87 | Person detections: 85\n"
          ]
        },
        {
          "output_type": "stream",
          "name": "stderr",
          "text": [
            "\rnonJatuh:   1%|▏         | 10/677 [00:06<09:23,  1.18it/s]"
          ]
        },
        {
          "output_type": "stream",
          "name": "stdout",
          "text": [
            "[10/1352] nonJatuh/video_104_flip.avi | Frames: 30 | Person detections: 0\n"
          ]
        },
        {
          "output_type": "stream",
          "name": "stderr",
          "text": [
            "\rnonJatuh:   2%|▏         | 11/677 [00:06<08:08,  1.36it/s]"
          ]
        },
        {
          "output_type": "stream",
          "name": "stdout",
          "text": [
            "[11/1352] nonJatuh/video_101_flip.avi | Frames: 30 | Person detections: 2\n"
          ]
        },
        {
          "output_type": "stream",
          "name": "stderr",
          "text": [
            "\rnonJatuh:   2%|▏         | 12/677 [00:07<07:07,  1.56it/s]"
          ]
        },
        {
          "output_type": "stream",
          "name": "stdout",
          "text": [
            "[12/1352] nonJatuh/video_104.avi | Frames: 30 | Person detections: 0\n"
          ]
        },
        {
          "output_type": "stream",
          "name": "stderr",
          "text": [
            "\rnonJatuh:   2%|▏         | 13/677 [00:07<06:48,  1.63it/s]"
          ]
        },
        {
          "output_type": "stream",
          "name": "stdout",
          "text": [
            "[13/1352] nonJatuh/video_103_flip.avi | Frames: 30 | Person detections: 0\n"
          ]
        },
        {
          "output_type": "stream",
          "name": "stderr",
          "text": [
            "\rnonJatuh:   2%|▏         | 14/677 [00:08<06:15,  1.77it/s]"
          ]
        },
        {
          "output_type": "stream",
          "name": "stdout",
          "text": [
            "[14/1352] nonJatuh/video_101.avi | Frames: 30 | Person detections: 4\n"
          ]
        },
        {
          "output_type": "stream",
          "name": "stderr",
          "text": [
            "\rnonJatuh:   2%|▏         | 15/677 [00:08<05:31,  1.99it/s]"
          ]
        },
        {
          "output_type": "stream",
          "name": "stdout",
          "text": [
            "[15/1352] nonJatuh/video_109.avi | Frames: 30 | Person detections: 0\n"
          ]
        },
        {
          "output_type": "stream",
          "name": "stderr",
          "text": [
            "\rnonJatuh:   2%|▏         | 16/677 [00:09<04:59,  2.20it/s]"
          ]
        },
        {
          "output_type": "stream",
          "name": "stdout",
          "text": [
            "[16/1352] nonJatuh/video_112_flip.avi | Frames: 30 | Person detections: 0\n"
          ]
        },
        {
          "output_type": "stream",
          "name": "stderr",
          "text": [
            "\rnonJatuh:   3%|▎         | 17/677 [00:09<04:37,  2.37it/s]"
          ]
        },
        {
          "output_type": "stream",
          "name": "stdout",
          "text": [
            "[17/1352] nonJatuh/video_119.avi | Frames: 30 | Person detections: 11\n"
          ]
        },
        {
          "output_type": "stream",
          "name": "stderr",
          "text": [
            "\rnonJatuh:   3%|▎         | 18/677 [00:10<06:28,  1.70it/s]"
          ]
        },
        {
          "output_type": "stream",
          "name": "stdout",
          "text": [
            "[18/1352] nonJatuh/video_12.avi | Frames: 87 | Person detections: 87\n"
          ]
        },
        {
          "output_type": "stream",
          "name": "stderr",
          "text": [
            "\rnonJatuh:   3%|▎         | 19/677 [00:10<05:37,  1.95it/s]"
          ]
        },
        {
          "output_type": "stream",
          "name": "stdout",
          "text": [
            "[19/1352] nonJatuh/video_144_flip.avi | Frames: 30 | Person detections: 6\n"
          ]
        },
        {
          "output_type": "stream",
          "name": "stderr",
          "text": [
            "\rnonJatuh:   3%|▎         | 20/677 [00:11<05:08,  2.13it/s]"
          ]
        },
        {
          "output_type": "stream",
          "name": "stdout",
          "text": [
            "[20/1352] nonJatuh/video_157.avi | Frames: 30 | Person detections: 11\n"
          ]
        },
        {
          "output_type": "stream",
          "name": "stderr",
          "text": [
            "\rnonJatuh:   3%|▎         | 21/677 [00:11<04:40,  2.34it/s]"
          ]
        },
        {
          "output_type": "stream",
          "name": "stdout",
          "text": [
            "[21/1352] nonJatuh/video_132_flip.avi | Frames: 30 | Person detections: 9\n"
          ]
        },
        {
          "output_type": "stream",
          "name": "stderr",
          "text": [
            "\rnonJatuh:   3%|▎         | 22/677 [00:11<04:18,  2.54it/s]"
          ]
        },
        {
          "output_type": "stream",
          "name": "stdout",
          "text": [
            "[22/1352] nonJatuh/video_146_flip.avi | Frames: 30 | Person detections: 0\n"
          ]
        },
        {
          "output_type": "stream",
          "name": "stderr",
          "text": [
            "\rnonJatuh:   3%|▎         | 23/677 [00:12<04:08,  2.64it/s]"
          ]
        },
        {
          "output_type": "stream",
          "name": "stdout",
          "text": [
            "[23/1352] nonJatuh/video_120_flip.avi | Frames: 30 | Person detections: 1\n"
          ]
        },
        {
          "output_type": "stream",
          "name": "stderr",
          "text": [
            "\rnonJatuh:   4%|▎         | 24/677 [00:12<03:56,  2.76it/s]"
          ]
        },
        {
          "output_type": "stream",
          "name": "stdout",
          "text": [
            "[24/1352] nonJatuh/video_110.avi | Frames: 30 | Person detections: 0\n"
          ]
        },
        {
          "output_type": "stream",
          "name": "stderr",
          "text": [
            "\rnonJatuh:   4%|▎         | 25/677 [00:12<03:49,  2.84it/s]"
          ]
        },
        {
          "output_type": "stream",
          "name": "stdout",
          "text": [
            "[25/1352] nonJatuh/video_112.avi | Frames: 30 | Person detections: 0\n",
            "[26/1352] nonJatuh/video_118.avi | Frames: 7 | Person detections: 0\n"
          ]
        },
        {
          "output_type": "stream",
          "name": "stderr",
          "text": [
            "\rnonJatuh:   4%|▍         | 27/677 [00:13<03:08,  3.46it/s]"
          ]
        },
        {
          "output_type": "stream",
          "name": "stdout",
          "text": [
            "[27/1352] nonJatuh/video_164_flip.avi | Frames: 30 | Person detections: 2\n"
          ]
        },
        {
          "output_type": "stream",
          "name": "stderr",
          "text": [
            "\rnonJatuh:   4%|▍         | 28/677 [00:13<03:13,  3.35it/s]"
          ]
        },
        {
          "output_type": "stream",
          "name": "stdout",
          "text": [
            "[28/1352] nonJatuh/video_110_flip.avi | Frames: 30 | Person detections: 0\n"
          ]
        },
        {
          "output_type": "stream",
          "name": "stderr",
          "text": [
            "\rnonJatuh:   4%|▍         | 29/677 [00:13<03:22,  3.21it/s]"
          ]
        },
        {
          "output_type": "stream",
          "name": "stdout",
          "text": [
            "[29/1352] nonJatuh/video_145_flip.avi | Frames: 30 | Person detections: 6\n"
          ]
        },
        {
          "output_type": "stream",
          "name": "stderr",
          "text": [
            "\rnonJatuh:   4%|▍         | 30/677 [00:14<03:31,  3.06it/s]"
          ]
        },
        {
          "output_type": "stream",
          "name": "stdout",
          "text": [
            "[30/1352] nonJatuh/video_157_flip.avi | Frames: 30 | Person detections: 8\n",
            "[31/1352] nonJatuh/video_123.avi | Frames: 1 | Person detections: 0\n",
            "[32/1352] nonJatuh/video_149.avi | Frames: 1 | Person detections: 0\n"
          ]
        },
        {
          "output_type": "stream",
          "name": "stderr",
          "text": [
            "\rnonJatuh:   5%|▍         | 33/677 [00:15<03:23,  3.17it/s]"
          ]
        },
        {
          "output_type": "stream",
          "name": "stdout",
          "text": [
            "[33/1352] nonJatuh/video_13_flip.avi | Frames: 77 | Person detections: 77\n"
          ]
        },
        {
          "output_type": "stream",
          "name": "stderr",
          "text": [
            "\rnonJatuh:   5%|▌         | 34/677 [00:15<03:23,  3.16it/s]"
          ]
        },
        {
          "output_type": "stream",
          "name": "stdout",
          "text": [
            "[34/1352] nonJatuh/video_163.avi | Frames: 30 | Person detections: 0\n"
          ]
        },
        {
          "output_type": "stream",
          "name": "stderr",
          "text": [
            "\rnonJatuh:   5%|▌         | 35/677 [00:15<03:29,  3.07it/s]"
          ]
        },
        {
          "output_type": "stream",
          "name": "stdout",
          "text": [
            "[35/1352] nonJatuh/video_128.avi | Frames: 30 | Person detections: 7\n"
          ]
        },
        {
          "output_type": "stream",
          "name": "stderr",
          "text": [
            "\rnonJatuh:   5%|▌         | 36/677 [00:16<03:33,  3.00it/s]"
          ]
        },
        {
          "output_type": "stream",
          "name": "stdout",
          "text": [
            "[36/1352] nonJatuh/video_144.avi | Frames: 30 | Person detections: 0\n"
          ]
        },
        {
          "output_type": "stream",
          "name": "stderr",
          "text": [
            "\rnonJatuh:   5%|▌         | 37/677 [00:16<03:30,  3.04it/s]"
          ]
        },
        {
          "output_type": "stream",
          "name": "stdout",
          "text": [
            "[37/1352] nonJatuh/video_130.avi | Frames: 30 | Person detections: 0\n"
          ]
        },
        {
          "output_type": "stream",
          "name": "stderr",
          "text": [
            "\rnonJatuh:   6%|▌         | 38/677 [00:17<05:05,  2.09it/s]"
          ]
        },
        {
          "output_type": "stream",
          "name": "stdout",
          "text": [
            "[38/1352] nonJatuh/video_11.avi | Frames: 80 | Person detections: 80\n"
          ]
        },
        {
          "output_type": "stream",
          "name": "stderr",
          "text": [
            "\rnonJatuh:   6%|▌         | 39/677 [00:17<04:40,  2.28it/s]"
          ]
        },
        {
          "output_type": "stream",
          "name": "stdout",
          "text": [
            "[39/1352] nonJatuh/video_111_flip.avi | Frames: 30 | Person detections: 0\n"
          ]
        },
        {
          "output_type": "stream",
          "name": "stderr",
          "text": [
            "\rnonJatuh:   6%|▌         | 40/677 [00:18<04:24,  2.41it/s]"
          ]
        },
        {
          "output_type": "stream",
          "name": "stdout",
          "text": [
            "[40/1352] nonJatuh/video_155.avi | Frames: 30 | Person detections: 30\n"
          ]
        },
        {
          "output_type": "stream",
          "name": "stderr",
          "text": [
            "\rnonJatuh:   6%|▌         | 41/677 [00:18<04:40,  2.27it/s]"
          ]
        },
        {
          "output_type": "stream",
          "name": "stdout",
          "text": [
            "[41/1352] nonJatuh/video_132.avi | Frames: 30 | Person detections: 15\n"
          ]
        },
        {
          "output_type": "stream",
          "name": "stderr",
          "text": [
            "\rnonJatuh:   6%|▌         | 42/677 [00:18<04:40,  2.26it/s]"
          ]
        },
        {
          "output_type": "stream",
          "name": "stdout",
          "text": [
            "[42/1352] nonJatuh/video_129.avi | Frames: 30 | Person detections: 0\n"
          ]
        },
        {
          "output_type": "stream",
          "name": "stderr",
          "text": [
            "\rnonJatuh:   6%|▋         | 43/677 [00:19<04:52,  2.17it/s]"
          ]
        },
        {
          "output_type": "stream",
          "name": "stdout",
          "text": [
            "[43/1352] nonJatuh/video_141.avi | Frames: 30 | Person detections: 0\n"
          ]
        },
        {
          "output_type": "stream",
          "name": "stderr",
          "text": [
            "\rnonJatuh:   6%|▋         | 44/677 [00:19<04:51,  2.17it/s]"
          ]
        },
        {
          "output_type": "stream",
          "name": "stdout",
          "text": [
            "[44/1352] nonJatuh/video_142_flip.avi | Frames: 30 | Person detections: 1\n",
            "[45/1352] nonJatuh/video_149_flip.avi | Frames: 1 | Person detections: 0\n"
          ]
        },
        {
          "output_type": "stream",
          "name": "stderr",
          "text": [
            "\rnonJatuh:   7%|▋         | 46/677 [00:20<03:58,  2.65it/s]"
          ]
        },
        {
          "output_type": "stream",
          "name": "stdout",
          "text": [
            "[46/1352] nonJatuh/video_131_flip.avi | Frames: 30 | Person detections: 30\n"
          ]
        },
        {
          "output_type": "stream",
          "name": "stderr",
          "text": [
            "\rnonJatuh:   7%|▋         | 47/677 [00:21<04:25,  2.37it/s]"
          ]
        },
        {
          "output_type": "stream",
          "name": "stdout",
          "text": [
            "[47/1352] nonJatuh/video_148_flip.avi | Frames: 30 | Person detections: 30\n"
          ]
        },
        {
          "output_type": "stream",
          "name": "stderr",
          "text": [
            "\rnonJatuh:   7%|▋         | 48/677 [00:22<05:57,  1.76it/s]"
          ]
        },
        {
          "output_type": "stream",
          "name": "stdout",
          "text": [
            "[48/1352] nonJatuh/video_14.avi | Frames: 75 | Person detections: 75\n"
          ]
        },
        {
          "output_type": "stream",
          "name": "stderr",
          "text": [
            "\rnonJatuh:   7%|▋         | 49/677 [00:22<05:16,  1.98it/s]"
          ]
        },
        {
          "output_type": "stream",
          "name": "stdout",
          "text": [
            "[49/1352] nonJatuh/video_117.avi | Frames: 30 | Person detections: 0\n",
            "[50/1352] nonJatuh/video_118_flip.avi | Frames: 7 | Person detections: 0\n",
            "===> Batch 0 disimpan (size 50)\n"
          ]
        },
        {
          "output_type": "stream",
          "name": "stderr",
          "text": [
            "\rnonJatuh:   8%|▊         | 51/677 [00:22<03:54,  2.67it/s]"
          ]
        },
        {
          "output_type": "stream",
          "name": "stdout",
          "text": [
            "[51/1352] nonJatuh/video_122.avi | Frames: 30 | Person detections: 0\n"
          ]
        },
        {
          "output_type": "stream",
          "name": "stderr",
          "text": [
            "\rnonJatuh:   8%|▊         | 52/677 [00:23<03:46,  2.76it/s]"
          ]
        },
        {
          "output_type": "stream",
          "name": "stdout",
          "text": [
            "[52/1352] nonJatuh/video_111.avi | Frames: 30 | Person detections: 0\n"
          ]
        },
        {
          "output_type": "stream",
          "name": "stderr",
          "text": [
            "\rnonJatuh:   8%|▊         | 53/677 [00:23<03:39,  2.85it/s]"
          ]
        },
        {
          "output_type": "stream",
          "name": "stdout",
          "text": [
            "[53/1352] nonJatuh/video_116.avi | Frames: 30 | Person detections: 0\n",
            "[54/1352] nonJatuh/video_154_flip.avi | Frames: 2 | Person detections: 0\n"
          ]
        },
        {
          "output_type": "stream",
          "name": "stderr",
          "text": [
            "\rnonJatuh:   8%|▊         | 55/677 [00:23<02:56,  3.52it/s]"
          ]
        },
        {
          "output_type": "stream",
          "name": "stdout",
          "text": [
            "[55/1352] nonJatuh/video_134.avi | Frames: 30 | Person detections: 15\n"
          ]
        },
        {
          "output_type": "stream",
          "name": "stderr",
          "text": [
            "\rnonJatuh:   8%|▊         | 56/677 [00:24<02:59,  3.47it/s]"
          ]
        },
        {
          "output_type": "stream",
          "name": "stdout",
          "text": [
            "[56/1352] nonJatuh/video_122_flip.avi | Frames: 30 | Person detections: 0\n"
          ]
        },
        {
          "output_type": "stream",
          "name": "stderr",
          "text": [
            "\rnonJatuh:   8%|▊         | 57/677 [00:25<04:39,  2.22it/s]"
          ]
        },
        {
          "output_type": "stream",
          "name": "stdout",
          "text": [
            "[57/1352] nonJatuh/video_12_flip.avi | Frames: 87 | Person detections: 87\n",
            "[58/1352] nonJatuh/video_154.avi | Frames: 2 | Person detections: 1\n"
          ]
        },
        {
          "output_type": "stream",
          "name": "stderr",
          "text": [
            "\rnonJatuh:   9%|▊         | 59/677 [00:25<03:27,  2.98it/s]"
          ]
        },
        {
          "output_type": "stream",
          "name": "stdout",
          "text": [
            "[59/1352] nonJatuh/video_120.avi | Frames: 30 | Person detections: 0\n"
          ]
        },
        {
          "output_type": "stream",
          "name": "stderr",
          "text": [
            "\rnonJatuh:   9%|▉         | 60/677 [00:25<03:29,  2.94it/s]"
          ]
        },
        {
          "output_type": "stream",
          "name": "stdout",
          "text": [
            "[60/1352] nonJatuh/video_114.avi | Frames: 30 | Person detections: 4\n"
          ]
        },
        {
          "output_type": "stream",
          "name": "stderr",
          "text": [
            "\rnonJatuh:   9%|▉         | 61/677 [00:26<03:29,  2.94it/s]"
          ]
        },
        {
          "output_type": "stream",
          "name": "stdout",
          "text": [
            "[61/1352] nonJatuh/video_164.avi | Frames: 30 | Person detections: 26\n"
          ]
        },
        {
          "output_type": "stream",
          "name": "stderr",
          "text": [
            "\rnonJatuh:   9%|▉         | 62/677 [00:26<04:50,  2.12it/s]"
          ]
        },
        {
          "output_type": "stream",
          "name": "stdout",
          "text": [
            "[62/1352] nonJatuh/video_13.avi | Frames: 77 | Person detections: 77\n",
            "[63/1352] nonJatuh/video_152.avi | Frames: 1 | Person detections: 0\n"
          ]
        },
        {
          "output_type": "stream",
          "name": "stderr",
          "text": [
            "\rnonJatuh:   9%|▉         | 64/677 [00:27<03:30,  2.91it/s]"
          ]
        },
        {
          "output_type": "stream",
          "name": "stdout",
          "text": [
            "[64/1352] nonJatuh/video_113_flip.avi | Frames: 30 | Person detections: 1\n",
            "[65/1352] nonJatuh/video_152_flip.avi | Frames: 1 | Person detections: 0\n"
          ]
        },
        {
          "output_type": "stream",
          "name": "stderr",
          "text": [
            "\rnonJatuh:  10%|▉         | 66/677 [00:27<02:50,  3.59it/s]"
          ]
        },
        {
          "output_type": "stream",
          "name": "stdout",
          "text": [
            "[66/1352] nonJatuh/video_129_flip.avi | Frames: 30 | Person detections: 0\n"
          ]
        },
        {
          "output_type": "stream",
          "name": "stderr",
          "text": [
            "\rnonJatuh:  10%|▉         | 67/677 [00:27<03:03,  3.33it/s]"
          ]
        },
        {
          "output_type": "stream",
          "name": "stdout",
          "text": [
            "[67/1352] nonJatuh/video_140_flip.avi | Frames: 30 | Person detections: 27\n"
          ]
        },
        {
          "output_type": "stream",
          "name": "stderr",
          "text": [
            "\rnonJatuh:  10%|█         | 68/677 [00:28<03:07,  3.25it/s]"
          ]
        },
        {
          "output_type": "stream",
          "name": "stdout",
          "text": [
            "[68/1352] nonJatuh/video_115.avi | Frames: 30 | Person detections: 0\n"
          ]
        },
        {
          "output_type": "stream",
          "name": "stderr",
          "text": [
            "\rnonJatuh:  10%|█         | 69/677 [00:28<03:16,  3.10it/s]"
          ]
        },
        {
          "output_type": "stream",
          "name": "stdout",
          "text": [
            "[69/1352] nonJatuh/video_142.avi | Frames: 30 | Person detections: 1\n"
          ]
        },
        {
          "output_type": "stream",
          "name": "stderr",
          "text": [
            "\rnonJatuh:  10%|█         | 70/677 [00:29<03:18,  3.06it/s]"
          ]
        },
        {
          "output_type": "stream",
          "name": "stdout",
          "text": [
            "[70/1352] nonJatuh/video_165.avi | Frames: 30 | Person detections: 6\n",
            "[71/1352] nonJatuh/video_126.avi | Frames: 7 | Person detections: 7\n"
          ]
        },
        {
          "output_type": "stream",
          "name": "stderr",
          "text": [
            "\rnonJatuh:  11%|█         | 72/677 [00:29<02:46,  3.63it/s]"
          ]
        },
        {
          "output_type": "stream",
          "name": "stdout",
          "text": [
            "[72/1352] nonJatuh/video_134_flip.avi | Frames: 30 | Person detections: 7\n",
            "[73/1352] nonJatuh/video_123_flip.avi | Frames: 1 | Person detections: 0\n"
          ]
        },
        {
          "output_type": "stream",
          "name": "stderr",
          "text": [
            "\rnonJatuh:  11%|█         | 74/677 [00:30<03:32,  2.84it/s]"
          ]
        },
        {
          "output_type": "stream",
          "name": "stdout",
          "text": [
            "[74/1352] nonJatuh/video_15.avi | Frames: 84 | Person detections: 84\n"
          ]
        },
        {
          "output_type": "stream",
          "name": "stderr",
          "text": [
            "\rnonJatuh:  11%|█         | 75/677 [00:30<03:26,  2.92it/s]"
          ]
        },
        {
          "output_type": "stream",
          "name": "stdout",
          "text": [
            "[75/1352] nonJatuh/video_147.avi | Frames: 30 | Person detections: 0\n"
          ]
        },
        {
          "output_type": "stream",
          "name": "stderr",
          "text": [
            "\rnonJatuh:  11%|█         | 76/677 [00:31<03:25,  2.93it/s]"
          ]
        },
        {
          "output_type": "stream",
          "name": "stdout",
          "text": [
            "[76/1352] nonJatuh/video_130_flip.avi | Frames: 30 | Person detections: 0\n"
          ]
        },
        {
          "output_type": "stream",
          "name": "stderr",
          "text": [
            "\rnonJatuh:  11%|█▏        | 77/677 [00:32<05:34,  1.80it/s]"
          ]
        },
        {
          "output_type": "stream",
          "name": "stdout",
          "text": [
            "[77/1352] nonJatuh/video_15_flip.avi | Frames: 84 | Person detections: 84\n"
          ]
        },
        {
          "output_type": "stream",
          "name": "stderr",
          "text": [
            "\rnonJatuh:  12%|█▏        | 78/677 [00:32<05:35,  1.79it/s]"
          ]
        },
        {
          "output_type": "stream",
          "name": "stdout",
          "text": [
            "[78/1352] nonJatuh/video_143_flip.avi | Frames: 30 | Person detections: 0\n"
          ]
        },
        {
          "output_type": "stream",
          "name": "stderr",
          "text": [
            "\rnonJatuh:  12%|█▏        | 79/677 [00:33<05:23,  1.85it/s]"
          ]
        },
        {
          "output_type": "stream",
          "name": "stdout",
          "text": [
            "[79/1352] nonJatuh/video_124_flip.avi | Frames: 30 | Person detections: 7\n"
          ]
        },
        {
          "output_type": "stream",
          "name": "stderr",
          "text": [
            "\rnonJatuh:  12%|█▏        | 80/677 [00:33<05:08,  1.93it/s]"
          ]
        },
        {
          "output_type": "stream",
          "name": "stdout",
          "text": [
            "[80/1352] nonJatuh/video_160_flip.avi | Frames: 30 | Person detections: 3\n"
          ]
        },
        {
          "output_type": "stream",
          "name": "stderr",
          "text": [
            "\rnonJatuh:  12%|█▏        | 81/677 [00:34<05:10,  1.92it/s]"
          ]
        },
        {
          "output_type": "stream",
          "name": "stdout",
          "text": [
            "[81/1352] nonJatuh/video_121_flip.avi | Frames: 30 | Person detections: 1\n"
          ]
        },
        {
          "output_type": "stream",
          "name": "stderr",
          "text": [
            "\rnonJatuh:  12%|█▏        | 82/677 [00:34<05:06,  1.94it/s]"
          ]
        },
        {
          "output_type": "stream",
          "name": "stdout",
          "text": [
            "[82/1352] nonJatuh/video_136_flip.avi | Frames: 30 | Person detections: 10\n"
          ]
        },
        {
          "output_type": "stream",
          "name": "stderr",
          "text": [
            "\rnonJatuh:  12%|█▏        | 83/677 [00:35<04:38,  2.14it/s]"
          ]
        },
        {
          "output_type": "stream",
          "name": "stdout",
          "text": [
            "[83/1352] nonJatuh/video_119_flip.avi | Frames: 30 | Person detections: 10\n"
          ]
        },
        {
          "output_type": "stream",
          "name": "stderr",
          "text": [
            "\rnonJatuh:  12%|█▏        | 84/677 [00:35<04:12,  2.35it/s]"
          ]
        },
        {
          "output_type": "stream",
          "name": "stdout",
          "text": [
            "[84/1352] nonJatuh/video_143.avi | Frames: 30 | Person detections: 0\n"
          ]
        },
        {
          "output_type": "stream",
          "name": "stderr",
          "text": [
            "\rnonJatuh:  13%|█▎        | 85/677 [00:35<03:53,  2.54it/s]"
          ]
        },
        {
          "output_type": "stream",
          "name": "stdout",
          "text": [
            "[85/1352] nonJatuh/video_209.avi | Frames: 30 | Person detections: 1\n"
          ]
        },
        {
          "output_type": "stream",
          "name": "stderr",
          "text": [
            "\rnonJatuh:  13%|█▎        | 86/677 [00:36<03:41,  2.67it/s]"
          ]
        },
        {
          "output_type": "stream",
          "name": "stdout",
          "text": [
            "[86/1352] nonJatuh/video_173_flip.avi | Frames: 30 | Person detections: 0\n"
          ]
        },
        {
          "output_type": "stream",
          "name": "stderr",
          "text": [
            "\rnonJatuh:  13%|█▎        | 87/677 [00:36<03:35,  2.73it/s]"
          ]
        },
        {
          "output_type": "stream",
          "name": "stdout",
          "text": [
            "[87/1352] nonJatuh/video_17_flip.avi | Frames: 30 | Person detections: 30\n"
          ]
        },
        {
          "output_type": "stream",
          "name": "stderr",
          "text": [
            "\rnonJatuh:  13%|█▎        | 88/677 [00:36<03:28,  2.82it/s]"
          ]
        },
        {
          "output_type": "stream",
          "name": "stdout",
          "text": [
            "[88/1352] nonJatuh/video_187_flip.avi | Frames: 30 | Person detections: 1\n"
          ]
        },
        {
          "output_type": "stream",
          "name": "stderr",
          "text": [
            "\rnonJatuh:  13%|█▎        | 89/677 [00:37<03:23,  2.89it/s]"
          ]
        },
        {
          "output_type": "stream",
          "name": "stdout",
          "text": [
            "[89/1352] nonJatuh/video_182.avi | Frames: 30 | Person detections: 0\n"
          ]
        },
        {
          "output_type": "stream",
          "name": "stderr",
          "text": [
            "\rnonJatuh:  13%|█▎        | 90/677 [00:37<03:24,  2.87it/s]"
          ]
        },
        {
          "output_type": "stream",
          "name": "stdout",
          "text": [
            "[90/1352] nonJatuh/video_168_flip.avi | Frames: 30 | Person detections: 5\n"
          ]
        },
        {
          "output_type": "stream",
          "name": "stderr",
          "text": [
            "\rnonJatuh:  13%|█▎        | 91/677 [00:37<03:24,  2.86it/s]"
          ]
        },
        {
          "output_type": "stream",
          "name": "stdout",
          "text": [
            "[91/1352] nonJatuh/video_208_flip.avi | Frames: 30 | Person detections: 29\n",
            "[92/1352] nonJatuh/video_177_flip.avi | Frames: 7 | Person detections: 0\n"
          ]
        },
        {
          "output_type": "stream",
          "name": "stderr",
          "text": [
            "\rnonJatuh:  14%|█▎        | 93/677 [00:38<02:47,  3.48it/s]"
          ]
        },
        {
          "output_type": "stream",
          "name": "stdout",
          "text": [
            "[93/1352] nonJatuh/video_204.avi | Frames: 30 | Person detections: 0\n"
          ]
        },
        {
          "output_type": "stream",
          "name": "stderr",
          "text": [
            "\rnonJatuh:  14%|█▍        | 94/677 [00:38<02:53,  3.37it/s]"
          ]
        },
        {
          "output_type": "stream",
          "name": "stdout",
          "text": [
            "[94/1352] nonJatuh/video_188_flip.avi | Frames: 30 | Person detections: 3\n"
          ]
        },
        {
          "output_type": "stream",
          "name": "stderr",
          "text": [
            "\rnonJatuh:  14%|█▍        | 95/677 [00:38<02:57,  3.29it/s]"
          ]
        },
        {
          "output_type": "stream",
          "name": "stdout",
          "text": [
            "[95/1352] nonJatuh/video_202.avi | Frames: 30 | Person detections: 0\n"
          ]
        },
        {
          "output_type": "stream",
          "name": "stderr",
          "text": [
            "\rnonJatuh:  14%|█▍        | 96/677 [00:39<03:07,  3.10it/s]"
          ]
        },
        {
          "output_type": "stream",
          "name": "stdout",
          "text": [
            "[96/1352] nonJatuh/video_194.avi | Frames: 30 | Person detections: 0\n"
          ]
        },
        {
          "output_type": "stream",
          "name": "stderr",
          "text": [
            "\rnonJatuh:  14%|█▍        | 97/677 [00:39<03:13,  3.00it/s]"
          ]
        },
        {
          "output_type": "stream",
          "name": "stdout",
          "text": [
            "[97/1352] nonJatuh/video_207.avi | Frames: 30 | Person detections: 30\n"
          ]
        },
        {
          "output_type": "stream",
          "name": "stderr",
          "text": [
            "\rnonJatuh:  14%|█▍        | 98/677 [00:39<03:13,  2.98it/s]"
          ]
        },
        {
          "output_type": "stream",
          "name": "stdout",
          "text": [
            "[98/1352] nonJatuh/video_190.avi | Frames: 30 | Person detections: 2\n"
          ]
        },
        {
          "output_type": "stream",
          "name": "stderr",
          "text": [
            "\rnonJatuh:  15%|█▍        | 99/677 [00:40<04:15,  2.26it/s]"
          ]
        },
        {
          "output_type": "stream",
          "name": "stdout",
          "text": [
            "[99/1352] nonJatuh/video_20_flip.avi | Frames: 62 | Person detections: 62\n"
          ]
        },
        {
          "output_type": "stream",
          "name": "stderr",
          "text": [
            "\rnonJatuh:  15%|█▍        | 100/677 [00:41<03:56,  2.44it/s]"
          ]
        },
        {
          "output_type": "stream",
          "name": "stdout",
          "text": [
            "[100/1352] nonJatuh/video_196.avi | Frames: 30 | Person detections: 2\n",
            "===> Batch 1 disimpan (size 50)\n"
          ]
        },
        {
          "output_type": "stream",
          "name": "stderr",
          "text": [
            "\rnonJatuh:  15%|█▍        | 101/677 [00:41<03:50,  2.50it/s]"
          ]
        },
        {
          "output_type": "stream",
          "name": "stdout",
          "text": [
            "[101/1352] nonJatuh/video_199.avi | Frames: 30 | Person detections: 23\n"
          ]
        },
        {
          "output_type": "stream",
          "name": "stderr",
          "text": [
            "\rnonJatuh:  15%|█▌        | 102/677 [00:41<03:38,  2.63it/s]"
          ]
        },
        {
          "output_type": "stream",
          "name": "stdout",
          "text": [
            "[102/1352] nonJatuh/video_206_flip.avi | Frames: 30 | Person detections: 0\n"
          ]
        },
        {
          "output_type": "stream",
          "name": "stderr",
          "text": [
            "\rnonJatuh:  15%|█▌        | 103/677 [00:42<03:27,  2.77it/s]"
          ]
        },
        {
          "output_type": "stream",
          "name": "stdout",
          "text": [
            "[103/1352] nonJatuh/video_171_flip.avi | Frames: 30 | Person detections: 4\n"
          ]
        },
        {
          "output_type": "stream",
          "name": "stderr",
          "text": [
            "\rnonJatuh:  15%|█▌        | 104/677 [00:42<03:22,  2.84it/s]"
          ]
        },
        {
          "output_type": "stream",
          "name": "stdout",
          "text": [
            "[104/1352] nonJatuh/video_210.avi | Frames: 30 | Person detections: 0\n"
          ]
        },
        {
          "output_type": "stream",
          "name": "stderr",
          "text": [
            "\rnonJatuh:  16%|█▌        | 105/677 [00:42<03:19,  2.87it/s]"
          ]
        },
        {
          "output_type": "stream",
          "name": "stdout",
          "text": [
            "[105/1352] nonJatuh/video_184_flip.avi | Frames: 30 | Person detections: 0\n"
          ]
        },
        {
          "output_type": "stream",
          "name": "stderr",
          "text": [
            "\rnonJatuh:  16%|█▌        | 106/677 [00:43<03:11,  2.98it/s]"
          ]
        },
        {
          "output_type": "stream",
          "name": "stdout",
          "text": [
            "[106/1352] nonJatuh/video_209_flip.avi | Frames: 30 | Person detections: 0\n",
            "[107/1352] nonJatuh/video_176_flip.avi | Frames: 1 | Person detections: 0\n"
          ]
        },
        {
          "output_type": "stream",
          "name": "stderr",
          "text": [
            "\rnonJatuh:  16%|█▌        | 108/677 [00:43<02:27,  3.86it/s]"
          ]
        },
        {
          "output_type": "stream",
          "name": "stdout",
          "text": [
            "[108/1352] nonJatuh/video_168.avi | Frames: 30 | Person detections: 0\n"
          ]
        },
        {
          "output_type": "stream",
          "name": "stderr",
          "text": [
            "\rnonJatuh:  16%|█▌        | 109/677 [00:43<02:39,  3.56it/s]"
          ]
        },
        {
          "output_type": "stream",
          "name": "stdout",
          "text": [
            "[109/1352] nonJatuh/video_206.avi | Frames: 30 | Person detections: 0\n"
          ]
        },
        {
          "output_type": "stream",
          "name": "stderr",
          "text": [
            "\rnonJatuh:  16%|█▌        | 110/677 [00:44<02:45,  3.42it/s]"
          ]
        },
        {
          "output_type": "stream",
          "name": "stdout",
          "text": [
            "[110/1352] nonJatuh/video_203.avi | Frames: 30 | Person detections: 0\n"
          ]
        },
        {
          "output_type": "stream",
          "name": "stderr",
          "text": [
            "\rnonJatuh:  16%|█▋        | 111/677 [00:44<02:50,  3.31it/s]"
          ]
        },
        {
          "output_type": "stream",
          "name": "stdout",
          "text": [
            "[111/1352] nonJatuh/video_182_flip.avi | Frames: 30 | Person detections: 0\n",
            "[112/1352] nonJatuh/video_178_flip.avi | Frames: 4 | Person detections: 3\n",
            "[113/1352] nonJatuh/video_176.avi | Frames: 1 | Person detections: 0\n"
          ]
        },
        {
          "output_type": "stream",
          "name": "stderr",
          "text": [
            "\rnonJatuh:  17%|█▋        | 114/677 [00:44<02:08,  4.38it/s]"
          ]
        },
        {
          "output_type": "stream",
          "name": "stdout",
          "text": [
            "[114/1352] nonJatuh/video_167.avi | Frames: 30 | Person detections: 0\n"
          ]
        },
        {
          "output_type": "stream",
          "name": "stderr",
          "text": [
            "\rnonJatuh:  17%|█▋        | 115/677 [00:45<02:34,  3.64it/s]"
          ]
        },
        {
          "output_type": "stream",
          "name": "stdout",
          "text": [
            "[115/1352] nonJatuh/video_198_flip.avi | Frames: 30 | Person detections: 0\n"
          ]
        },
        {
          "output_type": "stream",
          "name": "stderr",
          "text": [
            "\rnonJatuh:  17%|█▋        | 116/677 [00:45<03:03,  3.06it/s]"
          ]
        },
        {
          "output_type": "stream",
          "name": "stdout",
          "text": [
            "[116/1352] nonJatuh/video_183.avi | Frames: 30 | Person detections: 0\n"
          ]
        },
        {
          "output_type": "stream",
          "name": "stderr",
          "text": [
            "\rnonJatuh:  17%|█▋        | 117/677 [00:46<03:24,  2.74it/s]"
          ]
        },
        {
          "output_type": "stream",
          "name": "stdout",
          "text": [
            "[117/1352] nonJatuh/video_198.avi | Frames: 30 | Person detections: 0\n"
          ]
        },
        {
          "output_type": "stream",
          "name": "stderr",
          "text": [
            "\rnonJatuh:  17%|█▋        | 118/677 [00:46<03:44,  2.49it/s]"
          ]
        },
        {
          "output_type": "stream",
          "name": "stdout",
          "text": [
            "[118/1352] nonJatuh/video_195_flip.avi | Frames: 30 | Person detections: 6\n"
          ]
        },
        {
          "output_type": "stream",
          "name": "stderr",
          "text": [
            "\rnonJatuh:  18%|█▊        | 119/677 [00:47<03:58,  2.34it/s]"
          ]
        },
        {
          "output_type": "stream",
          "name": "stdout",
          "text": [
            "[119/1352] nonJatuh/video_205.avi | Frames: 30 | Person detections: 11\n",
            "[120/1352] nonJatuh/video_166.avi | Frames: 1 | Person detections: 0\n"
          ]
        },
        {
          "output_type": "stream",
          "name": "stderr",
          "text": [
            "\rnonJatuh:  18%|█▊        | 121/677 [00:47<03:25,  2.71it/s]"
          ]
        },
        {
          "output_type": "stream",
          "name": "stdout",
          "text": [
            "[121/1352] nonJatuh/video_194_flip.avi | Frames: 30 | Person detections: 0\n"
          ]
        },
        {
          "output_type": "stream",
          "name": "stderr",
          "text": [
            "\rnonJatuh:  18%|█▊        | 122/677 [00:48<03:22,  2.73it/s]"
          ]
        },
        {
          "output_type": "stream",
          "name": "stdout",
          "text": [
            "[122/1352] nonJatuh/video_185_flip.avi | Frames: 30 | Person detections: 0\n"
          ]
        },
        {
          "output_type": "stream",
          "name": "stderr",
          "text": [
            "\rnonJatuh:  18%|█▊        | 123/677 [00:48<03:19,  2.77it/s]"
          ]
        },
        {
          "output_type": "stream",
          "name": "stdout",
          "text": [
            "[123/1352] nonJatuh/video_185.avi | Frames: 30 | Person detections: 0\n"
          ]
        },
        {
          "output_type": "stream",
          "name": "stderr",
          "text": [
            "\rnonJatuh:  18%|█▊        | 124/677 [00:48<03:20,  2.76it/s]"
          ]
        },
        {
          "output_type": "stream",
          "name": "stdout",
          "text": [
            "[124/1352] nonJatuh/video_197.avi | Frames: 30 | Person detections: 20\n"
          ]
        },
        {
          "output_type": "stream",
          "name": "stderr",
          "text": [
            "\rnonJatuh:  18%|█▊        | 125/677 [00:49<04:09,  2.22it/s]"
          ]
        },
        {
          "output_type": "stream",
          "name": "stdout",
          "text": [
            "[125/1352] nonJatuh/video_20.avi | Frames: 62 | Person detections: 62\n"
          ]
        },
        {
          "output_type": "stream",
          "name": "stderr",
          "text": [
            "nonJatuh:  19%|█▉        | 127/677 [00:50<03:11,  2.87it/s]"
          ]
        },
        {
          "output_type": "stream",
          "name": "stdout",
          "text": [
            "[126/1352] nonJatuh/video_195.avi | Frames: 30 | Person detections: 14\n",
            "[127/1352] nonJatuh/video_172.avi | Frames: 14 | Person detections: 0\n"
          ]
        },
        {
          "output_type": "stream",
          "name": "stderr",
          "text": [
            "\rnonJatuh:  19%|█▉        | 128/677 [00:50<03:16,  2.80it/s]"
          ]
        },
        {
          "output_type": "stream",
          "name": "stdout",
          "text": [
            "[128/1352] nonJatuh/video_171.avi | Frames: 30 | Person detections: 4\n"
          ]
        },
        {
          "output_type": "stream",
          "name": "stderr",
          "text": [
            "\rnonJatuh:  19%|█▉        | 129/677 [00:50<03:13,  2.82it/s]"
          ]
        },
        {
          "output_type": "stream",
          "name": "stdout",
          "text": [
            "[129/1352] nonJatuh/video_183_flip.avi | Frames: 30 | Person detections: 0\n"
          ]
        },
        {
          "output_type": "stream",
          "name": "stderr",
          "text": [
            "\rnonJatuh:  19%|█▉        | 130/677 [00:51<03:09,  2.88it/s]"
          ]
        },
        {
          "output_type": "stream",
          "name": "stdout",
          "text": [
            "[130/1352] nonJatuh/video_167_flip.avi | Frames: 30 | Person detections: 0\n"
          ]
        },
        {
          "output_type": "stream",
          "name": "stderr",
          "text": [
            "\rnonJatuh:  19%|█▉        | 131/677 [00:51<03:06,  2.93it/s]"
          ]
        },
        {
          "output_type": "stream",
          "name": "stdout",
          "text": [
            "[131/1352] nonJatuh/video_170_flip.avi | Frames: 30 | Person detections: 1\n"
          ]
        },
        {
          "output_type": "stream",
          "name": "stderr",
          "text": [
            "\rnonJatuh:  19%|█▉        | 132/677 [00:51<03:07,  2.91it/s]"
          ]
        },
        {
          "output_type": "stream",
          "name": "stdout",
          "text": [
            "[132/1352] nonJatuh/video_186.avi | Frames: 30 | Person detections: 0\n"
          ]
        },
        {
          "output_type": "stream",
          "name": "stderr",
          "text": [
            "\rnonJatuh:  20%|█▉        | 133/677 [00:52<03:07,  2.90it/s]"
          ]
        },
        {
          "output_type": "stream",
          "name": "stdout",
          "text": [
            "[133/1352] nonJatuh/video_170.avi | Frames: 30 | Person detections: 11\n"
          ]
        },
        {
          "output_type": "stream",
          "name": "stderr",
          "text": [
            "\rnonJatuh:  20%|█▉        | 134/677 [00:53<05:39,  1.60it/s]"
          ]
        },
        {
          "output_type": "stream",
          "name": "stdout",
          "text": [
            "[134/1352] nonJatuh/video_1_flip.avi | Frames: 115 | Person detections: 115\n"
          ]
        },
        {
          "output_type": "stream",
          "name": "stderr",
          "text": [
            "\rnonJatuh:  20%|█▉        | 135/677 [00:54<05:24,  1.67it/s]"
          ]
        },
        {
          "output_type": "stream",
          "name": "stdout",
          "text": [
            "[135/1352] nonJatuh/video_19_flip.avi | Frames: 48 | Person detections: 48\n"
          ]
        },
        {
          "output_type": "stream",
          "name": "stderr",
          "text": [
            "\rnonJatuh:  20%|██        | 136/677 [00:54<04:40,  1.93it/s]"
          ]
        },
        {
          "output_type": "stream",
          "name": "stdout",
          "text": [
            "[136/1352] nonJatuh/video_204_flip.avi | Frames: 30 | Person detections: 0\n"
          ]
        },
        {
          "output_type": "stream",
          "name": "stderr",
          "text": [
            "\rnonJatuh:  20%|██        | 137/677 [00:54<04:11,  2.15it/s]"
          ]
        },
        {
          "output_type": "stream",
          "name": "stdout",
          "text": [
            "[137/1352] nonJatuh/video_173.avi | Frames: 30 | Person detections: 0\n"
          ]
        },
        {
          "output_type": "stream",
          "name": "stderr",
          "text": [
            "\rnonJatuh:  20%|██        | 138/677 [00:55<03:55,  2.29it/s]"
          ]
        },
        {
          "output_type": "stream",
          "name": "stdout",
          "text": [
            "[138/1352] nonJatuh/video_200.avi | Frames: 30 | Person detections: 30\n"
          ]
        },
        {
          "output_type": "stream",
          "name": "stderr",
          "text": [
            "\rnonJatuh:  21%|██        | 139/677 [00:56<05:22,  1.67it/s]"
          ]
        },
        {
          "output_type": "stream",
          "name": "stdout",
          "text": [
            "[139/1352] nonJatuh/video_21.avi | Frames: 90 | Person detections: 90\n"
          ]
        },
        {
          "output_type": "stream",
          "name": "stderr",
          "text": [
            "\rnonJatuh:  21%|██        | 140/677 [00:56<04:43,  1.89it/s]"
          ]
        },
        {
          "output_type": "stream",
          "name": "stdout",
          "text": [
            "[140/1352] nonJatuh/video_207_flip.avi | Frames: 30 | Person detections: 30\n"
          ]
        },
        {
          "output_type": "stream",
          "name": "stderr",
          "text": [
            "\rnonJatuh:  21%|██        | 141/677 [00:56<04:16,  2.09it/s]"
          ]
        },
        {
          "output_type": "stream",
          "name": "stdout",
          "text": [
            "[141/1352] nonJatuh/video_192.avi | Frames: 30 | Person detections: 22\n"
          ]
        },
        {
          "output_type": "stream",
          "name": "stderr",
          "text": [
            "\rnonJatuh:  21%|██        | 142/677 [00:57<03:59,  2.24it/s]"
          ]
        },
        {
          "output_type": "stream",
          "name": "stdout",
          "text": [
            "[142/1352] nonJatuh/video_189_flip.avi | Frames: 30 | Person detections: 13\n"
          ]
        },
        {
          "output_type": "stream",
          "name": "stderr",
          "text": [
            "\rnonJatuh:  21%|██        | 143/677 [00:57<03:45,  2.37it/s]"
          ]
        },
        {
          "output_type": "stream",
          "name": "stdout",
          "text": [
            "[143/1352] nonJatuh/video_201_flip.avi | Frames: 30 | Person detections: 27\n"
          ]
        },
        {
          "output_type": "stream",
          "name": "stderr",
          "text": [
            "\rnonJatuh:  21%|██▏       | 144/677 [00:57<03:28,  2.56it/s]"
          ]
        },
        {
          "output_type": "stream",
          "name": "stdout",
          "text": [
            "[144/1352] nonJatuh/video_188.avi | Frames: 30 | Person detections: 0\n"
          ]
        },
        {
          "output_type": "stream",
          "name": "stderr",
          "text": [
            "\rnonJatuh:  21%|██▏       | 145/677 [00:58<03:51,  2.30it/s]"
          ]
        },
        {
          "output_type": "stream",
          "name": "stdout",
          "text": [
            "[145/1352] nonJatuh/video_199_flip.avi | Frames: 30 | Person detections: 21\n"
          ]
        },
        {
          "output_type": "stream",
          "name": "stderr",
          "text": [
            "\rnonJatuh:  22%|██▏       | 146/677 [00:58<03:55,  2.26it/s]"
          ]
        },
        {
          "output_type": "stream",
          "name": "stdout",
          "text": [
            "[146/1352] nonJatuh/video_221_flip.avi | Frames: 30 | Person detections: 1\n"
          ]
        },
        {
          "output_type": "stream",
          "name": "stderr",
          "text": [
            "\rnonJatuh:  22%|██▏       | 147/677 [00:59<05:46,  1.53it/s]"
          ]
        },
        {
          "output_type": "stream",
          "name": "stdout",
          "text": [
            "[147/1352] nonJatuh/video_232_flip.avi | Frames: 75 | Person detections: 72\n"
          ]
        },
        {
          "output_type": "stream",
          "name": "stderr",
          "text": [
            "\rnonJatuh:  22%|██▏       | 148/677 [01:00<05:23,  1.64it/s]"
          ]
        },
        {
          "output_type": "stream",
          "name": "stdout",
          "text": [
            "[148/1352] nonJatuh/video_212_flip.avi | Frames: 30 | Person detections: 0\n"
          ]
        },
        {
          "output_type": "stream",
          "name": "stderr",
          "text": [
            "\rnonJatuh:  22%|██▏       | 149/677 [01:01<05:15,  1.67it/s]"
          ]
        },
        {
          "output_type": "stream",
          "name": "stdout",
          "text": [
            "[149/1352] nonJatuh/video_222.avi | Frames: 30 | Person detections: 6\n",
            "[150/1352] nonJatuh/video_22_flip.avi | Frames: 4 | Person detections: 4\n",
            "===> Batch 2 disimpan (size 50)\n"
          ]
        },
        {
          "output_type": "stream",
          "name": "stderr",
          "text": [
            "nonJatuh:  22%|██▏       | 152/677 [01:01<02:58,  2.94it/s]"
          ]
        },
        {
          "output_type": "stream",
          "name": "stdout",
          "text": [
            "[151/1352] nonJatuh/video_216_flip.avi | Frames: 30 | Person detections: 2\n",
            "[152/1352] nonJatuh/video_23.avi | Frames: 10 | Person detections: 10\n"
          ]
        },
        {
          "output_type": "stream",
          "name": "stderr",
          "text": [
            "\rnonJatuh:  23%|██▎       | 153/677 [01:01<02:56,  2.98it/s]"
          ]
        },
        {
          "output_type": "stream",
          "name": "stdout",
          "text": [
            "[153/1352] nonJatuh/video_223_flip.avi | Frames: 30 | Person detections: 0\n"
          ]
        },
        {
          "output_type": "stream",
          "name": "stderr",
          "text": [
            "\rnonJatuh:  23%|██▎       | 154/677 [01:02<03:50,  2.27it/s]"
          ]
        },
        {
          "output_type": "stream",
          "name": "stdout",
          "text": [
            "[154/1352] nonJatuh/video_237_flip.avi | Frames: 71 | Person detections: 0\n"
          ]
        },
        {
          "output_type": "stream",
          "name": "stderr",
          "text": [
            "\rnonJatuh:  23%|██▎       | 155/677 [01:02<03:33,  2.45it/s]"
          ]
        },
        {
          "output_type": "stream",
          "name": "stdout",
          "text": [
            "[155/1352] nonJatuh/video_228.avi | Frames: 30 | Person detections: 0\n"
          ]
        },
        {
          "output_type": "stream",
          "name": "stderr",
          "text": [
            "\rnonJatuh:  23%|██▎       | 156/677 [01:03<03:21,  2.58it/s]"
          ]
        },
        {
          "output_type": "stream",
          "name": "stdout",
          "text": [
            "[156/1352] nonJatuh/video_225.avi | Frames: 30 | Person detections: 1\n"
          ]
        },
        {
          "output_type": "stream",
          "name": "stderr",
          "text": [
            "\rnonJatuh:  23%|██▎       | 157/677 [01:04<04:55,  1.76it/s]"
          ]
        },
        {
          "output_type": "stream",
          "name": "stdout",
          "text": [
            "[157/1352] nonJatuh/video_21_flip.avi | Frames: 90 | Person detections: 90\n"
          ]
        },
        {
          "output_type": "stream",
          "name": "stderr",
          "text": [
            "\rnonJatuh:  23%|██▎       | 158/677 [01:04<04:25,  1.95it/s]"
          ]
        },
        {
          "output_type": "stream",
          "name": "stdout",
          "text": [
            "[158/1352] nonJatuh/video_214.avi | Frames: 30 | Person detections: 2\n"
          ]
        },
        {
          "output_type": "stream",
          "name": "stderr",
          "text": [
            "\rnonJatuh:  23%|██▎       | 159/677 [01:05<04:01,  2.15it/s]"
          ]
        },
        {
          "output_type": "stream",
          "name": "stdout",
          "text": [
            "[159/1352] nonJatuh/video_230_flip.avi | Frames: 30 | Person detections: 29\n"
          ]
        },
        {
          "output_type": "stream",
          "name": "stderr",
          "text": [
            "\rnonJatuh:  24%|██▎       | 160/677 [01:06<05:43,  1.51it/s]"
          ]
        },
        {
          "output_type": "stream",
          "name": "stdout",
          "text": [
            "[160/1352] nonJatuh/video_233.avi | Frames: 113 | Person detections: 9\n"
          ]
        },
        {
          "output_type": "stream",
          "name": "stderr",
          "text": [
            "\rnonJatuh:  24%|██▍       | 161/677 [01:06<04:52,  1.77it/s]"
          ]
        },
        {
          "output_type": "stream",
          "name": "stdout",
          "text": [
            "[161/1352] nonJatuh/video_227_flip.avi | Frames: 30 | Person detections: 0\n"
          ]
        },
        {
          "output_type": "stream",
          "name": "stderr",
          "text": [
            "\rnonJatuh:  24%|██▍       | 162/677 [01:06<04:16,  2.01it/s]"
          ]
        },
        {
          "output_type": "stream",
          "name": "stdout",
          "text": [
            "[162/1352] nonJatuh/video_210_flip.avi | Frames: 30 | Person detections: 0\n"
          ]
        },
        {
          "output_type": "stream",
          "name": "stderr",
          "text": [
            "\rnonJatuh:  24%|██▍       | 163/677 [01:07<05:00,  1.71it/s]"
          ]
        },
        {
          "output_type": "stream",
          "name": "stdout",
          "text": [
            "[163/1352] nonJatuh/video_235_flip.avi | Frames: 78 | Person detections: 5\n"
          ]
        },
        {
          "output_type": "stream",
          "name": "stderr",
          "text": [
            "\rnonJatuh:  24%|██▍       | 164/677 [01:07<04:21,  1.96it/s]"
          ]
        },
        {
          "output_type": "stream",
          "name": "stdout",
          "text": [
            "[164/1352] nonJatuh/video_212.avi | Frames: 30 | Person detections: 0\n"
          ]
        },
        {
          "output_type": "stream",
          "name": "stderr",
          "text": [
            "\rnonJatuh:  24%|██▍       | 165/677 [01:08<03:58,  2.15it/s]"
          ]
        },
        {
          "output_type": "stream",
          "name": "stdout",
          "text": [
            "[165/1352] nonJatuh/video_230.avi | Frames: 30 | Person detections: 30\n"
          ]
        },
        {
          "output_type": "stream",
          "name": "stderr",
          "text": [
            "\rnonJatuh:  25%|██▍       | 166/677 [01:08<03:40,  2.32it/s]"
          ]
        },
        {
          "output_type": "stream",
          "name": "stdout",
          "text": [
            "[166/1352] nonJatuh/video_224_flip.avi | Frames: 30 | Person detections: 2\n"
          ]
        },
        {
          "output_type": "stream",
          "name": "stderr",
          "text": [
            "\rnonJatuh:  25%|██▍       | 167/677 [01:09<03:25,  2.48it/s]"
          ]
        },
        {
          "output_type": "stream",
          "name": "stdout",
          "text": [
            "[167/1352] nonJatuh/video_211_flip.avi | Frames: 30 | Person detections: 0\n"
          ]
        },
        {
          "output_type": "stream",
          "name": "stderr",
          "text": [
            "\rnonJatuh:  25%|██▍       | 168/677 [01:09<04:01,  2.10it/s]"
          ]
        },
        {
          "output_type": "stream",
          "name": "stdout",
          "text": [
            "[168/1352] nonJatuh/video_24_flip.avi | Frames: 57 | Person detections: 57\n"
          ]
        },
        {
          "output_type": "stream",
          "name": "stderr",
          "text": [
            "\rnonJatuh:  25%|██▍       | 169/677 [01:10<03:42,  2.28it/s]"
          ]
        },
        {
          "output_type": "stream",
          "name": "stdout",
          "text": [
            "[169/1352] nonJatuh/video_229_flip.avi | Frames: 30 | Person detections: 19\n"
          ]
        },
        {
          "output_type": "stream",
          "name": "stderr",
          "text": [
            "\rnonJatuh:  25%|██▌       | 170/677 [01:10<03:27,  2.44it/s]"
          ]
        },
        {
          "output_type": "stream",
          "name": "stdout",
          "text": [
            "[170/1352] nonJatuh/video_222_flip.avi | Frames: 30 | Person detections: 9\n"
          ]
        },
        {
          "output_type": "stream",
          "name": "stderr",
          "text": [
            "\rnonJatuh:  25%|██▌       | 171/677 [01:10<03:19,  2.53it/s]"
          ]
        },
        {
          "output_type": "stream",
          "name": "stdout",
          "text": [
            "[171/1352] nonJatuh/video_228_flip.avi | Frames: 30 | Person detections: 0\n"
          ]
        },
        {
          "output_type": "stream",
          "name": "stderr",
          "text": [
            "\rnonJatuh:  25%|██▌       | 172/677 [01:11<03:12,  2.62it/s]"
          ]
        },
        {
          "output_type": "stream",
          "name": "stdout",
          "text": [
            "[172/1352] nonJatuh/video_225_flip.avi | Frames: 30 | Person detections: 0\n"
          ]
        },
        {
          "output_type": "stream",
          "name": "stderr",
          "text": [
            "\rnonJatuh:  26%|██▌       | 173/677 [01:11<03:28,  2.42it/s]"
          ]
        },
        {
          "output_type": "stream",
          "name": "stdout",
          "text": [
            "[173/1352] nonJatuh/video_221.avi | Frames: 30 | Person detections: 2\n"
          ]
        },
        {
          "output_type": "stream",
          "name": "stderr",
          "text": [
            "\rnonJatuh:  26%|██▌       | 174/677 [01:12<04:43,  1.77it/s]"
          ]
        },
        {
          "output_type": "stream",
          "name": "stdout",
          "text": [
            "[174/1352] nonJatuh/video_24.avi | Frames: 57 | Person detections: 57\n"
          ]
        },
        {
          "output_type": "stream",
          "name": "stderr",
          "text": [
            "\rnonJatuh:  26%|██▌       | 175/677 [01:13<05:44,  1.46it/s]"
          ]
        },
        {
          "output_type": "stream",
          "name": "stdout",
          "text": [
            "[175/1352] nonJatuh/video_237.avi | Frames: 71 | Person detections: 0\n"
          ]
        },
        {
          "output_type": "stream",
          "name": "stderr",
          "text": [
            "\rnonJatuh:  26%|██▌       | 176/677 [01:13<05:21,  1.56it/s]"
          ]
        },
        {
          "output_type": "stream",
          "name": "stdout",
          "text": [
            "[176/1352] nonJatuh/video_220.avi | Frames: 30 | Person detections: 0\n"
          ]
        },
        {
          "output_type": "stream",
          "name": "stderr",
          "text": [
            "\rnonJatuh:  26%|██▌       | 177/677 [01:14<05:09,  1.62it/s]"
          ]
        },
        {
          "output_type": "stream",
          "name": "stdout",
          "text": [
            "[177/1352] nonJatuh/video_25.avi | Frames: 42 | Person detections: 42\n"
          ]
        },
        {
          "output_type": "stream",
          "name": "stderr",
          "text": [
            "\rnonJatuh:  26%|██▋       | 178/677 [01:14<04:26,  1.87it/s]"
          ]
        },
        {
          "output_type": "stream",
          "name": "stdout",
          "text": [
            "[178/1352] nonJatuh/video_216.avi | Frames: 30 | Person detections: 10\n",
            "[179/1352] nonJatuh/video_22.avi | Frames: 4 | Person detections: 4\n"
          ]
        },
        {
          "output_type": "stream",
          "name": "stderr",
          "text": [
            "nonJatuh:  27%|██▋       | 181/677 [01:15<02:35,  3.18it/s]"
          ]
        },
        {
          "output_type": "stream",
          "name": "stdout",
          "text": [
            "[180/1352] nonJatuh/video_220_flip.avi | Frames: 30 | Person detections: 1\n",
            "[181/1352] nonJatuh/video_23_flip.avi | Frames: 10 | Person detections: 10\n"
          ]
        },
        {
          "output_type": "stream",
          "name": "stderr",
          "text": [
            "\rnonJatuh:  27%|██▋       | 182/677 [01:15<02:38,  3.13it/s]"
          ]
        },
        {
          "output_type": "stream",
          "name": "stdout",
          "text": [
            "[182/1352] nonJatuh/video_219.avi | Frames: 30 | Person detections: 0\n"
          ]
        },
        {
          "output_type": "stream",
          "name": "stderr",
          "text": [
            "\rnonJatuh:  27%|██▋       | 183/677 [01:16<02:42,  3.04it/s]"
          ]
        },
        {
          "output_type": "stream",
          "name": "stdout",
          "text": [
            "[183/1352] nonJatuh/video_226_flip.avi | Frames: 30 | Person detections: 0\n"
          ]
        },
        {
          "output_type": "stream",
          "name": "stderr",
          "text": [
            "\rnonJatuh:  27%|██▋       | 184/677 [01:16<03:52,  2.12it/s]"
          ]
        },
        {
          "output_type": "stream",
          "name": "stdout",
          "text": [
            "[184/1352] nonJatuh/video_235.avi | Frames: 78 | Person detections: 59\n"
          ]
        },
        {
          "output_type": "stream",
          "name": "stderr",
          "text": [
            "\rnonJatuh:  27%|██▋       | 185/677 [01:17<03:35,  2.28it/s]"
          ]
        },
        {
          "output_type": "stream",
          "name": "stdout",
          "text": [
            "[185/1352] nonJatuh/video_219_flip.avi | Frames: 30 | Person detections: 0\n"
          ]
        },
        {
          "output_type": "stream",
          "name": "stderr",
          "text": [
            "\rnonJatuh:  27%|██▋       | 186/677 [01:17<03:19,  2.46it/s]"
          ]
        },
        {
          "output_type": "stream",
          "name": "stdout",
          "text": [
            "[186/1352] nonJatuh/video_227.avi | Frames: 30 | Person detections: 0\n"
          ]
        },
        {
          "output_type": "stream",
          "name": "stderr",
          "text": [
            "\rnonJatuh:  28%|██▊       | 187/677 [01:17<03:09,  2.59it/s]"
          ]
        },
        {
          "output_type": "stream",
          "name": "stdout",
          "text": [
            "[187/1352] nonJatuh/video_211.avi | Frames: 30 | Person detections: 0\n"
          ]
        },
        {
          "output_type": "stream",
          "name": "stderr",
          "text": [
            "\rnonJatuh:  28%|██▊       | 188/677 [01:18<03:40,  2.22it/s]"
          ]
        },
        {
          "output_type": "stream",
          "name": "stdout",
          "text": [
            "[188/1352] nonJatuh/video_238.avi | Frames: 58 | Person detections: 2\n"
          ]
        },
        {
          "output_type": "stream",
          "name": "stderr",
          "text": [
            "\rnonJatuh:  28%|██▊       | 189/677 [01:19<03:48,  2.14it/s]"
          ]
        },
        {
          "output_type": "stream",
          "name": "stdout",
          "text": [
            "[189/1352] nonJatuh/video_91.avi | Frames: 49 | Person detections: 35\n"
          ]
        },
        {
          "output_type": "stream",
          "name": "stderr",
          "text": [
            "\rnonJatuh:  28%|██▊       | 190/677 [01:19<03:25,  2.36it/s]"
          ]
        },
        {
          "output_type": "stream",
          "name": "stdout",
          "text": [
            "[190/1352] nonJatuh/video_66_flip.avi | Frames: 29 | Person detections: 0\n"
          ]
        },
        {
          "output_type": "stream",
          "name": "stderr",
          "text": [
            "\rnonJatuh:  28%|██▊       | 191/677 [01:20<03:57,  2.04it/s]"
          ]
        },
        {
          "output_type": "stream",
          "name": "stdout",
          "text": [
            "[191/1352] nonJatuh/video_76.avi | Frames: 57 | Person detections: 0\n"
          ]
        },
        {
          "output_type": "stream",
          "name": "stderr",
          "text": [
            "\rnonJatuh:  28%|██▊       | 192/677 [01:20<04:34,  1.77it/s]"
          ]
        },
        {
          "output_type": "stream",
          "name": "stdout",
          "text": [
            "[192/1352] nonJatuh/video_72_flip.avi | Frames: 72 | Person detections: 0\n"
          ]
        },
        {
          "output_type": "stream",
          "name": "stderr",
          "text": [
            "\rnonJatuh:  29%|██▊       | 193/677 [01:21<04:44,  1.70it/s]"
          ]
        },
        {
          "output_type": "stream",
          "name": "stdout",
          "text": [
            "[193/1352] nonJatuh/video_39.avi | Frames: 56 | Person detections: 56\n"
          ]
        },
        {
          "output_type": "stream",
          "name": "stderr",
          "text": [
            "\rnonJatuh:  29%|██▊       | 194/677 [01:22<06:24,  1.26it/s]"
          ]
        },
        {
          "output_type": "stream",
          "name": "stdout",
          "text": [
            "[194/1352] nonJatuh/video_28_flip.avi | Frames: 113 | Person detections: 113\n"
          ]
        },
        {
          "output_type": "stream",
          "name": "stderr",
          "text": [
            "\rnonJatuh:  29%|██▉       | 195/677 [01:23<05:47,  1.39it/s]"
          ]
        },
        {
          "output_type": "stream",
          "name": "stdout",
          "text": [
            "[195/1352] nonJatuh/video_83.avi | Frames: 52 | Person detections: 48\n"
          ]
        },
        {
          "output_type": "stream",
          "name": "stderr",
          "text": [
            "\rnonJatuh:  29%|██▉       | 196/677 [01:24<06:53,  1.16it/s]"
          ]
        },
        {
          "output_type": "stream",
          "name": "stdout",
          "text": [
            "[196/1352] nonJatuh/video_44_flip.avi | Frames: 95 | Person detections: 95\n"
          ]
        },
        {
          "output_type": "stream",
          "name": "stderr",
          "text": [
            "\rnonJatuh:  29%|██▉       | 197/677 [01:26<08:55,  1.12s/it]"
          ]
        },
        {
          "output_type": "stream",
          "name": "stdout",
          "text": [
            "[197/1352] nonJatuh/video_28.avi | Frames: 113 | Person detections: 113\n"
          ]
        },
        {
          "output_type": "stream",
          "name": "stderr",
          "text": [
            "\rnonJatuh:  29%|██▉       | 198/677 [01:27<10:16,  1.29s/it]"
          ]
        },
        {
          "output_type": "stream",
          "name": "stdout",
          "text": [
            "[198/1352] nonJatuh/video_5_flip.avi | Frames: 117 | Person detections: 117\n"
          ]
        },
        {
          "output_type": "stream",
          "name": "stderr",
          "text": [
            "\rnonJatuh:  29%|██▉       | 199/677 [01:28<09:28,  1.19s/it]"
          ]
        },
        {
          "output_type": "stream",
          "name": "stdout",
          "text": [
            "[199/1352] nonJatuh/video_62_flip.avi | Frames: 85 | Person detections: 85\n"
          ]
        },
        {
          "output_type": "stream",
          "name": "stderr",
          "text": [
            "\rnonJatuh:  30%|██▉       | 200/677 [01:29<07:44,  1.03it/s]"
          ]
        },
        {
          "output_type": "stream",
          "name": "stdout",
          "text": [
            "[200/1352] nonJatuh/video_25_flip.avi | Frames: 42 | Person detections: 42\n",
            "===> Batch 3 disimpan (size 50)\n"
          ]
        },
        {
          "output_type": "stream",
          "name": "stderr",
          "text": [
            "\rnonJatuh:  30%|██▉       | 201/677 [01:30<07:13,  1.10it/s]"
          ]
        },
        {
          "output_type": "stream",
          "name": "stdout",
          "text": [
            "[201/1352] nonJatuh/video_43_flip.avi | Frames: 68 | Person detections: 68\n"
          ]
        },
        {
          "output_type": "stream",
          "name": "stderr",
          "text": [
            "\rnonJatuh:  30%|██▉       | 202/677 [01:30<07:00,  1.13it/s]"
          ]
        },
        {
          "output_type": "stream",
          "name": "stdout",
          "text": [
            "[202/1352] nonJatuh/video_27_flip.avi | Frames: 73 | Person detections: 73\n"
          ]
        },
        {
          "output_type": "stream",
          "name": "stderr",
          "text": [
            "\rnonJatuh:  30%|██▉       | 203/677 [01:31<05:37,  1.40it/s]"
          ]
        },
        {
          "output_type": "stream",
          "name": "stdout",
          "text": [
            "[203/1352] nonJatuh/video_38_flip.avi | Frames: 28 | Person detections: 28\n"
          ]
        },
        {
          "output_type": "stream",
          "name": "stderr",
          "text": [
            "nonJatuh:  30%|███       | 205/677 [01:32<04:27,  1.77it/s]"
          ]
        },
        {
          "output_type": "stream",
          "name": "stdout",
          "text": [
            "[204/1352] nonJatuh/video_56_flip.avi | Frames: 73 | Person detections: 73\n",
            "[205/1352] nonJatuh/video_92.avi | Frames: 13 | Person detections: 6\n"
          ]
        },
        {
          "output_type": "stream",
          "name": "stderr",
          "text": [
            "nonJatuh:  31%|███       | 207/677 [01:32<02:59,  2.62it/s]"
          ]
        },
        {
          "output_type": "stream",
          "name": "stdout",
          "text": [
            "[206/1352] nonJatuh/video_65_flip.avi | Frames: 19 | Person detections: 0\n",
            "[207/1352] nonJatuh/video_65.avi | Frames: 19 | Person detections: 0\n"
          ]
        },
        {
          "output_type": "stream",
          "name": "stderr",
          "text": [
            "\rnonJatuh:  31%|███       | 208/677 [01:32<02:45,  2.84it/s]"
          ]
        },
        {
          "output_type": "stream",
          "name": "stdout",
          "text": [
            "[208/1352] nonJatuh/video_81_flip.avi | Frames: 27 | Person detections: 0\n"
          ]
        },
        {
          "output_type": "stream",
          "name": "stderr",
          "text": [
            "\rnonJatuh:  31%|███       | 209/677 [01:33<03:26,  2.26it/s]"
          ]
        },
        {
          "output_type": "stream",
          "name": "stdout",
          "text": [
            "[209/1352] nonJatuh/video_35_flip.avi | Frames: 59 | Person detections: 59\n"
          ]
        },
        {
          "output_type": "stream",
          "name": "stderr",
          "text": [
            "\rnonJatuh:  31%|███       | 210/677 [01:34<05:06,  1.52it/s]"
          ]
        },
        {
          "output_type": "stream",
          "name": "stdout",
          "text": [
            "[210/1352] nonJatuh/video_4.avi | Frames: 102 | Person detections: 102\n"
          ]
        },
        {
          "output_type": "stream",
          "name": "stderr",
          "text": [
            "\rnonJatuh:  31%|███       | 211/677 [01:35<05:37,  1.38it/s]"
          ]
        },
        {
          "output_type": "stream",
          "name": "stdout",
          "text": [
            "[211/1352] nonJatuh/video_3_flip.avi | Frames: 78 | Person detections: 78\n"
          ]
        },
        {
          "output_type": "stream",
          "name": "stderr",
          "text": [
            "\rnonJatuh:  31%|███▏      | 212/677 [01:35<04:53,  1.58it/s]"
          ]
        },
        {
          "output_type": "stream",
          "name": "stdout",
          "text": [
            "[212/1352] nonJatuh/video_67.avi | Frames: 40 | Person detections: 0\n"
          ]
        },
        {
          "output_type": "stream",
          "name": "stderr",
          "text": [
            "\rnonJatuh:  31%|███▏      | 213/677 [01:36<05:35,  1.38it/s]"
          ]
        },
        {
          "output_type": "stream",
          "name": "stdout",
          "text": [
            "[213/1352] nonJatuh/video_62.avi | Frames: 85 | Person detections: 85\n"
          ]
        },
        {
          "output_type": "stream",
          "name": "stderr",
          "text": [
            "\rnonJatuh:  32%|███▏      | 214/677 [01:37<05:11,  1.49it/s]"
          ]
        },
        {
          "output_type": "stream",
          "name": "stdout",
          "text": [
            "[214/1352] nonJatuh/video_79.avi | Frames: 53 | Person detections: 0\n"
          ]
        },
        {
          "output_type": "stream",
          "name": "stderr",
          "text": [
            "\rnonJatuh:  32%|███▏      | 215/677 [01:38<05:06,  1.51it/s]"
          ]
        },
        {
          "output_type": "stream",
          "name": "stdout",
          "text": [
            "[215/1352] nonJatuh/video_40_flip.avi | Frames: 40 | Person detections: 40\n"
          ]
        },
        {
          "output_type": "stream",
          "name": "stderr",
          "text": [
            "\rnonJatuh:  32%|███▏      | 216/677 [01:38<05:28,  1.40it/s]"
          ]
        },
        {
          "output_type": "stream",
          "name": "stdout",
          "text": [
            "[216/1352] nonJatuh/video_71.avi | Frames: 60 | Person detections: 0\n"
          ]
        },
        {
          "output_type": "stream",
          "name": "stderr",
          "text": [
            "\rnonJatuh:  32%|███▏      | 217/677 [01:40<07:08,  1.07it/s]"
          ]
        },
        {
          "output_type": "stream",
          "name": "stdout",
          "text": [
            "[217/1352] nonJatuh/video_52.avi | Frames: 88 | Person detections: 88\n"
          ]
        },
        {
          "output_type": "stream",
          "name": "stderr",
          "text": [
            "\rnonJatuh:  32%|███▏      | 218/677 [01:41<07:11,  1.06it/s]"
          ]
        },
        {
          "output_type": "stream",
          "name": "stdout",
          "text": [
            "[218/1352] nonJatuh/video_94_flip.avi | Frames: 85 | Person detections: 33\n"
          ]
        },
        {
          "output_type": "stream",
          "name": "stderr",
          "text": [
            "\rnonJatuh:  32%|███▏      | 219/677 [01:41<05:45,  1.33it/s]"
          ]
        },
        {
          "output_type": "stream",
          "name": "stdout",
          "text": [
            "[219/1352] nonJatuh/video_93_flip.avi | Frames: 28 | Person detections: 22\n"
          ]
        },
        {
          "output_type": "stream",
          "name": "stderr",
          "text": [
            "\rnonJatuh:  32%|███▏      | 220/677 [01:42<05:13,  1.46it/s]"
          ]
        },
        {
          "output_type": "stream",
          "name": "stdout",
          "text": [
            "[220/1352] nonJatuh/video_89_flip.avi | Frames: 53 | Person detections: 0\n"
          ]
        },
        {
          "output_type": "stream",
          "name": "stderr",
          "text": [
            "\rnonJatuh:  33%|███▎      | 221/677 [01:42<04:18,  1.77it/s]"
          ]
        },
        {
          "output_type": "stream",
          "name": "stdout",
          "text": [
            "[221/1352] nonJatuh/video_81.avi | Frames: 27 | Person detections: 0\n"
          ]
        },
        {
          "output_type": "stream",
          "name": "stderr",
          "text": [
            "\rnonJatuh:  33%|███▎      | 222/677 [01:43<04:42,  1.61it/s]"
          ]
        },
        {
          "output_type": "stream",
          "name": "stdout",
          "text": [
            "[222/1352] nonJatuh/video_58_flip.avi | Frames: 69 | Person detections: 69\n"
          ]
        },
        {
          "output_type": "stream",
          "name": "stderr",
          "text": [
            "\rnonJatuh:  33%|███▎      | 223/677 [01:43<04:44,  1.60it/s]"
          ]
        },
        {
          "output_type": "stream",
          "name": "stdout",
          "text": [
            "[223/1352] nonJatuh/video_82_flip.avi | Frames: 64 | Person detections: 0\n"
          ]
        },
        {
          "output_type": "stream",
          "name": "stderr",
          "text": [
            "\rnonJatuh:  33%|███▎      | 224/677 [01:44<05:31,  1.37it/s]"
          ]
        },
        {
          "output_type": "stream",
          "name": "stdout",
          "text": [
            "[224/1352] nonJatuh/video_60_flip.avi | Frames: 85 | Person detections: 85\n"
          ]
        },
        {
          "output_type": "stream",
          "name": "stderr",
          "text": [
            "\rnonJatuh:  33%|███▎      | 225/677 [01:46<06:44,  1.12it/s]"
          ]
        },
        {
          "output_type": "stream",
          "name": "stdout",
          "text": [
            "[225/1352] nonJatuh/video_5.avi | Frames: 117 | Person detections: 116\n"
          ]
        },
        {
          "output_type": "stream",
          "name": "stderr",
          "text": [
            "\rnonJatuh:  33%|███▎      | 226/677 [01:47<06:56,  1.08it/s]"
          ]
        },
        {
          "output_type": "stream",
          "name": "stdout",
          "text": [
            "[226/1352] nonJatuh/video_54.avi | Frames: 90 | Person detections: 90\n"
          ]
        },
        {
          "output_type": "stream",
          "name": "stderr",
          "text": [
            "\rnonJatuh:  34%|███▎      | 227/677 [01:47<06:34,  1.14it/s]"
          ]
        },
        {
          "output_type": "stream",
          "name": "stdout",
          "text": [
            "[227/1352] nonJatuh/video_58.avi | Frames: 69 | Person detections: 69\n"
          ]
        },
        {
          "output_type": "stream",
          "name": "stderr",
          "text": [
            "\rnonJatuh:  34%|███▎      | 228/677 [01:48<06:31,  1.15it/s]"
          ]
        },
        {
          "output_type": "stream",
          "name": "stdout",
          "text": [
            "[228/1352] nonJatuh/video_48.avi | Frames: 78 | Person detections: 78\n"
          ]
        },
        {
          "output_type": "stream",
          "name": "stderr",
          "text": [
            "\rnonJatuh:  34%|███▍      | 229/677 [01:49<06:46,  1.10it/s]"
          ]
        },
        {
          "output_type": "stream",
          "name": "stdout",
          "text": [
            "[229/1352] nonJatuh/video_33.avi | Frames: 89 | Person detections: 89\n"
          ]
        },
        {
          "output_type": "stream",
          "name": "stderr",
          "text": [
            "\rnonJatuh:  34%|███▍      | 230/677 [01:50<06:38,  1.12it/s]"
          ]
        },
        {
          "output_type": "stream",
          "name": "stdout",
          "text": [
            "[230/1352] nonJatuh/video_69.avi | Frames: 85 | Person detections: 2\n"
          ]
        },
        {
          "output_type": "stream",
          "name": "stderr",
          "text": [
            "\rnonJatuh:  34%|███▍      | 231/677 [01:51<07:23,  1.01it/s]"
          ]
        },
        {
          "output_type": "stream",
          "name": "stdout",
          "text": [
            "[231/1352] nonJatuh/video_56.avi | Frames: 73 | Person detections: 73\n"
          ]
        },
        {
          "output_type": "stream",
          "name": "stderr",
          "text": [
            "\rnonJatuh:  34%|███▍      | 232/677 [01:53<08:31,  1.15s/it]"
          ]
        },
        {
          "output_type": "stream",
          "name": "stdout",
          "text": [
            "[232/1352] nonJatuh/video_64_flip.avi | Frames: 95 | Person detections: 95\n"
          ]
        },
        {
          "output_type": "stream",
          "name": "stderr",
          "text": [
            "\rnonJatuh:  34%|███▍      | 233/677 [01:53<07:34,  1.02s/it]"
          ]
        },
        {
          "output_type": "stream",
          "name": "stdout",
          "text": [
            "[233/1352] nonJatuh/video_77.avi | Frames: 50 | Person detections: 0\n"
          ]
        },
        {
          "output_type": "stream",
          "name": "stderr",
          "text": [
            "\rnonJatuh:  35%|███▍      | 234/677 [01:55<07:32,  1.02s/it]"
          ]
        },
        {
          "output_type": "stream",
          "name": "stdout",
          "text": [
            "[234/1352] nonJatuh/video_75.avi | Frames: 101 | Person detections: 0\n"
          ]
        },
        {
          "output_type": "stream",
          "name": "stderr",
          "text": [
            "\rnonJatuh:  35%|███▍      | 235/677 [01:55<07:05,  1.04it/s]"
          ]
        },
        {
          "output_type": "stream",
          "name": "stdout",
          "text": [
            "[235/1352] nonJatuh/video_46.avi | Frames: 77 | Person detections: 77\n"
          ]
        },
        {
          "output_type": "stream",
          "name": "stderr",
          "text": [
            "\rnonJatuh:  35%|███▍      | 236/677 [01:56<06:08,  1.20it/s]"
          ]
        },
        {
          "output_type": "stream",
          "name": "stdout",
          "text": [
            "[236/1352] nonJatuh/video_78.avi | Frames: 54 | Person detections: 0\n"
          ]
        },
        {
          "output_type": "stream",
          "name": "stderr",
          "text": [
            "\rnonJatuh:  35%|███▌      | 237/677 [01:56<05:12,  1.41it/s]"
          ]
        },
        {
          "output_type": "stream",
          "name": "stdout",
          "text": [
            "[237/1352] nonJatuh/video_90_flip.avi | Frames: 41 | Person detections: 3\n"
          ]
        },
        {
          "output_type": "stream",
          "name": "stderr",
          "text": [
            "\rnonJatuh:  35%|███▌      | 238/677 [01:57<05:49,  1.26it/s]"
          ]
        },
        {
          "output_type": "stream",
          "name": "stdout",
          "text": [
            "[238/1352] nonJatuh/video_33_flip.avi | Frames: 89 | Person detections: 89\n"
          ]
        },
        {
          "output_type": "stream",
          "name": "stderr",
          "text": [
            "\rnonJatuh:  35%|███▌      | 239/677 [01:58<05:32,  1.32it/s]"
          ]
        },
        {
          "output_type": "stream",
          "name": "stdout",
          "text": [
            "[239/1352] nonJatuh/video_68_flip.avi | Frames: 67 | Person detections: 9\n"
          ]
        },
        {
          "output_type": "stream",
          "name": "stderr",
          "text": [
            "\rnonJatuh:  35%|███▌      | 240/677 [01:59<05:12,  1.40it/s]"
          ]
        },
        {
          "output_type": "stream",
          "name": "stdout",
          "text": [
            "[240/1352] nonJatuh/video_29_flip.avi | Frames: 56 | Person detections: 56\n"
          ]
        },
        {
          "output_type": "stream",
          "name": "stderr",
          "text": [
            "\rnonJatuh:  36%|███▌      | 241/677 [01:59<04:31,  1.61it/s]"
          ]
        },
        {
          "output_type": "stream",
          "name": "stdout",
          "text": [
            "[241/1352] nonJatuh/video_50_flip.avi | Frames: 34 | Person detections: 34\n"
          ]
        },
        {
          "output_type": "stream",
          "name": "stderr",
          "text": [
            "\rnonJatuh:  36%|███▌      | 242/677 [02:00<05:22,  1.35it/s]"
          ]
        },
        {
          "output_type": "stream",
          "name": "stdout",
          "text": [
            "[242/1352] nonJatuh/video_52_flip.avi | Frames: 88 | Person detections: 88\n"
          ]
        },
        {
          "output_type": "stream",
          "name": "stderr",
          "text": [
            "\rnonJatuh:  36%|███▌      | 243/677 [02:01<06:06,  1.18it/s]"
          ]
        },
        {
          "output_type": "stream",
          "name": "stdout",
          "text": [
            "[243/1352] nonJatuh/video_42.avi | Frames: 99 | Person detections: 99\n"
          ]
        },
        {
          "output_type": "stream",
          "name": "stderr",
          "text": [
            "\rnonJatuh:  36%|███▌      | 244/677 [02:02<06:22,  1.13it/s]"
          ]
        },
        {
          "output_type": "stream",
          "name": "stdout",
          "text": [
            "[244/1352] nonJatuh/video_31.avi | Frames: 88 | Person detections: 88\n"
          ]
        },
        {
          "output_type": "stream",
          "name": "stderr",
          "text": [
            "\rnonJatuh:  36%|███▌      | 245/677 [02:03<05:34,  1.29it/s]"
          ]
        },
        {
          "output_type": "stream",
          "name": "stdout",
          "text": [
            "[245/1352] nonJatuh/video_89.avi | Frames: 53 | Person detections: 0\n"
          ]
        },
        {
          "output_type": "stream",
          "name": "stderr",
          "text": [
            "\rnonJatuh:  36%|███▋      | 246/677 [02:04<06:05,  1.18it/s]"
          ]
        },
        {
          "output_type": "stream",
          "name": "stdout",
          "text": [
            "[246/1352] nonJatuh/video_41_flip.avi | Frames: 84 | Person detections: 84\n"
          ]
        },
        {
          "output_type": "stream",
          "name": "stderr",
          "text": [
            "\rnonJatuh:  36%|███▋      | 247/677 [02:04<05:56,  1.21it/s]"
          ]
        },
        {
          "output_type": "stream",
          "name": "stdout",
          "text": [
            "[247/1352] nonJatuh/video_83_flip.avi | Frames: 52 | Person detections: 52\n"
          ]
        },
        {
          "output_type": "stream",
          "name": "stderr",
          "text": [
            "\rnonJatuh:  37%|███▋      | 248/677 [02:06<07:10,  1.00s/it]"
          ]
        },
        {
          "output_type": "stream",
          "name": "stdout",
          "text": [
            "[248/1352] nonJatuh/video_37.avi | Frames: 90 | Person detections: 90\n"
          ]
        },
        {
          "output_type": "stream",
          "name": "stderr",
          "text": [
            "\rnonJatuh:  37%|███▋      | 249/677 [02:07<06:51,  1.04it/s]"
          ]
        },
        {
          "output_type": "stream",
          "name": "stdout",
          "text": [
            "[249/1352] nonJatuh/video_76_flip.avi | Frames: 57 | Person detections: 2\n"
          ]
        },
        {
          "output_type": "stream",
          "name": "stderr",
          "text": [
            "\rnonJatuh:  37%|███▋      | 250/677 [02:07<06:04,  1.17it/s]"
          ]
        },
        {
          "output_type": "stream",
          "name": "stdout",
          "text": [
            "[250/1352] nonJatuh/video_73_flip.avi | Frames: 61 | Person detections: 0\n",
            "===> Batch 4 disimpan (size 50)\n"
          ]
        },
        {
          "output_type": "stream",
          "name": "stderr",
          "text": [
            "\rnonJatuh:  37%|███▋      | 251/677 [02:08<06:17,  1.13it/s]"
          ]
        },
        {
          "output_type": "stream",
          "name": "stdout",
          "text": [
            "[251/1352] nonJatuh/video_60.avi | Frames: 85 | Person detections: 85\n"
          ]
        },
        {
          "output_type": "stream",
          "name": "stderr",
          "text": [
            "\rnonJatuh:  37%|███▋      | 252/677 [02:09<06:10,  1.15it/s]"
          ]
        },
        {
          "output_type": "stream",
          "name": "stdout",
          "text": [
            "[252/1352] nonJatuh/video_34_flip.avi | Frames: 76 | Person detections: 76\n"
          ]
        },
        {
          "output_type": "stream",
          "name": "stderr",
          "text": [
            "\rnonJatuh:  37%|███▋      | 253/677 [02:09<05:09,  1.37it/s]"
          ]
        },
        {
          "output_type": "stream",
          "name": "stdout",
          "text": [
            "[253/1352] nonJatuh/video_80_flip.avi | Frames: 40 | Person detections: 0\n"
          ]
        },
        {
          "output_type": "stream",
          "name": "stderr",
          "text": [
            "\rnonJatuh:  38%|███▊      | 254/677 [02:10<04:29,  1.57it/s]"
          ]
        },
        {
          "output_type": "stream",
          "name": "stdout",
          "text": [
            "[254/1352] nonJatuh/video_40.avi | Frames: 40 | Person detections: 40\n"
          ]
        },
        {
          "output_type": "stream",
          "name": "stderr",
          "text": [
            "\rnonJatuh:  38%|███▊      | 255/677 [02:10<04:24,  1.59it/s]"
          ]
        },
        {
          "output_type": "stream",
          "name": "stdout",
          "text": [
            "[255/1352] nonJatuh/video_71_flip.avi | Frames: 60 | Person detections: 0\n"
          ]
        },
        {
          "output_type": "stream",
          "name": "stderr",
          "text": [
            "\rnonJatuh:  38%|███▊      | 256/677 [02:12<05:15,  1.33it/s]"
          ]
        },
        {
          "output_type": "stream",
          "name": "stdout",
          "text": [
            "[256/1352] nonJatuh/video_64.avi | Frames: 95 | Person detections: 95\n"
          ]
        },
        {
          "output_type": "stream",
          "name": "stderr",
          "text": [
            "\rnonJatuh:  38%|███▊      | 257/677 [02:12<05:26,  1.29it/s]"
          ]
        },
        {
          "output_type": "stream",
          "name": "stdout",
          "text": [
            "[257/1352] nonJatuh/video_69_flip.avi | Frames: 85 | Person detections: 1\n"
          ]
        },
        {
          "output_type": "stream",
          "name": "stderr",
          "text": [
            "\rnonJatuh:  38%|███▊      | 258/677 [02:13<05:51,  1.19it/s]"
          ]
        },
        {
          "output_type": "stream",
          "name": "stdout",
          "text": [
            "[258/1352] nonJatuh/video_86.avi | Frames: 98 | Person detections: 0\n"
          ]
        },
        {
          "output_type": "stream",
          "name": "stderr",
          "text": [
            "\rnonJatuh:  38%|███▊      | 259/677 [02:14<05:53,  1.18it/s]"
          ]
        },
        {
          "output_type": "stream",
          "name": "stdout",
          "text": [
            "[259/1352] nonJatuh/video_94.avi | Frames: 85 | Person detections: 26\n"
          ]
        },
        {
          "output_type": "stream",
          "name": "stderr",
          "text": [
            "\rnonJatuh:  38%|███▊      | 260/677 [02:15<04:45,  1.46it/s]"
          ]
        },
        {
          "output_type": "stream",
          "name": "stdout",
          "text": [
            "[260/1352] nonJatuh/video_66.avi | Frames: 29 | Person detections: 0\n"
          ]
        },
        {
          "output_type": "stream",
          "name": "stderr",
          "text": [
            "nonJatuh:  39%|███▊      | 262/677 [02:16<03:50,  1.80it/s]"
          ]
        },
        {
          "output_type": "stream",
          "name": "stdout",
          "text": [
            "[261/1352] nonJatuh/video_46_flip.avi | Frames: 77 | Person detections: 77\n",
            "[262/1352] nonJatuh/video_84.avi | Frames: 12 | Person detections: 0\n"
          ]
        },
        {
          "output_type": "stream",
          "name": "stderr",
          "text": [
            "\rnonJatuh:  39%|███▉      | 263/677 [02:17<04:47,  1.44it/s]"
          ]
        },
        {
          "output_type": "stream",
          "name": "stdout",
          "text": [
            "[263/1352] nonJatuh/video_75_flip.avi | Frames: 101 | Person detections: 0\n"
          ]
        },
        {
          "output_type": "stream",
          "name": "stderr",
          "text": [
            "\rnonJatuh:  39%|███▉      | 264/677 [02:17<04:51,  1.42it/s]"
          ]
        },
        {
          "output_type": "stream",
          "name": "stdout",
          "text": [
            "[264/1352] nonJatuh/video_63.avi | Frames: 47 | Person detections: 47\n"
          ]
        },
        {
          "output_type": "stream",
          "name": "stderr",
          "text": [
            "\rnonJatuh:  39%|███▉      | 265/677 [02:18<05:41,  1.21it/s]"
          ]
        },
        {
          "output_type": "stream",
          "name": "stdout",
          "text": [
            "[265/1352] nonJatuh/video_85.avi | Frames: 74 | Person detections: 45\n"
          ]
        },
        {
          "output_type": "stream",
          "name": "stderr",
          "text": [
            "\rnonJatuh:  39%|███▉      | 266/677 [02:19<04:23,  1.56it/s]"
          ]
        },
        {
          "output_type": "stream",
          "name": "stdout",
          "text": [
            "[266/1352] nonJatuh/video_92_flip.avi | Frames: 13 | Person detections: 6\n"
          ]
        },
        {
          "output_type": "stream",
          "name": "stderr",
          "text": [
            "\rnonJatuh:  39%|███▉      | 267/677 [02:19<03:56,  1.73it/s]"
          ]
        },
        {
          "output_type": "stream",
          "name": "stdout",
          "text": [
            "[267/1352] nonJatuh/video_38.avi | Frames: 28 | Person detections: 28\n"
          ]
        },
        {
          "output_type": "stream",
          "name": "stderr",
          "text": [
            "\rnonJatuh:  40%|███▉      | 268/677 [02:21<06:07,  1.11it/s]"
          ]
        },
        {
          "output_type": "stream",
          "name": "stdout",
          "text": [
            "[268/1352] nonJatuh/video_32_flip.avi | Frames: 121 | Person detections: 121\n"
          ]
        },
        {
          "output_type": "stream",
          "name": "stderr",
          "text": [
            "\rnonJatuh:  40%|███▉      | 269/677 [02:21<05:46,  1.18it/s]"
          ]
        },
        {
          "output_type": "stream",
          "name": "stdout",
          "text": [
            "[269/1352] nonJatuh/video_72.avi | Frames: 72 | Person detections: 12\n"
          ]
        },
        {
          "output_type": "stream",
          "name": "stderr",
          "text": [
            "\rnonJatuh:  40%|███▉      | 270/677 [02:23<06:19,  1.07it/s]"
          ]
        },
        {
          "output_type": "stream",
          "name": "stdout",
          "text": [
            "[270/1352] nonJatuh/video_4_flip.avi | Frames: 102 | Person detections: 102\n"
          ]
        },
        {
          "output_type": "stream",
          "name": "stderr",
          "text": [
            "nonJatuh:  40%|████      | 272/677 [02:24<05:05,  1.32it/s]"
          ]
        },
        {
          "output_type": "stream",
          "name": "stdout",
          "text": [
            "[271/1352] nonJatuh/video_8.avi | Frames: 111 | Person detections: 111\n",
            "[272/1352] nonJatuh/video_84_flip.avi | Frames: 12 | Person detections: 0\n"
          ]
        },
        {
          "output_type": "stream",
          "name": "stderr",
          "text": [
            "\rnonJatuh:  40%|████      | 273/677 [02:25<05:54,  1.14it/s]"
          ]
        },
        {
          "output_type": "stream",
          "name": "stdout",
          "text": [
            "[273/1352] nonJatuh/video_51.avi | Frames: 105 | Person detections: 105\n"
          ]
        },
        {
          "output_type": "stream",
          "name": "stderr",
          "text": [
            "\rnonJatuh:  40%|████      | 274/677 [02:26<06:08,  1.09it/s]"
          ]
        },
        {
          "output_type": "stream",
          "name": "stdout",
          "text": [
            "[274/1352] nonJatuh/video_6.avi | Frames: 90 | Person detections: 90\n"
          ]
        },
        {
          "output_type": "stream",
          "name": "stderr",
          "text": [
            "\rnonJatuh:  41%|████      | 275/677 [02:27<05:40,  1.18it/s]"
          ]
        },
        {
          "output_type": "stream",
          "name": "stdout",
          "text": [
            "[275/1352] nonJatuh/video_36_flip.avi | Frames: 64 | Person detections: 64\n"
          ]
        },
        {
          "output_type": "stream",
          "name": "stderr",
          "text": [
            "\rnonJatuh:  41%|████      | 276/677 [02:27<05:29,  1.22it/s]"
          ]
        },
        {
          "output_type": "stream",
          "name": "stdout",
          "text": [
            "[276/1352] nonJatuh/video_43.avi | Frames: 68 | Person detections: 68\n"
          ]
        },
        {
          "output_type": "stream",
          "name": "stderr",
          "text": [
            "\rnonJatuh:  41%|████      | 277/677 [02:28<04:30,  1.48it/s]"
          ]
        },
        {
          "output_type": "stream",
          "name": "stdout",
          "text": [
            "[277/1352] nonJatuh/video_74.avi | Frames: 34 | Person detections: 0\n"
          ]
        },
        {
          "output_type": "stream",
          "name": "stderr",
          "text": [
            "\rnonJatuh:  41%|████      | 278/677 [02:29<04:32,  1.46it/s]"
          ]
        },
        {
          "output_type": "stream",
          "name": "stdout",
          "text": [
            "[278/1352] nonJatuh/video_35.avi | Frames: 59 | Person detections: 59\n"
          ]
        },
        {
          "output_type": "stream",
          "name": "stderr",
          "text": [
            "\rnonJatuh:  41%|████      | 279/677 [02:29<05:07,  1.30it/s]"
          ]
        },
        {
          "output_type": "stream",
          "name": "stdout",
          "text": [
            "[279/1352] nonJatuh/video_86_flip.avi | Frames: 98 | Person detections: 0\n"
          ]
        },
        {
          "output_type": "stream",
          "name": "stderr",
          "text": [
            "\rnonJatuh:  41%|████▏     | 280/677 [02:31<07:09,  1.08s/it]"
          ]
        },
        {
          "output_type": "stream",
          "name": "stdout",
          "text": [
            "[280/1352] nonJatuh/video_30_flip.avi | Frames: 123 | Person detections: 123\n"
          ]
        },
        {
          "output_type": "stream",
          "name": "stderr",
          "text": [
            "\rnonJatuh:  42%|████▏     | 281/677 [02:33<07:52,  1.19s/it]"
          ]
        },
        {
          "output_type": "stream",
          "name": "stdout",
          "text": [
            "[281/1352] nonJatuh/video_6_flip.avi | Frames: 90 | Person detections: 90\n"
          ]
        },
        {
          "output_type": "stream",
          "name": "stderr",
          "text": [
            "\rnonJatuh:  42%|████▏     | 282/677 [02:33<06:39,  1.01s/it]"
          ]
        },
        {
          "output_type": "stream",
          "name": "stdout",
          "text": [
            "[282/1352] nonJatuh/video_70_flip.avi | Frames: 48 | Person detections: 0\n"
          ]
        },
        {
          "output_type": "stream",
          "name": "stderr",
          "text": [
            "\rnonJatuh:  42%|████▏     | 283/677 [02:34<06:18,  1.04it/s]"
          ]
        },
        {
          "output_type": "stream",
          "name": "stdout",
          "text": [
            "[283/1352] nonJatuh/video_34.avi | Frames: 76 | Person detections: 76\n"
          ]
        },
        {
          "output_type": "stream",
          "name": "stderr",
          "text": [
            "\rnonJatuh:  42%|████▏     | 284/677 [02:35<05:04,  1.29it/s]"
          ]
        },
        {
          "output_type": "stream",
          "name": "stdout",
          "text": [
            "[284/1352] nonJatuh/video_74_flip.avi | Frames: 34 | Person detections: 0\n"
          ]
        },
        {
          "output_type": "stream",
          "name": "stderr",
          "text": [
            "\rnonJatuh:  42%|████▏     | 285/677 [02:36<06:01,  1.09it/s]"
          ]
        },
        {
          "output_type": "stream",
          "name": "stdout",
          "text": [
            "[285/1352] nonJatuh/video_61_flip.avi | Frames: 115 | Person detections: 115\n"
          ]
        },
        {
          "output_type": "stream",
          "name": "stderr",
          "text": [
            "\rnonJatuh:  42%|████▏     | 286/677 [02:37<05:35,  1.16it/s]"
          ]
        },
        {
          "output_type": "stream",
          "name": "stdout",
          "text": [
            "[286/1352] nonJatuh/video_36.avi | Frames: 64 | Person detections: 64\n"
          ]
        },
        {
          "output_type": "stream",
          "name": "stderr",
          "text": [
            "\rnonJatuh:  42%|████▏     | 287/677 [02:37<05:46,  1.13it/s]"
          ]
        },
        {
          "output_type": "stream",
          "name": "stdout",
          "text": [
            "[287/1352] nonJatuh/video_37_flip.avi | Frames: 90 | Person detections: 90\n"
          ]
        },
        {
          "output_type": "stream",
          "name": "stderr",
          "text": [
            "\rnonJatuh:  43%|████▎     | 288/677 [02:38<04:34,  1.42it/s]"
          ]
        },
        {
          "output_type": "stream",
          "name": "stdout",
          "text": [
            "[288/1352] nonJatuh/video_45_flip.avi | Frames: 23 | Person detections: 23\n"
          ]
        },
        {
          "output_type": "stream",
          "name": "stderr",
          "text": [
            "\rnonJatuh:  43%|████▎     | 289/677 [02:38<04:32,  1.42it/s]"
          ]
        },
        {
          "output_type": "stream",
          "name": "stdout",
          "text": [
            "[289/1352] nonJatuh/video_55.avi | Frames: 64 | Person detections: 64\n"
          ]
        },
        {
          "output_type": "stream",
          "name": "stderr",
          "text": [
            "\rnonJatuh:  43%|████▎     | 290/677 [02:39<04:59,  1.29it/s]"
          ]
        },
        {
          "output_type": "stream",
          "name": "stdout",
          "text": [
            "[290/1352] nonJatuh/video_41.avi | Frames: 84 | Person detections: 84\n"
          ]
        },
        {
          "output_type": "stream",
          "name": "stderr",
          "text": [
            "\rnonJatuh:  43%|████▎     | 291/677 [02:41<06:06,  1.05it/s]"
          ]
        },
        {
          "output_type": "stream",
          "name": "stdout",
          "text": [
            "[291/1352] nonJatuh/video_30.avi | Frames: 123 | Person detections: 123\n"
          ]
        },
        {
          "output_type": "stream",
          "name": "stderr",
          "text": [
            "\rnonJatuh:  43%|████▎     | 292/677 [02:42<05:59,  1.07it/s]"
          ]
        },
        {
          "output_type": "stream",
          "name": "stdout",
          "text": [
            "[292/1352] nonJatuh/video_26_flip.avi | Frames: 83 | Person detections: 83\n"
          ]
        },
        {
          "output_type": "stream",
          "name": "stderr",
          "text": [
            "\rnonJatuh:  43%|████▎     | 293/677 [02:42<04:57,  1.29it/s]"
          ]
        },
        {
          "output_type": "stream",
          "name": "stdout",
          "text": [
            "[293/1352] nonJatuh/video_80.avi | Frames: 40 | Person detections: 0\n"
          ]
        },
        {
          "output_type": "stream",
          "name": "stderr",
          "text": [
            "\rnonJatuh:  43%|████▎     | 294/677 [02:43<04:36,  1.39it/s]"
          ]
        },
        {
          "output_type": "stream",
          "name": "stdout",
          "text": [
            "[294/1352] nonJatuh/video_97.avi | Frames: 57 | Person detections: 47\n"
          ]
        },
        {
          "output_type": "stream",
          "name": "stderr",
          "text": [
            "\rnonJatuh:  44%|████▎     | 295/677 [02:43<04:15,  1.49it/s]"
          ]
        },
        {
          "output_type": "stream",
          "name": "stdout",
          "text": [
            "[295/1352] nonJatuh/video_99.avi | Frames: 45 | Person detections: 35\n"
          ]
        },
        {
          "output_type": "stream",
          "name": "stderr",
          "text": [
            "\rnonJatuh:  44%|████▎     | 296/677 [02:44<04:25,  1.43it/s]"
          ]
        },
        {
          "output_type": "stream",
          "name": "stdout",
          "text": [
            "[296/1352] nonJatuh/video_98_flip.avi | Frames: 58 | Person detections: 0\n"
          ]
        },
        {
          "output_type": "stream",
          "name": "stderr",
          "text": [
            "\rnonJatuh:  44%|████▍     | 297/677 [02:45<04:13,  1.50it/s]"
          ]
        },
        {
          "output_type": "stream",
          "name": "stdout",
          "text": [
            "[297/1352] nonJatuh/video_96_flip.avi | Frames: 43 | Person detections: 0\n"
          ]
        },
        {
          "output_type": "stream",
          "name": "stderr",
          "text": [
            "\rnonJatuh:  44%|████▍     | 298/677 [02:46<06:04,  1.04it/s]"
          ]
        },
        {
          "output_type": "stream",
          "name": "stdout",
          "text": [
            "[298/1352] nonJatuh/video_9_flip.avi | Frames: 103 | Person detections: 103\n"
          ]
        },
        {
          "output_type": "stream",
          "name": "stderr",
          "text": [
            "\rnonJatuh:  44%|████▍     | 299/677 [02:47<05:43,  1.10it/s]"
          ]
        },
        {
          "output_type": "stream",
          "name": "stdout",
          "text": [
            "[299/1352] nonJatuh/video_95_flip.avi | Frames: 76 | Person detections: 76\n"
          ]
        },
        {
          "output_type": "stream",
          "name": "stderr",
          "text": [
            "\rnonJatuh:  44%|████▍     | 300/677 [02:47<04:54,  1.28it/s]"
          ]
        },
        {
          "output_type": "stream",
          "name": "stdout",
          "text": [
            "[300/1352] nonJatuh/video_99_flip.avi | Frames: 45 | Person detections: 15\n",
            "===> Batch 5 disimpan (size 50)\n"
          ]
        },
        {
          "output_type": "stream",
          "name": "stderr",
          "text": [
            "\rnonJatuh:  44%|████▍     | 301/677 [02:48<04:30,  1.39it/s]"
          ]
        },
        {
          "output_type": "stream",
          "name": "stdout",
          "text": [
            "[301/1352] nonJatuh/video_97_flip.avi | Frames: 57 | Person detections: 29\n"
          ]
        },
        {
          "output_type": "stream",
          "name": "stderr",
          "text": [
            "\rnonJatuh:  45%|████▍     | 302/677 [02:48<03:48,  1.64it/s]"
          ]
        },
        {
          "output_type": "stream",
          "name": "stdout",
          "text": [
            "[302/1352] nonJatuh/500.avi | Frames: 31 | Person detections: 31\n"
          ]
        },
        {
          "output_type": "stream",
          "name": "stderr",
          "text": [
            "\rnonJatuh:  45%|████▍     | 303/677 [02:49<03:18,  1.88it/s]"
          ]
        },
        {
          "output_type": "stream",
          "name": "stdout",
          "text": [
            "[303/1352] nonJatuh/501.avi | Frames: 32 | Person detections: 32\n"
          ]
        },
        {
          "output_type": "stream",
          "name": "stderr",
          "text": [
            "\rnonJatuh:  45%|████▍     | 304/677 [02:49<03:02,  2.04it/s]"
          ]
        },
        {
          "output_type": "stream",
          "name": "stdout",
          "text": [
            "[304/1352] nonJatuh/82.avi | Frames: 34 | Person detections: 34\n"
          ]
        },
        {
          "output_type": "stream",
          "name": "stderr",
          "text": [
            "\rnonJatuh:  45%|████▌     | 305/677 [02:49<02:46,  2.23it/s]"
          ]
        },
        {
          "output_type": "stream",
          "name": "stdout",
          "text": [
            "[305/1352] nonJatuh/100.avi | Frames: 30 | Person detections: 1\n"
          ]
        },
        {
          "output_type": "stream",
          "name": "stderr",
          "text": [
            "\rnonJatuh:  45%|████▌     | 306/677 [02:50<02:33,  2.42it/s]"
          ]
        },
        {
          "output_type": "stream",
          "name": "stdout",
          "text": [
            "[306/1352] nonJatuh/104.avi | Frames: 30 | Person detections: 0\n"
          ]
        },
        {
          "output_type": "stream",
          "name": "stderr",
          "text": [
            "\rnonJatuh:  45%|████▌     | 307/677 [02:50<02:27,  2.51it/s]"
          ]
        },
        {
          "output_type": "stream",
          "name": "stdout",
          "text": [
            "[307/1352] nonJatuh/128.avi | Frames: 30 | Person detections: 17\n"
          ]
        },
        {
          "output_type": "stream",
          "name": "stderr",
          "text": [
            "\rnonJatuh:  45%|████▌     | 308/677 [02:51<02:23,  2.57it/s]"
          ]
        },
        {
          "output_type": "stream",
          "name": "stdout",
          "text": [
            "[308/1352] nonJatuh/118.avi | Frames: 30 | Person detections: 0\n"
          ]
        },
        {
          "output_type": "stream",
          "name": "stderr",
          "text": [
            "\rnonJatuh:  46%|████▌     | 309/677 [02:51<02:16,  2.69it/s]"
          ]
        },
        {
          "output_type": "stream",
          "name": "stdout",
          "text": [
            "[309/1352] nonJatuh/121.avi | Frames: 30 | Person detections: 3\n"
          ]
        },
        {
          "output_type": "stream",
          "name": "stderr",
          "text": [
            "nonJatuh:  46%|████▌     | 311/677 [02:51<01:51,  3.28it/s]"
          ]
        },
        {
          "output_type": "stream",
          "name": "stdout",
          "text": [
            "[310/1352] nonJatuh/117.avi | Frames: 30 | Person detections: 0\n",
            "[311/1352] nonJatuh/138.avi | Frames: 14 | Person detections: 2\n"
          ]
        },
        {
          "output_type": "stream",
          "name": "stderr",
          "text": [
            "\rnonJatuh:  46%|████▌     | 312/677 [02:52<01:54,  3.18it/s]"
          ]
        },
        {
          "output_type": "stream",
          "name": "stdout",
          "text": [
            "[312/1352] nonJatuh/122.avi | Frames: 30 | Person detections: 3\n"
          ]
        },
        {
          "output_type": "stream",
          "name": "stderr",
          "text": [
            "\rnonJatuh:  46%|████▌     | 313/677 [02:52<02:01,  3.00it/s]"
          ]
        },
        {
          "output_type": "stream",
          "name": "stdout",
          "text": [
            "[313/1352] nonJatuh/video_0.avi | Frames: 34 | Person detections: 34\n"
          ]
        },
        {
          "output_type": "stream",
          "name": "stderr",
          "text": [
            "\rnonJatuh:  46%|████▋     | 314/677 [02:52<02:04,  2.93it/s]"
          ]
        },
        {
          "output_type": "stream",
          "name": "stdout",
          "text": [
            "[314/1352] nonJatuh/131.avi | Frames: 30 | Person detections: 8\n"
          ]
        },
        {
          "output_type": "stream",
          "name": "stderr",
          "text": [
            "\rnonJatuh:  47%|████▋     | 315/677 [02:53<02:02,  2.97it/s]"
          ]
        },
        {
          "output_type": "stream",
          "name": "stdout",
          "text": [
            "[315/1352] nonJatuh/video_10.avi | Frames: 30 | Person detections: 30\n"
          ]
        },
        {
          "output_type": "stream",
          "name": "stderr",
          "text": [
            "\rnonJatuh:  47%|████▋     | 316/677 [02:53<02:02,  2.95it/s]"
          ]
        },
        {
          "output_type": "stream",
          "name": "stdout",
          "text": [
            "[316/1352] nonJatuh/129.avi | Frames: 31 | Person detections: 31\n"
          ]
        },
        {
          "output_type": "stream",
          "name": "stderr",
          "text": [
            "\rnonJatuh:  47%|████▋     | 317/677 [02:53<02:02,  2.93it/s]"
          ]
        },
        {
          "output_type": "stream",
          "name": "stdout",
          "text": [
            "[317/1352] nonJatuh/126.avi | Frames: 30 | Person detections: 0\n"
          ]
        },
        {
          "output_type": "stream",
          "name": "stderr",
          "text": [
            "\rnonJatuh:  47%|████▋     | 318/677 [02:56<05:35,  1.07it/s]"
          ]
        },
        {
          "output_type": "stream",
          "name": "stdout",
          "text": [
            "[318/1352] nonJatuh/152.avi | Frames: 217 | Person detections: 210\n"
          ]
        },
        {
          "output_type": "stream",
          "name": "stderr",
          "text": [
            "\rnonJatuh:  47%|████▋     | 319/677 [02:56<04:31,  1.32it/s]"
          ]
        },
        {
          "output_type": "stream",
          "name": "stdout",
          "text": [
            "[319/1352] nonJatuh/109.avi | Frames: 30 | Person detections: 8\n"
          ]
        },
        {
          "output_type": "stream",
          "name": "stderr",
          "text": [
            "\rnonJatuh:  47%|████▋     | 320/677 [02:57<03:54,  1.52it/s]"
          ]
        },
        {
          "output_type": "stream",
          "name": "stdout",
          "text": [
            "[320/1352] nonJatuh/148.avi | Frames: 25 | Person detections: 25\n"
          ]
        },
        {
          "output_type": "stream",
          "name": "stderr",
          "text": [
            "\rnonJatuh:  47%|████▋     | 321/677 [02:57<03:17,  1.80it/s]"
          ]
        },
        {
          "output_type": "stream",
          "name": "stdout",
          "text": [
            "[321/1352] nonJatuh/83.avi | Frames: 21 | Person detections: 21\n"
          ]
        },
        {
          "output_type": "stream",
          "name": "stderr",
          "text": [
            "\rnonJatuh:  48%|████▊     | 322/677 [02:57<02:55,  2.03it/s]"
          ]
        },
        {
          "output_type": "stream",
          "name": "stdout",
          "text": [
            "[322/1352] nonJatuh/142.avi | Frames: 21 | Person detections: 21\n"
          ]
        },
        {
          "output_type": "stream",
          "name": "stderr",
          "text": [
            "\rnonJatuh:  48%|████▊     | 323/677 [02:58<03:13,  1.83it/s]"
          ]
        },
        {
          "output_type": "stream",
          "name": "stdout",
          "text": [
            "[323/1352] nonJatuh/87.avi | Frames: 42 | Person detections: 41\n"
          ]
        },
        {
          "output_type": "stream",
          "name": "stderr",
          "text": [
            "\rnonJatuh:  48%|████▊     | 324/677 [02:59<04:24,  1.33it/s]"
          ]
        },
        {
          "output_type": "stream",
          "name": "stdout",
          "text": [
            "[324/1352] nonJatuh/90.avi | Frames: 74 | Person detections: 74\n",
            "[325/1352] nonJatuh/137.avi | Frames: 2 | Person detections: 2\n"
          ]
        },
        {
          "output_type": "stream",
          "name": "stderr",
          "text": [
            "\rnonJatuh:  48%|████▊     | 326/677 [03:00<03:00,  1.94it/s]"
          ]
        },
        {
          "output_type": "stream",
          "name": "stdout",
          "text": [
            "[326/1352] nonJatuh/99.avi | Frames: 30 | Person detections: 0\n"
          ]
        },
        {
          "output_type": "stream",
          "name": "stderr",
          "text": [
            "\rnonJatuh:  48%|████▊     | 327/677 [03:00<02:48,  2.08it/s]"
          ]
        },
        {
          "output_type": "stream",
          "name": "stdout",
          "text": [
            "[327/1352] nonJatuh/108.avi | Frames: 30 | Person detections: 0\n"
          ]
        },
        {
          "output_type": "stream",
          "name": "stderr",
          "text": [
            "\rnonJatuh:  48%|████▊     | 328/677 [03:00<02:37,  2.22it/s]"
          ]
        },
        {
          "output_type": "stream",
          "name": "stdout",
          "text": [
            "[328/1352] nonJatuh/113.avi | Frames: 32 | Person detections: 32\n",
            "[329/1352] nonJatuh/141.avi | Frames: 1 | Person detections: 1\n"
          ]
        },
        {
          "output_type": "stream",
          "name": "stderr",
          "text": [
            "\rnonJatuh:  49%|████▊     | 330/677 [03:01<01:55,  2.99it/s]"
          ]
        },
        {
          "output_type": "stream",
          "name": "stdout",
          "text": [
            "[330/1352] nonJatuh/123.avi | Frames: 30 | Person detections: 0\n"
          ]
        },
        {
          "output_type": "stream",
          "name": "stderr",
          "text": [
            "\rnonJatuh:  49%|████▉     | 331/677 [03:01<01:57,  2.95it/s]"
          ]
        },
        {
          "output_type": "stream",
          "name": "stdout",
          "text": [
            "[331/1352] nonJatuh/94.avi | Frames: 30 | Person detections: 4\n"
          ]
        },
        {
          "output_type": "stream",
          "name": "stderr",
          "text": [
            "\rnonJatuh:  49%|████▉     | 332/677 [03:01<01:58,  2.91it/s]"
          ]
        },
        {
          "output_type": "stream",
          "name": "stdout",
          "text": [
            "[332/1352] nonJatuh/111.avi | Frames: 30 | Person detections: 30\n"
          ]
        },
        {
          "output_type": "stream",
          "name": "stderr",
          "text": [
            "\rnonJatuh:  49%|████▉     | 333/677 [03:02<01:59,  2.88it/s]"
          ]
        },
        {
          "output_type": "stream",
          "name": "stdout",
          "text": [
            "[333/1352] nonJatuh/130.avi | Frames: 30 | Person detections: 14\n"
          ]
        },
        {
          "output_type": "stream",
          "name": "stderr",
          "text": [
            "\rnonJatuh:  49%|████▉     | 334/677 [03:02<02:01,  2.83it/s]"
          ]
        },
        {
          "output_type": "stream",
          "name": "stdout",
          "text": [
            "[334/1352] nonJatuh/107.avi | Frames: 30 | Person detections: 24\n"
          ]
        },
        {
          "output_type": "stream",
          "name": "stderr",
          "text": [
            "\rnonJatuh:  49%|████▉     | 335/677 [03:02<01:50,  3.11it/s]"
          ]
        },
        {
          "output_type": "stream",
          "name": "stdout",
          "text": [
            "[335/1352] nonJatuh/143.avi | Frames: 21 | Person detections: 21\n"
          ]
        },
        {
          "output_type": "stream",
          "name": "stderr",
          "text": [
            "\rnonJatuh:  50%|████▉     | 336/677 [03:03<01:51,  3.07it/s]"
          ]
        },
        {
          "output_type": "stream",
          "name": "stdout",
          "text": [
            "[336/1352] nonJatuh/98.avi | Frames: 30 | Person detections: 30\n"
          ]
        },
        {
          "output_type": "stream",
          "name": "stderr",
          "text": [
            "nonJatuh:  50%|████▉     | 338/677 [03:03<01:35,  3.53it/s]"
          ]
        },
        {
          "output_type": "stream",
          "name": "stdout",
          "text": [
            "[337/1352] nonJatuh/119.avi | Frames: 30 | Person detections: 8\n",
            "[338/1352] nonJatuh/video_100.avi | Frames: 14 | Person detections: 14\n"
          ]
        },
        {
          "output_type": "stream",
          "name": "stderr",
          "text": [
            "\rnonJatuh:  50%|█████     | 339/677 [03:04<01:42,  3.29it/s]"
          ]
        },
        {
          "output_type": "stream",
          "name": "stdout",
          "text": [
            "[339/1352] nonJatuh/120.avi | Frames: 30 | Person detections: 19\n"
          ]
        },
        {
          "output_type": "stream",
          "name": "stderr",
          "text": [
            "\rnonJatuh:  50%|█████     | 340/677 [03:04<01:47,  3.13it/s]"
          ]
        },
        {
          "output_type": "stream",
          "name": "stdout",
          "text": [
            "[340/1352] nonJatuh/96.avi | Frames: 30 | Person detections: 0\n"
          ]
        },
        {
          "output_type": "stream",
          "name": "stderr",
          "text": [
            "\rnonJatuh:  50%|█████     | 341/677 [03:04<01:48,  3.08it/s]"
          ]
        },
        {
          "output_type": "stream",
          "name": "stdout",
          "text": [
            "[341/1352] nonJatuh/105.avi | Frames: 30 | Person detections: 7\n",
            "[342/1352] nonJatuh/140.avi | Frames: 1 | Person detections: 1\n"
          ]
        },
        {
          "output_type": "stream",
          "name": "stderr",
          "text": [
            "\rnonJatuh:  51%|█████     | 343/677 [03:05<01:26,  3.88it/s]"
          ]
        },
        {
          "output_type": "stream",
          "name": "stdout",
          "text": [
            "[343/1352] nonJatuh/124.avi | Frames: 30 | Person detections: 2\n"
          ]
        },
        {
          "output_type": "stream",
          "name": "stderr",
          "text": [
            "\rnonJatuh:  51%|█████     | 344/677 [03:05<01:24,  3.92it/s]"
          ]
        },
        {
          "output_type": "stream",
          "name": "stdout",
          "text": [
            "[344/1352] nonJatuh/video_1.avi | Frames: 21 | Person detections: 21\n"
          ]
        },
        {
          "output_type": "stream",
          "name": "stderr",
          "text": [
            "\rnonJatuh:  51%|█████     | 345/677 [03:05<01:34,  3.53it/s]"
          ]
        },
        {
          "output_type": "stream",
          "name": "stdout",
          "text": [
            "[345/1352] nonJatuh/95.avi | Frames: 30 | Person detections: 0\n"
          ]
        },
        {
          "output_type": "stream",
          "name": "stderr",
          "text": [
            "\rnonJatuh:  51%|█████     | 346/677 [03:06<01:39,  3.32it/s]"
          ]
        },
        {
          "output_type": "stream",
          "name": "stdout",
          "text": [
            "[346/1352] nonJatuh/97.avi | Frames: 30 | Person detections: 10\n"
          ]
        },
        {
          "output_type": "stream",
          "name": "stderr",
          "text": [
            "\rnonJatuh:  51%|█████▏    | 347/677 [03:06<01:38,  3.36it/s]"
          ]
        },
        {
          "output_type": "stream",
          "name": "stdout",
          "text": [
            "[347/1352] nonJatuh/145.avi | Frames: 25 | Person detections: 25\n"
          ]
        },
        {
          "output_type": "stream",
          "name": "stderr",
          "text": [
            "\rnonJatuh:  51%|█████▏    | 348/677 [03:06<01:45,  3.12it/s]"
          ]
        },
        {
          "output_type": "stream",
          "name": "stdout",
          "text": [
            "[348/1352] nonJatuh/127.avi | Frames: 30 | Person detections: 11\n"
          ]
        },
        {
          "output_type": "stream",
          "name": "stderr",
          "text": [
            "\rnonJatuh:  52%|█████▏    | 349/677 [03:07<01:41,  3.23it/s]"
          ]
        },
        {
          "output_type": "stream",
          "name": "stdout",
          "text": [
            "[349/1352] nonJatuh/149.avi | Frames: 25 | Person detections: 25\n"
          ]
        },
        {
          "output_type": "stream",
          "name": "stderr",
          "text": [
            "\rnonJatuh:  52%|█████▏    | 350/677 [03:07<01:44,  3.12it/s]"
          ]
        },
        {
          "output_type": "stream",
          "name": "stdout",
          "text": [
            "[350/1352] nonJatuh/114.avi | Frames: 31 | Person detections: 31\n",
            "===> Batch 6 disimpan (size 50)\n",
            "[351/1352] nonJatuh/136.avi | Frames: 1 | Person detections: 1\n"
          ]
        },
        {
          "output_type": "stream",
          "name": "stderr",
          "text": [
            "\rnonJatuh:  52%|█████▏    | 352/677 [03:09<03:51,  1.40it/s]"
          ]
        },
        {
          "output_type": "stream",
          "name": "stdout",
          "text": [
            "[352/1352] nonJatuh/151.avi | Frames: 217 | Person detections: 211\n"
          ]
        },
        {
          "output_type": "stream",
          "name": "stderr",
          "text": [
            "\rnonJatuh:  52%|█████▏    | 353/677 [03:10<03:32,  1.52it/s]"
          ]
        },
        {
          "output_type": "stream",
          "name": "stdout",
          "text": [
            "[353/1352] nonJatuh/92.avi | Frames: 30 | Person detections: 0\n"
          ]
        },
        {
          "output_type": "stream",
          "name": "stderr",
          "text": [
            "\rnonJatuh:  52%|█████▏    | 354/677 [03:10<02:55,  1.84it/s]"
          ]
        },
        {
          "output_type": "stream",
          "name": "stdout",
          "text": [
            "[354/1352] nonJatuh/85.avi | Frames: 14 | Person detections: 14\n"
          ]
        },
        {
          "output_type": "stream",
          "name": "stderr",
          "text": [
            "\rnonJatuh:  52%|█████▏    | 355/677 [03:11<03:23,  1.58it/s]"
          ]
        },
        {
          "output_type": "stream",
          "name": "stdout",
          "text": [
            "[355/1352] nonJatuh/88.avi | Frames: 53 | Person detections: 49\n"
          ]
        },
        {
          "output_type": "stream",
          "name": "stderr",
          "text": [
            "\rnonJatuh:  53%|█████▎    | 356/677 [03:17<11:44,  2.20s/it]"
          ]
        },
        {
          "output_type": "stream",
          "name": "stdout",
          "text": [
            "[356/1352] nonJatuh/150.avi | Frames: 517 | Person detections: 517\n"
          ]
        },
        {
          "output_type": "stream",
          "name": "stderr",
          "text": [
            "\rnonJatuh:  53%|█████▎    | 357/677 [03:19<11:14,  2.11s/it]"
          ]
        },
        {
          "output_type": "stream",
          "name": "stdout",
          "text": [
            "[357/1352] nonJatuh/144.avi | Frames: 166 | Person detections: 166\n",
            "[358/1352] nonJatuh/135.avi | Frames: 1 | Person detections: 0\n"
          ]
        },
        {
          "output_type": "stream",
          "name": "stderr",
          "text": [
            "\rnonJatuh:  53%|█████▎    | 359/677 [03:19<06:35,  1.24s/it]"
          ]
        },
        {
          "output_type": "stream",
          "name": "stdout",
          "text": [
            "[359/1352] nonJatuh/132.avi | Frames: 30 | Person detections: 9\n"
          ]
        },
        {
          "output_type": "stream",
          "name": "stderr",
          "text": [
            "\rnonJatuh:  53%|█████▎    | 360/677 [03:20<05:26,  1.03s/it]"
          ]
        },
        {
          "output_type": "stream",
          "name": "stdout",
          "text": [
            "[360/1352] nonJatuh/84.avi | Frames: 30 | Person detections: 30\n",
            "[361/1352] nonJatuh/139.avi | Frames: 2 | Person detections: 1\n"
          ]
        },
        {
          "output_type": "stream",
          "name": "stderr",
          "text": [
            "\rnonJatuh:  53%|█████▎    | 362/677 [03:20<03:35,  1.46it/s]"
          ]
        },
        {
          "output_type": "stream",
          "name": "stdout",
          "text": [
            "[362/1352] nonJatuh/93.avi | Frames: 30 | Person detections: 0\n"
          ]
        },
        {
          "output_type": "stream",
          "name": "stderr",
          "text": [
            "\rnonJatuh:  54%|█████▎    | 363/677 [03:20<03:11,  1.64it/s]"
          ]
        },
        {
          "output_type": "stream",
          "name": "stdout",
          "text": [
            "[363/1352] nonJatuh/115.avi | Frames: 30 | Person detections: 21\n"
          ]
        },
        {
          "output_type": "stream",
          "name": "stderr",
          "text": [
            "\rnonJatuh:  54%|█████▍    | 364/677 [03:21<02:54,  1.79it/s]"
          ]
        },
        {
          "output_type": "stream",
          "name": "stdout",
          "text": [
            "[364/1352] nonJatuh/103.avi | Frames: 30 | Person detections: 0\n"
          ]
        },
        {
          "output_type": "stream",
          "name": "stderr",
          "text": [
            "\rnonJatuh:  54%|█████▍    | 365/677 [03:21<02:36,  1.99it/s]"
          ]
        },
        {
          "output_type": "stream",
          "name": "stdout",
          "text": [
            "[365/1352] nonJatuh/133.avi | Frames: 30 | Person detections: 5\n"
          ]
        },
        {
          "output_type": "stream",
          "name": "stderr",
          "text": [
            "\rnonJatuh:  54%|█████▍    | 366/677 [03:22<02:44,  1.89it/s]"
          ]
        },
        {
          "output_type": "stream",
          "name": "stdout",
          "text": [
            "[366/1352] nonJatuh/89.avi | Frames: 53 | Person detections: 45\n"
          ]
        },
        {
          "output_type": "stream",
          "name": "stderr",
          "text": [
            "\rnonJatuh:  54%|█████▍    | 367/677 [03:22<02:29,  2.08it/s]"
          ]
        },
        {
          "output_type": "stream",
          "name": "stdout",
          "text": [
            "[367/1352] nonJatuh/116.avi | Frames: 30 | Person detections: 20\n"
          ]
        },
        {
          "output_type": "stream",
          "name": "stderr",
          "text": [
            "\rnonJatuh:  54%|█████▍    | 368/677 [03:24<04:50,  1.06it/s]"
          ]
        },
        {
          "output_type": "stream",
          "name": "stdout",
          "text": [
            "[368/1352] nonJatuh/147.avi | Frames: 144 | Person detections: 144\n",
            "[369/1352] nonJatuh/134.avi | Frames: 1 | Person detections: 0\n"
          ]
        },
        {
          "output_type": "stream",
          "name": "stderr",
          "text": [
            "\rnonJatuh:  55%|█████▍    | 370/677 [03:24<02:56,  1.74it/s]"
          ]
        },
        {
          "output_type": "stream",
          "name": "stdout",
          "text": [
            "[370/1352] nonJatuh/86.avi | Frames: 14 | Person detections: 14\n"
          ]
        },
        {
          "output_type": "stream",
          "name": "stderr",
          "text": [
            "\rnonJatuh:  55%|█████▍    | 371/677 [03:26<03:44,  1.37it/s]"
          ]
        },
        {
          "output_type": "stream",
          "name": "stdout",
          "text": [
            "[371/1352] nonJatuh/91.avi | Frames: 74 | Person detections: 74\n"
          ]
        },
        {
          "output_type": "stream",
          "name": "stderr",
          "text": [
            "\rnonJatuh:  55%|█████▍    | 372/677 [03:26<03:17,  1.55it/s]"
          ]
        },
        {
          "output_type": "stream",
          "name": "stdout",
          "text": [
            "[372/1352] nonJatuh/106.avi | Frames: 30 | Person detections: 9\n"
          ]
        },
        {
          "output_type": "stream",
          "name": "stderr",
          "text": [
            "\rnonJatuh:  55%|█████▌    | 373/677 [03:26<02:51,  1.78it/s]"
          ]
        },
        {
          "output_type": "stream",
          "name": "stdout",
          "text": [
            "[373/1352] nonJatuh/125.avi | Frames: 30 | Person detections: 0\n"
          ]
        },
        {
          "output_type": "stream",
          "name": "stderr",
          "text": [
            "\rnonJatuh:  55%|█████▌    | 374/677 [03:27<02:33,  1.97it/s]"
          ]
        },
        {
          "output_type": "stream",
          "name": "stdout",
          "text": [
            "[374/1352] nonJatuh/110.avi | Frames: 30 | Person detections: 30\n"
          ]
        },
        {
          "output_type": "stream",
          "name": "stderr",
          "text": [
            "\rnonJatuh:  55%|█████▌    | 375/677 [03:27<02:24,  2.09it/s]"
          ]
        },
        {
          "output_type": "stream",
          "name": "stdout",
          "text": [
            "[375/1352] nonJatuh/146.avi | Frames: 34 | Person detections: 34\n"
          ]
        },
        {
          "output_type": "stream",
          "name": "stderr",
          "text": [
            "\rnonJatuh:  56%|█████▌    | 376/677 [03:28<02:13,  2.25it/s]"
          ]
        },
        {
          "output_type": "stream",
          "name": "stdout",
          "text": [
            "[376/1352] nonJatuh/112.avi | Frames: 30 | Person detections: 30\n"
          ]
        },
        {
          "output_type": "stream",
          "name": "stderr",
          "text": [
            "\rnonJatuh:  56%|█████▌    | 377/677 [03:28<02:35,  1.93it/s]"
          ]
        },
        {
          "output_type": "stream",
          "name": "stdout",
          "text": [
            "[377/1352] nonJatuh/184.avi | Frames: 55 | Person detections: 55\n"
          ]
        },
        {
          "output_type": "stream",
          "name": "stderr",
          "text": [
            "\rnonJatuh:  56%|█████▌    | 378/677 [03:29<02:48,  1.78it/s]"
          ]
        },
        {
          "output_type": "stream",
          "name": "stdout",
          "text": [
            "[378/1352] nonJatuh/175.avi | Frames: 59 | Person detections: 59\n"
          ]
        },
        {
          "output_type": "stream",
          "name": "stderr",
          "text": [
            "\rnonJatuh:  56%|█████▌    | 379/677 [03:30<04:03,  1.23it/s]"
          ]
        },
        {
          "output_type": "stream",
          "name": "stdout",
          "text": [
            "[379/1352] nonJatuh/154.avi | Frames: 124 | Person detections: 124\n"
          ]
        },
        {
          "output_type": "stream",
          "name": "stderr",
          "text": [
            "\rnonJatuh:  56%|█████▌    | 380/677 [03:32<05:38,  1.14s/it]"
          ]
        },
        {
          "output_type": "stream",
          "name": "stdout",
          "text": [
            "[380/1352] nonJatuh/170.avi | Frames: 148 | Person detections: 148\n"
          ]
        },
        {
          "output_type": "stream",
          "name": "stderr",
          "text": [
            "\rnonJatuh:  56%|█████▋    | 381/677 [03:33<04:44,  1.04it/s]"
          ]
        },
        {
          "output_type": "stream",
          "name": "stdout",
          "text": [
            "[381/1352] nonJatuh/181.avi | Frames: 42 | Person detections: 42\n"
          ]
        },
        {
          "output_type": "stream",
          "name": "stderr",
          "text": [
            "\rnonJatuh:  56%|█████▋    | 382/677 [03:34<04:25,  1.11it/s]"
          ]
        },
        {
          "output_type": "stream",
          "name": "stdout",
          "text": [
            "[382/1352] nonJatuh/177.avi | Frames: 59 | Person detections: 59\n"
          ]
        },
        {
          "output_type": "stream",
          "name": "stderr",
          "text": [
            "\rnonJatuh:  57%|█████▋    | 383/677 [03:34<03:30,  1.40it/s]"
          ]
        },
        {
          "output_type": "stream",
          "name": "stdout",
          "text": [
            "[383/1352] nonJatuh/160.avi | Frames: 25 | Person detections: 25\n"
          ]
        },
        {
          "output_type": "stream",
          "name": "stderr",
          "text": [
            "\rnonJatuh:  57%|█████▋    | 384/677 [03:34<03:14,  1.50it/s]"
          ]
        },
        {
          "output_type": "stream",
          "name": "stdout",
          "text": [
            "[384/1352] nonJatuh/180.avi | Frames: 42 | Person detections: 42\n"
          ]
        },
        {
          "output_type": "stream",
          "name": "stderr",
          "text": [
            "\rnonJatuh:  57%|█████▋    | 385/677 [03:35<02:38,  1.85it/s]"
          ]
        },
        {
          "output_type": "stream",
          "name": "stdout",
          "text": [
            "[385/1352] nonJatuh/166.avi | Frames: 19 | Person detections: 19\n"
          ]
        },
        {
          "output_type": "stream",
          "name": "stderr",
          "text": [
            "\rnonJatuh:  57%|█████▋    | 386/677 [03:38<06:50,  1.41s/it]"
          ]
        },
        {
          "output_type": "stream",
          "name": "stdout",
          "text": [
            "[386/1352] nonJatuh/155.avi | Frames: 249 | Person detections: 249\n"
          ]
        },
        {
          "output_type": "stream",
          "name": "stderr",
          "text": [
            "\rnonJatuh:  57%|█████▋    | 387/677 [03:39<05:31,  1.14s/it]"
          ]
        },
        {
          "output_type": "stream",
          "name": "stdout",
          "text": [
            "[387/1352] nonJatuh/169.avi | Frames: 25 | Person detections: 25\n"
          ]
        },
        {
          "output_type": "stream",
          "name": "stderr",
          "text": [
            "\rnonJatuh:  57%|█████▋    | 388/677 [03:40<05:45,  1.20s/it]"
          ]
        },
        {
          "output_type": "stream",
          "name": "stdout",
          "text": [
            "[388/1352] nonJatuh/182.avi | Frames: 90 | Person detections: 90\n"
          ]
        },
        {
          "output_type": "stream",
          "name": "stderr",
          "text": [
            "\rnonJatuh:  57%|█████▋    | 389/677 [03:41<05:38,  1.17s/it]"
          ]
        },
        {
          "output_type": "stream",
          "name": "stdout",
          "text": [
            "[389/1352] nonJatuh/183.avi | Frames: 90 | Person detections: 90\n"
          ]
        },
        {
          "output_type": "stream",
          "name": "stderr",
          "text": [
            "\rnonJatuh:  58%|█████▊    | 390/677 [03:42<04:40,  1.02it/s]"
          ]
        },
        {
          "output_type": "stream",
          "name": "stdout",
          "text": [
            "[390/1352] nonJatuh/174.avi | Frames: 46 | Person detections: 46\n"
          ]
        },
        {
          "output_type": "stream",
          "name": "stderr",
          "text": [
            "\rnonJatuh:  58%|█████▊    | 391/677 [03:42<04:30,  1.06it/s]"
          ]
        },
        {
          "output_type": "stream",
          "name": "stdout",
          "text": [
            "[391/1352] nonJatuh/157.avi | Frames: 67 | Person detections: 67\n"
          ]
        },
        {
          "output_type": "stream",
          "name": "stderr",
          "text": [
            "\rnonJatuh:  58%|█████▊    | 392/677 [03:43<04:15,  1.12it/s]"
          ]
        },
        {
          "output_type": "stream",
          "name": "stdout",
          "text": [
            "[392/1352] nonJatuh/179.avi | Frames: 59 | Person detections: 59\n"
          ]
        },
        {
          "output_type": "stream",
          "name": "stderr",
          "text": [
            "\rnonJatuh:  58%|█████▊    | 393/677 [03:44<03:35,  1.31it/s]"
          ]
        },
        {
          "output_type": "stream",
          "name": "stdout",
          "text": [
            "[393/1352] nonJatuh/163.avi | Frames: 36 | Person detections: 36\n"
          ]
        },
        {
          "output_type": "stream",
          "name": "stderr",
          "text": [
            "\rnonJatuh:  58%|█████▊    | 394/677 [03:44<03:42,  1.27it/s]"
          ]
        },
        {
          "output_type": "stream",
          "name": "stdout",
          "text": [
            "[394/1352] nonJatuh/158.avi | Frames: 67 | Person detections: 67\n"
          ]
        },
        {
          "output_type": "stream",
          "name": "stderr",
          "text": [
            "\rnonJatuh:  58%|█████▊    | 395/677 [03:45<03:09,  1.49it/s]"
          ]
        },
        {
          "output_type": "stream",
          "name": "stdout",
          "text": [
            "[395/1352] nonJatuh/173.avi | Frames: 32 | Person detections: 32\n"
          ]
        },
        {
          "output_type": "stream",
          "name": "stderr",
          "text": [
            "\rnonJatuh:  58%|█████▊    | 396/677 [03:49<07:38,  1.63s/it]"
          ]
        },
        {
          "output_type": "stream",
          "name": "stdout",
          "text": [
            "[396/1352] nonJatuh/156.avi | Frames: 351 | Person detections: 341\n"
          ]
        },
        {
          "output_type": "stream",
          "name": "stderr",
          "text": [
            "\rnonJatuh:  59%|█████▊    | 397/677 [03:49<05:42,  1.22s/it]"
          ]
        },
        {
          "output_type": "stream",
          "name": "stdout",
          "text": [
            "[397/1352] nonJatuh/167.avi | Frames: 19 | Person detections: 19\n"
          ]
        },
        {
          "output_type": "stream",
          "name": "stderr",
          "text": [
            "\rnonJatuh:  59%|█████▉    | 398/677 [03:50<04:49,  1.04s/it]"
          ]
        },
        {
          "output_type": "stream",
          "name": "stdout",
          "text": [
            "[398/1352] nonJatuh/172.avi | Frames: 32 | Person detections: 32\n"
          ]
        },
        {
          "output_type": "stream",
          "name": "stderr",
          "text": [
            "\rnonJatuh:  59%|█████▉    | 399/677 [03:52<07:03,  1.52s/it]"
          ]
        },
        {
          "output_type": "stream",
          "name": "stdout",
          "text": [
            "[399/1352] nonJatuh/171.avi | Frames: 148 | Person detections: 148\n"
          ]
        },
        {
          "output_type": "stream",
          "name": "stderr",
          "text": [
            "\rnonJatuh:  59%|█████▉    | 400/677 [03:54<06:53,  1.49s/it]"
          ]
        },
        {
          "output_type": "stream",
          "name": "stdout",
          "text": [
            "[400/1352] nonJatuh/185.avi | Frames: 107 | Person detections: 107\n",
            "===> Batch 7 disimpan (size 50)\n"
          ]
        },
        {
          "output_type": "stream",
          "name": "stderr",
          "text": [
            "\rnonJatuh:  59%|█████▉    | 401/677 [03:54<05:48,  1.26s/it]"
          ]
        },
        {
          "output_type": "stream",
          "name": "stdout",
          "text": [
            "[401/1352] nonJatuh/178.avi | Frames: 59 | Person detections: 59\n"
          ]
        },
        {
          "output_type": "stream",
          "name": "stderr",
          "text": [
            "\rnonJatuh:  59%|█████▉    | 402/677 [03:55<04:37,  1.01s/it]"
          ]
        },
        {
          "output_type": "stream",
          "name": "stdout",
          "text": [
            "[402/1352] nonJatuh/164.avi | Frames: 32 | Person detections: 32\n"
          ]
        },
        {
          "output_type": "stream",
          "name": "stderr",
          "text": [
            "\rnonJatuh:  60%|█████▉    | 403/677 [03:56<04:27,  1.03it/s]"
          ]
        },
        {
          "output_type": "stream",
          "name": "stdout",
          "text": [
            "[403/1352] nonJatuh/159.avi | Frames: 72 | Person detections: 72\n"
          ]
        },
        {
          "output_type": "stream",
          "name": "stderr",
          "text": [
            "\rnonJatuh:  60%|█████▉    | 404/677 [03:56<04:07,  1.11it/s]"
          ]
        },
        {
          "output_type": "stream",
          "name": "stdout",
          "text": [
            "[404/1352] nonJatuh/161.avi | Frames: 62 | Person detections: 62\n"
          ]
        },
        {
          "output_type": "stream",
          "name": "stderr",
          "text": [
            "\rnonJatuh:  60%|█████▉    | 405/677 [03:58<04:46,  1.06s/it]"
          ]
        },
        {
          "output_type": "stream",
          "name": "stdout",
          "text": [
            "[405/1352] nonJatuh/153.avi | Frames: 124 | Person detections: 124\n"
          ]
        },
        {
          "output_type": "stream",
          "name": "stderr",
          "text": [
            "\rnonJatuh:  60%|█████▉    | 406/677 [03:59<05:25,  1.20s/it]"
          ]
        },
        {
          "output_type": "stream",
          "name": "stdout",
          "text": [
            "[406/1352] nonJatuh/162.avi | Frames: 125 | Person detections: 125\n"
          ]
        },
        {
          "output_type": "stream",
          "name": "stderr",
          "text": [
            "\rnonJatuh:  60%|██████    | 407/677 [04:00<04:53,  1.09s/it]"
          ]
        },
        {
          "output_type": "stream",
          "name": "stdout",
          "text": [
            "[407/1352] nonJatuh/176.avi | Frames: 64 | Person detections: 64\n"
          ]
        },
        {
          "output_type": "stream",
          "name": "stderr",
          "text": [
            "\rnonJatuh:  60%|██████    | 408/677 [04:01<03:51,  1.16it/s]"
          ]
        },
        {
          "output_type": "stream",
          "name": "stdout",
          "text": [
            "[408/1352] nonJatuh/168.avi | Frames: 25 | Person detections: 25\n"
          ]
        },
        {
          "output_type": "stream",
          "name": "stderr",
          "text": [
            "\rnonJatuh:  60%|██████    | 409/677 [04:01<02:59,  1.49it/s]"
          ]
        },
        {
          "output_type": "stream",
          "name": "stdout",
          "text": [
            "[409/1352] nonJatuh/165.avi | Frames: 16 | Person detections: 16\n"
          ]
        },
        {
          "output_type": "stream",
          "name": "stderr",
          "text": [
            "\rnonJatuh:  61%|██████    | 410/677 [04:02<03:01,  1.47it/s]"
          ]
        },
        {
          "output_type": "stream",
          "name": "stdout",
          "text": [
            "[410/1352] nonJatuh/188.avi | Frames: 55 | Person detections: 55\n"
          ]
        },
        {
          "output_type": "stream",
          "name": "stderr",
          "text": [
            "\rnonJatuh:  61%|██████    | 411/677 [04:03<03:39,  1.21it/s]"
          ]
        },
        {
          "output_type": "stream",
          "name": "stdout",
          "text": [
            "[411/1352] nonJatuh/203.avi | Frames: 85 | Person detections: 85\n"
          ]
        },
        {
          "output_type": "stream",
          "name": "stderr",
          "text": [
            "\rnonJatuh:  61%|██████    | 412/677 [04:03<03:22,  1.31it/s]"
          ]
        },
        {
          "output_type": "stream",
          "name": "stdout",
          "text": [
            "[412/1352] nonJatuh/215.avi | Frames: 32 | Person detections: 32\n"
          ]
        },
        {
          "output_type": "stream",
          "name": "stderr",
          "text": [
            "\rnonJatuh:  61%|██████    | 413/677 [04:04<02:49,  1.56it/s]"
          ]
        },
        {
          "output_type": "stream",
          "name": "stdout",
          "text": [
            "[413/1352] nonJatuh/191.avi | Frames: 20 | Person detections: 20\n"
          ]
        },
        {
          "output_type": "stream",
          "name": "stderr",
          "text": [
            "\rnonJatuh:  61%|██████    | 414/677 [04:04<02:51,  1.54it/s]"
          ]
        },
        {
          "output_type": "stream",
          "name": "stdout",
          "text": [
            "[414/1352] nonJatuh/195.avi | Frames: 34 | Person detections: 34\n"
          ]
        },
        {
          "output_type": "stream",
          "name": "stderr",
          "text": [
            "\rnonJatuh:  61%|██████▏   | 415/677 [04:05<03:01,  1.45it/s]"
          ]
        },
        {
          "output_type": "stream",
          "name": "stdout",
          "text": [
            "[415/1352] nonJatuh/211.avi | Frames: 43 | Person detections: 43\n"
          ]
        },
        {
          "output_type": "stream",
          "name": "stderr",
          "text": [
            "\rnonJatuh:  61%|██████▏   | 416/677 [04:07<04:05,  1.06it/s]"
          ]
        },
        {
          "output_type": "stream",
          "name": "stdout",
          "text": [
            "[416/1352] nonJatuh/198.avi | Frames: 94 | Person detections: 94\n"
          ]
        },
        {
          "output_type": "stream",
          "name": "stderr",
          "text": [
            "\rnonJatuh:  62%|██████▏   | 417/677 [04:07<03:45,  1.15it/s]"
          ]
        },
        {
          "output_type": "stream",
          "name": "stdout",
          "text": [
            "[417/1352] nonJatuh/213.avi | Frames: 53 | Person detections: 53\n"
          ]
        },
        {
          "output_type": "stream",
          "name": "stderr",
          "text": [
            "\rnonJatuh:  62%|██████▏   | 418/677 [04:08<03:02,  1.42it/s]"
          ]
        },
        {
          "output_type": "stream",
          "name": "stdout",
          "text": [
            "[418/1352] nonJatuh/207.avi | Frames: 27 | Person detections: 27\n"
          ]
        },
        {
          "output_type": "stream",
          "name": "stderr",
          "text": [
            "\rnonJatuh:  62%|██████▏   | 419/677 [04:09<03:50,  1.12it/s]"
          ]
        },
        {
          "output_type": "stream",
          "name": "stdout",
          "text": [
            "[419/1352] nonJatuh/186.avi | Frames: 107 | Person detections: 107\n"
          ]
        },
        {
          "output_type": "stream",
          "name": "stderr",
          "text": [
            "\rnonJatuh:  62%|██████▏   | 420/677 [04:10<03:31,  1.21it/s]"
          ]
        },
        {
          "output_type": "stream",
          "name": "stdout",
          "text": [
            "[420/1352] nonJatuh/205.avi | Frames: 52 | Person detections: 52\n"
          ]
        },
        {
          "output_type": "stream",
          "name": "stderr",
          "text": [
            "\rnonJatuh:  62%|██████▏   | 421/677 [04:10<03:19,  1.28it/s]"
          ]
        },
        {
          "output_type": "stream",
          "name": "stdout",
          "text": [
            "[421/1352] nonJatuh/190.avi | Frames: 59 | Person detections: 59\n"
          ]
        },
        {
          "output_type": "stream",
          "name": "stderr",
          "text": [
            "\rnonJatuh:  62%|██████▏   | 422/677 [04:11<02:40,  1.59it/s]"
          ]
        },
        {
          "output_type": "stream",
          "name": "stdout",
          "text": [
            "[422/1352] nonJatuh/196.avi | Frames: 21 | Person detections: 14\n"
          ]
        },
        {
          "output_type": "stream",
          "name": "stderr",
          "text": [
            "\rnonJatuh:  62%|██████▏   | 423/677 [04:11<02:23,  1.77it/s]"
          ]
        },
        {
          "output_type": "stream",
          "name": "stdout",
          "text": [
            "[423/1352] nonJatuh/214.avi | Frames: 32 | Person detections: 32\n"
          ]
        },
        {
          "output_type": "stream",
          "name": "stderr",
          "text": [
            "\rnonJatuh:  63%|██████▎   | 424/677 [04:12<03:08,  1.34it/s]"
          ]
        },
        {
          "output_type": "stream",
          "name": "stdout",
          "text": [
            "[424/1352] nonJatuh/197.avi | Frames: 94 | Person detections: 94\n"
          ]
        },
        {
          "output_type": "stream",
          "name": "stderr",
          "text": [
            "\rnonJatuh:  63%|██████▎   | 425/677 [04:13<03:03,  1.38it/s]"
          ]
        },
        {
          "output_type": "stream",
          "name": "stdout",
          "text": [
            "[425/1352] nonJatuh/212.avi | Frames: 53 | Person detections: 53\n"
          ]
        },
        {
          "output_type": "stream",
          "name": "stderr",
          "text": [
            "\rnonJatuh:  63%|██████▎   | 426/677 [04:14<03:14,  1.29it/s]"
          ]
        },
        {
          "output_type": "stream",
          "name": "stdout",
          "text": [
            "[426/1352] nonJatuh/201.avi | Frames: 69 | Person detections: 67\n"
          ]
        },
        {
          "output_type": "stream",
          "name": "stderr",
          "text": [
            "\rnonJatuh:  63%|██████▎   | 427/677 [04:14<03:03,  1.36it/s]"
          ]
        },
        {
          "output_type": "stream",
          "name": "stdout",
          "text": [
            "[427/1352] nonJatuh/206.avi | Frames: 50 | Person detections: 50\n"
          ]
        },
        {
          "output_type": "stream",
          "name": "stderr",
          "text": [
            "\rnonJatuh:  63%|██████▎   | 428/677 [04:15<02:55,  1.42it/s]"
          ]
        },
        {
          "output_type": "stream",
          "name": "stdout",
          "text": [
            "[428/1352] nonJatuh/200.avi | Frames: 49 | Person detections: 49\n"
          ]
        },
        {
          "output_type": "stream",
          "name": "stderr",
          "text": [
            "\rnonJatuh:  63%|██████▎   | 429/677 [04:16<02:49,  1.47it/s]"
          ]
        },
        {
          "output_type": "stream",
          "name": "stdout",
          "text": [
            "[429/1352] nonJatuh/199.avi | Frames: 49 | Person detections: 49\n"
          ]
        },
        {
          "output_type": "stream",
          "name": "stderr",
          "text": [
            "\rnonJatuh:  64%|██████▎   | 430/677 [04:16<02:50,  1.45it/s]"
          ]
        },
        {
          "output_type": "stream",
          "name": "stdout",
          "text": [
            "[430/1352] nonJatuh/210.avi | Frames: 43 | Person detections: 43\n"
          ]
        },
        {
          "output_type": "stream",
          "name": "stderr",
          "text": [
            "\rnonJatuh:  64%|██████▎   | 431/677 [04:17<03:09,  1.30it/s]"
          ]
        },
        {
          "output_type": "stream",
          "name": "stdout",
          "text": [
            "[431/1352] nonJatuh/204.avi | Frames: 52 | Person detections: 52\n"
          ]
        },
        {
          "output_type": "stream",
          "name": "stderr",
          "text": [
            "\rnonJatuh:  64%|██████▍   | 432/677 [04:18<03:19,  1.23it/s]"
          ]
        },
        {
          "output_type": "stream",
          "name": "stdout",
          "text": [
            "[432/1352] nonJatuh/216.avi | Frames: 53 | Person detections: 53\n"
          ]
        },
        {
          "output_type": "stream",
          "name": "stderr",
          "text": [
            "\rnonJatuh:  64%|██████▍   | 433/677 [04:19<03:34,  1.14it/s]"
          ]
        },
        {
          "output_type": "stream",
          "name": "stdout",
          "text": [
            "[433/1352] nonJatuh/217.avi | Frames: 53 | Person detections: 52\n"
          ]
        },
        {
          "output_type": "stream",
          "name": "stderr",
          "text": [
            "\rnonJatuh:  64%|██████▍   | 434/677 [04:20<02:50,  1.42it/s]"
          ]
        },
        {
          "output_type": "stream",
          "name": "stdout",
          "text": [
            "[434/1352] nonJatuh/208.avi | Frames: 22 | Person detections: 22\n"
          ]
        },
        {
          "output_type": "stream",
          "name": "stderr",
          "text": [
            "\rnonJatuh:  64%|██████▍   | 435/677 [04:21<03:16,  1.23it/s]"
          ]
        },
        {
          "output_type": "stream",
          "name": "stdout",
          "text": [
            "[435/1352] nonJatuh/202.avi | Frames: 85 | Person detections: 85\n"
          ]
        },
        {
          "output_type": "stream",
          "name": "stderr",
          "text": [
            "\rnonJatuh:  64%|██████▍   | 436/677 [04:22<03:49,  1.05it/s]"
          ]
        },
        {
          "output_type": "stream",
          "name": "stdout",
          "text": [
            "[436/1352] nonJatuh/193.avi | Frames: 103 | Person detections: 103\n"
          ]
        },
        {
          "output_type": "stream",
          "name": "stderr",
          "text": [
            "\rnonJatuh:  65%|██████▍   | 437/677 [04:22<03:01,  1.32it/s]"
          ]
        },
        {
          "output_type": "stream",
          "name": "stdout",
          "text": [
            "[437/1352] nonJatuh/209.avi | Frames: 22 | Person detections: 22\n"
          ]
        },
        {
          "output_type": "stream",
          "name": "stderr",
          "text": [
            "\rnonJatuh:  65%|██████▍   | 438/677 [04:23<03:38,  1.09it/s]"
          ]
        },
        {
          "output_type": "stream",
          "name": "stdout",
          "text": [
            "[438/1352] nonJatuh/192.avi | Frames: 103 | Person detections: 103\n"
          ]
        },
        {
          "output_type": "stream",
          "name": "stderr",
          "text": [
            "\rnonJatuh:  65%|██████▍   | 439/677 [04:24<03:02,  1.30it/s]"
          ]
        },
        {
          "output_type": "stream",
          "name": "stdout",
          "text": [
            "[439/1352] nonJatuh/187.avi | Frames: 34 | Person detections: 34\n"
          ]
        },
        {
          "output_type": "stream",
          "name": "stderr",
          "text": [
            "\rnonJatuh:  65%|██████▍   | 440/677 [04:24<02:39,  1.49it/s]"
          ]
        },
        {
          "output_type": "stream",
          "name": "stdout",
          "text": [
            "[440/1352] nonJatuh/194.avi | Frames: 34 | Person detections: 34\n"
          ]
        },
        {
          "output_type": "stream",
          "name": "stderr",
          "text": [
            "\rnonJatuh:  65%|██████▌   | 441/677 [04:25<02:38,  1.49it/s]"
          ]
        },
        {
          "output_type": "stream",
          "name": "stdout",
          "text": [
            "[441/1352] nonJatuh/189.avi | Frames: 55 | Person detections: 42\n"
          ]
        },
        {
          "output_type": "stream",
          "name": "stderr",
          "text": [
            "\rnonJatuh:  65%|██████▌   | 442/677 [04:27<04:13,  1.08s/it]"
          ]
        },
        {
          "output_type": "stream",
          "name": "stdout",
          "text": [
            "[442/1352] nonJatuh/222.avi | Frames: 165 | Person detections: 157\n"
          ]
        },
        {
          "output_type": "stream",
          "name": "stderr",
          "text": [
            "\rnonJatuh:  65%|██████▌   | 443/677 [04:27<03:15,  1.20it/s]"
          ]
        },
        {
          "output_type": "stream",
          "name": "stdout",
          "text": [
            "[443/1352] nonJatuh/242.avi | Frames: 20 | Person detections: 20\n"
          ]
        },
        {
          "output_type": "stream",
          "name": "stderr",
          "text": [
            "\rnonJatuh:  66%|██████▌   | 444/677 [04:28<02:49,  1.38it/s]"
          ]
        },
        {
          "output_type": "stream",
          "name": "stdout",
          "text": [
            "[444/1352] nonJatuh/220.avi | Frames: 39 | Person detections: 39\n"
          ]
        },
        {
          "output_type": "stream",
          "name": "stderr",
          "text": [
            "\rnonJatuh:  66%|██████▌   | 445/677 [04:28<02:18,  1.67it/s]"
          ]
        },
        {
          "output_type": "stream",
          "name": "stdout",
          "text": [
            "[445/1352] nonJatuh/227.avi | Frames: 23 | Person detections: 23\n"
          ]
        },
        {
          "output_type": "stream",
          "name": "stderr",
          "text": [
            "nonJatuh:  66%|██████▌   | 447/677 [04:29<01:34,  2.44it/s]"
          ]
        },
        {
          "output_type": "stream",
          "name": "stdout",
          "text": [
            "[446/1352] nonJatuh/239 (1).avi | Frames: 25 | Person detections: 25\n",
            "[447/1352] nonJatuh/234 (1).avi | Frames: 13 | Person detections: 13\n"
          ]
        },
        {
          "output_type": "stream",
          "name": "stderr",
          "text": [
            "\rnonJatuh:  66%|██████▌   | 448/677 [04:29<01:38,  2.33it/s]"
          ]
        },
        {
          "output_type": "stream",
          "name": "stdout",
          "text": [
            "[448/1352] nonJatuh/230 (1).avi | Frames: 38 | Person detections: 38\n"
          ]
        },
        {
          "output_type": "stream",
          "name": "stderr",
          "text": [
            "\rnonJatuh:  66%|██████▋   | 449/677 [04:32<04:30,  1.19s/it]"
          ]
        },
        {
          "output_type": "stream",
          "name": "stdout",
          "text": [
            "[449/1352] nonJatuh/221.avi | Frames: 165 | Person detections: 165\n"
          ]
        },
        {
          "output_type": "stream",
          "name": "stderr",
          "text": [
            "\rnonJatuh:  66%|██████▋   | 450/677 [04:33<04:06,  1.09s/it]"
          ]
        },
        {
          "output_type": "stream",
          "name": "stdout",
          "text": [
            "[450/1352] nonJatuh/226.avi | Frames: 53 | Person detections: 53\n",
            "===> Batch 8 disimpan (size 50)\n"
          ]
        },
        {
          "output_type": "stream",
          "name": "stderr",
          "text": [
            "\rnonJatuh:  67%|██████▋   | 451/677 [04:33<03:25,  1.10it/s]"
          ]
        },
        {
          "output_type": "stream",
          "name": "stdout",
          "text": [
            "[451/1352] nonJatuh/219.avi | Frames: 39 | Person detections: 39\n",
            "[452/1352] nonJatuh/232 (1).avi | Frames: 5 | Person detections: 5\n"
          ]
        },
        {
          "output_type": "stream",
          "name": "stderr",
          "text": [
            "\rnonJatuh:  67%|██████▋   | 453/677 [04:35<03:11,  1.17it/s]"
          ]
        },
        {
          "output_type": "stream",
          "name": "stdout",
          "text": [
            "[453/1352] nonJatuh/224.avi | Frames: 128 | Person detections: 128\n"
          ]
        },
        {
          "output_type": "stream",
          "name": "stderr",
          "text": [
            "\rnonJatuh:  67%|██████▋   | 454/677 [04:35<02:39,  1.40it/s]"
          ]
        },
        {
          "output_type": "stream",
          "name": "stdout",
          "text": [
            "[454/1352] nonJatuh/239.avi | Frames: 25 | Person detections: 25\n"
          ]
        },
        {
          "output_type": "stream",
          "name": "stderr",
          "text": [
            "\rnonJatuh:  67%|██████▋   | 455/677 [04:36<02:15,  1.64it/s]"
          ]
        },
        {
          "output_type": "stream",
          "name": "stdout",
          "text": [
            "[455/1352] nonJatuh/223.avi | Frames: 27 | Person detections: 27\n"
          ]
        },
        {
          "output_type": "stream",
          "name": "stderr",
          "text": [
            "\rnonJatuh:  67%|██████▋   | 456/677 [04:36<02:19,  1.59it/s]"
          ]
        },
        {
          "output_type": "stream",
          "name": "stdout",
          "text": [
            "[456/1352] nonJatuh/225.avi | Frames: 53 | Person detections: 53\n"
          ]
        },
        {
          "output_type": "stream",
          "name": "stderr",
          "text": [
            "\rnonJatuh:  68%|██████▊   | 457/677 [04:37<02:06,  1.75it/s]"
          ]
        },
        {
          "output_type": "stream",
          "name": "stdout",
          "text": [
            "[457/1352] nonJatuh/228.avi | Frames: 34 | Person detections: 34\n"
          ]
        },
        {
          "output_type": "stream",
          "name": "stderr",
          "text": [
            "\rnonJatuh:  68%|██████▊   | 458/677 [04:37<01:49,  2.00it/s]"
          ]
        },
        {
          "output_type": "stream",
          "name": "stdout",
          "text": [
            "[458/1352] nonJatuh/243.avi | Frames: 25 | Person detections: 25\n",
            "[459/1352] nonJatuh/232.avi | Frames: 5 | Person detections: 5\n"
          ]
        },
        {
          "output_type": "stream",
          "name": "stderr",
          "text": [
            "\rnonJatuh:  68%|██████▊   | 460/677 [04:37<01:23,  2.61it/s]"
          ]
        },
        {
          "output_type": "stream",
          "name": "stdout",
          "text": [
            "[460/1352] nonJatuh/238 (1).avi | Frames: 34 | Person detections: 34\n"
          ]
        },
        {
          "output_type": "stream",
          "name": "stderr",
          "text": [
            "\rnonJatuh:  68%|██████▊   | 461/677 [04:39<02:15,  1.59it/s]"
          ]
        },
        {
          "output_type": "stream",
          "name": "stdout",
          "text": [
            "[461/1352] nonJatuh/233.avi | Frames: 109 | Person detections: 109\n"
          ]
        },
        {
          "output_type": "stream",
          "name": "stderr",
          "text": [
            "\rnonJatuh:  68%|██████▊   | 462/677 [04:39<02:05,  1.72it/s]"
          ]
        },
        {
          "output_type": "stream",
          "name": "stdout",
          "text": [
            "[462/1352] nonJatuh/218.avi | Frames: 34 | Person detections: 34\n"
          ]
        },
        {
          "output_type": "stream",
          "name": "stderr",
          "text": [
            "\rnonJatuh:  68%|██████▊   | 463/677 [04:40<01:58,  1.80it/s]"
          ]
        },
        {
          "output_type": "stream",
          "name": "stdout",
          "text": [
            "[463/1352] nonJatuh/244.avi | Frames: 42 | Person detections: 42\n"
          ]
        },
        {
          "output_type": "stream",
          "name": "stderr",
          "text": [
            "nonJatuh:  69%|██████▊   | 465/677 [04:40<01:31,  2.31it/s]"
          ]
        },
        {
          "output_type": "stream",
          "name": "stdout",
          "text": [
            "[464/1352] nonJatuh/230.avi | Frames: 38 | Person detections: 38\n",
            "[465/1352] nonJatuh/234.avi | Frames: 13 | Person detections: 13\n"
          ]
        },
        {
          "output_type": "stream",
          "name": "stderr",
          "text": [
            "\rnonJatuh:  69%|██████▉   | 466/677 [04:41<01:28,  2.39it/s]"
          ]
        },
        {
          "output_type": "stream",
          "name": "stdout",
          "text": [
            "[466/1352] nonJatuh/238.avi | Frames: 34 | Person detections: 34\n"
          ]
        },
        {
          "output_type": "stream",
          "name": "stderr",
          "text": [
            "\rnonJatuh:  69%|██████▉   | 467/677 [04:41<01:19,  2.64it/s]"
          ]
        },
        {
          "output_type": "stream",
          "name": "stdout",
          "text": [
            "[467/1352] nonJatuh/237 (1).avi | Frames: 21 | Person detections: 21\n"
          ]
        },
        {
          "output_type": "stream",
          "name": "stderr",
          "text": [
            "\rnonJatuh:  69%|██████▉   | 468/677 [04:41<01:17,  2.69it/s]"
          ]
        },
        {
          "output_type": "stream",
          "name": "stdout",
          "text": [
            "[468/1352] nonJatuh/240 (1).avi | Frames: 28 | Person detections: 28\n"
          ]
        },
        {
          "output_type": "stream",
          "name": "stderr",
          "text": [
            "\rnonJatuh:  69%|██████▉   | 469/677 [04:42<01:20,  2.59it/s]"
          ]
        },
        {
          "output_type": "stream",
          "name": "stdout",
          "text": [
            "[469/1352] nonJatuh/229.avi | Frames: 34 | Person detections: 34\n"
          ]
        },
        {
          "output_type": "stream",
          "name": "stderr",
          "text": [
            "\rnonJatuh:  69%|██████▉   | 470/677 [04:42<01:26,  2.38it/s]"
          ]
        },
        {
          "output_type": "stream",
          "name": "stdout",
          "text": [
            "[470/1352] nonJatuh/231 (1).avi | Frames: 38 | Person detections: 38\n"
          ]
        },
        {
          "output_type": "stream",
          "name": "stderr",
          "text": [
            "\rnonJatuh:  70%|██████▉   | 471/677 [04:43<01:42,  2.02it/s]"
          ]
        },
        {
          "output_type": "stream",
          "name": "stdout",
          "text": [
            "[471/1352] nonJatuh/231.avi | Frames: 38 | Person detections: 38\n"
          ]
        },
        {
          "output_type": "stream",
          "name": "stderr",
          "text": [
            "\rnonJatuh:  70%|██████▉   | 472/677 [04:44<01:43,  1.99it/s]"
          ]
        },
        {
          "output_type": "stream",
          "name": "stdout",
          "text": [
            "[472/1352] nonJatuh/241 (1).avi | Frames: 28 | Person detections: 28\n"
          ]
        },
        {
          "output_type": "stream",
          "name": "stderr",
          "text": [
            "\rnonJatuh:  70%|██████▉   | 473/677 [04:44<01:46,  1.91it/s]"
          ]
        },
        {
          "output_type": "stream",
          "name": "stdout",
          "text": [
            "[473/1352] nonJatuh/240.avi | Frames: 28 | Person detections: 28\n"
          ]
        },
        {
          "output_type": "stream",
          "name": "stderr",
          "text": [
            "\rnonJatuh:  70%|███████   | 474/677 [04:46<02:44,  1.24it/s]"
          ]
        },
        {
          "output_type": "stream",
          "name": "stdout",
          "text": [
            "[474/1352] nonJatuh/236.avi | Frames: 77 | Person detections: 77\n"
          ]
        },
        {
          "output_type": "stream",
          "name": "stderr",
          "text": [
            "\rnonJatuh:  70%|███████   | 475/677 [04:46<02:21,  1.43it/s]"
          ]
        },
        {
          "output_type": "stream",
          "name": "stdout",
          "text": [
            "[475/1352] nonJatuh/241.avi | Frames: 28 | Person detections: 28\n"
          ]
        },
        {
          "output_type": "stream",
          "name": "stderr",
          "text": [
            "\rnonJatuh:  70%|███████   | 476/677 [04:47<02:17,  1.46it/s]"
          ]
        },
        {
          "output_type": "stream",
          "name": "stdout",
          "text": [
            "[476/1352] nonJatuh/235 (1).avi | Frames: 52 | Person detections: 52\n"
          ]
        },
        {
          "output_type": "stream",
          "name": "stderr",
          "text": [
            "\rnonJatuh:  70%|███████   | 477/677 [04:47<01:50,  1.80it/s]"
          ]
        },
        {
          "output_type": "stream",
          "name": "stdout",
          "text": [
            "[477/1352] nonJatuh/237.avi | Frames: 21 | Person detections: 21\n"
          ]
        },
        {
          "output_type": "stream",
          "name": "stderr",
          "text": [
            "\rnonJatuh:  71%|███████   | 478/677 [04:48<01:56,  1.71it/s]"
          ]
        },
        {
          "output_type": "stream",
          "name": "stdout",
          "text": [
            "[478/1352] nonJatuh/235.avi | Frames: 52 | Person detections: 52\n"
          ]
        },
        {
          "output_type": "stream",
          "name": "stderr",
          "text": [
            "\rnonJatuh:  71%|███████   | 479/677 [04:48<01:49,  1.81it/s]"
          ]
        },
        {
          "output_type": "stream",
          "name": "stdout",
          "text": [
            "[479/1352] nonJatuh/245.avi | Frames: 42 | Person detections: 42\n"
          ]
        },
        {
          "output_type": "stream",
          "name": "stderr",
          "text": [
            "\rnonJatuh:  71%|███████   | 480/677 [04:49<02:06,  1.56it/s]"
          ]
        },
        {
          "output_type": "stream",
          "name": "stdout",
          "text": [
            "[480/1352] nonJatuh/285.avi | Frames: 79 | Person detections: 66\n"
          ]
        },
        {
          "output_type": "stream",
          "name": "stderr",
          "text": [
            "\rnonJatuh:  71%|███████   | 481/677 [04:50<02:25,  1.35it/s]"
          ]
        },
        {
          "output_type": "stream",
          "name": "stdout",
          "text": [
            "[481/1352] nonJatuh/266.avi | Frames: 88 | Person detections: 88\n"
          ]
        },
        {
          "output_type": "stream",
          "name": "stderr",
          "text": [
            "\rnonJatuh:  71%|███████   | 482/677 [04:51<02:19,  1.39it/s]"
          ]
        },
        {
          "output_type": "stream",
          "name": "stdout",
          "text": [
            "[482/1352] nonJatuh/257.avi | Frames: 57 | Person detections: 57\n"
          ]
        },
        {
          "output_type": "stream",
          "name": "stderr",
          "text": [
            "\rnonJatuh:  71%|███████▏  | 483/677 [04:51<02:19,  1.40it/s]"
          ]
        },
        {
          "output_type": "stream",
          "name": "stdout",
          "text": [
            "[483/1352] nonJatuh/308.avi | Frames: 60 | Person detections: 60\n"
          ]
        },
        {
          "output_type": "stream",
          "name": "stderr",
          "text": [
            "nonJatuh:  72%|███████▏  | 485/677 [04:52<01:36,  1.99it/s]"
          ]
        },
        {
          "output_type": "stream",
          "name": "stdout",
          "text": [
            "[484/1352] nonJatuh/301.avi | Frames: 42 | Person detections: 42\n",
            "[485/1352] nonJatuh/304.avi | Frames: 16 | Person detections: 16\n"
          ]
        },
        {
          "output_type": "stream",
          "name": "stderr",
          "text": [
            "\rnonJatuh:  72%|███████▏  | 486/677 [04:53<01:40,  1.91it/s]"
          ]
        },
        {
          "output_type": "stream",
          "name": "stdout",
          "text": [
            "[486/1352] nonJatuh/275.avi | Frames: 51 | Person detections: 40\n"
          ]
        },
        {
          "output_type": "stream",
          "name": "stderr",
          "text": [
            "\rnonJatuh:  72%|███████▏  | 487/677 [04:53<01:54,  1.66it/s]"
          ]
        },
        {
          "output_type": "stream",
          "name": "stdout",
          "text": [
            "[487/1352] nonJatuh/288.avi | Frames: 74 | Person detections: 74\n",
            "[488/1352] nonJatuh/333.avi | Frames: 2 | Person detections: 2\n"
          ]
        },
        {
          "output_type": "stream",
          "name": "stderr",
          "text": [
            "\rnonJatuh:  72%|███████▏  | 489/677 [04:55<01:53,  1.65it/s]"
          ]
        },
        {
          "output_type": "stream",
          "name": "stdout",
          "text": [
            "[489/1352] nonJatuh/299.avi | Frames: 109 | Person detections: 106\n"
          ]
        },
        {
          "output_type": "stream",
          "name": "stderr",
          "text": [
            "\rnonJatuh:  72%|███████▏  | 490/677 [04:55<01:39,  1.87it/s]"
          ]
        },
        {
          "output_type": "stream",
          "name": "stdout",
          "text": [
            "[490/1352] nonJatuh/311.avi | Frames: 26 | Person detections: 23\n"
          ]
        },
        {
          "output_type": "stream",
          "name": "stderr",
          "text": [
            "\rnonJatuh:  73%|███████▎  | 491/677 [04:57<03:17,  1.06s/it]"
          ]
        },
        {
          "output_type": "stream",
          "name": "stdout",
          "text": [
            "[491/1352] nonJatuh/258.avi | Frames: 181 | Person detections: 181\n"
          ]
        },
        {
          "output_type": "stream",
          "name": "stderr",
          "text": [
            "\rnonJatuh:  73%|███████▎  | 492/677 [04:58<02:50,  1.08it/s]"
          ]
        },
        {
          "output_type": "stream",
          "name": "stdout",
          "text": [
            "[492/1352] nonJatuh/256.avi | Frames: 34 | Person detections: 34\n"
          ]
        },
        {
          "output_type": "stream",
          "name": "stderr",
          "text": [
            "\rnonJatuh:  73%|███████▎  | 493/677 [04:59<02:53,  1.06it/s]"
          ]
        },
        {
          "output_type": "stream",
          "name": "stdout",
          "text": [
            "[493/1352] nonJatuh/264.avi | Frames: 58 | Person detections: 58\n"
          ]
        },
        {
          "output_type": "stream",
          "name": "stderr",
          "text": [
            "\rnonJatuh:  73%|███████▎  | 494/677 [05:00<02:45,  1.11it/s]"
          ]
        },
        {
          "output_type": "stream",
          "name": "stdout",
          "text": [
            "[494/1352] nonJatuh/281.avi | Frames: 69 | Person detections: 54\n"
          ]
        },
        {
          "output_type": "stream",
          "name": "stderr",
          "text": [
            "\rnonJatuh:  73%|███████▎  | 495/677 [05:00<02:26,  1.25it/s]"
          ]
        },
        {
          "output_type": "stream",
          "name": "stdout",
          "text": [
            "[495/1352] nonJatuh/322.avi | Frames: 49 | Person detections: 49\n"
          ]
        },
        {
          "output_type": "stream",
          "name": "stderr",
          "text": [
            "\rnonJatuh:  73%|███████▎  | 496/677 [05:01<02:11,  1.37it/s]"
          ]
        },
        {
          "output_type": "stream",
          "name": "stdout",
          "text": [
            "[496/1352] nonJatuh/289.avi | Frames: 52 | Person detections: 35\n"
          ]
        },
        {
          "output_type": "stream",
          "name": "stderr",
          "text": [
            "\rnonJatuh:  73%|███████▎  | 497/677 [05:01<01:53,  1.59it/s]"
          ]
        },
        {
          "output_type": "stream",
          "name": "stdout",
          "text": [
            "[497/1352] nonJatuh/326.avi | Frames: 33 | Person detections: 33\n"
          ]
        },
        {
          "output_type": "stream",
          "name": "stderr",
          "text": [
            "\rnonJatuh:  74%|███████▎  | 498/677 [05:02<01:38,  1.81it/s]"
          ]
        },
        {
          "output_type": "stream",
          "name": "stdout",
          "text": [
            "[498/1352] nonJatuh/319.avi | Frames: 34 | Person detections: 34\n"
          ]
        },
        {
          "output_type": "stream",
          "name": "stderr",
          "text": [
            "\rnonJatuh:  74%|███████▎  | 499/677 [05:02<01:55,  1.55it/s]"
          ]
        },
        {
          "output_type": "stream",
          "name": "stdout",
          "text": [
            "[499/1352] nonJatuh/313.avi | Frames: 79 | Person detections: 59\n"
          ]
        },
        {
          "output_type": "stream",
          "name": "stderr",
          "text": [
            "\rnonJatuh:  74%|███████▍  | 500/677 [05:03<01:49,  1.61it/s]"
          ]
        },
        {
          "output_type": "stream",
          "name": "stdout",
          "text": [
            "[500/1352] nonJatuh/352.avi | Frames: 50 | Person detections: 50\n",
            "===> Batch 9 disimpan (size 50)\n"
          ]
        },
        {
          "output_type": "stream",
          "name": "stderr",
          "text": [
            "\rnonJatuh:  74%|███████▍  | 501/677 [05:03<01:36,  1.82it/s]"
          ]
        },
        {
          "output_type": "stream",
          "name": "stdout",
          "text": [
            "[501/1352] nonJatuh/331.avi | Frames: 32 | Person detections: 30\n"
          ]
        },
        {
          "output_type": "stream",
          "name": "stderr",
          "text": [
            "\rnonJatuh:  74%|███████▍  | 502/677 [05:04<01:52,  1.56it/s]"
          ]
        },
        {
          "output_type": "stream",
          "name": "stdout",
          "text": [
            "[502/1352] nonJatuh/286.avi | Frames: 79 | Person detections: 61\n"
          ]
        },
        {
          "output_type": "stream",
          "name": "stderr",
          "text": [
            "\rnonJatuh:  74%|███████▍  | 503/677 [05:05<01:48,  1.60it/s]"
          ]
        },
        {
          "output_type": "stream",
          "name": "stdout",
          "text": [
            "[503/1352] nonJatuh/346.avi | Frames: 55 | Person detections: 38\n"
          ]
        },
        {
          "output_type": "stream",
          "name": "stderr",
          "text": [
            "\rnonJatuh:  74%|███████▍  | 504/677 [05:06<01:52,  1.54it/s]"
          ]
        },
        {
          "output_type": "stream",
          "name": "stdout",
          "text": [
            "[504/1352] nonJatuh/349.avi | Frames: 68 | Person detections: 2\n"
          ]
        },
        {
          "output_type": "stream",
          "name": "stderr",
          "text": [
            "\rnonJatuh:  75%|███████▍  | 505/677 [05:06<02:03,  1.39it/s]"
          ]
        },
        {
          "output_type": "stream",
          "name": "stdout",
          "text": [
            "[505/1352] nonJatuh/314.avi | Frames: 79 | Person detections: 67\n"
          ]
        },
        {
          "output_type": "stream",
          "name": "stderr",
          "text": [
            "\rnonJatuh:  75%|███████▍  | 506/677 [05:07<01:43,  1.65it/s]"
          ]
        },
        {
          "output_type": "stream",
          "name": "stdout",
          "text": [
            "[506/1352] nonJatuh/347.avi | Frames: 31 | Person detections: 31\n"
          ]
        },
        {
          "output_type": "stream",
          "name": "stderr",
          "text": [
            "\rnonJatuh:  75%|███████▍  | 507/677 [05:08<02:23,  1.18it/s]"
          ]
        },
        {
          "output_type": "stream",
          "name": "stdout",
          "text": [
            "[507/1352] nonJatuh/270.avi | Frames: 134 | Person detections: 52\n"
          ]
        },
        {
          "output_type": "stream",
          "name": "stderr",
          "text": [
            "\rnonJatuh:  75%|███████▌  | 508/677 [05:09<02:10,  1.30it/s]"
          ]
        },
        {
          "output_type": "stream",
          "name": "stdout",
          "text": [
            "[508/1352] nonJatuh/343.avi | Frames: 51 | Person detections: 51\n"
          ]
        },
        {
          "output_type": "stream",
          "name": "stderr",
          "text": [
            "\rnonJatuh:  75%|███████▌  | 509/677 [05:09<02:06,  1.33it/s]"
          ]
        },
        {
          "output_type": "stream",
          "name": "stdout",
          "text": [
            "[509/1352] nonJatuh/351.avi | Frames: 50 | Person detections: 50\n"
          ]
        },
        {
          "output_type": "stream",
          "name": "stderr",
          "text": [
            "\rnonJatuh:  75%|███████▌  | 510/677 [05:10<01:54,  1.46it/s]"
          ]
        },
        {
          "output_type": "stream",
          "name": "stdout",
          "text": [
            "[510/1352] nonJatuh/358.avi | Frames: 38 | Person detections: 0\n"
          ]
        },
        {
          "output_type": "stream",
          "name": "stderr",
          "text": [
            "\rnonJatuh:  75%|███████▌  | 511/677 [05:11<01:51,  1.49it/s]"
          ]
        },
        {
          "output_type": "stream",
          "name": "stdout",
          "text": [
            "[511/1352] nonJatuh/312.avi | Frames: 36 | Person detections: 36\n"
          ]
        },
        {
          "output_type": "stream",
          "name": "stderr",
          "text": [
            "\rnonJatuh:  76%|███████▌  | 512/677 [05:12<02:11,  1.25it/s]"
          ]
        },
        {
          "output_type": "stream",
          "name": "stdout",
          "text": [
            "[512/1352] nonJatuh/283.avi | Frames: 73 | Person detections: 73\n"
          ]
        },
        {
          "output_type": "stream",
          "name": "stderr",
          "text": [
            "\rnonJatuh:  76%|███████▌  | 513/677 [05:13<02:12,  1.24it/s]"
          ]
        },
        {
          "output_type": "stream",
          "name": "stdout",
          "text": [
            "[513/1352] nonJatuh/318.avi | Frames: 58 | Person detections: 2\n"
          ]
        },
        {
          "output_type": "stream",
          "name": "stderr",
          "text": [
            "\rnonJatuh:  76%|███████▌  | 514/677 [05:13<02:01,  1.34it/s]"
          ]
        },
        {
          "output_type": "stream",
          "name": "stdout",
          "text": [
            "[514/1352] nonJatuh/353.avi | Frames: 55 | Person detections: 55\n"
          ]
        },
        {
          "output_type": "stream",
          "name": "stderr",
          "text": [
            "\rnonJatuh:  76%|███████▌  | 515/677 [05:15<02:50,  1.05s/it]"
          ]
        },
        {
          "output_type": "stream",
          "name": "stdout",
          "text": [
            "[515/1352] nonJatuh/361.avi | Frames: 159 | Person detections: 153\n"
          ]
        },
        {
          "output_type": "stream",
          "name": "stderr",
          "text": [
            "\rnonJatuh:  76%|███████▌  | 516/677 [05:15<02:21,  1.14it/s]"
          ]
        },
        {
          "output_type": "stream",
          "name": "stdout",
          "text": [
            "[516/1352] nonJatuh/350.avi | Frames: 42 | Person detections: 42\n"
          ]
        },
        {
          "output_type": "stream",
          "name": "stderr",
          "text": [
            "\rnonJatuh:  76%|███████▋  | 517/677 [05:16<02:06,  1.26it/s]"
          ]
        },
        {
          "output_type": "stream",
          "name": "stdout",
          "text": [
            "[517/1352] nonJatuh/324.avi | Frames: 51 | Person detections: 51\n"
          ]
        },
        {
          "output_type": "stream",
          "name": "stderr",
          "text": [
            "\rnonJatuh:  77%|███████▋  | 518/677 [05:16<01:47,  1.49it/s]"
          ]
        },
        {
          "output_type": "stream",
          "name": "stdout",
          "text": [
            "[518/1352] nonJatuh/359.avi | Frames: 38 | Person detections: 0\n"
          ]
        },
        {
          "output_type": "stream",
          "name": "stderr",
          "text": [
            "\rnonJatuh:  77%|███████▋  | 519/677 [05:18<02:51,  1.09s/it]"
          ]
        },
        {
          "output_type": "stream",
          "name": "stdout",
          "text": [
            "[519/1352] nonJatuh/259.avi | Frames: 181 | Person detections: 181\n"
          ]
        },
        {
          "output_type": "stream",
          "name": "stderr",
          "text": [
            "\rnonJatuh:  77%|███████▋  | 520/677 [05:20<02:52,  1.10s/it]"
          ]
        },
        {
          "output_type": "stream",
          "name": "stdout",
          "text": [
            "[520/1352] nonJatuh/279.avi | Frames: 101 | Person detections: 96\n"
          ]
        },
        {
          "output_type": "stream",
          "name": "stderr",
          "text": [
            "\rnonJatuh:  77%|███████▋  | 521/677 [05:21<02:47,  1.08s/it]"
          ]
        },
        {
          "output_type": "stream",
          "name": "stdout",
          "text": [
            "[521/1352] nonJatuh/254.avi | Frames: 89 | Person detections: 89\n"
          ]
        },
        {
          "output_type": "stream",
          "name": "stderr",
          "text": [
            "\rnonJatuh:  77%|███████▋  | 522/677 [05:23<03:26,  1.33s/it]"
          ]
        },
        {
          "output_type": "stream",
          "name": "stdout",
          "text": [
            "[522/1352] nonJatuh/246.avi | Frames: 156 | Person detections: 156\n"
          ]
        },
        {
          "output_type": "stream",
          "name": "stderr",
          "text": [
            "\rnonJatuh:  77%|███████▋  | 523/677 [05:23<02:59,  1.17s/it]"
          ]
        },
        {
          "output_type": "stream",
          "name": "stdout",
          "text": [
            "[523/1352] nonJatuh/342.avi | Frames: 51 | Person detections: 51\n"
          ]
        },
        {
          "output_type": "stream",
          "name": "stderr",
          "text": [
            "\rnonJatuh:  77%|███████▋  | 524/677 [05:25<03:01,  1.18s/it]"
          ]
        },
        {
          "output_type": "stream",
          "name": "stdout",
          "text": [
            "[524/1352] nonJatuh/268.avi | Frames: 84 | Person detections: 33\n"
          ]
        },
        {
          "output_type": "stream",
          "name": "stderr",
          "text": [
            "\rnonJatuh:  78%|███████▊  | 525/677 [05:26<02:55,  1.16s/it]"
          ]
        },
        {
          "output_type": "stream",
          "name": "stdout",
          "text": [
            "[525/1352] nonJatuh/263.avi | Frames: 66 | Person detections: 66\n"
          ]
        },
        {
          "output_type": "stream",
          "name": "stderr",
          "text": [
            "\rnonJatuh:  78%|███████▊  | 526/677 [05:26<02:30,  1.00it/s]"
          ]
        },
        {
          "output_type": "stream",
          "name": "stdout",
          "text": [
            "[526/1352] nonJatuh/348.avi | Frames: 54 | Person detections: 54\n"
          ]
        },
        {
          "output_type": "stream",
          "name": "stderr",
          "text": [
            "\rnonJatuh:  78%|███████▊  | 527/677 [05:27<02:29,  1.00it/s]"
          ]
        },
        {
          "output_type": "stream",
          "name": "stdout",
          "text": [
            "[527/1352] nonJatuh/278.avi | Frames: 90 | Person detections: 82\n"
          ]
        },
        {
          "output_type": "stream",
          "name": "stderr",
          "text": [
            "\rnonJatuh:  78%|███████▊  | 528/677 [05:28<02:28,  1.00it/s]"
          ]
        },
        {
          "output_type": "stream",
          "name": "stdout",
          "text": [
            "[528/1352] nonJatuh/277.avi | Frames: 90 | Person detections: 83\n"
          ]
        },
        {
          "output_type": "stream",
          "name": "stderr",
          "text": [
            "\rnonJatuh:  78%|███████▊  | 529/677 [05:29<02:12,  1.12it/s]"
          ]
        },
        {
          "output_type": "stream",
          "name": "stdout",
          "text": [
            "[529/1352] nonJatuh/296.avi | Frames: 58 | Person detections: 50\n"
          ]
        },
        {
          "output_type": "stream",
          "name": "stderr",
          "text": [
            "\rnonJatuh:  78%|███████▊  | 530/677 [05:29<01:51,  1.32it/s]"
          ]
        },
        {
          "output_type": "stream",
          "name": "stdout",
          "text": [
            "[530/1352] nonJatuh/328.avi | Frames: 40 | Person detections: 39\n"
          ]
        },
        {
          "output_type": "stream",
          "name": "stderr",
          "text": [
            "\rnonJatuh:  78%|███████▊  | 531/677 [05:30<01:41,  1.44it/s]"
          ]
        },
        {
          "output_type": "stream",
          "name": "stdout",
          "text": [
            "[531/1352] nonJatuh/306.avi | Frames: 48 | Person detections: 48\n"
          ]
        },
        {
          "output_type": "stream",
          "name": "stderr",
          "text": [
            "\rnonJatuh:  79%|███████▊  | 532/677 [05:31<01:41,  1.43it/s]"
          ]
        },
        {
          "output_type": "stream",
          "name": "stdout",
          "text": [
            "[532/1352] nonJatuh/307.avi | Frames: 65 | Person detections: 65\n"
          ]
        },
        {
          "output_type": "stream",
          "name": "stderr",
          "text": [
            "\rnonJatuh:  79%|███████▊  | 533/677 [05:31<01:26,  1.66it/s]"
          ]
        },
        {
          "output_type": "stream",
          "name": "stdout",
          "text": [
            "[533/1352] nonJatuh/327.avi | Frames: 34 | Person detections: 34\n"
          ]
        },
        {
          "output_type": "stream",
          "name": "stderr",
          "text": [
            "\rnonJatuh:  79%|███████▉  | 534/677 [05:31<01:20,  1.77it/s]"
          ]
        },
        {
          "output_type": "stream",
          "name": "stdout",
          "text": [
            "[534/1352] nonJatuh/341.avi | Frames: 43 | Person detections: 41\n"
          ]
        },
        {
          "output_type": "stream",
          "name": "stderr",
          "text": [
            "\rnonJatuh:  79%|███████▉  | 535/677 [05:32<01:24,  1.69it/s]"
          ]
        },
        {
          "output_type": "stream",
          "name": "stdout",
          "text": [
            "[535/1352] nonJatuh/293.avi | Frames: 51 | Person detections: 43\n"
          ]
        },
        {
          "output_type": "stream",
          "name": "stderr",
          "text": [
            "\rnonJatuh:  79%|███████▉  | 536/677 [05:33<01:32,  1.52it/s]"
          ]
        },
        {
          "output_type": "stream",
          "name": "stdout",
          "text": [
            "[536/1352] nonJatuh/284.avi | Frames: 73 | Person detections: 73\n"
          ]
        },
        {
          "output_type": "stream",
          "name": "stderr",
          "text": [
            "\rnonJatuh:  79%|███████▉  | 537/677 [05:34<01:29,  1.57it/s]"
          ]
        },
        {
          "output_type": "stream",
          "name": "stdout",
          "text": [
            "[537/1352] nonJatuh/317.avi | Frames: 58 | Person detections: 3\n"
          ]
        },
        {
          "output_type": "stream",
          "name": "stderr",
          "text": [
            "\rnonJatuh:  79%|███████▉  | 538/677 [05:34<01:23,  1.66it/s]"
          ]
        },
        {
          "output_type": "stream",
          "name": "stdout",
          "text": [
            "[538/1352] nonJatuh/291.avi | Frames: 46 | Person detections: 35\n"
          ]
        },
        {
          "output_type": "stream",
          "name": "stderr",
          "text": [
            "\rnonJatuh:  80%|███████▉  | 539/677 [05:35<01:22,  1.68it/s]"
          ]
        },
        {
          "output_type": "stream",
          "name": "stdout",
          "text": [
            "[539/1352] nonJatuh/325.avi | Frames: 51 | Person detections: 51\n"
          ]
        },
        {
          "output_type": "stream",
          "name": "stderr",
          "text": [
            "\rnonJatuh:  80%|███████▉  | 540/677 [05:35<01:12,  1.88it/s]"
          ]
        },
        {
          "output_type": "stream",
          "name": "stdout",
          "text": [
            "[540/1352] nonJatuh/316.avi | Frames: 32 | Person detections: 32\n"
          ]
        },
        {
          "output_type": "stream",
          "name": "stderr",
          "text": [
            "\rnonJatuh:  80%|███████▉  | 541/677 [05:35<01:09,  1.96it/s]"
          ]
        },
        {
          "output_type": "stream",
          "name": "stdout",
          "text": [
            "[541/1352] nonJatuh/302.avi | Frames: 42 | Person detections: 42\n"
          ]
        },
        {
          "output_type": "stream",
          "name": "stderr",
          "text": [
            "\rnonJatuh:  80%|████████  | 542/677 [05:37<01:31,  1.47it/s]"
          ]
        },
        {
          "output_type": "stream",
          "name": "stdout",
          "text": [
            "[542/1352] nonJatuh/287.avi | Frames: 74 | Person detections: 74\n"
          ]
        },
        {
          "output_type": "stream",
          "name": "stderr",
          "text": [
            "\rnonJatuh:  80%|████████  | 543/677 [05:38<01:49,  1.22it/s]"
          ]
        },
        {
          "output_type": "stream",
          "name": "stdout",
          "text": [
            "[543/1352] nonJatuh/295.avi | Frames: 76 | Person detections: 55\n"
          ]
        },
        {
          "output_type": "stream",
          "name": "stderr",
          "text": [
            "\rnonJatuh:  80%|████████  | 544/677 [05:40<02:38,  1.19s/it]"
          ]
        },
        {
          "output_type": "stream",
          "name": "stdout",
          "text": [
            "[544/1352] nonJatuh/247.avi | Frames: 144 | Person detections: 144\n"
          ]
        },
        {
          "output_type": "stream",
          "name": "stderr",
          "text": [
            "\rnonJatuh:  81%|████████  | 545/677 [05:43<04:02,  1.84s/it]"
          ]
        },
        {
          "output_type": "stream",
          "name": "stdout",
          "text": [
            "[545/1352] nonJatuh/251.avi | Frames: 300 | Person detections: 300\n"
          ]
        },
        {
          "output_type": "stream",
          "name": "stderr",
          "text": [
            "\rnonJatuh:  81%|████████  | 546/677 [05:44<03:21,  1.54s/it]"
          ]
        },
        {
          "output_type": "stream",
          "name": "stdout",
          "text": [
            "[546/1352] nonJatuh/276.avi | Frames: 76 | Person detections: 64\n"
          ]
        },
        {
          "output_type": "stream",
          "name": "stderr",
          "text": [
            "\rnonJatuh:  81%|████████  | 547/677 [05:44<02:30,  1.16s/it]"
          ]
        },
        {
          "output_type": "stream",
          "name": "stdout",
          "text": [
            "[547/1352] nonJatuh/340.avi | Frames: 21 | Person detections: 21\n"
          ]
        },
        {
          "output_type": "stream",
          "name": "stderr",
          "text": [
            "\rnonJatuh:  81%|████████  | 548/677 [05:48<04:01,  1.87s/it]"
          ]
        },
        {
          "output_type": "stream",
          "name": "stdout",
          "text": [
            "[548/1352] nonJatuh/250.avi | Frames: 318 | Person detections: 318\n"
          ]
        },
        {
          "output_type": "stream",
          "name": "stderr",
          "text": [
            "\rnonJatuh:  81%|████████  | 549/677 [05:49<03:44,  1.76s/it]"
          ]
        },
        {
          "output_type": "stream",
          "name": "stdout",
          "text": [
            "[549/1352] nonJatuh/305.avi | Frames: 120 | Person detections: 120\n"
          ]
        },
        {
          "output_type": "stream",
          "name": "stderr",
          "text": [
            "\rnonJatuh:  81%|████████  | 550/677 [05:50<03:07,  1.48s/it]"
          ]
        },
        {
          "output_type": "stream",
          "name": "stdout",
          "text": [
            "[550/1352] nonJatuh/290.avi | Frames: 52 | Person detections: 40\n",
            "===> Batch 10 disimpan (size 50)\n"
          ]
        },
        {
          "output_type": "stream",
          "name": "stderr",
          "text": [
            "\rnonJatuh:  81%|████████▏ | 551/677 [05:51<02:39,  1.27s/it]"
          ]
        },
        {
          "output_type": "stream",
          "name": "stdout",
          "text": [
            "[551/1352] nonJatuh/323.avi | Frames: 49 | Person detections: 49\n"
          ]
        },
        {
          "output_type": "stream",
          "name": "stderr",
          "text": [
            "\rnonJatuh:  82%|████████▏ | 552/677 [05:52<02:17,  1.10s/it]"
          ]
        },
        {
          "output_type": "stream",
          "name": "stdout",
          "text": [
            "[552/1352] nonJatuh/298.avi | Frames: 44 | Person detections: 44\n"
          ]
        },
        {
          "output_type": "stream",
          "name": "stderr",
          "text": [
            "\rnonJatuh:  82%|████████▏ | 553/677 [05:54<03:00,  1.46s/it]"
          ]
        },
        {
          "output_type": "stream",
          "name": "stdout",
          "text": [
            "[553/1352] nonJatuh/248.avi | Frames: 189 | Person detections: 189\n"
          ]
        },
        {
          "output_type": "stream",
          "name": "stderr",
          "text": [
            "\rnonJatuh:  82%|████████▏ | 554/677 [05:54<02:26,  1.19s/it]"
          ]
        },
        {
          "output_type": "stream",
          "name": "stdout",
          "text": [
            "[554/1352] nonJatuh/357.avi | Frames: 53 | Person detections: 46\n"
          ]
        },
        {
          "output_type": "stream",
          "name": "stderr",
          "text": [
            "\rnonJatuh:  82%|████████▏ | 555/677 [05:55<01:50,  1.10it/s]"
          ]
        },
        {
          "output_type": "stream",
          "name": "stdout",
          "text": [
            "[555/1352] nonJatuh/337.avi | Frames: 23 | Person detections: 15\n"
          ]
        },
        {
          "output_type": "stream",
          "name": "stderr",
          "text": [
            "\rnonJatuh:  82%|████████▏ | 556/677 [05:55<01:39,  1.22it/s]"
          ]
        },
        {
          "output_type": "stream",
          "name": "stdout",
          "text": [
            "[556/1352] nonJatuh/362.avi | Frames: 54 | Person detections: 54\n"
          ]
        },
        {
          "output_type": "stream",
          "name": "stderr",
          "text": [
            "\rnonJatuh:  82%|████████▏ | 557/677 [05:56<01:51,  1.08it/s]"
          ]
        },
        {
          "output_type": "stream",
          "name": "stdout",
          "text": [
            "[557/1352] nonJatuh/300.avi | Frames: 109 | Person detections: 106\n"
          ]
        },
        {
          "output_type": "stream",
          "name": "stderr",
          "text": [
            "\rnonJatuh:  82%|████████▏ | 558/677 [05:57<01:53,  1.05it/s]"
          ]
        },
        {
          "output_type": "stream",
          "name": "stdout",
          "text": [
            "[558/1352] nonJatuh/255.avi | Frames: 89 | Person detections: 89\n"
          ]
        },
        {
          "output_type": "stream",
          "name": "stderr",
          "text": [
            "\rnonJatuh:  83%|████████▎ | 559/677 [05:58<01:45,  1.12it/s]"
          ]
        },
        {
          "output_type": "stream",
          "name": "stdout",
          "text": [
            "[559/1352] nonJatuh/262.avi | Frames: 66 | Person detections: 66\n"
          ]
        },
        {
          "output_type": "stream",
          "name": "stderr",
          "text": [
            "nonJatuh:  83%|████████▎ | 561/677 [05:59<01:13,  1.58it/s]"
          ]
        },
        {
          "output_type": "stream",
          "name": "stdout",
          "text": [
            "[560/1352] nonJatuh/280.avi | Frames: 69 | Person detections: 53\n",
            "[561/1352] nonJatuh/335.avi | Frames: 11 | Person detections: 11\n"
          ]
        },
        {
          "output_type": "stream",
          "name": "stderr",
          "text": [
            "\rnonJatuh:  83%|████████▎ | 562/677 [06:00<01:09,  1.65it/s]"
          ]
        },
        {
          "output_type": "stream",
          "name": "stdout",
          "text": [
            "[562/1352] nonJatuh/292.avi | Frames: 51 | Person detections: 41\n"
          ]
        },
        {
          "output_type": "stream",
          "name": "stderr",
          "text": [
            "\rnonJatuh:  83%|████████▎ | 563/677 [06:00<01:00,  1.90it/s]"
          ]
        },
        {
          "output_type": "stream",
          "name": "stdout",
          "text": [
            "[563/1352] nonJatuh/253.avi | Frames: 30 | Person detections: 30\n"
          ]
        },
        {
          "output_type": "stream",
          "name": "stderr",
          "text": [
            "\rnonJatuh:  83%|████████▎ | 564/677 [06:00<00:53,  2.12it/s]"
          ]
        },
        {
          "output_type": "stream",
          "name": "stdout",
          "text": [
            "[564/1352] nonJatuh/330.avi | Frames: 32 | Person detections: 21\n"
          ]
        },
        {
          "output_type": "stream",
          "name": "stderr",
          "text": [
            "\rnonJatuh:  83%|████████▎ | 565/677 [06:01<00:45,  2.45it/s]"
          ]
        },
        {
          "output_type": "stream",
          "name": "stdout",
          "text": [
            "[565/1352] nonJatuh/338.avi | Frames: 23 | Person detections: 23\n"
          ]
        },
        {
          "output_type": "stream",
          "name": "stderr",
          "text": [
            "\rnonJatuh:  84%|████████▎ | 566/677 [06:01<00:50,  2.21it/s]"
          ]
        },
        {
          "output_type": "stream",
          "name": "stdout",
          "text": [
            "[566/1352] nonJatuh/274.avi | Frames: 51 | Person detections: 35\n"
          ]
        },
        {
          "output_type": "stream",
          "name": "stderr",
          "text": [
            "\rnonJatuh:  84%|████████▍ | 567/677 [06:05<02:58,  1.62s/it]"
          ]
        },
        {
          "output_type": "stream",
          "name": "stdout",
          "text": [
            "[567/1352] nonJatuh/252.avi | Frames: 300 | Person detections: 300\n"
          ]
        },
        {
          "output_type": "stream",
          "name": "stderr",
          "text": [
            "\rnonJatuh:  84%|████████▍ | 568/677 [06:06<02:18,  1.27s/it]"
          ]
        },
        {
          "output_type": "stream",
          "name": "stdout",
          "text": [
            "[568/1352] nonJatuh/329.avi | Frames: 40 | Person detections: 35\n"
          ]
        },
        {
          "output_type": "stream",
          "name": "stderr",
          "text": [
            "nonJatuh:  84%|████████▍ | 570/677 [06:07<01:37,  1.10it/s]"
          ]
        },
        {
          "output_type": "stream",
          "name": "stdout",
          "text": [
            "[569/1352] nonJatuh/354.avi | Frames: 104 | Person detections: 97\n",
            "[570/1352] nonJatuh/303.avi | Frames: 16 | Person detections: 16\n",
            "[571/1352] nonJatuh/321.avi | Frames: 2 | Person detections: 2\n"
          ]
        },
        {
          "output_type": "stream",
          "name": "stderr",
          "text": [
            "\rnonJatuh:  84%|████████▍ | 572/677 [06:08<01:01,  1.72it/s]"
          ]
        },
        {
          "output_type": "stream",
          "name": "stdout",
          "text": [
            "[572/1352] nonJatuh/355.avi | Frames: 31 | Person detections: 31\n"
          ]
        },
        {
          "output_type": "stream",
          "name": "stderr",
          "text": [
            "\rnonJatuh:  85%|████████▍ | 573/677 [06:08<00:51,  2.02it/s]"
          ]
        },
        {
          "output_type": "stream",
          "name": "stdout",
          "text": [
            "[573/1352] nonJatuh/339.avi | Frames: 21 | Person detections: 21\n"
          ]
        },
        {
          "output_type": "stream",
          "name": "stderr",
          "text": [
            "\rnonJatuh:  85%|████████▍ | 574/677 [06:09<00:59,  1.73it/s]"
          ]
        },
        {
          "output_type": "stream",
          "name": "stdout",
          "text": [
            "[574/1352] nonJatuh/272.avi | Frames: 73 | Person detections: 61\n"
          ]
        },
        {
          "output_type": "stream",
          "name": "stderr",
          "text": [
            "\rnonJatuh:  85%|████████▍ | 575/677 [06:09<00:52,  1.93it/s]"
          ]
        },
        {
          "output_type": "stream",
          "name": "stdout",
          "text": [
            "[575/1352] nonJatuh/315.avi | Frames: 32 | Person detections: 32\n"
          ]
        },
        {
          "output_type": "stream",
          "name": "stderr",
          "text": [
            "\rnonJatuh:  85%|████████▌ | 576/677 [06:10<00:56,  1.80it/s]"
          ]
        },
        {
          "output_type": "stream",
          "name": "stdout",
          "text": [
            "[576/1352] nonJatuh/265.avi | Frames: 58 | Person detections: 58\n"
          ]
        },
        {
          "output_type": "stream",
          "name": "stderr",
          "text": [
            "\rnonJatuh:  85%|████████▌ | 577/677 [06:10<00:47,  2.08it/s]"
          ]
        },
        {
          "output_type": "stream",
          "name": "stdout",
          "text": [
            "[577/1352] nonJatuh/310.avi | Frames: 26 | Person detections: 24\n"
          ]
        },
        {
          "output_type": "stream",
          "name": "stderr",
          "text": [
            "\rnonJatuh:  85%|████████▌ | 578/677 [06:11<01:14,  1.33it/s]"
          ]
        },
        {
          "output_type": "stream",
          "name": "stdout",
          "text": [
            "[578/1352] nonJatuh/269.avi | Frames: 134 | Person detections: 108\n"
          ]
        },
        {
          "output_type": "stream",
          "name": "stderr",
          "text": [
            "\rnonJatuh:  86%|████████▌ | 579/677 [06:12<01:04,  1.52it/s]"
          ]
        },
        {
          "output_type": "stream",
          "name": "stdout",
          "text": [
            "[579/1352] nonJatuh/334.avi | Frames: 36 | Person detections: 36\n"
          ]
        },
        {
          "output_type": "stream",
          "name": "stderr",
          "text": [
            "\rnonJatuh:  86%|████████▌ | 580/677 [06:13<01:08,  1.41it/s]"
          ]
        },
        {
          "output_type": "stream",
          "name": "stdout",
          "text": [
            "[580/1352] nonJatuh/294.avi | Frames: 76 | Person detections: 68\n"
          ]
        },
        {
          "output_type": "stream",
          "name": "stderr",
          "text": [
            "\rnonJatuh:  86%|████████▌ | 581/677 [06:13<01:09,  1.39it/s]"
          ]
        },
        {
          "output_type": "stream",
          "name": "stdout",
          "text": [
            "[581/1352] nonJatuh/273.avi | Frames: 73 | Person detections: 63\n"
          ]
        },
        {
          "output_type": "stream",
          "name": "stderr",
          "text": [
            "\rnonJatuh:  86%|████████▌ | 582/677 [06:15<01:37,  1.03s/it]"
          ]
        },
        {
          "output_type": "stream",
          "name": "stdout",
          "text": [
            "[582/1352] nonJatuh/360.avi | Frames: 159 | Person detections: 147\n"
          ]
        },
        {
          "output_type": "stream",
          "name": "stderr",
          "text": [
            "\rnonJatuh:  86%|████████▌ | 583/677 [06:17<01:46,  1.14s/it]"
          ]
        },
        {
          "output_type": "stream",
          "name": "stdout",
          "text": [
            "[583/1352] nonJatuh/282.avi | Frames: 100 | Person detections: 63\n"
          ]
        },
        {
          "output_type": "stream",
          "name": "stderr",
          "text": [
            "\rnonJatuh:  86%|████████▋ | 584/677 [06:17<01:28,  1.05it/s]"
          ]
        },
        {
          "output_type": "stream",
          "name": "stdout",
          "text": [
            "[584/1352] nonJatuh/297.avi | Frames: 31 | Person detections: 31\n"
          ]
        },
        {
          "output_type": "stream",
          "name": "stderr",
          "text": [
            "\rnonJatuh:  86%|████████▋ | 585/677 [06:18<01:32,  1.01s/it]"
          ]
        },
        {
          "output_type": "stream",
          "name": "stdout",
          "text": [
            "[585/1352] nonJatuh/271.avi | Frames: 79 | Person detections: 43\n"
          ]
        },
        {
          "output_type": "stream",
          "name": "stderr",
          "text": [
            "\rnonJatuh:  87%|████████▋ | 586/677 [06:19<01:21,  1.12it/s]"
          ]
        },
        {
          "output_type": "stream",
          "name": "stdout",
          "text": [
            "[586/1352] nonJatuh/332.avi | Frames: 44 | Person detections: 38\n"
          ]
        },
        {
          "output_type": "stream",
          "name": "stderr",
          "text": [
            "\rnonJatuh:  87%|████████▋ | 587/677 [06:20<01:19,  1.13it/s]"
          ]
        },
        {
          "output_type": "stream",
          "name": "stdout",
          "text": [
            "[587/1352] nonJatuh/267.avi | Frames: 84 | Person detections: 42\n"
          ]
        },
        {
          "output_type": "stream",
          "name": "stderr",
          "text": [
            "\rnonJatuh:  87%|████████▋ | 588/677 [06:20<01:04,  1.39it/s]"
          ]
        },
        {
          "output_type": "stream",
          "name": "stdout",
          "text": [
            "[588/1352] nonJatuh/356.avi | Frames: 31 | Person detections: 31\n"
          ]
        },
        {
          "output_type": "stream",
          "name": "stderr",
          "text": [
            "\rnonJatuh:  87%|████████▋ | 589/677 [06:21<00:59,  1.48it/s]"
          ]
        },
        {
          "output_type": "stream",
          "name": "stdout",
          "text": [
            "[589/1352] nonJatuh/320.avi | Frames: 48 | Person detections: 48\n"
          ]
        },
        {
          "output_type": "stream",
          "name": "stderr",
          "text": [
            "\rnonJatuh:  87%|████████▋ | 590/677 [06:21<00:59,  1.45it/s]"
          ]
        },
        {
          "output_type": "stream",
          "name": "stdout",
          "text": [
            "[590/1352] nonJatuh/344.avi | Frames: 61 | Person detections: 61\n"
          ]
        },
        {
          "output_type": "stream",
          "name": "stderr",
          "text": [
            "\rnonJatuh:  87%|████████▋ | 591/677 [06:22<00:59,  1.45it/s]"
          ]
        },
        {
          "output_type": "stream",
          "name": "stdout",
          "text": [
            "[591/1352] nonJatuh/309.avi | Frames: 60 | Person detections: 60\n"
          ]
        },
        {
          "output_type": "stream",
          "name": "stderr",
          "text": [
            "\rnonJatuh:  87%|████████▋ | 592/677 [06:23<00:58,  1.45it/s]"
          ]
        },
        {
          "output_type": "stream",
          "name": "stdout",
          "text": [
            "[592/1352] nonJatuh/345.avi | Frames: 61 | Person detections: 60\n"
          ]
        },
        {
          "output_type": "stream",
          "name": "stderr",
          "text": [
            "\rnonJatuh:  88%|████████▊ | 593/677 [06:24<01:06,  1.27it/s]"
          ]
        },
        {
          "output_type": "stream",
          "name": "stdout",
          "text": [
            "[593/1352] nonJatuh/336.avi | Frames: 96 | Person detections: 80\n"
          ]
        },
        {
          "output_type": "stream",
          "name": "stderr",
          "text": [
            "\rnonJatuh:  88%|████████▊ | 594/677 [06:24<00:56,  1.48it/s]"
          ]
        },
        {
          "output_type": "stream",
          "name": "stdout",
          "text": [
            "[594/1352] nonJatuh/260.avi | Frames: 38 | Person detections: 38\n"
          ]
        },
        {
          "output_type": "stream",
          "name": "stderr",
          "text": [
            "\rnonJatuh:  88%|████████▊ | 595/677 [06:25<00:49,  1.64it/s]"
          ]
        },
        {
          "output_type": "stream",
          "name": "stdout",
          "text": [
            "[595/1352] nonJatuh/261.avi | Frames: 38 | Person detections: 38\n"
          ]
        },
        {
          "output_type": "stream",
          "name": "stderr",
          "text": [
            "\rnonJatuh:  88%|████████▊ | 596/677 [06:28<01:59,  1.48s/it]"
          ]
        },
        {
          "output_type": "stream",
          "name": "stdout",
          "text": [
            "[596/1352] nonJatuh/249.avi | Frames: 318 | Person detections: 318\n"
          ]
        },
        {
          "output_type": "stream",
          "name": "stderr",
          "text": [
            "\rnonJatuh:  88%|████████▊ | 597/677 [06:35<04:17,  3.22s/it]"
          ]
        },
        {
          "output_type": "stream",
          "name": "stdout",
          "text": [
            "[597/1352] nonJatuh/71.mp4 | Frames: 382 | Person detections: 281\n"
          ]
        },
        {
          "output_type": "stream",
          "name": "stderr",
          "text": [
            "\rnonJatuh:  88%|████████▊ | 598/677 [06:41<05:00,  3.81s/it]"
          ]
        },
        {
          "output_type": "stream",
          "name": "stdout",
          "text": [
            "[598/1352] nonJatuh/24.mp4 | Frames: 340 | Person detections: 340\n"
          ]
        },
        {
          "output_type": "stream",
          "name": "stderr",
          "text": [
            "\rnonJatuh:  88%|████████▊ | 599/677 [06:43<04:36,  3.55s/it]"
          ]
        },
        {
          "output_type": "stream",
          "name": "stdout",
          "text": [
            "[599/1352] nonJatuh/21.mp4 | Frames: 158 | Person detections: 129\n"
          ]
        },
        {
          "output_type": "stream",
          "name": "stderr",
          "text": [
            "\rnonJatuh:  89%|████████▊ | 600/677 [06:49<05:16,  4.11s/it]"
          ]
        },
        {
          "output_type": "stream",
          "name": "stdout",
          "text": [
            "[600/1352] nonJatuh/42.mp4 | Frames: 296 | Person detections: 288\n",
            "===> Batch 11 disimpan (size 50)\n"
          ]
        },
        {
          "output_type": "stream",
          "name": "stderr",
          "text": [
            "\rnonJatuh:  89%|████████▉ | 601/677 [06:52<04:42,  3.72s/it]"
          ]
        },
        {
          "output_type": "stream",
          "name": "stdout",
          "text": [
            "[601/1352] nonJatuh/17.mp4 | Frames: 175 | Person detections: 174\n"
          ]
        },
        {
          "output_type": "stream",
          "name": "stderr",
          "text": [
            "\rnonJatuh:  89%|████████▉ | 602/677 [06:58<05:39,  4.53s/it]"
          ]
        },
        {
          "output_type": "stream",
          "name": "stdout",
          "text": [
            "[602/1352] nonJatuh/70.mp4 | Frames: 362 | Person detections: 362\n"
          ]
        },
        {
          "output_type": "stream",
          "name": "stderr",
          "text": [
            "\rnonJatuh:  89%|████████▉ | 603/677 [07:01<05:00,  4.06s/it]"
          ]
        },
        {
          "output_type": "stream",
          "name": "stdout",
          "text": [
            "[603/1352] nonJatuh/44.mp4 | Frames: 154 | Person detections: 154\n"
          ]
        },
        {
          "output_type": "stream",
          "name": "stderr",
          "text": [
            "\rnonJatuh:  89%|████████▉ | 604/677 [07:06<05:18,  4.37s/it]"
          ]
        },
        {
          "output_type": "stream",
          "name": "stdout",
          "text": [
            "[604/1352] nonJatuh/79.mp4 | Frames: 421 | Person detections: 421\n"
          ]
        },
        {
          "output_type": "stream",
          "name": "stderr",
          "text": [
            "\rnonJatuh:  89%|████████▉ | 605/677 [07:13<06:14,  5.20s/it]"
          ]
        },
        {
          "output_type": "stream",
          "name": "stdout",
          "text": [
            "[605/1352] nonJatuh/69.mp4 | Frames: 368 | Person detections: 343\n"
          ]
        },
        {
          "output_type": "stream",
          "name": "stderr",
          "text": [
            "\rnonJatuh:  90%|████████▉ | 606/677 [07:16<05:13,  4.42s/it]"
          ]
        },
        {
          "output_type": "stream",
          "name": "stdout",
          "text": [
            "[606/1352] nonJatuh/37.mp4 | Frames: 166 | Person detections: 148\n"
          ]
        },
        {
          "output_type": "stream",
          "name": "stderr",
          "text": [
            "\rnonJatuh:  90%|████████▉ | 607/677 [07:19<04:32,  3.89s/it]"
          ]
        },
        {
          "output_type": "stream",
          "name": "stdout",
          "text": [
            "[607/1352] nonJatuh/20.mp4 | Frames: 175 | Person detections: 142\n"
          ]
        },
        {
          "output_type": "stream",
          "name": "stderr",
          "text": [
            "\rnonJatuh:  90%|████████▉ | 608/677 [07:21<03:57,  3.45s/it]"
          ]
        },
        {
          "output_type": "stream",
          "name": "stdout",
          "text": [
            "[608/1352] nonJatuh/14.mp4 | Frames: 173 | Person detections: 173\n"
          ]
        },
        {
          "output_type": "stream",
          "name": "stderr",
          "text": [
            "\rnonJatuh:  90%|████████▉ | 609/677 [07:24<03:46,  3.33s/it]"
          ]
        },
        {
          "output_type": "stream",
          "name": "stdout",
          "text": [
            "[609/1352] nonJatuh/74.mp4 | Frames: 164 | Person detections: 164\n"
          ]
        },
        {
          "output_type": "stream",
          "name": "stderr",
          "text": [
            "\rnonJatuh:  90%|█████████ | 610/677 [07:29<04:21,  3.90s/it]"
          ]
        },
        {
          "output_type": "stream",
          "name": "stdout",
          "text": [
            "[610/1352] nonJatuh/61.mp4 | Frames: 283 | Person detections: 283\n"
          ]
        },
        {
          "output_type": "stream",
          "name": "stderr",
          "text": [
            "\rnonJatuh:  90%|█████████ | 611/677 [07:32<03:52,  3.52s/it]"
          ]
        },
        {
          "output_type": "stream",
          "name": "stdout",
          "text": [
            "[611/1352] nonJatuh/19.mp4 | Frames: 170 | Person detections: 110\n"
          ]
        },
        {
          "output_type": "stream",
          "name": "stderr",
          "text": [
            "\rnonJatuh:  90%|█████████ | 612/677 [07:39<04:53,  4.52s/it]"
          ]
        },
        {
          "output_type": "stream",
          "name": "stdout",
          "text": [
            "[612/1352] nonJatuh/30.mp4 | Frames: 388 | Person detections: 388\n"
          ]
        },
        {
          "output_type": "stream",
          "name": "stderr",
          "text": [
            "\rnonJatuh:  91%|█████████ | 613/677 [07:44<05:08,  4.83s/it]"
          ]
        },
        {
          "output_type": "stream",
          "name": "stdout",
          "text": [
            "[613/1352] nonJatuh/29.mp4 | Frames: 321 | Person detections: 321\n"
          ]
        },
        {
          "output_type": "stream",
          "name": "stderr",
          "text": [
            "\rnonJatuh:  91%|█████████ | 614/677 [07:47<04:25,  4.21s/it]"
          ]
        },
        {
          "output_type": "stream",
          "name": "stdout",
          "text": [
            "[614/1352] nonJatuh/02.mp4 | Frames: 198 | Person detections: 112\n"
          ]
        },
        {
          "output_type": "stream",
          "name": "stderr",
          "text": [
            "\rnonJatuh:  91%|█████████ | 615/677 [07:53<04:56,  4.78s/it]"
          ]
        },
        {
          "output_type": "stream",
          "name": "stdout",
          "text": [
            "[615/1352] nonJatuh/63.mp4 | Frames: 315 | Person detections: 315\n"
          ]
        },
        {
          "output_type": "stream",
          "name": "stderr",
          "text": [
            "\rnonJatuh:  91%|█████████ | 616/677 [07:58<04:58,  4.90s/it]"
          ]
        },
        {
          "output_type": "stream",
          "name": "stdout",
          "text": [
            "[616/1352] nonJatuh/32.mp4 | Frames: 327 | Person detections: 327\n"
          ]
        },
        {
          "output_type": "stream",
          "name": "stderr",
          "text": [
            "\rnonJatuh:  91%|█████████ | 617/677 [08:01<04:18,  4.30s/it]"
          ]
        },
        {
          "output_type": "stream",
          "name": "stdout",
          "text": [
            "[617/1352] nonJatuh/03.mp4 | Frames: 199 | Person detections: 129\n"
          ]
        },
        {
          "output_type": "stream",
          "name": "stderr",
          "text": [
            "\rnonJatuh:  91%|█████████▏| 618/677 [08:06<04:28,  4.55s/it]"
          ]
        },
        {
          "output_type": "stream",
          "name": "stdout",
          "text": [
            "[618/1352] nonJatuh/73.mp4 | Frames: 257 | Person detections: 257\n"
          ]
        },
        {
          "output_type": "stream",
          "name": "stderr",
          "text": [
            "\rnonJatuh:  91%|█████████▏| 619/677 [08:10<04:13,  4.37s/it]"
          ]
        },
        {
          "output_type": "stream",
          "name": "stdout",
          "text": [
            "[619/1352] nonJatuh/66.mp4 | Frames: 220 | Person detections: 209\n"
          ]
        },
        {
          "output_type": "stream",
          "name": "stderr",
          "text": [
            "\rnonJatuh:  92%|█████████▏| 620/677 [08:12<03:23,  3.57s/it]"
          ]
        },
        {
          "output_type": "stream",
          "name": "stdout",
          "text": [
            "[620/1352] nonJatuh/46.mp4 | Frames: 100 | Person detections: 100\n"
          ]
        },
        {
          "output_type": "stream",
          "name": "stderr",
          "text": [
            "\rnonJatuh:  92%|█████████▏| 621/677 [08:14<02:57,  3.17s/it]"
          ]
        },
        {
          "output_type": "stream",
          "name": "stdout",
          "text": [
            "[621/1352] nonJatuh/09.mp4 | Frames: 147 | Person detections: 147\n"
          ]
        },
        {
          "output_type": "stream",
          "name": "stderr",
          "text": [
            "\rnonJatuh:  92%|█████████▏| 622/677 [08:17<02:40,  2.92s/it]"
          ]
        },
        {
          "output_type": "stream",
          "name": "stdout",
          "text": [
            "[622/1352] nonJatuh/68.mp4 | Frames: 149 | Person detections: 30\n"
          ]
        },
        {
          "output_type": "stream",
          "name": "stderr",
          "text": [
            "\rnonJatuh:  92%|█████████▏| 623/677 [08:23<03:39,  4.07s/it]"
          ]
        },
        {
          "output_type": "stream",
          "name": "stdout",
          "text": [
            "[623/1352] nonJatuh/06.mp4 | Frames: 364 | Person detections: 364\n"
          ]
        },
        {
          "output_type": "stream",
          "name": "stderr",
          "text": [
            "\rnonJatuh:  92%|█████████▏| 624/677 [08:28<03:47,  4.29s/it]"
          ]
        },
        {
          "output_type": "stream",
          "name": "stdout",
          "text": [
            "[624/1352] nonJatuh/55.mp4 | Frames: 306 | Person detections: 306\n"
          ]
        },
        {
          "output_type": "stream",
          "name": "stderr",
          "text": [
            "\rnonJatuh:  92%|█████████▏| 625/677 [08:32<03:29,  4.04s/it]"
          ]
        },
        {
          "output_type": "stream",
          "name": "stdout",
          "text": [
            "[625/1352] nonJatuh/12.mp4 | Frames: 218 | Person detections: 218\n"
          ]
        },
        {
          "output_type": "stream",
          "name": "stderr",
          "text": [
            "\rnonJatuh:  92%|█████████▏| 626/677 [08:38<03:54,  4.59s/it]"
          ]
        },
        {
          "output_type": "stream",
          "name": "stdout",
          "text": [
            "[626/1352] nonJatuh/43.mp4 | Frames: 300 | Person detections: 300\n"
          ]
        },
        {
          "output_type": "stream",
          "name": "stderr",
          "text": [
            "\rnonJatuh:  93%|█████████▎| 627/677 [08:41<03:33,  4.27s/it]"
          ]
        },
        {
          "output_type": "stream",
          "name": "stdout",
          "text": [
            "[627/1352] nonJatuh/33.mp4 | Frames: 226 | Person detections: 225\n"
          ]
        },
        {
          "output_type": "stream",
          "name": "stderr",
          "text": [
            "\rnonJatuh:  93%|█████████▎| 628/677 [08:47<04:00,  4.91s/it]"
          ]
        },
        {
          "output_type": "stream",
          "name": "stdout",
          "text": [
            "[628/1352] nonJatuh/25.mp4 | Frames: 352 | Person detections: 352\n"
          ]
        },
        {
          "output_type": "stream",
          "name": "stderr",
          "text": [
            "\rnonJatuh:  93%|█████████▎| 629/677 [08:52<03:54,  4.88s/it]"
          ]
        },
        {
          "output_type": "stream",
          "name": "stdout",
          "text": [
            "[629/1352] nonJatuh/34.mp4 | Frames: 298 | Person detections: 298\n"
          ]
        },
        {
          "output_type": "stream",
          "name": "stderr",
          "text": [
            "\rnonJatuh:  93%|█████████▎| 630/677 [08:56<03:36,  4.60s/it]"
          ]
        },
        {
          "output_type": "stream",
          "name": "stdout",
          "text": [
            "[630/1352] nonJatuh/40.mp4 | Frames: 261 | Person detections: 261\n"
          ]
        },
        {
          "output_type": "stream",
          "name": "stderr",
          "text": [
            "\rnonJatuh:  93%|█████████▎| 631/677 [09:01<03:40,  4.79s/it]"
          ]
        },
        {
          "output_type": "stream",
          "name": "stdout",
          "text": [
            "[631/1352] nonJatuh/75.mp4 | Frames: 248 | Person detections: 248\n"
          ]
        },
        {
          "output_type": "stream",
          "name": "stderr",
          "text": [
            "\rnonJatuh:  93%|█████████▎| 632/677 [09:03<02:55,  3.89s/it]"
          ]
        },
        {
          "output_type": "stream",
          "name": "stdout",
          "text": [
            "[632/1352] nonJatuh/10.mp4 | Frames: 115 | Person detections: 115\n"
          ]
        },
        {
          "output_type": "stream",
          "name": "stderr",
          "text": [
            "\rnonJatuh:  94%|█████████▎| 633/677 [09:08<03:01,  4.11s/it]"
          ]
        },
        {
          "output_type": "stream",
          "name": "stdout",
          "text": [
            "[633/1352] nonJatuh/05.mp4 | Frames: 314 | Person detections: 284\n"
          ]
        },
        {
          "output_type": "stream",
          "name": "stderr",
          "text": [
            "\rnonJatuh:  94%|█████████▎| 634/677 [09:11<02:49,  3.94s/it]"
          ]
        },
        {
          "output_type": "stream",
          "name": "stdout",
          "text": [
            "[634/1352] nonJatuh/01.mp4 | Frames: 245 | Person detections: 210\n"
          ]
        },
        {
          "output_type": "stream",
          "name": "stderr",
          "text": [
            "\rnonJatuh:  94%|█████████▍| 635/677 [09:16<02:49,  4.02s/it]"
          ]
        },
        {
          "output_type": "stream",
          "name": "stdout",
          "text": [
            "[635/1352] nonJatuh/18.mp4 | Frames: 175 | Person detections: 175\n"
          ]
        },
        {
          "output_type": "stream",
          "name": "stderr",
          "text": [
            "\rnonJatuh:  94%|█████████▍| 636/677 [09:17<02:16,  3.33s/it]"
          ]
        },
        {
          "output_type": "stream",
          "name": "stdout",
          "text": [
            "[636/1352] nonJatuh/59.mp4 | Frames: 141 | Person detections: 141\n"
          ]
        },
        {
          "output_type": "stream",
          "name": "stderr",
          "text": [
            "\rnonJatuh:  94%|█████████▍| 637/677 [09:19<01:55,  2.89s/it]"
          ]
        },
        {
          "output_type": "stream",
          "name": "stdout",
          "text": [
            "[637/1352] nonJatuh/54.mp4 | Frames: 115 | Person detections: 115\n"
          ]
        },
        {
          "output_type": "stream",
          "name": "stderr",
          "text": [
            "\rnonJatuh:  94%|█████████▍| 638/677 [09:21<01:46,  2.72s/it]"
          ]
        },
        {
          "output_type": "stream",
          "name": "stdout",
          "text": [
            "[638/1352] nonJatuh/47.mp4 | Frames: 146 | Person detections: 143\n"
          ]
        },
        {
          "output_type": "stream",
          "name": "stderr",
          "text": [
            "\rnonJatuh:  94%|█████████▍| 639/677 [09:24<01:41,  2.66s/it]"
          ]
        },
        {
          "output_type": "stream",
          "name": "stdout",
          "text": [
            "[639/1352] nonJatuh/04.mp4 | Frames: 170 | Person detections: 138\n"
          ]
        },
        {
          "output_type": "stream",
          "name": "stderr",
          "text": [
            "\rnonJatuh:  95%|█████████▍| 640/677 [09:27<01:47,  2.90s/it]"
          ]
        },
        {
          "output_type": "stream",
          "name": "stdout",
          "text": [
            "[640/1352] nonJatuh/76.mp4 | Frames: 159 | Person detections: 158\n"
          ]
        },
        {
          "output_type": "stream",
          "name": "stderr",
          "text": [
            "\rnonJatuh:  95%|█████████▍| 641/677 [09:31<01:48,  3.02s/it]"
          ]
        },
        {
          "output_type": "stream",
          "name": "stdout",
          "text": [
            "[641/1352] nonJatuh/39.mp4 | Frames: 173 | Person detections: 161\n"
          ]
        },
        {
          "output_type": "stream",
          "name": "stderr",
          "text": [
            "\rnonJatuh:  95%|█████████▍| 642/677 [09:34<01:44,  2.98s/it]"
          ]
        },
        {
          "output_type": "stream",
          "name": "stdout",
          "text": [
            "[642/1352] nonJatuh/22.mp4 | Frames: 182 | Person detections: 97\n"
          ]
        },
        {
          "output_type": "stream",
          "name": "stderr",
          "text": [
            "\rnonJatuh:  95%|█████████▍| 643/677 [09:37<01:44,  3.08s/it]"
          ]
        },
        {
          "output_type": "stream",
          "name": "stdout",
          "text": [
            "[643/1352] nonJatuh/07.mp4 | Frames: 224 | Person detections: 224\n"
          ]
        },
        {
          "output_type": "stream",
          "name": "stderr",
          "text": [
            "\rnonJatuh:  95%|█████████▌| 644/677 [09:45<02:28,  4.51s/it]"
          ]
        },
        {
          "output_type": "stream",
          "name": "stdout",
          "text": [
            "[644/1352] nonJatuh/31.mp4 | Frames: 408 | Person detections: 408\n"
          ]
        },
        {
          "output_type": "stream",
          "name": "stderr",
          "text": [
            "\rnonJatuh:  95%|█████████▌| 645/677 [09:50<02:28,  4.64s/it]"
          ]
        },
        {
          "output_type": "stream",
          "name": "stdout",
          "text": [
            "[645/1352] nonJatuh/72.mp4 | Frames: 320 | Person detections: 320\n"
          ]
        },
        {
          "output_type": "stream",
          "name": "stderr",
          "text": [
            "\rnonJatuh:  95%|█████████▌| 646/677 [09:51<01:51,  3.60s/it]"
          ]
        },
        {
          "output_type": "stream",
          "name": "stdout",
          "text": [
            "[646/1352] nonJatuh/58.mp4 | Frames: 98 | Person detections: 72\n"
          ]
        },
        {
          "output_type": "stream",
          "name": "stderr",
          "text": [
            "\rnonJatuh:  96%|█████████▌| 647/677 [09:52<01:27,  2.91s/it]"
          ]
        },
        {
          "output_type": "stream",
          "name": "stdout",
          "text": [
            "[647/1352] nonJatuh/23.mp4 | Frames: 109 | Person detections: 109\n"
          ]
        },
        {
          "output_type": "stream",
          "name": "stderr",
          "text": [
            "\rnonJatuh:  96%|█████████▌| 648/677 [09:58<01:45,  3.62s/it]"
          ]
        },
        {
          "output_type": "stream",
          "name": "stdout",
          "text": [
            "[648/1352] nonJatuh/11.mp4 | Frames: 277 | Person detections: 277\n"
          ]
        },
        {
          "output_type": "stream",
          "name": "stderr",
          "text": [
            "\rnonJatuh:  96%|█████████▌| 649/677 [10:04<02:01,  4.34s/it]"
          ]
        },
        {
          "output_type": "stream",
          "name": "stdout",
          "text": [
            "[649/1352] nonJatuh/65.mp4 | Frames: 388 | Person detections: 388\n"
          ]
        },
        {
          "output_type": "stream",
          "name": "stderr",
          "text": [
            "\rnonJatuh:  96%|█████████▌| 650/677 [10:08<01:57,  4.34s/it]"
          ]
        },
        {
          "output_type": "stream",
          "name": "stdout",
          "text": [
            "[650/1352] nonJatuh/48.mp4 | Frames: 232 | Person detections: 231\n",
            "===> Batch 12 disimpan (size 50)\n"
          ]
        },
        {
          "output_type": "stream",
          "name": "stderr",
          "text": [
            "\rnonJatuh:  96%|█████████▌| 651/677 [10:11<01:45,  4.04s/it]"
          ]
        },
        {
          "output_type": "stream",
          "name": "stdout",
          "text": [
            "[651/1352] nonJatuh/08.mp4 | Frames: 187 | Person detections: 187\n"
          ]
        },
        {
          "output_type": "stream",
          "name": "stderr",
          "text": [
            "\rnonJatuh:  96%|█████████▋| 652/677 [10:17<01:52,  4.52s/it]"
          ]
        },
        {
          "output_type": "stream",
          "name": "stdout",
          "text": [
            "[652/1352] nonJatuh/49.mp4 | Frames: 371 | Person detections: 371\n"
          ]
        },
        {
          "output_type": "stream",
          "name": "stderr",
          "text": [
            "\rnonJatuh:  96%|█████████▋| 653/677 [10:24<02:08,  5.36s/it]"
          ]
        },
        {
          "output_type": "stream",
          "name": "stdout",
          "text": [
            "[653/1352] nonJatuh/81.mp4 | Frames: 523 | Person detections: 523\n"
          ]
        },
        {
          "output_type": "stream",
          "name": "stderr",
          "text": [
            "\rnonJatuh:  97%|█████████▋| 654/677 [10:30<02:05,  5.47s/it]"
          ]
        },
        {
          "output_type": "stream",
          "name": "stdout",
          "text": [
            "[654/1352] nonJatuh/62.mp4 | Frames: 370 | Person detections: 370\n"
          ]
        },
        {
          "output_type": "stream",
          "name": "stderr",
          "text": [
            "\rnonJatuh:  97%|█████████▋| 655/677 [10:32<01:37,  4.45s/it]"
          ]
        },
        {
          "output_type": "stream",
          "name": "stdout",
          "text": [
            "[655/1352] nonJatuh/57.mp4 | Frames: 167 | Person detections: 164\n"
          ]
        },
        {
          "output_type": "stream",
          "name": "stderr",
          "text": [
            "\rnonJatuh:  97%|█████████▋| 656/677 [10:36<01:30,  4.32s/it]"
          ]
        },
        {
          "output_type": "stream",
          "name": "stdout",
          "text": [
            "[656/1352] nonJatuh/56.mp4 | Frames: 182 | Person detections: 182\n"
          ]
        },
        {
          "output_type": "stream",
          "name": "stderr",
          "text": [
            "\rnonJatuh:  97%|█████████▋| 657/677 [10:39<01:19,  3.96s/it]"
          ]
        },
        {
          "output_type": "stream",
          "name": "stdout",
          "text": [
            "[657/1352] nonJatuh/78.mp4 | Frames: 186 | Person detections: 169\n"
          ]
        },
        {
          "output_type": "stream",
          "name": "stderr",
          "text": [
            "\rnonJatuh:  97%|█████████▋| 658/677 [10:44<01:18,  4.16s/it]"
          ]
        },
        {
          "output_type": "stream",
          "name": "stdout",
          "text": [
            "[658/1352] nonJatuh/60.mp4 | Frames: 305 | Person detections: 305\n"
          ]
        },
        {
          "output_type": "stream",
          "name": "stderr",
          "text": [
            "\rnonJatuh:  97%|█████████▋| 659/677 [10:47<01:08,  3.78s/it]"
          ]
        },
        {
          "output_type": "stream",
          "name": "stdout",
          "text": [
            "[659/1352] nonJatuh/38.mp4 | Frames: 179 | Person detections: 167\n"
          ]
        },
        {
          "output_type": "stream",
          "name": "stderr",
          "text": [
            "\rnonJatuh:  97%|█████████▋| 660/677 [10:50<01:02,  3.70s/it]"
          ]
        },
        {
          "output_type": "stream",
          "name": "stdout",
          "text": [
            "[660/1352] nonJatuh/53.mp4 | Frames: 133 | Person detections: 123\n"
          ]
        },
        {
          "output_type": "stream",
          "name": "stderr",
          "text": [
            "\rnonJatuh:  98%|█████████▊| 661/677 [10:55<01:05,  4.09s/it]"
          ]
        },
        {
          "output_type": "stream",
          "name": "stdout",
          "text": [
            "[661/1352] nonJatuh/28.mp4 | Frames: 323 | Person detections: 323\n"
          ]
        },
        {
          "output_type": "stream",
          "name": "stderr",
          "text": [
            "\rnonJatuh:  98%|█████████▊| 662/677 [10:59<01:01,  4.09s/it]"
          ]
        },
        {
          "output_type": "stream",
          "name": "stdout",
          "text": [
            "[662/1352] nonJatuh/45.mp4 | Frames: 267 | Person detections: 267\n"
          ]
        },
        {
          "output_type": "stream",
          "name": "stderr",
          "text": [
            "\rnonJatuh:  98%|█████████▊| 663/677 [11:02<00:52,  3.76s/it]"
          ]
        },
        {
          "output_type": "stream",
          "name": "stdout",
          "text": [
            "[663/1352] nonJatuh/52.mp4 | Frames: 130 | Person detections: 125\n"
          ]
        },
        {
          "output_type": "stream",
          "name": "stderr",
          "text": [
            "\rnonJatuh:  98%|█████████▊| 664/677 [11:05<00:46,  3.54s/it]"
          ]
        },
        {
          "output_type": "stream",
          "name": "stdout",
          "text": [
            "[664/1352] nonJatuh/51.mp4 | Frames: 160 | Person detections: 160\n"
          ]
        },
        {
          "output_type": "stream",
          "name": "stderr",
          "text": [
            "\rnonJatuh:  98%|█████████▊| 665/677 [11:09<00:44,  3.73s/it]"
          ]
        },
        {
          "output_type": "stream",
          "name": "stdout",
          "text": [
            "[665/1352] nonJatuh/64.mp4 | Frames: 267 | Person detections: 264\n"
          ]
        },
        {
          "output_type": "stream",
          "name": "stderr",
          "text": [
            "\rnonJatuh:  98%|█████████▊| 666/677 [11:13<00:39,  3.55s/it]"
          ]
        },
        {
          "output_type": "stream",
          "name": "stdout",
          "text": [
            "[666/1352] nonJatuh/67.mp4 | Frames: 196 | Person detections: 175\n"
          ]
        },
        {
          "output_type": "stream",
          "name": "stderr",
          "text": [
            "\rnonJatuh:  99%|█████████▊| 667/677 [11:18<00:41,  4.19s/it]"
          ]
        },
        {
          "output_type": "stream",
          "name": "stdout",
          "text": [
            "[667/1352] nonJatuh/41.mp4 | Frames: 273 | Person detections: 273\n"
          ]
        },
        {
          "output_type": "stream",
          "name": "stderr",
          "text": [
            "\rnonJatuh:  99%|█████████▊| 668/677 [11:21<00:33,  3.72s/it]"
          ]
        },
        {
          "output_type": "stream",
          "name": "stdout",
          "text": [
            "[668/1352] nonJatuh/13.mp4 | Frames: 187 | Person detections: 187\n"
          ]
        },
        {
          "output_type": "stream",
          "name": "stderr",
          "text": [
            "\rnonJatuh:  99%|█████████▉| 669/677 [11:24<00:29,  3.68s/it]"
          ]
        },
        {
          "output_type": "stream",
          "name": "stdout",
          "text": [
            "[669/1352] nonJatuh/27.mp4 | Frames: 234 | Person detections: 234\n"
          ]
        },
        {
          "output_type": "stream",
          "name": "stderr",
          "text": [
            "\rnonJatuh:  99%|█████████▉| 670/677 [11:31<00:32,  4.61s/it]"
          ]
        },
        {
          "output_type": "stream",
          "name": "stdout",
          "text": [
            "[670/1352] nonJatuh/26.mp4 | Frames: 356 | Person detections: 326\n"
          ]
        },
        {
          "output_type": "stream",
          "name": "stderr",
          "text": [
            "\rnonJatuh:  99%|█████████▉| 671/677 [11:34<00:24,  4.13s/it]"
          ]
        },
        {
          "output_type": "stream",
          "name": "stdout",
          "text": [
            "[671/1352] nonJatuh/15.mp4 | Frames: 212 | Person detections: 212\n"
          ]
        },
        {
          "output_type": "stream",
          "name": "stderr",
          "text": [
            "\rnonJatuh:  99%|█████████▉| 672/677 [11:38<00:19,  3.95s/it]"
          ]
        },
        {
          "output_type": "stream",
          "name": "stdout",
          "text": [
            "[672/1352] nonJatuh/80.mp4 | Frames: 296 | Person detections: 296\n"
          ]
        },
        {
          "output_type": "stream",
          "name": "stderr",
          "text": [
            "\rnonJatuh:  99%|█████████▉| 673/677 [11:41<00:15,  3.87s/it]"
          ]
        },
        {
          "output_type": "stream",
          "name": "stdout",
          "text": [
            "[673/1352] nonJatuh/77.mp4 | Frames: 213 | Person detections: 200\n"
          ]
        },
        {
          "output_type": "stream",
          "name": "stderr",
          "text": [
            "\rnonJatuh: 100%|█████████▉| 674/677 [11:48<00:14,  4.68s/it]"
          ]
        },
        {
          "output_type": "stream",
          "name": "stdout",
          "text": [
            "[674/1352] nonJatuh/50.mp4 | Frames: 361 | Person detections: 359\n"
          ]
        },
        {
          "output_type": "stream",
          "name": "stderr",
          "text": [
            "\rnonJatuh: 100%|█████████▉| 675/677 [11:50<00:07,  3.73s/it]"
          ]
        },
        {
          "output_type": "stream",
          "name": "stdout",
          "text": [
            "[675/1352] nonJatuh/16.mp4 | Frames: 104 | Person detections: 104\n"
          ]
        },
        {
          "output_type": "stream",
          "name": "stderr",
          "text": [
            "\rnonJatuh: 100%|█████████▉| 676/677 [11:52<00:03,  3.30s/it]"
          ]
        },
        {
          "output_type": "stream",
          "name": "stdout",
          "text": [
            "[676/1352] nonJatuh/36.mp4 | Frames: 145 | Person detections: 143\n"
          ]
        },
        {
          "output_type": "stream",
          "name": "stderr",
          "text": [
            "nonJatuh: 100%|██████████| 677/677 [11:56<00:00,  1.06s/it]\n"
          ]
        },
        {
          "output_type": "stream",
          "name": "stdout",
          "text": [
            "[677/1352] nonJatuh/35.mp4 | Frames: 227 | Person detections: 220\n"
          ]
        },
        {
          "output_type": "stream",
          "name": "stderr",
          "text": [
            "jatuh:   0%|          | 1/675 [00:00<05:21,  2.10it/s]"
          ]
        },
        {
          "output_type": "stream",
          "name": "stdout",
          "text": [
            "[678/1352] jatuh/332.avi | Frames: 30 | Person detections: 4\n"
          ]
        },
        {
          "output_type": "stream",
          "name": "stderr",
          "text": [
            "\rjatuh:   0%|          | 2/675 [00:00<05:15,  2.13it/s]"
          ]
        },
        {
          "output_type": "stream",
          "name": "stdout",
          "text": [
            "[679/1352] jatuh/333.avi | Frames: 30 | Person detections: 4\n"
          ]
        },
        {
          "output_type": "stream",
          "name": "stderr",
          "text": [
            "\rjatuh:   0%|          | 3/675 [00:01<04:12,  2.66it/s]"
          ]
        },
        {
          "output_type": "stream",
          "name": "stdout",
          "text": [
            "[680/1352] jatuh/304.avi | Frames: 14 | Person detections: 6\n"
          ]
        },
        {
          "output_type": "stream",
          "name": "stderr",
          "text": [
            "\rjatuh:   1%|          | 4/675 [00:01<04:57,  2.25it/s]"
          ]
        },
        {
          "output_type": "stream",
          "name": "stdout",
          "text": [
            "[681/1352] jatuh/302.avi | Frames: 30 | Person detections: 0\n"
          ]
        },
        {
          "output_type": "stream",
          "name": "stderr",
          "text": [
            "\rjatuh:   1%|          | 5/675 [00:02<04:29,  2.49it/s]"
          ]
        },
        {
          "output_type": "stream",
          "name": "stdout",
          "text": [
            "[682/1352] jatuh/306.avi | Frames: 30 | Person detections: 1\n"
          ]
        },
        {
          "output_type": "stream",
          "name": "stderr",
          "text": [
            "\rjatuh:   1%|          | 6/675 [00:02<04:08,  2.69it/s]"
          ]
        },
        {
          "output_type": "stream",
          "name": "stdout",
          "text": [
            "[683/1352] jatuh/303.avi | Frames: 30 | Person detections: 1\n"
          ]
        },
        {
          "output_type": "stream",
          "name": "stderr",
          "text": [
            "\rjatuh:   1%|          | 7/675 [00:03<07:59,  1.39it/s]"
          ]
        },
        {
          "output_type": "stream",
          "name": "stdout",
          "text": [
            "[684/1352] jatuh/319.avi | Frames: 30 | Person detections: 30\n"
          ]
        },
        {
          "output_type": "stream",
          "name": "stderr",
          "text": [
            "\rjatuh:   1%|          | 8/675 [00:05<09:37,  1.16it/s]"
          ]
        },
        {
          "output_type": "stream",
          "name": "stdout",
          "text": [
            "[685/1352] jatuh/329.avi | Frames: 30 | Person detections: 8\n",
            "[686/1352] jatuh/318.avi | Frames: 3 | Person detections: 3\n"
          ]
        },
        {
          "output_type": "stream",
          "name": "stderr",
          "text": [
            "jatuh:   2%|▏         | 12/675 [00:05<04:02,  2.74it/s]"
          ]
        },
        {
          "output_type": "stream",
          "name": "stdout",
          "text": [
            "[687/1352] jatuh/300.avi | Frames: 40 | Person detections: 40\n",
            "[688/1352] jatuh/310.avi | Frames: 1 | Person detections: 1\n",
            "[689/1352] jatuh/309.avi | Frames: 7 | Person detections: 7\n"
          ]
        },
        {
          "output_type": "stream",
          "name": "stderr",
          "text": [
            "\rjatuh:   2%|▏         | 13/675 [00:05<04:00,  2.76it/s]"
          ]
        },
        {
          "output_type": "stream",
          "name": "stdout",
          "text": [
            "[690/1352] jatuh/331.avi | Frames: 30 | Person detections: 4\n"
          ]
        },
        {
          "output_type": "stream",
          "name": "stderr",
          "text": [
            "\rjatuh:   2%|▏         | 14/675 [00:06<04:01,  2.74it/s]"
          ]
        },
        {
          "output_type": "stream",
          "name": "stdout",
          "text": [
            "[691/1352] jatuh/326.avi | Frames: 30 | Person detections: 25\n"
          ]
        },
        {
          "output_type": "stream",
          "name": "stderr",
          "text": [
            "\rjatuh:   2%|▏         | 15/675 [00:06<03:58,  2.76it/s]"
          ]
        },
        {
          "output_type": "stream",
          "name": "stdout",
          "text": [
            "[692/1352] jatuh/307.avi | Frames: 30 | Person detections: 8\n"
          ]
        },
        {
          "output_type": "stream",
          "name": "stderr",
          "text": [
            "\rjatuh:   2%|▏         | 16/675 [00:07<03:57,  2.77it/s]"
          ]
        },
        {
          "output_type": "stream",
          "name": "stdout",
          "text": [
            "[693/1352] jatuh/330.avi | Frames: 30 | Person detections: 13\n"
          ]
        },
        {
          "output_type": "stream",
          "name": "stderr",
          "text": [
            "jatuh:   3%|▎         | 19/675 [00:07<02:33,  4.27it/s]"
          ]
        },
        {
          "output_type": "stream",
          "name": "stdout",
          "text": [
            "[694/1352] jatuh/320.avi | Frames: 34 | Person detections: 34\n",
            "[695/1352] jatuh/337.avi | Frames: 2 | Person detections: 0\n",
            "[696/1352] jatuh/308.avi | Frames: 7 | Person detections: 7\n"
          ]
        },
        {
          "output_type": "stream",
          "name": "stderr",
          "text": [
            "\rjatuh:   3%|▎         | 20/675 [00:07<02:53,  3.78it/s]"
          ]
        },
        {
          "output_type": "stream",
          "name": "stdout",
          "text": [
            "[697/1352] jatuh/322.avi | Frames: 30 | Person detections: 6\n"
          ]
        },
        {
          "output_type": "stream",
          "name": "stderr",
          "text": [
            "\rjatuh:   3%|▎         | 21/675 [00:08<03:09,  3.45it/s]"
          ]
        },
        {
          "output_type": "stream",
          "name": "stdout",
          "text": [
            "[698/1352] jatuh/317.avi | Frames: 30 | Person detections: 2\n"
          ]
        },
        {
          "output_type": "stream",
          "name": "stderr",
          "text": [
            "\rjatuh:   3%|▎         | 22/675 [00:08<03:22,  3.22it/s]"
          ]
        },
        {
          "output_type": "stream",
          "name": "stdout",
          "text": [
            "[699/1352] jatuh/335.avi | Frames: 30 | Person detections: 28\n"
          ]
        },
        {
          "output_type": "stream",
          "name": "stderr",
          "text": [
            "\rjatuh:   3%|▎         | 23/675 [00:09<03:27,  3.14it/s]"
          ]
        },
        {
          "output_type": "stream",
          "name": "stdout",
          "text": [
            "[700/1352] jatuh/313.avi | Frames: 30 | Person detections: 0\n",
            "===> Batch 13 disimpan (size 50)\n"
          ]
        },
        {
          "output_type": "stream",
          "name": "stderr",
          "text": [
            "\rjatuh:   4%|▎         | 24/675 [00:09<04:04,  2.66it/s]"
          ]
        },
        {
          "output_type": "stream",
          "name": "stdout",
          "text": [
            "[701/1352] jatuh/311.avi | Frames: 46 | Person detections: 46\n"
          ]
        },
        {
          "output_type": "stream",
          "name": "stderr",
          "text": [
            "\rjatuh:   4%|▎         | 25/675 [00:09<04:02,  2.68it/s]"
          ]
        },
        {
          "output_type": "stream",
          "name": "stdout",
          "text": [
            "[702/1352] jatuh/325.avi | Frames: 30 | Person detections: 28\n"
          ]
        },
        {
          "output_type": "stream",
          "name": "stderr",
          "text": [
            "\rjatuh:   4%|▍         | 26/675 [00:10<04:02,  2.67it/s]"
          ]
        },
        {
          "output_type": "stream",
          "name": "stdout",
          "text": [
            "[703/1352] jatuh/338.avi | Frames: 30 | Person detections: 22\n"
          ]
        },
        {
          "output_type": "stream",
          "name": "stderr",
          "text": [
            "\rjatuh:   4%|▍         | 27/675 [00:10<04:00,  2.70it/s]"
          ]
        },
        {
          "output_type": "stream",
          "name": "stdout",
          "text": [
            "[704/1352] jatuh/321.avi | Frames: 30 | Person detections: 18\n"
          ]
        },
        {
          "output_type": "stream",
          "name": "stderr",
          "text": [
            "\rjatuh:   4%|▍         | 28/675 [00:11<03:57,  2.72it/s]"
          ]
        },
        {
          "output_type": "stream",
          "name": "stdout",
          "text": [
            "[705/1352] jatuh/327.avi | Frames: 30 | Person detections: 20\n"
          ]
        },
        {
          "output_type": "stream",
          "name": "stderr",
          "text": [
            "\rjatuh:   4%|▍         | 29/675 [00:11<03:53,  2.76it/s]"
          ]
        },
        {
          "output_type": "stream",
          "name": "stdout",
          "text": [
            "[706/1352] jatuh/316.avi | Frames: 30 | Person detections: 0\n"
          ]
        },
        {
          "output_type": "stream",
          "name": "stderr",
          "text": [
            "\rjatuh:   4%|▍         | 30/675 [00:11<03:59,  2.70it/s]"
          ]
        },
        {
          "output_type": "stream",
          "name": "stdout",
          "text": [
            "[707/1352] jatuh/324.avi | Frames: 30 | Person detections: 19\n"
          ]
        },
        {
          "output_type": "stream",
          "name": "stderr",
          "text": [
            "\rjatuh:   5%|▍         | 31/675 [00:12<04:22,  2.45it/s]"
          ]
        },
        {
          "output_type": "stream",
          "name": "stdout",
          "text": [
            "[708/1352] jatuh/323.avi | Frames: 30 | Person detections: 4\n"
          ]
        },
        {
          "output_type": "stream",
          "name": "stderr",
          "text": [
            "\rjatuh:   5%|▍         | 32/675 [00:12<04:37,  2.32it/s]"
          ]
        },
        {
          "output_type": "stream",
          "name": "stdout",
          "text": [
            "[709/1352] jatuh/328.avi | Frames: 30 | Person detections: 8\n"
          ]
        },
        {
          "output_type": "stream",
          "name": "stderr",
          "text": [
            "\rjatuh:   5%|▍         | 33/675 [00:13<04:49,  2.22it/s]"
          ]
        },
        {
          "output_type": "stream",
          "name": "stdout",
          "text": [
            "[710/1352] jatuh/314.avi | Frames: 30 | Person detections: 5\n"
          ]
        },
        {
          "output_type": "stream",
          "name": "stderr",
          "text": [
            "\rjatuh:   5%|▌         | 34/675 [00:13<04:54,  2.18it/s]"
          ]
        },
        {
          "output_type": "stream",
          "name": "stdout",
          "text": [
            "[711/1352] jatuh/305.avi | Frames: 30 | Person detections: 3\n"
          ]
        },
        {
          "output_type": "stream",
          "name": "stderr",
          "text": [
            "\rjatuh:   5%|▌         | 35/675 [00:14<04:54,  2.17it/s]"
          ]
        },
        {
          "output_type": "stream",
          "name": "stdout",
          "text": [
            "[712/1352] jatuh/301.avi | Frames: 30 | Person detections: 6\n"
          ]
        },
        {
          "output_type": "stream",
          "name": "stderr",
          "text": [
            "\rjatuh:   5%|▌         | 36/675 [00:14<05:20,  2.00it/s]"
          ]
        },
        {
          "output_type": "stream",
          "name": "stdout",
          "text": [
            "[713/1352] jatuh/339.avi | Frames: 30 | Person detections: 20\n",
            "[714/1352] jatuh/312.avi | Frames: 2 | Person detections: 2\n"
          ]
        },
        {
          "output_type": "stream",
          "name": "stderr",
          "text": [
            "\rjatuh:   6%|▌         | 38/675 [00:15<04:01,  2.64it/s]"
          ]
        },
        {
          "output_type": "stream",
          "name": "stdout",
          "text": [
            "[715/1352] jatuh/315.avi | Frames: 30 | Person detections: 4\n"
          ]
        },
        {
          "output_type": "stream",
          "name": "stderr",
          "text": [
            "\rjatuh:   6%|▌         | 39/675 [00:15<03:55,  2.70it/s]"
          ]
        },
        {
          "output_type": "stream",
          "name": "stdout",
          "text": [
            "[716/1352] jatuh/334.avi | Frames: 30 | Person detections: 9\n",
            "[717/1352] jatuh/336.avi | Frames: 2 | Person detections: 0\n"
          ]
        },
        {
          "output_type": "stream",
          "name": "stderr",
          "text": [
            "\rjatuh:   6%|▌         | 41/675 [00:15<03:10,  3.32it/s]"
          ]
        },
        {
          "output_type": "stream",
          "name": "stdout",
          "text": [
            "[718/1352] jatuh/342.avi | Frames: 30 | Person detections: 23\n"
          ]
        },
        {
          "output_type": "stream",
          "name": "stderr",
          "text": [
            "\rjatuh:   6%|▌         | 42/675 [00:16<03:17,  3.21it/s]"
          ]
        },
        {
          "output_type": "stream",
          "name": "stdout",
          "text": [
            "[719/1352] jatuh/369.avi | Frames: 30 | Person detections: 8\n"
          ]
        },
        {
          "output_type": "stream",
          "name": "stderr",
          "text": [
            "\rjatuh:   6%|▋         | 43/675 [00:16<03:25,  3.08it/s]"
          ]
        },
        {
          "output_type": "stream",
          "name": "stdout",
          "text": [
            "[720/1352] jatuh/371.avi | Frames: 30 | Person detections: 9\n"
          ]
        },
        {
          "output_type": "stream",
          "name": "stderr",
          "text": [
            "\rjatuh:   7%|▋         | 44/675 [00:17<03:29,  3.01it/s]"
          ]
        },
        {
          "output_type": "stream",
          "name": "stdout",
          "text": [
            "[721/1352] jatuh/366.avi | Frames: 30 | Person detections: 21\n"
          ]
        },
        {
          "output_type": "stream",
          "name": "stderr",
          "text": [
            "\rjatuh:   7%|▋         | 45/675 [00:17<03:31,  2.98it/s]"
          ]
        },
        {
          "output_type": "stream",
          "name": "stdout",
          "text": [
            "[722/1352] jatuh/361.avi | Frames: 30 | Person detections: 14\n"
          ]
        },
        {
          "output_type": "stream",
          "name": "stderr",
          "text": [
            "\rjatuh:   7%|▋         | 46/675 [00:17<03:54,  2.68it/s]"
          ]
        },
        {
          "output_type": "stream",
          "name": "stdout",
          "text": [
            "[723/1352] jatuh/367.avi | Frames: 40 | Person detections: 40\n"
          ]
        },
        {
          "output_type": "stream",
          "name": "stderr",
          "text": [
            "\rjatuh:   7%|▋         | 47/675 [00:18<03:48,  2.74it/s]"
          ]
        },
        {
          "output_type": "stream",
          "name": "stdout",
          "text": [
            "[724/1352] jatuh/353.avi | Frames: 30 | Person detections: 14\n"
          ]
        },
        {
          "output_type": "stream",
          "name": "stderr",
          "text": [
            "\rjatuh:   7%|▋         | 48/675 [00:18<03:46,  2.76it/s]"
          ]
        },
        {
          "output_type": "stream",
          "name": "stdout",
          "text": [
            "[725/1352] jatuh/343.avi | Frames: 30 | Person detections: 14\n"
          ]
        },
        {
          "output_type": "stream",
          "name": "stderr",
          "text": [
            "\rjatuh:   7%|▋         | 49/675 [00:18<03:46,  2.76it/s]"
          ]
        },
        {
          "output_type": "stream",
          "name": "stdout",
          "text": [
            "[726/1352] jatuh/346.avi | Frames: 30 | Person detections: 12\n"
          ]
        },
        {
          "output_type": "stream",
          "name": "stderr",
          "text": [
            "\rjatuh:   7%|▋         | 50/675 [00:19<03:47,  2.75it/s]"
          ]
        },
        {
          "output_type": "stream",
          "name": "stdout",
          "text": [
            "[727/1352] jatuh/362.avi | Frames: 30 | Person detections: 8\n"
          ]
        },
        {
          "output_type": "stream",
          "name": "stderr",
          "text": [
            "\rjatuh:   8%|▊         | 51/675 [00:19<03:47,  2.74it/s]"
          ]
        },
        {
          "output_type": "stream",
          "name": "stdout",
          "text": [
            "[728/1352] jatuh/351.avi | Frames: 30 | Person detections: 18\n"
          ]
        },
        {
          "output_type": "stream",
          "name": "stderr",
          "text": [
            "\rjatuh:   8%|▊         | 52/675 [00:20<03:47,  2.73it/s]"
          ]
        },
        {
          "output_type": "stream",
          "name": "stdout",
          "text": [
            "[729/1352] jatuh/368.avi | Frames: 30 | Person detections: 10\n"
          ]
        },
        {
          "output_type": "stream",
          "name": "stderr",
          "text": [
            "\rjatuh:   8%|▊         | 53/675 [00:20<03:47,  2.74it/s]"
          ]
        },
        {
          "output_type": "stream",
          "name": "stdout",
          "text": [
            "[730/1352] jatuh/345.avi | Frames: 30 | Person detections: 17\n"
          ]
        },
        {
          "output_type": "stream",
          "name": "stderr",
          "text": [
            "\rjatuh:   8%|▊         | 54/675 [00:20<04:24,  2.35it/s]"
          ]
        },
        {
          "output_type": "stream",
          "name": "stdout",
          "text": [
            "[731/1352] jatuh/349.avi | Frames: 47 | Person detections: 47\n"
          ]
        },
        {
          "output_type": "stream",
          "name": "stderr",
          "text": [
            "\rjatuh:   8%|▊         | 55/675 [00:21<04:11,  2.46it/s]"
          ]
        },
        {
          "output_type": "stream",
          "name": "stdout",
          "text": [
            "[732/1352] jatuh/364.avi | Frames: 30 | Person detections: 13\n"
          ]
        },
        {
          "output_type": "stream",
          "name": "stderr",
          "text": [
            "\rjatuh:   8%|▊         | 56/675 [00:21<04:02,  2.55it/s]"
          ]
        },
        {
          "output_type": "stream",
          "name": "stdout",
          "text": [
            "[733/1352] jatuh/356.avi | Frames: 30 | Person detections: 21\n"
          ]
        },
        {
          "output_type": "stream",
          "name": "stderr",
          "text": [
            "\rjatuh:   8%|▊         | 57/675 [00:22<04:35,  2.24it/s]"
          ]
        },
        {
          "output_type": "stream",
          "name": "stdout",
          "text": [
            "[734/1352] jatuh/340.avi | Frames: 47 | Person detections: 47\n"
          ]
        },
        {
          "output_type": "stream",
          "name": "stderr",
          "text": [
            "\rjatuh:   9%|▊         | 58/675 [00:22<04:19,  2.38it/s]"
          ]
        },
        {
          "output_type": "stream",
          "name": "stdout",
          "text": [
            "[735/1352] jatuh/365.avi | Frames: 30 | Person detections: 7\n"
          ]
        },
        {
          "output_type": "stream",
          "name": "stderr",
          "text": [
            "\rjatuh:   9%|▊         | 59/675 [00:22<04:09,  2.47it/s]"
          ]
        },
        {
          "output_type": "stream",
          "name": "stdout",
          "text": [
            "[736/1352] jatuh/358.avi | Frames: 30 | Person detections: 10\n"
          ]
        },
        {
          "output_type": "stream",
          "name": "stderr",
          "text": [
            "\rjatuh:   9%|▉         | 60/675 [00:23<04:32,  2.26it/s]"
          ]
        },
        {
          "output_type": "stream",
          "name": "stdout",
          "text": [
            "[737/1352] jatuh/359.avi | Frames: 47 | Person detections: 47\n"
          ]
        },
        {
          "output_type": "stream",
          "name": "stderr",
          "text": [
            "\rjatuh:   9%|▉         | 61/675 [00:23<04:16,  2.40it/s]"
          ]
        },
        {
          "output_type": "stream",
          "name": "stdout",
          "text": [
            "[738/1352] jatuh/341.avi | Frames: 30 | Person detections: 16\n"
          ]
        },
        {
          "output_type": "stream",
          "name": "stderr",
          "text": [
            "\rjatuh:   9%|▉         | 62/675 [00:24<04:08,  2.47it/s]"
          ]
        },
        {
          "output_type": "stream",
          "name": "stdout",
          "text": [
            "[739/1352] jatuh/344.avi | Frames: 30 | Person detections: 18\n"
          ]
        },
        {
          "output_type": "stream",
          "name": "stderr",
          "text": [
            "\rjatuh:   9%|▉         | 63/675 [00:24<03:56,  2.59it/s]"
          ]
        },
        {
          "output_type": "stream",
          "name": "stdout",
          "text": [
            "[740/1352] jatuh/355.avi | Frames: 30 | Person detections: 11\n"
          ]
        },
        {
          "output_type": "stream",
          "name": "stderr",
          "text": [
            "\rjatuh:   9%|▉         | 64/675 [00:25<04:25,  2.30it/s]"
          ]
        },
        {
          "output_type": "stream",
          "name": "stdout",
          "text": [
            "[741/1352] jatuh/360.avi | Frames: 40 | Person detections: 40\n"
          ]
        },
        {
          "output_type": "stream",
          "name": "stderr",
          "text": [
            "\rjatuh:  10%|▉         | 65/675 [00:25<04:43,  2.15it/s]"
          ]
        },
        {
          "output_type": "stream",
          "name": "stdout",
          "text": [
            "[742/1352] jatuh/352.avi | Frames: 30 | Person detections: 30\n"
          ]
        },
        {
          "output_type": "stream",
          "name": "stderr",
          "text": [
            "\rjatuh:  10%|▉         | 66/675 [00:26<04:59,  2.03it/s]"
          ]
        },
        {
          "output_type": "stream",
          "name": "stdout",
          "text": [
            "[743/1352] jatuh/354.avi | Frames: 30 | Person detections: 13\n"
          ]
        },
        {
          "output_type": "stream",
          "name": "stderr",
          "text": [
            "\rjatuh:  10%|▉         | 67/675 [00:26<05:15,  1.93it/s]"
          ]
        },
        {
          "output_type": "stream",
          "name": "stdout",
          "text": [
            "[744/1352] jatuh/348.avi | Frames: 35 | Person detections: 35\n"
          ]
        },
        {
          "output_type": "stream",
          "name": "stderr",
          "text": [
            "\rjatuh:  10%|█         | 68/675 [00:27<05:08,  1.97it/s]"
          ]
        },
        {
          "output_type": "stream",
          "name": "stdout",
          "text": [
            "[745/1352] jatuh/363.avi | Frames: 30 | Person detections: 6\n"
          ]
        },
        {
          "output_type": "stream",
          "name": "stderr",
          "text": [
            "\rjatuh:  10%|█         | 69/675 [00:27<05:10,  1.95it/s]"
          ]
        },
        {
          "output_type": "stream",
          "name": "stdout",
          "text": [
            "[746/1352] jatuh/357.avi | Frames: 30 | Person detections: 21\n"
          ]
        },
        {
          "output_type": "stream",
          "name": "stderr",
          "text": [
            "\rjatuh:  10%|█         | 70/675 [00:28<05:26,  1.85it/s]"
          ]
        },
        {
          "output_type": "stream",
          "name": "stdout",
          "text": [
            "[747/1352] jatuh/350.avi | Frames: 30 | Person detections: 18\n"
          ]
        },
        {
          "output_type": "stream",
          "name": "stderr",
          "text": [
            "\rjatuh:  11%|█         | 71/675 [00:28<05:00,  2.01it/s]"
          ]
        },
        {
          "output_type": "stream",
          "name": "stdout",
          "text": [
            "[748/1352] jatuh/370.avi | Frames: 30 | Person detections: 14\n"
          ]
        },
        {
          "output_type": "stream",
          "name": "stderr",
          "text": [
            "\rjatuh:  11%|█         | 72/675 [00:29<04:34,  2.20it/s]"
          ]
        },
        {
          "output_type": "stream",
          "name": "stdout",
          "text": [
            "[749/1352] jatuh/379.avi | Frames: 30 | Person detections: 14\n"
          ]
        },
        {
          "output_type": "stream",
          "name": "stderr",
          "text": [
            "\rjatuh:  11%|█         | 73/675 [00:29<04:17,  2.34it/s]"
          ]
        },
        {
          "output_type": "stream",
          "name": "stdout",
          "text": [
            "[750/1352] jatuh/377.avi | Frames: 30 | Person detections: 14\n",
            "===> Batch 14 disimpan (size 50)\n"
          ]
        },
        {
          "output_type": "stream",
          "name": "stderr",
          "text": [
            "\rjatuh:  11%|█         | 74/675 [00:29<04:02,  2.48it/s]"
          ]
        },
        {
          "output_type": "stream",
          "name": "stdout",
          "text": [
            "[751/1352] jatuh/406.avi | Frames: 32 | Person detections: 12\n"
          ]
        },
        {
          "output_type": "stream",
          "name": "stderr",
          "text": [
            "\rjatuh:  11%|█         | 75/675 [00:30<04:00,  2.49it/s]"
          ]
        },
        {
          "output_type": "stream",
          "name": "stdout",
          "text": [
            "[752/1352] jatuh/409.avi | Frames: 31 | Person detections: 31\n",
            "[753/1352] jatuh/401.avi | Frames: 1 | Person detections: 1\n"
          ]
        },
        {
          "output_type": "stream",
          "name": "stderr",
          "text": [
            "\rjatuh:  11%|█▏        | 77/675 [00:30<03:18,  3.02it/s]"
          ]
        },
        {
          "output_type": "stream",
          "name": "stdout",
          "text": [
            "[754/1352] jatuh/402.avi | Frames: 44 | Person detections: 16\n"
          ]
        },
        {
          "output_type": "stream",
          "name": "stderr",
          "text": [
            "\rjatuh:  12%|█▏        | 78/675 [00:31<03:23,  2.94it/s]"
          ]
        },
        {
          "output_type": "stream",
          "name": "stdout",
          "text": [
            "[755/1352] jatuh/394.avi | Frames: 30 | Person detections: 19\n"
          ]
        },
        {
          "output_type": "stream",
          "name": "stderr",
          "text": [
            "\rjatuh:  12%|█▏        | 79/675 [00:31<03:29,  2.84it/s]"
          ]
        },
        {
          "output_type": "stream",
          "name": "stdout",
          "text": [
            "[756/1352] jatuh/405.avi | Frames: 34 | Person detections: 12\n"
          ]
        },
        {
          "output_type": "stream",
          "name": "stderr",
          "text": [
            "\rjatuh:  12%|█▏        | 80/675 [00:31<03:31,  2.81it/s]"
          ]
        },
        {
          "output_type": "stream",
          "name": "stdout",
          "text": [
            "[757/1352] jatuh/390.avi | Frames: 30 | Person detections: 5\n"
          ]
        },
        {
          "output_type": "stream",
          "name": "stderr",
          "text": [
            "\rjatuh:  12%|█▏        | 81/675 [00:32<03:33,  2.79it/s]"
          ]
        },
        {
          "output_type": "stream",
          "name": "stdout",
          "text": [
            "[758/1352] jatuh/404.avi | Frames: 33 | Person detections: 12\n",
            "[759/1352] jatuh/389.avi | Frames: 3 | Person detections: 3\n"
          ]
        },
        {
          "output_type": "stream",
          "name": "stderr",
          "text": [
            "\rjatuh:  12%|█▏        | 83/675 [00:32<02:56,  3.36it/s]"
          ]
        },
        {
          "output_type": "stream",
          "name": "stdout",
          "text": [
            "[760/1352] jatuh/391.avi | Frames: 30 | Person detections: 30\n",
            "[761/1352] jatuh/387.avi | Frames: 4 | Person detections: 4\n",
            "[762/1352] jatuh/398.avi | Frames: 2 | Person detections: 2\n"
          ]
        },
        {
          "output_type": "stream",
          "name": "stderr",
          "text": [
            "\rjatuh:  13%|█▎        | 86/675 [00:33<02:12,  4.44it/s]"
          ]
        },
        {
          "output_type": "stream",
          "name": "stdout",
          "text": [
            "[763/1352] jatuh/381.avi | Frames: 30 | Person detections: 15\n"
          ]
        },
        {
          "output_type": "stream",
          "name": "stderr",
          "text": [
            "\rjatuh:  13%|█▎        | 87/675 [00:33<02:35,  3.79it/s]"
          ]
        },
        {
          "output_type": "stream",
          "name": "stdout",
          "text": [
            "[764/1352] jatuh/411.avi | Frames: 32 | Person detections: 32\n"
          ]
        },
        {
          "output_type": "stream",
          "name": "stderr",
          "text": [
            "\rjatuh:  13%|█▎        | 88/675 [00:33<02:46,  3.52it/s]"
          ]
        },
        {
          "output_type": "stream",
          "name": "stdout",
          "text": [
            "[765/1352] jatuh/388.avi | Frames: 30 | Person detections: 30\n"
          ]
        },
        {
          "output_type": "stream",
          "name": "stderr",
          "text": [
            "\rjatuh:  13%|█▎        | 89/675 [00:34<02:57,  3.29it/s]"
          ]
        },
        {
          "output_type": "stream",
          "name": "stdout",
          "text": [
            "[766/1352] jatuh/392.avi | Frames: 30 | Person detections: 20\n"
          ]
        },
        {
          "output_type": "stream",
          "name": "stderr",
          "text": [
            "\rjatuh:  13%|█▎        | 90/675 [00:34<03:05,  3.15it/s]"
          ]
        },
        {
          "output_type": "stream",
          "name": "stdout",
          "text": [
            "[767/1352] jatuh/408.avi | Frames: 32 | Person detections: 14\n",
            "[768/1352] jatuh/383.avi | Frames: 7 | Person detections: 4\n"
          ]
        },
        {
          "output_type": "stream",
          "name": "stderr",
          "text": [
            "\rjatuh:  14%|█▎        | 92/675 [00:35<02:40,  3.63it/s]"
          ]
        },
        {
          "output_type": "stream",
          "name": "stdout",
          "text": [
            "[769/1352] jatuh/407.avi | Frames: 31 | Person detections: 18\n"
          ]
        },
        {
          "output_type": "stream",
          "name": "stderr",
          "text": [
            "\rjatuh:  14%|█▍        | 93/675 [00:35<03:14,  3.00it/s]"
          ]
        },
        {
          "output_type": "stream",
          "name": "stdout",
          "text": [
            "[770/1352] jatuh/403.avi | Frames: 46 | Person detections: 35\n"
          ]
        },
        {
          "output_type": "stream",
          "name": "stderr",
          "text": [
            "\rjatuh:  14%|█▍        | 94/675 [00:36<03:19,  2.91it/s]"
          ]
        },
        {
          "output_type": "stream",
          "name": "stdout",
          "text": [
            "[771/1352] jatuh/373.avi | Frames: 30 | Person detections: 5\n"
          ]
        },
        {
          "output_type": "stream",
          "name": "stderr",
          "text": [
            "jatuh:  14%|█▍        | 96/675 [00:36<02:53,  3.35it/s]"
          ]
        },
        {
          "output_type": "stream",
          "name": "stdout",
          "text": [
            "[772/1352] jatuh/375.avi | Frames: 30 | Person detections: 28\n",
            "[773/1352] jatuh/385.avi | Frames: 14 | Person detections: 6\n",
            "[774/1352] jatuh/399.avi | Frames: 2 | Person detections: 0\n"
          ]
        },
        {
          "output_type": "stream",
          "name": "stderr",
          "text": [
            "\rjatuh:  15%|█▍        | 98/675 [00:36<02:27,  3.91it/s]"
          ]
        },
        {
          "output_type": "stream",
          "name": "stdout",
          "text": [
            "[775/1352] jatuh/395.avi | Frames: 30 | Person detections: 18\n"
          ]
        },
        {
          "output_type": "stream",
          "name": "stderr",
          "text": [
            "\rjatuh:  15%|█▍        | 99/675 [00:37<02:48,  3.43it/s]"
          ]
        },
        {
          "output_type": "stream",
          "name": "stdout",
          "text": [
            "[776/1352] jatuh/410.avi | Frames: 32 | Person detections: 32\n"
          ]
        },
        {
          "output_type": "stream",
          "name": "stderr",
          "text": [
            "\rjatuh:  15%|█▍        | 100/675 [00:37<02:58,  3.22it/s]"
          ]
        },
        {
          "output_type": "stream",
          "name": "stdout",
          "text": [
            "[777/1352] jatuh/386.avi | Frames: 30 | Person detections: 23\n"
          ]
        },
        {
          "output_type": "stream",
          "name": "stderr",
          "text": [
            "\rjatuh:  15%|█▍        | 101/675 [00:38<03:03,  3.13it/s]"
          ]
        },
        {
          "output_type": "stream",
          "name": "stdout",
          "text": [
            "[778/1352] jatuh/393.avi | Frames: 28 | Person detections: 28\n",
            "[779/1352] jatuh/397.avi | Frames: 4 | Person detections: 4\n"
          ]
        },
        {
          "output_type": "stream",
          "name": "stderr",
          "text": [
            "\rjatuh:  15%|█▌        | 103/675 [00:38<02:32,  3.76it/s]"
          ]
        },
        {
          "output_type": "stream",
          "name": "stdout",
          "text": [
            "[780/1352] jatuh/378.avi | Frames: 30 | Person detections: 4\n",
            "[781/1352] jatuh/396.avi | Frames: 2 | Person detections: 0\n"
          ]
        },
        {
          "output_type": "stream",
          "name": "stderr",
          "text": [
            "\rjatuh:  16%|█▌        | 105/675 [00:39<02:36,  3.65it/s]"
          ]
        },
        {
          "output_type": "stream",
          "name": "stdout",
          "text": [
            "[782/1352] jatuh/380.avi | Frames: 30 | Person detections: 13\n"
          ]
        },
        {
          "output_type": "stream",
          "name": "stderr",
          "text": [
            "\rjatuh:  16%|█▌        | 106/675 [00:39<03:06,  3.04it/s]"
          ]
        },
        {
          "output_type": "stream",
          "name": "stdout",
          "text": [
            "[783/1352] jatuh/372.avi | Frames: 30 | Person detections: 10\n"
          ]
        },
        {
          "output_type": "stream",
          "name": "stderr",
          "text": [
            "jatuh:  16%|█▌        | 109/675 [00:40<02:10,  4.35it/s]"
          ]
        },
        {
          "output_type": "stream",
          "name": "stdout",
          "text": [
            "[784/1352] jatuh/376.avi | Frames: 14 | Person detections: 14\n",
            "[785/1352] jatuh/400.avi | Frames: 2 | Person detections: 2\n",
            "[786/1352] jatuh/384.avi | Frames: 7 | Person detections: 4\n"
          ]
        },
        {
          "output_type": "stream",
          "name": "stderr",
          "text": [
            "\rjatuh:  16%|█▋        | 110/675 [00:40<02:43,  3.45it/s]"
          ]
        },
        {
          "output_type": "stream",
          "name": "stdout",
          "text": [
            "[787/1352] jatuh/374.avi | Frames: 30 | Person detections: 18\n"
          ]
        },
        {
          "output_type": "stream",
          "name": "stderr",
          "text": [
            "\rjatuh:  16%|█▋        | 111/675 [00:41<03:24,  2.76it/s]"
          ]
        },
        {
          "output_type": "stream",
          "name": "stdout",
          "text": [
            "[788/1352] jatuh/412.avi | Frames: 31 | Person detections: 27\n"
          ]
        },
        {
          "output_type": "stream",
          "name": "stderr",
          "text": [
            "\rjatuh:  17%|█▋        | 112/675 [00:41<04:26,  2.12it/s]"
          ]
        },
        {
          "output_type": "stream",
          "name": "stdout",
          "text": [
            "[789/1352] jatuh/416.avi | Frames: 41 | Person detections: 41\n"
          ]
        },
        {
          "output_type": "stream",
          "name": "stderr",
          "text": [
            "\rjatuh:  17%|█▋        | 113/675 [00:42<04:07,  2.27it/s]"
          ]
        },
        {
          "output_type": "stream",
          "name": "stdout",
          "text": [
            "[790/1352] jatuh/473.avi | Frames: 30 | Person detections: 27\n"
          ]
        },
        {
          "output_type": "stream",
          "name": "stderr",
          "text": [
            "\rjatuh:  17%|█▋        | 114/675 [00:42<04:04,  2.29it/s]"
          ]
        },
        {
          "output_type": "stream",
          "name": "stdout",
          "text": [
            "[791/1352] jatuh/426.avi | Frames: 34 | Person detections: 32\n"
          ]
        },
        {
          "output_type": "stream",
          "name": "stderr",
          "text": [
            "\rjatuh:  17%|█▋        | 115/675 [00:43<04:08,  2.25it/s]"
          ]
        },
        {
          "output_type": "stream",
          "name": "stdout",
          "text": [
            "[792/1352] jatuh/443.avi | Frames: 38 | Person detections: 38\n"
          ]
        },
        {
          "output_type": "stream",
          "name": "stderr",
          "text": [
            "\rjatuh:  17%|█▋        | 116/675 [00:43<03:54,  2.38it/s]"
          ]
        },
        {
          "output_type": "stream",
          "name": "stdout",
          "text": [
            "[793/1352] jatuh/468.avi | Frames: 33 | Person detections: 14\n"
          ]
        },
        {
          "output_type": "stream",
          "name": "stderr",
          "text": [
            "\rjatuh:  17%|█▋        | 117/675 [00:43<04:01,  2.31it/s]"
          ]
        },
        {
          "output_type": "stream",
          "name": "stdout",
          "text": [
            "[794/1352] jatuh/427.avi | Frames: 41 | Person detections: 40\n"
          ]
        },
        {
          "output_type": "stream",
          "name": "stderr",
          "text": [
            "\rjatuh:  17%|█▋        | 118/675 [00:44<04:08,  2.24it/s]"
          ]
        },
        {
          "output_type": "stream",
          "name": "stdout",
          "text": [
            "[795/1352] jatuh/439.avi | Frames: 41 | Person detections: 41\n"
          ]
        },
        {
          "output_type": "stream",
          "name": "stderr",
          "text": [
            "\rjatuh:  18%|█▊        | 119/675 [00:44<03:44,  2.47it/s]"
          ]
        },
        {
          "output_type": "stream",
          "name": "stdout",
          "text": [
            "[796/1352] jatuh/456.avi | Frames: 28 | Person detections: 10\n"
          ]
        },
        {
          "output_type": "stream",
          "name": "stderr",
          "text": [
            "\rjatuh:  18%|█▊        | 120/675 [00:45<03:57,  2.34it/s]"
          ]
        },
        {
          "output_type": "stream",
          "name": "stdout",
          "text": [
            "[797/1352] jatuh/466.avi | Frames: 42 | Person detections: 40\n"
          ]
        },
        {
          "output_type": "stream",
          "name": "stderr",
          "text": [
            "\rjatuh:  18%|█▊        | 121/675 [00:45<03:56,  2.35it/s]"
          ]
        },
        {
          "output_type": "stream",
          "name": "stdout",
          "text": [
            "[798/1352] jatuh/459.avi | Frames: 43 | Person detections: 5\n"
          ]
        },
        {
          "output_type": "stream",
          "name": "stderr",
          "text": [
            "\rjatuh:  18%|█▊        | 122/675 [00:46<03:41,  2.49it/s]"
          ]
        },
        {
          "output_type": "stream",
          "name": "stdout",
          "text": [
            "[799/1352] jatuh/418.avi | Frames: 31 | Person detections: 22\n"
          ]
        },
        {
          "output_type": "stream",
          "name": "stderr",
          "text": [
            "\rjatuh:  18%|█▊        | 123/675 [00:46<03:29,  2.63it/s]"
          ]
        },
        {
          "output_type": "stream",
          "name": "stdout",
          "text": [
            "[800/1352] jatuh/430.avi | Frames: 28 | Person detections: 28\n",
            "===> Batch 15 disimpan (size 50)\n"
          ]
        },
        {
          "output_type": "stream",
          "name": "stderr",
          "text": [
            "\rjatuh:  18%|█▊        | 124/675 [00:46<03:19,  2.77it/s]"
          ]
        },
        {
          "output_type": "stream",
          "name": "stdout",
          "text": [
            "[801/1352] jatuh/474.avi | Frames: 32 | Person detections: 10\n"
          ]
        },
        {
          "output_type": "stream",
          "name": "stderr",
          "text": [
            "\rjatuh:  19%|█▊        | 125/675 [00:46<03:12,  2.86it/s]"
          ]
        },
        {
          "output_type": "stream",
          "name": "stdout",
          "text": [
            "[802/1352] jatuh/435.avi | Frames: 28 | Person detections: 28\n"
          ]
        },
        {
          "output_type": "stream",
          "name": "stderr",
          "text": [
            "\rjatuh:  19%|█▊        | 126/675 [00:47<03:07,  2.93it/s]"
          ]
        },
        {
          "output_type": "stream",
          "name": "stdout",
          "text": [
            "[803/1352] jatuh/453.avi | Frames: 29 | Person detections: 10\n"
          ]
        },
        {
          "output_type": "stream",
          "name": "stderr",
          "text": [
            "\rjatuh:  19%|█▉        | 127/675 [00:47<03:13,  2.83it/s]"
          ]
        },
        {
          "output_type": "stream",
          "name": "stdout",
          "text": [
            "[804/1352] jatuh/437.avi | Frames: 34 | Person detections: 34\n"
          ]
        },
        {
          "output_type": "stream",
          "name": "stderr",
          "text": [
            "\rjatuh:  19%|█▉        | 128/675 [00:48<04:39,  1.96it/s]"
          ]
        },
        {
          "output_type": "stream",
          "name": "stdout",
          "text": [
            "[805/1352] jatuh/445.avi | Frames: 78 | Person detections: 78\n"
          ]
        },
        {
          "output_type": "stream",
          "name": "stderr",
          "text": [
            "\rjatuh:  19%|█▉        | 129/675 [00:49<04:32,  2.00it/s]"
          ]
        },
        {
          "output_type": "stream",
          "name": "stdout",
          "text": [
            "[806/1352] jatuh/440.avi | Frames: 41 | Person detections: 41\n"
          ]
        },
        {
          "output_type": "stream",
          "name": "stderr",
          "text": [
            "\rjatuh:  19%|█▉        | 130/675 [00:49<04:08,  2.20it/s]"
          ]
        },
        {
          "output_type": "stream",
          "name": "stdout",
          "text": [
            "[807/1352] jatuh/432.avi | Frames: 29 | Person detections: 29\n"
          ]
        },
        {
          "output_type": "stream",
          "name": "stderr",
          "text": [
            "\rjatuh:  19%|█▉        | 131/675 [00:49<03:40,  2.46it/s]"
          ]
        },
        {
          "output_type": "stream",
          "name": "stdout",
          "text": [
            "[808/1352] jatuh/461.avi | Frames: 29 | Person detections: 0\n"
          ]
        },
        {
          "output_type": "stream",
          "name": "stderr",
          "text": [
            "\rjatuh:  20%|█▉        | 132/675 [00:50<03:52,  2.34it/s]"
          ]
        },
        {
          "output_type": "stream",
          "name": "stdout",
          "text": [
            "[809/1352] jatuh/433.avi | Frames: 43 | Person detections: 43\n"
          ]
        },
        {
          "output_type": "stream",
          "name": "stderr",
          "text": [
            "\rjatuh:  20%|█▉        | 133/675 [00:50<04:06,  2.20it/s]"
          ]
        },
        {
          "output_type": "stream",
          "name": "stdout",
          "text": [
            "[810/1352] jatuh/423.avi | Frames: 46 | Person detections: 38\n"
          ]
        },
        {
          "output_type": "stream",
          "name": "stderr",
          "text": [
            "\rjatuh:  20%|█▉        | 134/675 [00:50<03:43,  2.42it/s]"
          ]
        },
        {
          "output_type": "stream",
          "name": "stdout",
          "text": [
            "[811/1352] jatuh/457.avi | Frames: 31 | Person detections: 2\n"
          ]
        },
        {
          "output_type": "stream",
          "name": "stderr",
          "text": [
            "\rjatuh:  20%|██        | 135/675 [00:51<03:22,  2.66it/s]"
          ]
        },
        {
          "output_type": "stream",
          "name": "stdout",
          "text": [
            "[812/1352] jatuh/463.avi | Frames: 28 | Person detections: 5\n"
          ]
        },
        {
          "output_type": "stream",
          "name": "stderr",
          "text": [
            "\rjatuh:  20%|██        | 136/675 [00:51<03:19,  2.70it/s]"
          ]
        },
        {
          "output_type": "stream",
          "name": "stdout",
          "text": [
            "[813/1352] jatuh/417.avi | Frames: 32 | Person detections: 12\n"
          ]
        },
        {
          "output_type": "stream",
          "name": "stderr",
          "text": [
            "\rjatuh:  20%|██        | 137/675 [00:52<03:39,  2.45it/s]"
          ]
        },
        {
          "output_type": "stream",
          "name": "stdout",
          "text": [
            "[814/1352] jatuh/449.avi | Frames: 34 | Person detections: 34\n"
          ]
        },
        {
          "output_type": "stream",
          "name": "stderr",
          "text": [
            "\rjatuh:  20%|██        | 138/675 [00:52<04:11,  2.13it/s]"
          ]
        },
        {
          "output_type": "stream",
          "name": "stdout",
          "text": [
            "[815/1352] jatuh/414.avi | Frames: 32 | Person detections: 32\n"
          ]
        },
        {
          "output_type": "stream",
          "name": "stderr",
          "text": [
            "\rjatuh:  21%|██        | 139/675 [00:53<04:20,  2.06it/s]"
          ]
        },
        {
          "output_type": "stream",
          "name": "stdout",
          "text": [
            "[816/1352] jatuh/415.avi | Frames: 30 | Person detections: 30\n"
          ]
        },
        {
          "output_type": "stream",
          "name": "stderr",
          "text": [
            "\rjatuh:  21%|██        | 140/675 [00:53<04:47,  1.86it/s]"
          ]
        },
        {
          "output_type": "stream",
          "name": "stdout",
          "text": [
            "[817/1352] jatuh/465.avi | Frames: 42 | Person detections: 17\n"
          ]
        },
        {
          "output_type": "stream",
          "name": "stderr",
          "text": [
            "\rjatuh:  21%|██        | 141/675 [00:54<05:11,  1.71it/s]"
          ]
        },
        {
          "output_type": "stream",
          "name": "stdout",
          "text": [
            "[818/1352] jatuh/436.avi | Frames: 43 | Person detections: 42\n"
          ]
        },
        {
          "output_type": "stream",
          "name": "stderr",
          "text": [
            "\rjatuh:  21%|██        | 142/675 [00:55<05:14,  1.69it/s]"
          ]
        },
        {
          "output_type": "stream",
          "name": "stdout",
          "text": [
            "[819/1352] jatuh/469.avi | Frames: 34 | Person detections: 0\n"
          ]
        },
        {
          "output_type": "stream",
          "name": "stderr",
          "text": [
            "\rjatuh:  21%|██        | 143/675 [00:55<04:28,  1.98it/s]"
          ]
        },
        {
          "output_type": "stream",
          "name": "stdout",
          "text": [
            "[820/1352] jatuh/454.avi | Frames: 29 | Person detections: 9\n"
          ]
        },
        {
          "output_type": "stream",
          "name": "stderr",
          "text": [
            "\rjatuh:  21%|██▏       | 144/675 [00:56<04:37,  1.91it/s]"
          ]
        },
        {
          "output_type": "stream",
          "name": "stdout",
          "text": [
            "[821/1352] jatuh/413.avi | Frames: 43 | Person detections: 43\n"
          ]
        },
        {
          "output_type": "stream",
          "name": "stderr",
          "text": [
            "\rjatuh:  21%|██▏       | 145/675 [00:56<04:07,  2.15it/s]"
          ]
        },
        {
          "output_type": "stream",
          "name": "stdout",
          "text": [
            "[822/1352] jatuh/458.avi | Frames: 34 | Person detections: 0\n"
          ]
        },
        {
          "output_type": "stream",
          "name": "stderr",
          "text": [
            "\rjatuh:  22%|██▏       | 146/675 [00:57<04:22,  2.01it/s]"
          ]
        },
        {
          "output_type": "stream",
          "name": "stdout",
          "text": [
            "[823/1352] jatuh/428.avi | Frames: 49 | Person detections: 49\n"
          ]
        },
        {
          "output_type": "stream",
          "name": "stderr",
          "text": [
            "\rjatuh:  22%|██▏       | 147/675 [00:57<04:02,  2.17it/s]"
          ]
        },
        {
          "output_type": "stream",
          "name": "stdout",
          "text": [
            "[824/1352] jatuh/470.avi | Frames: 33 | Person detections: 33\n"
          ]
        },
        {
          "output_type": "stream",
          "name": "stderr",
          "text": [
            "\rjatuh:  22%|██▏       | 148/675 [00:57<03:51,  2.28it/s]"
          ]
        },
        {
          "output_type": "stream",
          "name": "stdout",
          "text": [
            "[825/1352] jatuh/467.avi | Frames: 33 | Person detections: 17\n"
          ]
        },
        {
          "output_type": "stream",
          "name": "stderr",
          "text": [
            "\rjatuh:  22%|██▏       | 149/675 [00:58<04:02,  2.17it/s]"
          ]
        },
        {
          "output_type": "stream",
          "name": "stdout",
          "text": [
            "[826/1352] jatuh/434.avi | Frames: 43 | Person detections: 43\n"
          ]
        },
        {
          "output_type": "stream",
          "name": "stderr",
          "text": [
            "\rjatuh:  22%|██▏       | 150/675 [00:59<05:09,  1.70it/s]"
          ]
        },
        {
          "output_type": "stream",
          "name": "stdout",
          "text": [
            "[827/1352] jatuh/444.avi | Frames: 78 | Person detections: 78\n"
          ]
        },
        {
          "output_type": "stream",
          "name": "stderr",
          "text": [
            "\rjatuh:  22%|██▏       | 151/675 [00:59<04:30,  1.94it/s]"
          ]
        },
        {
          "output_type": "stream",
          "name": "stdout",
          "text": [
            "[828/1352] jatuh/431.avi | Frames: 30 | Person detections: 30\n"
          ]
        },
        {
          "output_type": "stream",
          "name": "stderr",
          "text": [
            "\rjatuh:  23%|██▎       | 152/675 [00:59<04:05,  2.13it/s]"
          ]
        },
        {
          "output_type": "stream",
          "name": "stdout",
          "text": [
            "[829/1352] jatuh/438.avi | Frames: 31 | Person detections: 31\n"
          ]
        },
        {
          "output_type": "stream",
          "name": "stderr",
          "text": [
            "\rjatuh:  23%|██▎       | 153/675 [01:00<03:55,  2.22it/s]"
          ]
        },
        {
          "output_type": "stream",
          "name": "stdout",
          "text": [
            "[830/1352] jatuh/442.avi | Frames: 34 | Person detections: 34\n"
          ]
        },
        {
          "output_type": "stream",
          "name": "stderr",
          "text": [
            "\rjatuh:  23%|██▎       | 154/675 [01:00<03:26,  2.52it/s]"
          ]
        },
        {
          "output_type": "stream",
          "name": "stdout",
          "text": [
            "[831/1352] jatuh/424.avi | Frames: 25 | Person detections: 8\n"
          ]
        },
        {
          "output_type": "stream",
          "name": "stderr",
          "text": [
            "\rjatuh:  23%|██▎       | 155/675 [01:00<03:29,  2.48it/s]"
          ]
        },
        {
          "output_type": "stream",
          "name": "stdout",
          "text": [
            "[832/1352] jatuh/472.avi | Frames: 36 | Person detections: 26\n"
          ]
        },
        {
          "output_type": "stream",
          "name": "stderr",
          "text": [
            "\rjatuh:  23%|██▎       | 156/675 [01:01<03:26,  2.51it/s]"
          ]
        },
        {
          "output_type": "stream",
          "name": "stdout",
          "text": [
            "[833/1352] jatuh/447.avi | Frames: 33 | Person detections: 33\n"
          ]
        },
        {
          "output_type": "stream",
          "name": "stderr",
          "text": [
            "\rjatuh:  23%|██▎       | 157/675 [01:01<03:35,  2.40it/s]"
          ]
        },
        {
          "output_type": "stream",
          "name": "stdout",
          "text": [
            "[834/1352] jatuh/429.avi | Frames: 41 | Person detections: 41\n"
          ]
        },
        {
          "output_type": "stream",
          "name": "stderr",
          "text": [
            "\rjatuh:  23%|██▎       | 158/675 [01:02<03:36,  2.39it/s]"
          ]
        },
        {
          "output_type": "stream",
          "name": "stdout",
          "text": [
            "[835/1352] jatuh/450.avi | Frames: 35 | Person detections: 35\n"
          ]
        },
        {
          "output_type": "stream",
          "name": "stderr",
          "text": [
            "\rjatuh:  24%|██▎       | 159/675 [01:02<03:25,  2.51it/s]"
          ]
        },
        {
          "output_type": "stream",
          "name": "stdout",
          "text": [
            "[836/1352] jatuh/462.avi | Frames: 34 | Person detections: 1\n"
          ]
        },
        {
          "output_type": "stream",
          "name": "stderr",
          "text": [
            "\rjatuh:  24%|██▎       | 160/675 [01:02<03:24,  2.52it/s]"
          ]
        },
        {
          "output_type": "stream",
          "name": "stdout",
          "text": [
            "[837/1352] jatuh/448.avi | Frames: 34 | Person detections: 34\n"
          ]
        },
        {
          "output_type": "stream",
          "name": "stderr",
          "text": [
            "\rjatuh:  24%|██▍       | 161/675 [01:03<03:18,  2.59it/s]"
          ]
        },
        {
          "output_type": "stream",
          "name": "stdout",
          "text": [
            "[838/1352] jatuh/421.avi | Frames: 31 | Person detections: 10\n"
          ]
        },
        {
          "output_type": "stream",
          "name": "stderr",
          "text": [
            "\rjatuh:  24%|██▍       | 162/675 [01:03<03:33,  2.40it/s]"
          ]
        },
        {
          "output_type": "stream",
          "name": "stdout",
          "text": [
            "[839/1352] jatuh/425.avi | Frames: 44 | Person detections: 26\n"
          ]
        },
        {
          "output_type": "stream",
          "name": "stderr",
          "text": [
            "\rjatuh:  24%|██▍       | 163/675 [01:04<03:24,  2.50it/s]"
          ]
        },
        {
          "output_type": "stream",
          "name": "stdout",
          "text": [
            "[840/1352] jatuh/471.avi | Frames: 31 | Person detections: 12\n"
          ]
        },
        {
          "output_type": "stream",
          "name": "stderr",
          "text": [
            "\rjatuh:  24%|██▍       | 164/675 [01:04<03:20,  2.55it/s]"
          ]
        },
        {
          "output_type": "stream",
          "name": "stdout",
          "text": [
            "[841/1352] jatuh/452.avi | Frames: 31 | Person detections: 31\n"
          ]
        },
        {
          "output_type": "stream",
          "name": "stderr",
          "text": [
            "\rjatuh:  24%|██▍       | 165/675 [01:04<03:23,  2.51it/s]"
          ]
        },
        {
          "output_type": "stream",
          "name": "stdout",
          "text": [
            "[842/1352] jatuh/475.avi | Frames: 39 | Person detections: 4\n"
          ]
        },
        {
          "output_type": "stream",
          "name": "stderr",
          "text": [
            "\rjatuh:  25%|██▍       | 166/675 [01:05<03:32,  2.40it/s]"
          ]
        },
        {
          "output_type": "stream",
          "name": "stdout",
          "text": [
            "[843/1352] jatuh/464.avi | Frames: 34 | Person detections: 24\n"
          ]
        },
        {
          "output_type": "stream",
          "name": "stderr",
          "text": [
            "\rjatuh:  25%|██▍       | 167/675 [01:05<03:36,  2.34it/s]"
          ]
        },
        {
          "output_type": "stream",
          "name": "stdout",
          "text": [
            "[844/1352] jatuh/420.avi | Frames: 31 | Person detections: 17\n"
          ]
        },
        {
          "output_type": "stream",
          "name": "stderr",
          "text": [
            "\rjatuh:  25%|██▍       | 168/675 [01:06<04:21,  1.94it/s]"
          ]
        },
        {
          "output_type": "stream",
          "name": "stdout",
          "text": [
            "[845/1352] jatuh/422.avi | Frames: 43 | Person detections: 39\n"
          ]
        },
        {
          "output_type": "stream",
          "name": "stderr",
          "text": [
            "\rjatuh:  25%|██▌       | 169/675 [01:06<03:59,  2.11it/s]"
          ]
        },
        {
          "output_type": "stream",
          "name": "stdout",
          "text": [
            "[846/1352] jatuh/460.avi | Frames: 24 | Person detections: 8\n"
          ]
        },
        {
          "output_type": "stream",
          "name": "stderr",
          "text": [
            "\rjatuh:  25%|██▌       | 170/675 [01:07<04:05,  2.06it/s]"
          ]
        },
        {
          "output_type": "stream",
          "name": "stdout",
          "text": [
            "[847/1352] jatuh/476.avi | Frames: 33 | Person detections: 33\n"
          ]
        },
        {
          "output_type": "stream",
          "name": "stderr",
          "text": [
            "\rjatuh:  25%|██▌       | 171/675 [01:08<04:43,  1.78it/s]"
          ]
        },
        {
          "output_type": "stream",
          "name": "stdout",
          "text": [
            "[848/1352] jatuh/446.avi | Frames: 44 | Person detections: 44\n"
          ]
        },
        {
          "output_type": "stream",
          "name": "stderr",
          "text": [
            "\rjatuh:  25%|██▌       | 172/675 [01:08<04:25,  1.90it/s]"
          ]
        },
        {
          "output_type": "stream",
          "name": "stdout",
          "text": [
            "[849/1352] jatuh/455.avi | Frames: 28 | Person detections: 12\n"
          ]
        },
        {
          "output_type": "stream",
          "name": "stderr",
          "text": [
            "\rjatuh:  26%|██▌       | 173/675 [01:09<04:00,  2.09it/s]"
          ]
        },
        {
          "output_type": "stream",
          "name": "stdout",
          "text": [
            "[850/1352] jatuh/451.avi | Frames: 31 | Person detections: 31\n",
            "===> Batch 16 disimpan (size 50)\n"
          ]
        },
        {
          "output_type": "stream",
          "name": "stderr",
          "text": [
            "\rjatuh:  26%|██▌       | 174/675 [01:09<03:36,  2.32it/s]"
          ]
        },
        {
          "output_type": "stream",
          "name": "stdout",
          "text": [
            "[851/1352] jatuh/419.avi | Frames: 29 | Person detections: 16\n"
          ]
        },
        {
          "output_type": "stream",
          "name": "stderr",
          "text": [
            "\rjatuh:  26%|██▌       | 175/675 [01:09<03:20,  2.49it/s]"
          ]
        },
        {
          "output_type": "stream",
          "name": "stdout",
          "text": [
            "[852/1352] jatuh/441.avi | Frames: 27 | Person detections: 27\n",
            "[853/1352] jatuh/video_133.avi | Frames: 1 | Person detections: 1\n"
          ]
        },
        {
          "output_type": "stream",
          "name": "stderr",
          "text": [
            "\rjatuh:  26%|██▌       | 177/675 [01:10<02:30,  3.30it/s]"
          ]
        },
        {
          "output_type": "stream",
          "name": "stdout",
          "text": [
            "[854/1352] jatuh/video_143.avi | Frames: 30 | Person detections: 3\n",
            "[855/1352] jatuh/video_133_flip.avi | Frames: 1 | Person detections: 1\n"
          ]
        },
        {
          "output_type": "stream",
          "name": "stderr",
          "text": [
            "\rjatuh:  27%|██▋       | 179/675 [01:10<02:05,  3.96it/s]"
          ]
        },
        {
          "output_type": "stream",
          "name": "stdout",
          "text": [
            "[856/1352] jatuh/video_11.avi | Frames: 30 | Person detections: 30\n"
          ]
        },
        {
          "output_type": "stream",
          "name": "stderr",
          "text": [
            "\rjatuh:  27%|██▋       | 180/675 [01:10<02:17,  3.59it/s]"
          ]
        },
        {
          "output_type": "stream",
          "name": "stdout",
          "text": [
            "[857/1352] jatuh/video_129_flip.avi | Frames: 30 | Person detections: 6\n"
          ]
        },
        {
          "output_type": "stream",
          "name": "stderr",
          "text": [
            "\rjatuh:  27%|██▋       | 181/675 [01:11<02:29,  3.31it/s]"
          ]
        },
        {
          "output_type": "stream",
          "name": "stdout",
          "text": [
            "[858/1352] jatuh/video_13_flip.avi | Frames: 32 | Person detections: 32\n"
          ]
        },
        {
          "output_type": "stream",
          "name": "stderr",
          "text": [
            "\rjatuh:  27%|██▋       | 182/675 [01:11<02:40,  3.08it/s]"
          ]
        },
        {
          "output_type": "stream",
          "name": "stdout",
          "text": [
            "[859/1352] jatuh/video_145_flip.avi | Frames: 30 | Person detections: 25\n"
          ]
        },
        {
          "output_type": "stream",
          "name": "stderr",
          "text": [
            "\rjatuh:  27%|██▋       | 183/675 [01:11<02:45,  2.97it/s]"
          ]
        },
        {
          "output_type": "stream",
          "name": "stdout",
          "text": [
            "[860/1352] jatuh/video_138_flip.avi | Frames: 30 | Person detections: 22\n"
          ]
        },
        {
          "output_type": "stream",
          "name": "stderr",
          "text": [
            "\rjatuh:  27%|██▋       | 184/675 [01:12<02:50,  2.88it/s]"
          ]
        },
        {
          "output_type": "stream",
          "name": "stdout",
          "text": [
            "[861/1352] jatuh/video_117_flip.avi | Frames: 30 | Person detections: 17\n"
          ]
        },
        {
          "output_type": "stream",
          "name": "stderr",
          "text": [
            "\rjatuh:  27%|██▋       | 185/675 [01:12<02:54,  2.81it/s]"
          ]
        },
        {
          "output_type": "stream",
          "name": "stdout",
          "text": [
            "[862/1352] jatuh/video_114_flip.avi | Frames: 30 | Person detections: 16\n"
          ]
        },
        {
          "output_type": "stream",
          "name": "stderr",
          "text": [
            "\rjatuh:  28%|██▊       | 186/675 [01:13<02:53,  2.81it/s]"
          ]
        },
        {
          "output_type": "stream",
          "name": "stdout",
          "text": [
            "[863/1352] jatuh/video_100_flip.avi | Frames: 30 | Person detections: 8\n"
          ]
        },
        {
          "output_type": "stream",
          "name": "stderr",
          "text": [
            "\rjatuh:  28%|██▊       | 187/675 [01:13<02:51,  2.85it/s]"
          ]
        },
        {
          "output_type": "stream",
          "name": "stdout",
          "text": [
            "[864/1352] jatuh/video_115.avi | Frames: 30 | Person detections: 11\n"
          ]
        },
        {
          "output_type": "stream",
          "name": "stderr",
          "text": [
            "\rjatuh:  28%|██▊       | 188/675 [01:13<02:50,  2.86it/s]"
          ]
        },
        {
          "output_type": "stream",
          "name": "stdout",
          "text": [
            "[865/1352] jatuh/video_131.avi | Frames: 30 | Person detections: 0\n"
          ]
        },
        {
          "output_type": "stream",
          "name": "stderr",
          "text": [
            "\rjatuh:  28%|██▊       | 189/675 [01:14<02:52,  2.82it/s]"
          ]
        },
        {
          "output_type": "stream",
          "name": "stdout",
          "text": [
            "[866/1352] jatuh/video_138.avi | Frames: 30 | Person detections: 23\n"
          ]
        },
        {
          "output_type": "stream",
          "name": "stderr",
          "text": [
            "\rjatuh:  28%|██▊       | 190/675 [01:14<02:51,  2.82it/s]"
          ]
        },
        {
          "output_type": "stream",
          "name": "stdout",
          "text": [
            "[867/1352] jatuh/video_135.avi | Frames: 30 | Person detections: 10\n"
          ]
        },
        {
          "output_type": "stream",
          "name": "stderr",
          "text": [
            "\rjatuh:  28%|██▊       | 191/675 [01:14<02:58,  2.71it/s]"
          ]
        },
        {
          "output_type": "stream",
          "name": "stdout",
          "text": [
            "[868/1352] jatuh/video_111.avi | Frames: 30 | Person detections: 9\n"
          ]
        },
        {
          "output_type": "stream",
          "name": "stderr",
          "text": [
            "jatuh:  29%|██▊       | 193/675 [01:15<02:28,  3.24it/s]"
          ]
        },
        {
          "output_type": "stream",
          "name": "stdout",
          "text": [
            "[869/1352] jatuh/video_113_flip.avi | Frames: 30 | Person detections: 11\n",
            "[870/1352] jatuh/video_106.avi | Frames: 14 | Person detections: 6\n"
          ]
        },
        {
          "output_type": "stream",
          "name": "stderr",
          "text": [
            "\rjatuh:  29%|██▊       | 194/675 [01:15<02:36,  3.08it/s]"
          ]
        },
        {
          "output_type": "stream",
          "name": "stdout",
          "text": [
            "[871/1352] jatuh/video_111_flip.avi | Frames: 30 | Person detections: 2\n",
            "[872/1352] jatuh/video_121_flip.avi | Frames: 7 | Person detections: 6\n"
          ]
        },
        {
          "output_type": "stream",
          "name": "stderr",
          "text": [
            "\rjatuh:  29%|██▉       | 196/675 [01:16<02:11,  3.64it/s]"
          ]
        },
        {
          "output_type": "stream",
          "name": "stdout",
          "text": [
            "[873/1352] jatuh/video_142_flip.avi | Frames: 30 | Person detections: 4\n"
          ]
        },
        {
          "output_type": "stream",
          "name": "stderr",
          "text": [
            "\rjatuh:  29%|██▉       | 197/675 [01:16<02:21,  3.39it/s]"
          ]
        },
        {
          "output_type": "stream",
          "name": "stdout",
          "text": [
            "[874/1352] jatuh/video_123.avi | Frames: 30 | Person detections: 16\n"
          ]
        },
        {
          "output_type": "stream",
          "name": "stderr",
          "text": [
            "\rjatuh:  29%|██▉       | 198/675 [01:16<02:31,  3.14it/s]"
          ]
        },
        {
          "output_type": "stream",
          "name": "stdout",
          "text": [
            "[875/1352] jatuh/video_114.avi | Frames: 30 | Person detections: 13\n"
          ]
        },
        {
          "output_type": "stream",
          "name": "stderr",
          "text": [
            "\rjatuh:  29%|██▉       | 199/675 [01:17<02:37,  3.03it/s]"
          ]
        },
        {
          "output_type": "stream",
          "name": "stdout",
          "text": [
            "[876/1352] jatuh/video_132_flip.avi | Frames: 30 | Person detections: 30\n"
          ]
        },
        {
          "output_type": "stream",
          "name": "stderr",
          "text": [
            "\rjatuh:  30%|██▉       | 200/675 [01:17<02:38,  3.00it/s]"
          ]
        },
        {
          "output_type": "stream",
          "name": "stdout",
          "text": [
            "[877/1352] jatuh/video_105.avi | Frames: 30 | Person detections: 5\n"
          ]
        },
        {
          "output_type": "stream",
          "name": "stderr",
          "text": [
            "\rjatuh:  30%|██▉       | 201/675 [01:18<02:42,  2.91it/s]"
          ]
        },
        {
          "output_type": "stream",
          "name": "stdout",
          "text": [
            "[878/1352] jatuh/video_135_flip.avi | Frames: 30 | Person detections: 5\n"
          ]
        },
        {
          "output_type": "stream",
          "name": "stderr",
          "text": [
            "\rjatuh:  30%|██▉       | 202/675 [01:18<02:40,  2.95it/s]"
          ]
        },
        {
          "output_type": "stream",
          "name": "stdout",
          "text": [
            "[879/1352] jatuh/video_137.avi | Frames: 30 | Person detections: 1\n"
          ]
        },
        {
          "output_type": "stream",
          "name": "stderr",
          "text": [
            "\rjatuh:  30%|███       | 203/675 [01:18<02:49,  2.79it/s]"
          ]
        },
        {
          "output_type": "stream",
          "name": "stdout",
          "text": [
            "[880/1352] jatuh/video_104_flip.avi | Frames: 30 | Person detections: 8\n"
          ]
        },
        {
          "output_type": "stream",
          "name": "stderr",
          "text": [
            "\rjatuh:  30%|███       | 204/675 [01:19<03:05,  2.54it/s]"
          ]
        },
        {
          "output_type": "stream",
          "name": "stdout",
          "text": [
            "[881/1352] jatuh/video_139.avi | Frames: 30 | Person detections: 0\n"
          ]
        },
        {
          "output_type": "stream",
          "name": "stderr",
          "text": [
            "\rjatuh:  30%|███       | 205/675 [01:19<03:20,  2.34it/s]"
          ]
        },
        {
          "output_type": "stream",
          "name": "stdout",
          "text": [
            "[882/1352] jatuh/video_137_flip.avi | Frames: 30 | Person detections: 0\n"
          ]
        },
        {
          "output_type": "stream",
          "name": "stderr",
          "text": [
            "\rjatuh:  31%|███       | 206/675 [01:20<03:34,  2.19it/s]"
          ]
        },
        {
          "output_type": "stream",
          "name": "stdout",
          "text": [
            "[883/1352] jatuh/video_118.avi | Frames: 30 | Person detections: 10\n"
          ]
        },
        {
          "output_type": "stream",
          "name": "stderr",
          "text": [
            "\rjatuh:  31%|███       | 207/675 [01:20<03:33,  2.19it/s]"
          ]
        },
        {
          "output_type": "stream",
          "name": "stdout",
          "text": [
            "[884/1352] jatuh/video_131_flip.avi | Frames: 30 | Person detections: 2\n"
          ]
        },
        {
          "output_type": "stream",
          "name": "stderr",
          "text": [
            "\rjatuh:  31%|███       | 208/675 [01:21<03:44,  2.08it/s]"
          ]
        },
        {
          "output_type": "stream",
          "name": "stdout",
          "text": [
            "[885/1352] jatuh/video_123_flip.avi | Frames: 30 | Person detections: 17\n"
          ]
        },
        {
          "output_type": "stream",
          "name": "stderr",
          "text": [
            "\rjatuh:  31%|███       | 209/675 [01:21<03:57,  1.96it/s]"
          ]
        },
        {
          "output_type": "stream",
          "name": "stdout",
          "text": [
            "[886/1352] jatuh/video_104.avi | Frames: 30 | Person detections: 11\n"
          ]
        },
        {
          "output_type": "stream",
          "name": "stderr",
          "text": [
            "\rjatuh:  31%|███       | 210/675 [01:22<03:40,  2.11it/s]"
          ]
        },
        {
          "output_type": "stream",
          "name": "stdout",
          "text": [
            "[887/1352] jatuh/video_125_flip.avi | Frames: 30 | Person detections: 9\n"
          ]
        },
        {
          "output_type": "stream",
          "name": "stderr",
          "text": [
            "\rjatuh:  31%|███▏      | 211/675 [01:22<03:19,  2.33it/s]"
          ]
        },
        {
          "output_type": "stream",
          "name": "stdout",
          "text": [
            "[888/1352] jatuh/video_101.avi | Frames: 30 | Person detections: 2\n"
          ]
        },
        {
          "output_type": "stream",
          "name": "stderr",
          "text": [
            "\rjatuh:  31%|███▏      | 212/675 [01:22<03:05,  2.49it/s]"
          ]
        },
        {
          "output_type": "stream",
          "name": "stdout",
          "text": [
            "[889/1352] jatuh/video_142.avi | Frames: 30 | Person detections: 3\n"
          ]
        },
        {
          "output_type": "stream",
          "name": "stderr",
          "text": [
            "\rjatuh:  32%|███▏      | 213/675 [01:23<03:00,  2.56it/s]"
          ]
        },
        {
          "output_type": "stream",
          "name": "stdout",
          "text": [
            "[890/1352] jatuh/video_113.avi | Frames: 30 | Person detections: 11\n"
          ]
        },
        {
          "output_type": "stream",
          "name": "stderr",
          "text": [
            "\rjatuh:  32%|███▏      | 214/675 [01:23<02:56,  2.62it/s]"
          ]
        },
        {
          "output_type": "stream",
          "name": "stdout",
          "text": [
            "[891/1352] jatuh/video_132.avi | Frames: 30 | Person detections: 30\n"
          ]
        },
        {
          "output_type": "stream",
          "name": "stderr",
          "text": [
            "\rjatuh:  32%|███▏      | 215/675 [01:24<03:05,  2.48it/s]"
          ]
        },
        {
          "output_type": "stream",
          "name": "stdout",
          "text": [
            "[892/1352] jatuh/video_0.avi | Frames: 39 | Person detections: 39\n",
            "[893/1352] jatuh/video_108.avi | Frames: 2 | Person detections: 2\n"
          ]
        },
        {
          "output_type": "stream",
          "name": "stderr",
          "text": [
            "\rjatuh:  32%|███▏      | 217/675 [01:24<02:22,  3.22it/s]"
          ]
        },
        {
          "output_type": "stream",
          "name": "stdout",
          "text": [
            "[894/1352] jatuh/video_117.avi | Frames: 30 | Person detections: 19\n"
          ]
        },
        {
          "output_type": "stream",
          "name": "stderr",
          "text": [
            "\rjatuh:  32%|███▏      | 218/675 [01:24<02:25,  3.15it/s]"
          ]
        },
        {
          "output_type": "stream",
          "name": "stdout",
          "text": [
            "[895/1352] jatuh/video_128.avi | Frames: 30 | Person detections: 0\n"
          ]
        },
        {
          "output_type": "stream",
          "name": "stderr",
          "text": [
            "\rjatuh:  32%|███▏      | 219/675 [01:25<02:29,  3.06it/s]"
          ]
        },
        {
          "output_type": "stream",
          "name": "stdout",
          "text": [
            "[896/1352] jatuh/video_103_flip.avi | Frames: 30 | Person detections: 1\n"
          ]
        },
        {
          "output_type": "stream",
          "name": "stderr",
          "text": [
            "\rjatuh:  33%|███▎      | 220/675 [01:25<02:33,  2.96it/s]"
          ]
        },
        {
          "output_type": "stream",
          "name": "stdout",
          "text": [
            "[897/1352] jatuh/video_143_flip.avi | Frames: 30 | Person detections: 3\n",
            "[898/1352] jatuh/video_119_flip.avi | Frames: 1 | Person detections: 1\n"
          ]
        },
        {
          "output_type": "stream",
          "name": "stderr",
          "text": [
            "\rjatuh:  33%|███▎      | 222/675 [01:25<02:03,  3.67it/s]"
          ]
        },
        {
          "output_type": "stream",
          "name": "stdout",
          "text": [
            "[899/1352] jatuh/video_11_flip.avi | Frames: 30 | Person detections: 30\n"
          ]
        },
        {
          "output_type": "stream",
          "name": "stderr",
          "text": [
            "\rjatuh:  33%|███▎      | 223/675 [01:26<02:34,  2.93it/s]"
          ]
        },
        {
          "output_type": "stream",
          "name": "stdout",
          "text": [
            "[900/1352] jatuh/video_12_flip.avi | Frames: 46 | Person detections: 46\n",
            "===> Batch 17 disimpan (size 50)\n"
          ]
        },
        {
          "output_type": "stream",
          "name": "stderr",
          "text": [
            "\rjatuh:  33%|███▎      | 224/675 [01:26<02:36,  2.89it/s]"
          ]
        },
        {
          "output_type": "stream",
          "name": "stdout",
          "text": [
            "[901/1352] jatuh/video_140_flip.avi | Frames: 30 | Person detections: 15\n"
          ]
        },
        {
          "output_type": "stream",
          "name": "stderr",
          "text": [
            "\rjatuh:  33%|███▎      | 225/675 [01:27<02:36,  2.87it/s]"
          ]
        },
        {
          "output_type": "stream",
          "name": "stdout",
          "text": [
            "[902/1352] jatuh/video_115_flip.avi | Frames: 30 | Person detections: 12\n"
          ]
        },
        {
          "output_type": "stream",
          "name": "stderr",
          "text": [
            "\rjatuh:  33%|███▎      | 226/675 [01:27<02:40,  2.80it/s]"
          ]
        },
        {
          "output_type": "stream",
          "name": "stdout",
          "text": [
            "[903/1352] jatuh/video_118_flip.avi | Frames: 30 | Person detections: 13\n"
          ]
        },
        {
          "output_type": "stream",
          "name": "stderr",
          "text": [
            "\rjatuh:  34%|███▎      | 227/675 [01:27<02:46,  2.69it/s]"
          ]
        },
        {
          "output_type": "stream",
          "name": "stdout",
          "text": [
            "[904/1352] jatuh/video_112_flip.avi | Frames: 30 | Person detections: 8\n",
            "[905/1352] jatuh/video_121.avi | Frames: 7 | Person detections: 7\n"
          ]
        },
        {
          "output_type": "stream",
          "name": "stderr",
          "text": [
            "\rjatuh:  34%|███▍      | 229/675 [01:28<02:15,  3.28it/s]"
          ]
        },
        {
          "output_type": "stream",
          "name": "stdout",
          "text": [
            "[906/1352] jatuh/video_139_flip.avi | Frames: 30 | Person detections: 0\n"
          ]
        },
        {
          "output_type": "stream",
          "name": "stderr",
          "text": [
            "\rjatuh:  34%|███▍      | 230/675 [01:28<02:22,  3.11it/s]"
          ]
        },
        {
          "output_type": "stream",
          "name": "stdout",
          "text": [
            "[907/1352] jatuh/video_13.avi | Frames: 32 | Person detections: 32\n"
          ]
        },
        {
          "output_type": "stream",
          "name": "stderr",
          "text": [
            "\rjatuh:  34%|███▍      | 231/675 [01:29<02:25,  3.05it/s]"
          ]
        },
        {
          "output_type": "stream",
          "name": "stdout",
          "text": [
            "[908/1352] jatuh/video_129.avi | Frames: 30 | Person detections: 2\n"
          ]
        },
        {
          "output_type": "stream",
          "name": "stderr",
          "text": [
            "\rjatuh:  34%|███▍      | 232/675 [01:29<02:29,  2.96it/s]"
          ]
        },
        {
          "output_type": "stream",
          "name": "stdout",
          "text": [
            "[909/1352] jatuh/video_112.avi | Frames: 30 | Person detections: 9\n",
            "[910/1352] jatuh/video_134.avi | Frames: 3 | Person detections: 3\n"
          ]
        },
        {
          "output_type": "stream",
          "name": "stderr",
          "text": [
            "\rjatuh:  35%|███▍      | 234/675 [01:29<02:03,  3.58it/s]"
          ]
        },
        {
          "output_type": "stream",
          "name": "stdout",
          "text": [
            "[911/1352] jatuh/video_136_flip.avi | Frames: 30 | Person detections: 28\n"
          ]
        },
        {
          "output_type": "stream",
          "name": "stderr",
          "text": [
            "\rjatuh:  35%|███▍      | 235/675 [01:30<02:08,  3.42it/s]"
          ]
        },
        {
          "output_type": "stream",
          "name": "stdout",
          "text": [
            "[912/1352] jatuh/video_102_flip.avi | Frames: 30 | Person detections: 1\n"
          ]
        },
        {
          "output_type": "stream",
          "name": "stderr",
          "text": [
            "\rjatuh:  35%|███▍      | 236/675 [01:30<02:18,  3.18it/s]"
          ]
        },
        {
          "output_type": "stream",
          "name": "stdout",
          "text": [
            "[913/1352] jatuh/video_122.avi | Frames: 30 | Person detections: 15\n"
          ]
        },
        {
          "output_type": "stream",
          "name": "stderr",
          "text": [
            "\rjatuh:  35%|███▌      | 237/675 [01:30<02:20,  3.11it/s]"
          ]
        },
        {
          "output_type": "stream",
          "name": "stdout",
          "text": [
            "[914/1352] jatuh/video_102.avi | Frames: 30 | Person detections: 0\n"
          ]
        },
        {
          "output_type": "stream",
          "name": "stderr",
          "text": [
            "\rjatuh:  35%|███▌      | 238/675 [01:31<02:22,  3.06it/s]"
          ]
        },
        {
          "output_type": "stream",
          "name": "stdout",
          "text": [
            "[915/1352] jatuh/video_125.avi | Frames: 30 | Person detections: 5\n"
          ]
        },
        {
          "output_type": "stream",
          "name": "stderr",
          "text": [
            "\rjatuh:  35%|███▌      | 239/675 [01:31<02:38,  2.75it/s]"
          ]
        },
        {
          "output_type": "stream",
          "name": "stdout",
          "text": [
            "[916/1352] jatuh/video_0_flip.avi | Frames: 39 | Person detections: 39\n",
            "[917/1352] jatuh/video_120.avi | Frames: 4 | Person detections: 4\n"
          ]
        },
        {
          "output_type": "stream",
          "name": "stderr",
          "text": [
            "\rjatuh:  36%|███▌      | 241/675 [01:32<02:20,  3.10it/s]"
          ]
        },
        {
          "output_type": "stream",
          "name": "stdout",
          "text": [
            "[918/1352] jatuh/video_110_flip.avi | Frames: 30 | Person detections: 8\n"
          ]
        },
        {
          "output_type": "stream",
          "name": "stderr",
          "text": [
            "\rjatuh:  36%|███▌      | 242/675 [01:32<02:36,  2.76it/s]"
          ]
        },
        {
          "output_type": "stream",
          "name": "stdout",
          "text": [
            "[919/1352] jatuh/video_105_flip.avi | Frames: 30 | Person detections: 4\n"
          ]
        },
        {
          "output_type": "stream",
          "name": "stderr",
          "text": [
            "\rjatuh:  36%|███▌      | 243/675 [01:33<02:57,  2.44it/s]"
          ]
        },
        {
          "output_type": "stream",
          "name": "stdout",
          "text": [
            "[920/1352] jatuh/video_122_flip.avi | Frames: 30 | Person detections: 16\n"
          ]
        },
        {
          "output_type": "stream",
          "name": "stderr",
          "text": [
            "jatuh:  36%|███▋      | 246/675 [01:33<01:58,  3.62it/s]"
          ]
        },
        {
          "output_type": "stream",
          "name": "stdout",
          "text": [
            "[921/1352] jatuh/video_110.avi | Frames: 30 | Person detections: 8\n",
            "[922/1352] jatuh/video_124.avi | Frames: 2 | Person detections: 2\n",
            "[923/1352] jatuh/video_120_flip.avi | Frames: 4 | Person detections: 4\n"
          ]
        },
        {
          "output_type": "stream",
          "name": "stderr",
          "text": [
            "\rjatuh:  37%|███▋      | 247/675 [01:34<02:17,  3.11it/s]"
          ]
        },
        {
          "output_type": "stream",
          "name": "stdout",
          "text": [
            "[924/1352] jatuh/video_109.avi | Frames: 30 | Person detections: 8\n"
          ]
        },
        {
          "output_type": "stream",
          "name": "stderr",
          "text": [
            "\rjatuh:  37%|███▋      | 248/675 [01:35<02:47,  2.55it/s]"
          ]
        },
        {
          "output_type": "stream",
          "name": "stdout",
          "text": [
            "[925/1352] jatuh/video_146_flip.avi | Frames: 30 | Person detections: 23\n",
            "[926/1352] jatuh/video_108_flip.avi | Frames: 2 | Person detections: 2\n"
          ]
        },
        {
          "output_type": "stream",
          "name": "stderr",
          "text": [
            "\rjatuh:  37%|███▋      | 250/675 [01:35<02:38,  2.67it/s]"
          ]
        },
        {
          "output_type": "stream",
          "name": "stdout",
          "text": [
            "[927/1352] jatuh/video_10_flip.avi | Frames: 49 | Person detections: 49\n"
          ]
        },
        {
          "output_type": "stream",
          "name": "stderr",
          "text": [
            "\rjatuh:  37%|███▋      | 251/675 [01:36<02:37,  2.69it/s]"
          ]
        },
        {
          "output_type": "stream",
          "name": "stdout",
          "text": [
            "[928/1352] jatuh/video_130_flip.avi | Frames: 30 | Person detections: 2\n"
          ]
        },
        {
          "output_type": "stream",
          "name": "stderr",
          "text": [
            "\rjatuh:  37%|███▋      | 252/675 [01:36<02:34,  2.73it/s]"
          ]
        },
        {
          "output_type": "stream",
          "name": "stdout",
          "text": [
            "[929/1352] jatuh/video_127.avi | Frames: 30 | Person detections: 13\n"
          ]
        },
        {
          "output_type": "stream",
          "name": "stderr",
          "text": [
            "\rjatuh:  37%|███▋      | 253/675 [01:37<02:59,  2.35it/s]"
          ]
        },
        {
          "output_type": "stream",
          "name": "stdout",
          "text": [
            "[930/1352] jatuh/video_10.avi | Frames: 49 | Person detections: 49\n"
          ]
        },
        {
          "output_type": "stream",
          "name": "stderr",
          "text": [
            "\rjatuh:  38%|███▊      | 254/675 [01:37<02:49,  2.49it/s]"
          ]
        },
        {
          "output_type": "stream",
          "name": "stdout",
          "text": [
            "[931/1352] jatuh/video_188_flip.avi | Frames: 30 | Person detections: 11\n"
          ]
        },
        {
          "output_type": "stream",
          "name": "stderr",
          "text": [
            "\rjatuh:  38%|███▊      | 255/675 [01:37<02:42,  2.58it/s]"
          ]
        },
        {
          "output_type": "stream",
          "name": "stdout",
          "text": [
            "[932/1352] jatuh/video_162.avi | Frames: 30 | Person detections: 14\n"
          ]
        },
        {
          "output_type": "stream",
          "name": "stderr",
          "text": [
            "\rjatuh:  38%|███▊      | 256/675 [01:38<02:41,  2.60it/s]"
          ]
        },
        {
          "output_type": "stream",
          "name": "stdout",
          "text": [
            "[933/1352] jatuh/video_189_flip.avi | Frames: 30 | Person detections: 16\n"
          ]
        },
        {
          "output_type": "stream",
          "name": "stderr",
          "text": [
            "\rjatuh:  38%|███▊      | 257/675 [01:38<02:35,  2.69it/s]"
          ]
        },
        {
          "output_type": "stream",
          "name": "stdout",
          "text": [
            "[934/1352] jatuh/video_169.avi | Frames: 30 | Person detections: 10\n"
          ]
        },
        {
          "output_type": "stream",
          "name": "stderr",
          "text": [
            "\rjatuh:  38%|███▊      | 258/675 [01:38<02:33,  2.72it/s]"
          ]
        },
        {
          "output_type": "stream",
          "name": "stdout",
          "text": [
            "[935/1352] jatuh/video_198.avi | Frames: 30 | Person detections: 29\n"
          ]
        },
        {
          "output_type": "stream",
          "name": "stderr",
          "text": [
            "\rjatuh:  38%|███▊      | 259/675 [01:39<02:33,  2.71it/s]"
          ]
        },
        {
          "output_type": "stream",
          "name": "stdout",
          "text": [
            "[936/1352] jatuh/video_187_flip.avi | Frames: 30 | Person detections: 7\n"
          ]
        },
        {
          "output_type": "stream",
          "name": "stderr",
          "text": [
            "\rjatuh:  39%|███▊      | 260/675 [01:39<02:30,  2.76it/s]"
          ]
        },
        {
          "output_type": "stream",
          "name": "stdout",
          "text": [
            "[937/1352] jatuh/video_188.avi | Frames: 30 | Person detections: 7\n"
          ]
        },
        {
          "output_type": "stream",
          "name": "stderr",
          "text": [
            "\rjatuh:  39%|███▊      | 261/675 [01:39<02:30,  2.75it/s]"
          ]
        },
        {
          "output_type": "stream",
          "name": "stdout",
          "text": [
            "[938/1352] jatuh/video_185_flip.avi | Frames: 30 | Person detections: 20\n"
          ]
        },
        {
          "output_type": "stream",
          "name": "stderr",
          "text": [
            "\rjatuh:  39%|███▉      | 262/675 [01:40<02:31,  2.72it/s]"
          ]
        },
        {
          "output_type": "stream",
          "name": "stdout",
          "text": [
            "[939/1352] jatuh/video_170.avi | Frames: 30 | Person detections: 21\n"
          ]
        },
        {
          "output_type": "stream",
          "name": "stderr",
          "text": [
            "\rjatuh:  39%|███▉      | 263/675 [01:40<02:51,  2.41it/s]"
          ]
        },
        {
          "output_type": "stream",
          "name": "stdout",
          "text": [
            "[940/1352] jatuh/video_15.avi | Frames: 47 | Person detections: 47\n",
            "[941/1352] jatuh/video_171_flip.avi | Frames: 4 | Person detections: 4\n"
          ]
        },
        {
          "output_type": "stream",
          "name": "stderr",
          "text": [
            "\rjatuh:  39%|███▉      | 265/675 [01:41<02:12,  3.11it/s]"
          ]
        },
        {
          "output_type": "stream",
          "name": "stdout",
          "text": [
            "[942/1352] jatuh/video_181_flip.avi | Frames: 30 | Person detections: 6\n"
          ]
        },
        {
          "output_type": "stream",
          "name": "stderr",
          "text": [
            "\rjatuh:  39%|███▉      | 266/675 [01:41<02:15,  3.02it/s]"
          ]
        },
        {
          "output_type": "stream",
          "name": "stdout",
          "text": [
            "[943/1352] jatuh/video_164_flip.avi | Frames: 30 | Person detections: 18\n"
          ]
        },
        {
          "output_type": "stream",
          "name": "stderr",
          "text": [
            "\rjatuh:  40%|███▉      | 267/675 [01:41<02:18,  2.94it/s]"
          ]
        },
        {
          "output_type": "stream",
          "name": "stdout",
          "text": [
            "[944/1352] jatuh/video_160_flip.avi | Frames: 30 | Person detections: 16\n"
          ]
        },
        {
          "output_type": "stream",
          "name": "stderr",
          "text": [
            "\rjatuh:  40%|███▉      | 268/675 [01:42<02:22,  2.85it/s]"
          ]
        },
        {
          "output_type": "stream",
          "name": "stdout",
          "text": [
            "[945/1352] jatuh/video_189.avi | Frames: 30 | Person detections: 16\n"
          ]
        },
        {
          "output_type": "stream",
          "name": "stderr",
          "text": [
            "\rjatuh:  40%|███▉      | 269/675 [01:42<02:24,  2.81it/s]"
          ]
        },
        {
          "output_type": "stream",
          "name": "stdout",
          "text": [
            "[946/1352] jatuh/video_152.avi | Frames: 30 | Person detections: 24\n",
            "[947/1352] jatuh/video_153_flip.avi | Frames: 2 | Person detections: 1\n",
            "[948/1352] jatuh/video_158_flip.avi | Frames: 1 | Person detections: 0\n"
          ]
        },
        {
          "output_type": "stream",
          "name": "stderr",
          "text": [
            "\rjatuh:  40%|████      | 272/675 [01:43<01:35,  4.21it/s]"
          ]
        },
        {
          "output_type": "stream",
          "name": "stdout",
          "text": [
            "[949/1352] jatuh/video_154_flip.avi | Frames: 30 | Person detections: 14\n"
          ]
        },
        {
          "output_type": "stream",
          "name": "stderr",
          "text": [
            "\rjatuh:  40%|████      | 273/675 [01:43<01:46,  3.76it/s]"
          ]
        },
        {
          "output_type": "stream",
          "name": "stdout",
          "text": [
            "[950/1352] jatuh/video_180.avi | Frames: 30 | Person detections: 15\n",
            "===> Batch 18 disimpan (size 50)\n"
          ]
        },
        {
          "output_type": "stream",
          "name": "stderr",
          "text": [
            "\rjatuh:  41%|████      | 274/675 [01:43<01:55,  3.46it/s]"
          ]
        },
        {
          "output_type": "stream",
          "name": "stdout",
          "text": [
            "[951/1352] jatuh/video_156_flip.avi | Frames: 30 | Person detections: 21\n"
          ]
        },
        {
          "output_type": "stream",
          "name": "stderr",
          "text": [
            "jatuh:  41%|████      | 276/675 [01:44<01:40,  3.96it/s]"
          ]
        },
        {
          "output_type": "stream",
          "name": "stdout",
          "text": [
            "[952/1352] jatuh/video_169_flip.avi | Frames: 30 | Person detections: 10\n",
            "[953/1352] jatuh/video_168_flip.avi | Frames: 7 | Person detections: 6\n"
          ]
        },
        {
          "output_type": "stream",
          "name": "stderr",
          "text": [
            "\rjatuh:  41%|████      | 277/675 [01:44<01:52,  3.54it/s]"
          ]
        },
        {
          "output_type": "stream",
          "name": "stdout",
          "text": [
            "[954/1352] jatuh/video_148.avi | Frames: 30 | Person detections: 20\n"
          ]
        },
        {
          "output_type": "stream",
          "name": "stderr",
          "text": [
            "\rjatuh:  41%|████      | 278/675 [01:45<02:00,  3.29it/s]"
          ]
        },
        {
          "output_type": "stream",
          "name": "stdout",
          "text": [
            "[955/1352] jatuh/video_196_flip.avi | Frames: 30 | Person detections: 12\n"
          ]
        },
        {
          "output_type": "stream",
          "name": "stderr",
          "text": [
            "\rjatuh:  41%|████▏     | 279/675 [01:45<02:16,  2.89it/s]"
          ]
        },
        {
          "output_type": "stream",
          "name": "stdout",
          "text": [
            "[956/1352] jatuh/video_195.avi | Frames: 30 | Person detections: 3\n"
          ]
        },
        {
          "output_type": "stream",
          "name": "stderr",
          "text": [
            "jatuh:  42%|████▏     | 281/675 [01:46<02:06,  3.12it/s]"
          ]
        },
        {
          "output_type": "stream",
          "name": "stdout",
          "text": [
            "[957/1352] jatuh/video_156.avi | Frames: 30 | Person detections: 26\n",
            "[958/1352] jatuh/video_168.avi | Frames: 7 | Person detections: 6\n"
          ]
        },
        {
          "output_type": "stream",
          "name": "stderr",
          "text": [
            "\rjatuh:  42%|████▏     | 282/675 [01:46<02:32,  2.58it/s]"
          ]
        },
        {
          "output_type": "stream",
          "name": "stdout",
          "text": [
            "[959/1352] jatuh/video_186.avi | Frames: 30 | Person detections: 1\n"
          ]
        },
        {
          "output_type": "stream",
          "name": "stderr",
          "text": [
            "\rjatuh:  42%|████▏     | 283/675 [01:47<02:47,  2.34it/s]"
          ]
        },
        {
          "output_type": "stream",
          "name": "stdout",
          "text": [
            "[960/1352] jatuh/video_173_flip.avi | Frames: 30 | Person detections: 30\n"
          ]
        },
        {
          "output_type": "stream",
          "name": "stderr",
          "text": [
            "\rjatuh:  42%|████▏     | 284/675 [01:47<02:52,  2.27it/s]"
          ]
        },
        {
          "output_type": "stream",
          "name": "stdout",
          "text": [
            "[961/1352] jatuh/video_190.avi | Frames: 30 | Person detections: 11\n"
          ]
        },
        {
          "output_type": "stream",
          "name": "stderr",
          "text": [
            "\rjatuh:  42%|████▏     | 285/675 [01:48<03:01,  2.14it/s]"
          ]
        },
        {
          "output_type": "stream",
          "name": "stdout",
          "text": [
            "[962/1352] jatuh/video_155.avi | Frames: 30 | Person detections: 10\n"
          ]
        },
        {
          "output_type": "stream",
          "name": "stderr",
          "text": [
            "\rjatuh:  42%|████▏     | 286/675 [01:48<03:07,  2.08it/s]"
          ]
        },
        {
          "output_type": "stream",
          "name": "stdout",
          "text": [
            "[963/1352] jatuh/video_193_flip.avi | Frames: 30 | Person detections: 15\n"
          ]
        },
        {
          "output_type": "stream",
          "name": "stderr",
          "text": [
            "\rjatuh:  43%|████▎     | 287/675 [01:49<02:53,  2.24it/s]"
          ]
        },
        {
          "output_type": "stream",
          "name": "stdout",
          "text": [
            "[964/1352] jatuh/video_155_flip.avi | Frames: 30 | Person detections: 6\n"
          ]
        },
        {
          "output_type": "stream",
          "name": "stderr",
          "text": [
            "\rjatuh:  43%|████▎     | 288/675 [01:49<02:41,  2.39it/s]"
          ]
        },
        {
          "output_type": "stream",
          "name": "stdout",
          "text": [
            "[965/1352] jatuh/video_172.avi | Frames: 30 | Person detections: 17\n"
          ]
        },
        {
          "output_type": "stream",
          "name": "stderr",
          "text": [
            "\rjatuh:  43%|████▎     | 289/675 [01:49<02:41,  2.39it/s]"
          ]
        },
        {
          "output_type": "stream",
          "name": "stdout",
          "text": [
            "[966/1352] jatuh/video_14_flip.avi | Frames: 34 | Person detections: 34\n"
          ]
        },
        {
          "output_type": "stream",
          "name": "stderr",
          "text": [
            "\rjatuh:  43%|████▎     | 290/675 [01:50<02:35,  2.47it/s]"
          ]
        },
        {
          "output_type": "stream",
          "name": "stdout",
          "text": [
            "[967/1352] jatuh/video_161.avi | Frames: 30 | Person detections: 18\n"
          ]
        },
        {
          "output_type": "stream",
          "name": "stderr",
          "text": [
            "\rjatuh:  43%|████▎     | 291/675 [01:50<02:28,  2.59it/s]"
          ]
        },
        {
          "output_type": "stream",
          "name": "stdout",
          "text": [
            "[968/1352] jatuh/video_175_flip.avi | Frames: 30 | Person detections: 10\n"
          ]
        },
        {
          "output_type": "stream",
          "name": "stderr",
          "text": [
            "\rjatuh:  43%|████▎     | 292/675 [01:50<02:28,  2.57it/s]"
          ]
        },
        {
          "output_type": "stream",
          "name": "stdout",
          "text": [
            "[969/1352] jatuh/video_197.avi | Frames: 30 | Person detections: 17\n",
            "[970/1352] jatuh/video_158.avi | Frames: 1 | Person detections: 1\n"
          ]
        },
        {
          "output_type": "stream",
          "name": "stderr",
          "text": [
            "\rjatuh:  44%|████▎     | 294/675 [01:51<01:55,  3.30it/s]"
          ]
        },
        {
          "output_type": "stream",
          "name": "stdout",
          "text": [
            "[971/1352] jatuh/video_16.avi | Frames: 35 | Person detections: 35\n"
          ]
        },
        {
          "output_type": "stream",
          "name": "stderr",
          "text": [
            "\rjatuh:  44%|████▎     | 295/675 [01:51<01:58,  3.20it/s]"
          ]
        },
        {
          "output_type": "stream",
          "name": "stdout",
          "text": [
            "[972/1352] jatuh/video_149_flip.avi | Frames: 30 | Person detections: 3\n"
          ]
        },
        {
          "output_type": "stream",
          "name": "stderr",
          "text": [
            "\rjatuh:  44%|████▍     | 296/675 [01:52<02:03,  3.08it/s]"
          ]
        },
        {
          "output_type": "stream",
          "name": "stdout",
          "text": [
            "[973/1352] jatuh/video_186_flip.avi | Frames: 30 | Person detections: 1\n",
            "[974/1352] jatuh/video_153.avi | Frames: 2 | Person detections: 2\n"
          ]
        },
        {
          "output_type": "stream",
          "name": "stderr",
          "text": [
            "\rjatuh:  44%|████▍     | 298/675 [01:52<01:42,  3.68it/s]"
          ]
        },
        {
          "output_type": "stream",
          "name": "stdout",
          "text": [
            "[975/1352] jatuh/video_177.avi | Frames: 30 | Person detections: 20\n"
          ]
        },
        {
          "output_type": "stream",
          "name": "stderr",
          "text": [
            "\rjatuh:  44%|████▍     | 299/675 [01:52<01:51,  3.38it/s]"
          ]
        },
        {
          "output_type": "stream",
          "name": "stdout",
          "text": [
            "[976/1352] jatuh/video_179_flip.avi | Frames: 30 | Person detections: 11\n",
            "[977/1352] jatuh/video_171.avi | Frames: 4 | Person detections: 4\n"
          ]
        },
        {
          "output_type": "stream",
          "name": "stderr",
          "text": [
            "\rjatuh:  45%|████▍     | 301/675 [01:53<01:36,  3.87it/s]"
          ]
        },
        {
          "output_type": "stream",
          "name": "stdout",
          "text": [
            "[978/1352] jatuh/video_178_flip.avi | Frames: 30 | Person detections: 21\n"
          ]
        },
        {
          "output_type": "stream",
          "name": "stderr",
          "text": [
            "\rjatuh:  45%|████▍     | 302/675 [01:53<01:44,  3.58it/s]"
          ]
        },
        {
          "output_type": "stream",
          "name": "stdout",
          "text": [
            "[979/1352] jatuh/video_192_flip.avi | Frames: 30 | Person detections: 8\n"
          ]
        },
        {
          "output_type": "stream",
          "name": "stderr",
          "text": [
            "\rjatuh:  45%|████▍     | 303/675 [01:54<01:52,  3.31it/s]"
          ]
        },
        {
          "output_type": "stream",
          "name": "stdout",
          "text": [
            "[980/1352] jatuh/video_196.avi | Frames: 30 | Person detections: 11\n"
          ]
        },
        {
          "output_type": "stream",
          "name": "stderr",
          "text": [
            "\rjatuh:  45%|████▌     | 304/675 [01:54<01:55,  3.22it/s]"
          ]
        },
        {
          "output_type": "stream",
          "name": "stdout",
          "text": [
            "[981/1352] jatuh/video_191.avi | Frames: 30 | Person detections: 9\n"
          ]
        },
        {
          "output_type": "stream",
          "name": "stderr",
          "text": [
            "\rjatuh:  45%|████▌     | 305/675 [01:54<01:59,  3.09it/s]"
          ]
        },
        {
          "output_type": "stream",
          "name": "stdout",
          "text": [
            "[982/1352] jatuh/video_176_flip.avi | Frames: 30 | Person detections: 23\n"
          ]
        },
        {
          "output_type": "stream",
          "name": "stderr",
          "text": [
            "\rjatuh:  45%|████▌     | 306/675 [01:55<02:02,  3.00it/s]"
          ]
        },
        {
          "output_type": "stream",
          "name": "stdout",
          "text": [
            "[983/1352] jatuh/video_182_flip.avi | Frames: 30 | Person detections: 6\n"
          ]
        },
        {
          "output_type": "stream",
          "name": "stderr",
          "text": [
            "\rjatuh:  45%|████▌     | 307/675 [01:55<02:04,  2.95it/s]"
          ]
        },
        {
          "output_type": "stream",
          "name": "stdout",
          "text": [
            "[984/1352] jatuh/video_163.avi | Frames: 30 | Person detections: 16\n"
          ]
        },
        {
          "output_type": "stream",
          "name": "stderr",
          "text": [
            "\rjatuh:  46%|████▌     | 308/675 [01:55<02:05,  2.94it/s]"
          ]
        },
        {
          "output_type": "stream",
          "name": "stdout",
          "text": [
            "[985/1352] jatuh/video_149.avi | Frames: 30 | Person detections: 3\n"
          ]
        },
        {
          "output_type": "stream",
          "name": "stderr",
          "text": [
            "\rjatuh:  46%|████▌     | 309/675 [01:56<02:08,  2.84it/s]"
          ]
        },
        {
          "output_type": "stream",
          "name": "stdout",
          "text": [
            "[986/1352] jatuh/video_187.avi | Frames: 30 | Person detections: 11\n"
          ]
        },
        {
          "output_type": "stream",
          "name": "stderr",
          "text": [
            "\rjatuh:  46%|████▌     | 310/675 [01:56<02:09,  2.82it/s]"
          ]
        },
        {
          "output_type": "stream",
          "name": "stdout",
          "text": [
            "[987/1352] jatuh/video_165_flip.avi | Frames: 30 | Person detections: 12\n"
          ]
        },
        {
          "output_type": "stream",
          "name": "stderr",
          "text": [
            "\rjatuh:  46%|████▌     | 311/675 [01:56<02:08,  2.83it/s]"
          ]
        },
        {
          "output_type": "stream",
          "name": "stdout",
          "text": [
            "[988/1352] jatuh/video_154.avi | Frames: 30 | Person detections: 10\n"
          ]
        },
        {
          "output_type": "stream",
          "name": "stderr",
          "text": [
            "\rjatuh:  46%|████▌     | 312/675 [01:57<02:11,  2.75it/s]"
          ]
        },
        {
          "output_type": "stream",
          "name": "stdout",
          "text": [
            "[989/1352] jatuh/video_183.avi | Frames: 30 | Person detections: 18\n"
          ]
        },
        {
          "output_type": "stream",
          "name": "stderr",
          "text": [
            "\rjatuh:  46%|████▋     | 313/675 [01:57<02:11,  2.76it/s]"
          ]
        },
        {
          "output_type": "stream",
          "name": "stdout",
          "text": [
            "[990/1352] jatuh/video_184.avi | Frames: 30 | Person detections: 9\n"
          ]
        },
        {
          "output_type": "stream",
          "name": "stderr",
          "text": [
            "\rjatuh:  47%|████▋     | 314/675 [01:57<02:14,  2.69it/s]"
          ]
        },
        {
          "output_type": "stream",
          "name": "stdout",
          "text": [
            "[991/1352] jatuh/video_199.avi | Frames: 30 | Person detections: 17\n"
          ]
        },
        {
          "output_type": "stream",
          "name": "stderr",
          "text": [
            "\rjatuh:  47%|████▋     | 315/675 [01:58<02:16,  2.64it/s]"
          ]
        },
        {
          "output_type": "stream",
          "name": "stdout",
          "text": [
            "[992/1352] jatuh/video_176.avi | Frames: 30 | Person detections: 25\n"
          ]
        },
        {
          "output_type": "stream",
          "name": "stderr",
          "text": [
            "\rjatuh:  47%|████▋     | 316/675 [01:58<02:20,  2.56it/s]"
          ]
        },
        {
          "output_type": "stream",
          "name": "stdout",
          "text": [
            "[993/1352] jatuh/video_190_flip.avi | Frames: 30 | Person detections: 12\n",
            "[994/1352] jatuh/video_214.avi | Frames: 4 | Person detections: 4\n"
          ]
        },
        {
          "output_type": "stream",
          "name": "stderr",
          "text": [
            "\rjatuh:  47%|████▋     | 318/675 [01:59<02:03,  2.90it/s]"
          ]
        },
        {
          "output_type": "stream",
          "name": "stdout",
          "text": [
            "[995/1352] jatuh/video_225_flip.avi | Frames: 30 | Person detections: 14\n"
          ]
        },
        {
          "output_type": "stream",
          "name": "stderr",
          "text": [
            "\rjatuh:  47%|████▋     | 319/675 [01:59<02:19,  2.55it/s]"
          ]
        },
        {
          "output_type": "stream",
          "name": "stdout",
          "text": [
            "[996/1352] jatuh/video_206_flip.avi | Frames: 30 | Person detections: 14\n",
            "[997/1352] jatuh/video_224_flip.avi | Frames: 2 | Person detections: 2\n"
          ]
        },
        {
          "output_type": "stream",
          "name": "stderr",
          "text": [
            "jatuh:  48%|████▊     | 322/675 [02:00<01:45,  3.34it/s]"
          ]
        },
        {
          "output_type": "stream",
          "name": "stdout",
          "text": [
            "[998/1352] jatuh/video_215_flip.avi | Frames: 30 | Person detections: 12\n",
            "[999/1352] jatuh/video_220.avi | Frames: 7 | Person detections: 7\n"
          ]
        },
        {
          "output_type": "stream",
          "name": "stderr",
          "text": [
            "\rjatuh:  48%|████▊     | 323/675 [02:01<02:03,  2.85it/s]"
          ]
        },
        {
          "output_type": "stream",
          "name": "stdout",
          "text": [
            "[1000/1352] jatuh/video_199_flip.avi | Frames: 30 | Person detections: 16\n",
            "===> Batch 19 disimpan (size 50)\n"
          ]
        },
        {
          "output_type": "stream",
          "name": "stderr",
          "text": [
            "\rjatuh:  48%|████▊     | 324/675 [02:01<02:23,  2.45it/s]"
          ]
        },
        {
          "output_type": "stream",
          "name": "stdout",
          "text": [
            "[1001/1352] jatuh/video_241.avi | Frames: 30 | Person detections: 2\n"
          ]
        },
        {
          "output_type": "stream",
          "name": "stderr",
          "text": [
            "\rjatuh:  48%|████▊     | 325/675 [02:02<02:37,  2.22it/s]"
          ]
        },
        {
          "output_type": "stream",
          "name": "stdout",
          "text": [
            "[1002/1352] jatuh/video_20.avi | Frames: 38 | Person detections: 38\n"
          ]
        },
        {
          "output_type": "stream",
          "name": "stderr",
          "text": [
            "\rjatuh:  48%|████▊     | 326/675 [02:02<02:28,  2.36it/s]"
          ]
        },
        {
          "output_type": "stream",
          "name": "stdout",
          "text": [
            "[1003/1352] jatuh/video_21.avi | Frames: 28 | Person detections: 28\n"
          ]
        },
        {
          "output_type": "stream",
          "name": "stderr",
          "text": [
            "\rjatuh:  48%|████▊     | 327/675 [02:02<02:21,  2.45it/s]"
          ]
        },
        {
          "output_type": "stream",
          "name": "stdout",
          "text": [
            "[1004/1352] jatuh/video_226.avi | Frames: 30 | Person detections: 10\n",
            "[1005/1352] jatuh/video_221.avi | Frames: 7 | Person detections: 7\n"
          ]
        },
        {
          "output_type": "stream",
          "name": "stderr",
          "text": [
            "\rjatuh:  49%|████▊     | 329/675 [02:03<01:53,  3.04it/s]"
          ]
        },
        {
          "output_type": "stream",
          "name": "stdout",
          "text": [
            "[1006/1352] jatuh/video_228.avi | Frames: 30 | Person detections: 14\n"
          ]
        },
        {
          "output_type": "stream",
          "name": "stderr",
          "text": [
            "\rjatuh:  49%|████▉     | 330/675 [02:03<01:59,  2.90it/s]"
          ]
        },
        {
          "output_type": "stream",
          "name": "stdout",
          "text": [
            "[1007/1352] jatuh/video_2.avi | Frames: 33 | Person detections: 33\n"
          ]
        },
        {
          "output_type": "stream",
          "name": "stderr",
          "text": [
            "\rjatuh:  49%|████▉     | 331/675 [02:04<02:00,  2.84it/s]"
          ]
        },
        {
          "output_type": "stream",
          "name": "stdout",
          "text": [
            "[1008/1352] jatuh/video_215.avi | Frames: 30 | Person detections: 21\n"
          ]
        },
        {
          "output_type": "stream",
          "name": "stderr",
          "text": [
            "\rjatuh:  49%|████▉     | 332/675 [02:04<02:09,  2.64it/s]"
          ]
        },
        {
          "output_type": "stream",
          "name": "stdout",
          "text": [
            "[1009/1352] jatuh/video_20_flip.avi | Frames: 38 | Person detections: 38\n"
          ]
        },
        {
          "output_type": "stream",
          "name": "stderr",
          "text": [
            "\rjatuh:  49%|████▉     | 333/675 [02:05<02:08,  2.66it/s]"
          ]
        },
        {
          "output_type": "stream",
          "name": "stdout",
          "text": [
            "[1010/1352] jatuh/video_247.avi | Frames: 30 | Person detections: 13\n"
          ]
        },
        {
          "output_type": "stream",
          "name": "stderr",
          "text": [
            "\rjatuh:  49%|████▉     | 334/675 [02:05<02:04,  2.74it/s]"
          ]
        },
        {
          "output_type": "stream",
          "name": "stdout",
          "text": [
            "[1011/1352] jatuh/video_238_flip.avi | Frames: 30 | Person detections: 0\n"
          ]
        },
        {
          "output_type": "stream",
          "name": "stderr",
          "text": [
            "\rjatuh:  50%|████▉     | 335/675 [02:05<02:04,  2.73it/s]"
          ]
        },
        {
          "output_type": "stream",
          "name": "stdout",
          "text": [
            "[1012/1352] jatuh/video_234_flip.avi | Frames: 30 | Person detections: 13\n"
          ]
        },
        {
          "output_type": "stream",
          "name": "stderr",
          "text": [
            "\rjatuh:  50%|████▉     | 336/675 [02:06<02:04,  2.72it/s]"
          ]
        },
        {
          "output_type": "stream",
          "name": "stdout",
          "text": [
            "[1013/1352] jatuh/video_24.avi | Frames: 32 | Person detections: 32\n"
          ]
        },
        {
          "output_type": "stream",
          "name": "stderr",
          "text": [
            "\rjatuh:  50%|████▉     | 337/675 [02:06<02:02,  2.76it/s]"
          ]
        },
        {
          "output_type": "stream",
          "name": "stdout",
          "text": [
            "[1014/1352] jatuh/video_231.avi | Frames: 30 | Person detections: 16\n"
          ]
        },
        {
          "output_type": "stream",
          "name": "stderr",
          "text": [
            "\rjatuh:  50%|█████     | 338/675 [02:06<02:03,  2.73it/s]"
          ]
        },
        {
          "output_type": "stream",
          "name": "stdout",
          "text": [
            "[1015/1352] jatuh/video_233.avi | Frames: 30 | Person detections: 20\n"
          ]
        },
        {
          "output_type": "stream",
          "name": "stderr",
          "text": [
            "\rjatuh:  50%|█████     | 339/675 [02:07<01:59,  2.82it/s]"
          ]
        },
        {
          "output_type": "stream",
          "name": "stdout",
          "text": [
            "[1016/1352] jatuh/video_21_flip.avi | Frames: 28 | Person detections: 28\n"
          ]
        },
        {
          "output_type": "stream",
          "name": "stderr",
          "text": [
            "\rjatuh:  50%|█████     | 340/675 [02:07<01:59,  2.81it/s]"
          ]
        },
        {
          "output_type": "stream",
          "name": "stdout",
          "text": [
            "[1017/1352] jatuh/video_202.avi | Frames: 30 | Person detections: 14\n"
          ]
        },
        {
          "output_type": "stream",
          "name": "stderr",
          "text": [
            "\rjatuh:  51%|█████     | 341/675 [02:07<02:01,  2.76it/s]"
          ]
        },
        {
          "output_type": "stream",
          "name": "stdout",
          "text": [
            "[1018/1352] jatuh/video_229_flip.avi | Frames: 30 | Person detections: 7\n"
          ]
        },
        {
          "output_type": "stream",
          "name": "stderr",
          "text": [
            "\rjatuh:  51%|█████     | 342/675 [02:08<01:58,  2.81it/s]"
          ]
        },
        {
          "output_type": "stream",
          "name": "stdout",
          "text": [
            "[1019/1352] jatuh/video_245_flip.avi | Frames: 30 | Person detections: 2\n"
          ]
        },
        {
          "output_type": "stream",
          "name": "stderr",
          "text": [
            "jatuh:  51%|█████     | 344/675 [02:08<01:42,  3.24it/s]"
          ]
        },
        {
          "output_type": "stream",
          "name": "stdout",
          "text": [
            "[1020/1352] jatuh/video_217.avi | Frames: 30 | Person detections: 12\n",
            "[1021/1352] jatuh/video_201.avi | Frames: 14 | Person detections: 14\n"
          ]
        },
        {
          "output_type": "stream",
          "name": "stderr",
          "text": [
            "\rjatuh:  51%|█████     | 345/675 [02:09<01:47,  3.07it/s]"
          ]
        },
        {
          "output_type": "stream",
          "name": "stdout",
          "text": [
            "[1022/1352] jatuh/video_246.avi | Frames: 30 | Person detections: 12\n"
          ]
        },
        {
          "output_type": "stream",
          "name": "stderr",
          "text": [
            "\rjatuh:  51%|█████▏    | 346/675 [02:09<01:49,  3.01it/s]"
          ]
        },
        {
          "output_type": "stream",
          "name": "stdout",
          "text": [
            "[1023/1352] jatuh/video_236_flip.avi | Frames: 30 | Person detections: 4\n"
          ]
        },
        {
          "output_type": "stream",
          "name": "stderr",
          "text": [
            "\rjatuh:  51%|█████▏    | 347/675 [02:09<01:54,  2.86it/s]"
          ]
        },
        {
          "output_type": "stream",
          "name": "stdout",
          "text": [
            "[1024/1352] jatuh/video_226_flip.avi | Frames: 30 | Person detections: 17\n",
            "[1025/1352] jatuh/video_218.avi | Frames: 3 | Person detections: 3\n"
          ]
        },
        {
          "output_type": "stream",
          "name": "stderr",
          "text": [
            "\rjatuh:  52%|█████▏    | 349/675 [02:10<01:31,  3.56it/s]"
          ]
        },
        {
          "output_type": "stream",
          "name": "stdout",
          "text": [
            "[1026/1352] jatuh/video_252_flip.avi | Frames: 30 | Person detections: 14\n"
          ]
        },
        {
          "output_type": "stream",
          "name": "stderr",
          "text": [
            "\rjatuh:  52%|█████▏    | 350/675 [02:10<01:37,  3.35it/s]"
          ]
        },
        {
          "output_type": "stream",
          "name": "stdout",
          "text": [
            "[1027/1352] jatuh/video_207.avi | Frames: 30 | Person detections: 10\n",
            "[1028/1352] jatuh/video_210.avi | Frames: 7 | Person detections: 2\n"
          ]
        },
        {
          "output_type": "stream",
          "name": "stderr",
          "text": [
            "jatuh:  52%|█████▏    | 354/675 [02:11<00:52,  6.07it/s]"
          ]
        },
        {
          "output_type": "stream",
          "name": "stdout",
          "text": [
            "[1029/1352] jatuh/video_211.avi | Frames: 14 | Person detections: 6\n",
            "[1030/1352] jatuh/video_222.avi | Frames: 4 | Person detections: 4\n",
            "[1031/1352] jatuh/video_212_flip.avi | Frames: 4 | Person detections: 0\n"
          ]
        },
        {
          "output_type": "stream",
          "name": "stderr",
          "text": [
            "jatuh:  53%|█████▎    | 356/675 [02:11<00:59,  5.36it/s]"
          ]
        },
        {
          "output_type": "stream",
          "name": "stdout",
          "text": [
            "[1032/1352] jatuh/video_24_flip.avi | Frames: 32 | Person detections: 32\n",
            "[1033/1352] jatuh/video_221_flip.avi | Frames: 7 | Person detections: 7\n"
          ]
        },
        {
          "output_type": "stream",
          "name": "stderr",
          "text": [
            "jatuh:  53%|█████▎    | 360/675 [02:12<00:43,  7.28it/s]"
          ]
        },
        {
          "output_type": "stream",
          "name": "stdout",
          "text": [
            "[1034/1352] jatuh/video_225.avi | Frames: 30 | Person detections: 4\n",
            "[1035/1352] jatuh/video_249_flip.avi | Frames: 2 | Person detections: 0\n",
            "[1036/1352] jatuh/video_218_flip.avi | Frames: 3 | Person detections: 3\n",
            "[1037/1352] jatuh/video_243_flip.avi | Frames: 4 | Person detections: 4\n",
            "[1038/1352] jatuh/video_224.avi | Frames: 2 | Person detections: 2\n"
          ]
        },
        {
          "output_type": "stream",
          "name": "stderr",
          "text": [
            "jatuh:  54%|█████▍    | 363/675 [02:12<00:53,  5.83it/s]"
          ]
        },
        {
          "output_type": "stream",
          "name": "stdout",
          "text": [
            "[1039/1352] jatuh/video_207_flip.avi | Frames: 30 | Person detections: 13\n",
            "[1040/1352] jatuh/video_251_flip.avi | Frames: 7 | Person detections: 7\n"
          ]
        },
        {
          "output_type": "stream",
          "name": "stderr",
          "text": [
            "jatuh:  54%|█████▍    | 365/675 [02:13<01:09,  4.44it/s]"
          ]
        },
        {
          "output_type": "stream",
          "name": "stdout",
          "text": [
            "[1041/1352] jatuh/video_213_flip.avi | Frames: 30 | Person detections: 20\n",
            "[1042/1352] jatuh/video_210_flip.avi | Frames: 7 | Person detections: 0\n",
            "[1043/1352] jatuh/video_242_flip.avi | Frames: 2 | Person detections: 0\n"
          ]
        },
        {
          "output_type": "stream",
          "name": "stderr",
          "text": [
            "\rjatuh:  54%|█████▍    | 367/675 [02:13<01:14,  4.15it/s]"
          ]
        },
        {
          "output_type": "stream",
          "name": "stdout",
          "text": [
            "[1044/1352] jatuh/video_227_flip.avi | Frames: 30 | Person detections: 6\n"
          ]
        },
        {
          "output_type": "stream",
          "name": "stderr",
          "text": [
            "\rjatuh:  55%|█████▍    | 368/675 [02:14<01:31,  3.36it/s]"
          ]
        },
        {
          "output_type": "stream",
          "name": "stdout",
          "text": [
            "[1045/1352] jatuh/video_232.avi | Frames: 30 | Person detections: 9\n"
          ]
        },
        {
          "output_type": "stream",
          "name": "stderr",
          "text": [
            "jatuh:  55%|█████▍    | 370/675 [02:15<01:33,  3.26it/s]"
          ]
        },
        {
          "output_type": "stream",
          "name": "stdout",
          "text": [
            "[1046/1352] jatuh/video_205_flip.avi | Frames: 30 | Person detections: 14\n",
            "[1047/1352] jatuh/video_216_flip.avi | Frames: 7 | Person detections: 7\n"
          ]
        },
        {
          "output_type": "stream",
          "name": "stderr",
          "text": [
            "\rjatuh:  55%|█████▍    | 371/675 [02:15<01:44,  2.91it/s]"
          ]
        },
        {
          "output_type": "stream",
          "name": "stdout",
          "text": [
            "[1048/1352] jatuh/video_246_flip.avi | Frames: 30 | Person detections: 16\n"
          ]
        },
        {
          "output_type": "stream",
          "name": "stderr",
          "text": [
            "\rjatuh:  55%|█████▌    | 372/675 [02:15<01:44,  2.89it/s]"
          ]
        },
        {
          "output_type": "stream",
          "name": "stdout",
          "text": [
            "[1049/1352] jatuh/video_22_flip.avi | Frames: 30 | Person detections: 30\n"
          ]
        },
        {
          "output_type": "stream",
          "name": "stderr",
          "text": [
            "\rjatuh:  55%|█████▌    | 373/675 [02:16<01:44,  2.88it/s]"
          ]
        },
        {
          "output_type": "stream",
          "name": "stdout",
          "text": [
            "[1050/1352] jatuh/video_23.avi | Frames: 28 | Person detections: 28\n",
            "===> Batch 20 disimpan (size 50)\n"
          ]
        },
        {
          "output_type": "stream",
          "name": "stderr",
          "text": [
            "\rjatuh:  55%|█████▌    | 374/675 [02:16<01:46,  2.83it/s]"
          ]
        },
        {
          "output_type": "stream",
          "name": "stdout",
          "text": [
            "[1051/1352] jatuh/video_245.avi | Frames: 30 | Person detections: 5\n"
          ]
        },
        {
          "output_type": "stream",
          "name": "stderr",
          "text": [
            "\rjatuh:  56%|█████▌    | 375/675 [02:17<01:48,  2.76it/s]"
          ]
        },
        {
          "output_type": "stream",
          "name": "stdout",
          "text": [
            "[1052/1352] jatuh/video_230_flip.avi | Frames: 30 | Person detections: 30\n"
          ]
        },
        {
          "output_type": "stream",
          "name": "stderr",
          "text": [
            "\rjatuh:  56%|█████▌    | 376/675 [02:17<01:50,  2.71it/s]"
          ]
        },
        {
          "output_type": "stream",
          "name": "stdout",
          "text": [
            "[1053/1352] jatuh/video_217_flip.avi | Frames: 30 | Person detections: 12\n"
          ]
        },
        {
          "output_type": "stream",
          "name": "stderr",
          "text": [
            "\rjatuh:  56%|█████▌    | 377/675 [02:17<01:48,  2.74it/s]"
          ]
        },
        {
          "output_type": "stream",
          "name": "stdout",
          "text": [
            "[1054/1352] jatuh/video_25.avi | Frames: 30 | Person detections: 30\n"
          ]
        },
        {
          "output_type": "stream",
          "name": "stderr",
          "text": [
            "\rjatuh:  56%|█████▌    | 378/675 [02:18<01:51,  2.67it/s]"
          ]
        },
        {
          "output_type": "stream",
          "name": "stdout",
          "text": [
            "[1055/1352] jatuh/video_247_flip.avi | Frames: 30 | Person detections: 15\n",
            "[1056/1352] jatuh/video_219_flip.avi | Frames: 3 | Person detections: 2\n"
          ]
        },
        {
          "output_type": "stream",
          "name": "stderr",
          "text": [
            "\rjatuh:  56%|█████▋    | 380/675 [02:18<01:28,  3.33it/s]"
          ]
        },
        {
          "output_type": "stream",
          "name": "stdout",
          "text": [
            "[1057/1352] jatuh/video_204_flip.avi | Frames: 30 | Person detections: 14\n"
          ]
        },
        {
          "output_type": "stream",
          "name": "stderr",
          "text": [
            "\rjatuh:  56%|█████▋    | 381/675 [02:19<01:40,  2.92it/s]"
          ]
        },
        {
          "output_type": "stream",
          "name": "stdout",
          "text": [
            "[1058/1352] jatuh/video_1_flip.avi | Frames: 40 | Person detections: 40\n"
          ]
        },
        {
          "output_type": "stream",
          "name": "stderr",
          "text": [
            "\rjatuh:  57%|█████▋    | 382/675 [02:19<01:44,  2.81it/s]"
          ]
        },
        {
          "output_type": "stream",
          "name": "stdout",
          "text": [
            "[1059/1352] jatuh/video_235_flip.avi | Frames: 30 | Person detections: 2\n"
          ]
        },
        {
          "output_type": "stream",
          "name": "stderr",
          "text": [
            "jatuh:  57%|█████▋    | 384/675 [02:20<01:28,  3.28it/s]"
          ]
        },
        {
          "output_type": "stream",
          "name": "stdout",
          "text": [
            "[1060/1352] jatuh/video_228_flip.avi | Frames: 30 | Person detections: 12\n",
            "[1061/1352] jatuh/video_248.avi | Frames: 14 | Person detections: 4\n",
            "[1062/1352] jatuh/video_244_flip.avi | Frames: 2 | Person detections: 2\n"
          ]
        },
        {
          "output_type": "stream",
          "name": "stderr",
          "text": [
            "\rjatuh:  57%|█████▋    | 386/675 [02:20<01:15,  3.81it/s]"
          ]
        },
        {
          "output_type": "stream",
          "name": "stdout",
          "text": [
            "[1063/1352] jatuh/video_235.avi | Frames: 30 | Person detections: 4\n"
          ]
        },
        {
          "output_type": "stream",
          "name": "stderr",
          "text": [
            "\rjatuh:  57%|█████▋    | 387/675 [02:20<01:22,  3.49it/s]"
          ]
        },
        {
          "output_type": "stream",
          "name": "stdout",
          "text": [
            "[1064/1352] jatuh/video_234.avi | Frames: 30 | Person detections: 13\n"
          ]
        },
        {
          "output_type": "stream",
          "name": "stderr",
          "text": [
            "\rjatuh:  57%|█████▋    | 388/675 [02:21<01:28,  3.24it/s]"
          ]
        },
        {
          "output_type": "stream",
          "name": "stdout",
          "text": [
            "[1065/1352] jatuh/video_239.avi | Frames: 30 | Person detections: 16\n"
          ]
        },
        {
          "output_type": "stream",
          "name": "stderr",
          "text": [
            "\rjatuh:  58%|█████▊    | 389/675 [02:21<01:35,  2.99it/s]"
          ]
        },
        {
          "output_type": "stream",
          "name": "stdout",
          "text": [
            "[1066/1352] jatuh/video_203_flip.avi | Frames: 30 | Person detections: 6\n"
          ]
        },
        {
          "output_type": "stream",
          "name": "stderr",
          "text": [
            "\rjatuh:  58%|█████▊    | 390/675 [02:21<01:39,  2.87it/s]"
          ]
        },
        {
          "output_type": "stream",
          "name": "stdout",
          "text": [
            "[1067/1352] jatuh/video_231_flip.avi | Frames: 30 | Person detections: 17\n",
            "[1068/1352] jatuh/video_223_flip.avi | Frames: 3 | Person detections: 3\n"
          ]
        },
        {
          "output_type": "stream",
          "name": "stderr",
          "text": [
            "\rjatuh:  58%|█████▊    | 392/675 [02:22<01:20,  3.52it/s]"
          ]
        },
        {
          "output_type": "stream",
          "name": "stdout",
          "text": [
            "[1069/1352] jatuh/video_236.avi | Frames: 30 | Person detections: 8\n"
          ]
        },
        {
          "output_type": "stream",
          "name": "stderr",
          "text": [
            "\rjatuh:  58%|█████▊    | 393/675 [02:22<01:26,  3.27it/s]"
          ]
        },
        {
          "output_type": "stream",
          "name": "stdout",
          "text": [
            "[1070/1352] jatuh/video_238.avi | Frames: 30 | Person detections: 2\n"
          ]
        },
        {
          "output_type": "stream",
          "name": "stderr",
          "text": [
            "\rjatuh:  58%|█████▊    | 394/675 [02:23<01:29,  3.14it/s]"
          ]
        },
        {
          "output_type": "stream",
          "name": "stdout",
          "text": [
            "[1071/1352] jatuh/video_239_flip.avi | Frames: 30 | Person detections: 9\n",
            "[1072/1352] jatuh/video_220_flip.avi | Frames: 7 | Person detections: 6\n"
          ]
        },
        {
          "output_type": "stream",
          "name": "stderr",
          "text": [
            "jatuh:  59%|█████▉    | 398/675 [02:23<00:58,  4.70it/s]"
          ]
        },
        {
          "output_type": "stream",
          "name": "stdout",
          "text": [
            "[1073/1352] jatuh/video_200_flip.avi | Frames: 30 | Person detections: 16\n",
            "[1074/1352] jatuh/video_251.avi | Frames: 7 | Person detections: 7\n",
            "[1075/1352] jatuh/video_237_flip.avi | Frames: 7 | Person detections: 7\n"
          ]
        },
        {
          "output_type": "stream",
          "name": "stderr",
          "text": [
            "\rjatuh:  59%|█████▉    | 399/675 [02:24<01:08,  4.05it/s]"
          ]
        },
        {
          "output_type": "stream",
          "name": "stdout",
          "text": [
            "[1076/1352] jatuh/video_200.avi | Frames: 30 | Person detections: 16\n",
            "[1077/1352] jatuh/video_237.avi | Frames: 7 | Person detections: 7\n"
          ]
        },
        {
          "output_type": "stream",
          "name": "stderr",
          "text": [
            "\rjatuh:  59%|█████▉    | 401/675 [02:24<01:06,  4.12it/s]"
          ]
        },
        {
          "output_type": "stream",
          "name": "stdout",
          "text": [
            "[1078/1352] jatuh/video_229.avi | Frames: 30 | Person detections: 9\n",
            "[1079/1352] jatuh/video_222_flip.avi | Frames: 4 | Person detections: 4\n"
          ]
        },
        {
          "output_type": "stream",
          "name": "stderr",
          "text": [
            "\rjatuh:  60%|█████▉    | 403/675 [02:24<00:53,  5.06it/s]"
          ]
        },
        {
          "output_type": "stream",
          "name": "stdout",
          "text": [
            "[1080/1352] jatuh/video_248_flip.avi | Frames: 14 | Person detections: 5\n",
            "[1081/1352] jatuh/video_212.avi | Frames: 4 | Person detections: 0\n"
          ]
        },
        {
          "output_type": "stream",
          "name": "stderr",
          "text": [
            "\rjatuh:  60%|██████    | 405/675 [02:25<00:54,  4.98it/s]"
          ]
        },
        {
          "output_type": "stream",
          "name": "stdout",
          "text": [
            "[1082/1352] jatuh/video_232_flip.avi | Frames: 30 | Person detections: 9\n",
            "[1083/1352] jatuh/video_219.avi | Frames: 3 | Person detections: 3\n"
          ]
        },
        {
          "output_type": "stream",
          "name": "stderr",
          "text": [
            "jatuh:  60%|██████    | 408/675 [02:25<00:54,  4.88it/s]"
          ]
        },
        {
          "output_type": "stream",
          "name": "stdout",
          "text": [
            "[1084/1352] jatuh/video_241_flip.avi | Frames: 30 | Person detections: 1\n",
            "[1085/1352] jatuh/video_216.avi | Frames: 7 | Person detections: 7\n"
          ]
        },
        {
          "output_type": "stream",
          "name": "stderr",
          "text": [
            "\rjatuh:  61%|██████    | 409/675 [02:26<01:12,  3.69it/s]"
          ]
        },
        {
          "output_type": "stream",
          "name": "stdout",
          "text": [
            "[1086/1352] jatuh/video_252.avi | Frames: 30 | Person detections: 16\n",
            "[1087/1352] jatuh/video_250.avi | Frames: 2 | Person detections: 2\n"
          ]
        },
        {
          "output_type": "stream",
          "name": "stderr",
          "text": [
            "\rjatuh:  61%|██████    | 411/675 [02:27<01:21,  3.23it/s]"
          ]
        },
        {
          "output_type": "stream",
          "name": "stdout",
          "text": [
            "[1088/1352] jatuh/video_298_flip.avi | Frames: 41 | Person detections: 39\n"
          ]
        },
        {
          "output_type": "stream",
          "name": "stderr",
          "text": [
            "\rjatuh:  61%|██████    | 412/675 [02:27<01:46,  2.47it/s]"
          ]
        },
        {
          "output_type": "stream",
          "name": "stdout",
          "text": [
            "[1089/1352] jatuh/video_57_flip.avi | Frames: 47 | Person detections: 47\n"
          ]
        },
        {
          "output_type": "stream",
          "name": "stderr",
          "text": [
            "\rjatuh:  61%|██████    | 413/675 [02:28<02:03,  2.11it/s]"
          ]
        },
        {
          "output_type": "stream",
          "name": "stdout",
          "text": [
            "[1090/1352] jatuh/video_258_flip.avi | Frames: 38 | Person detections: 22\n"
          ]
        },
        {
          "output_type": "stream",
          "name": "stderr",
          "text": [
            "\rjatuh:  61%|██████▏   | 414/675 [02:29<02:03,  2.11it/s]"
          ]
        },
        {
          "output_type": "stream",
          "name": "stdout",
          "text": [
            "[1091/1352] jatuh/video_272_flip.avi | Frames: 32 | Person detections: 32\n"
          ]
        },
        {
          "output_type": "stream",
          "name": "stderr",
          "text": [
            "\rjatuh:  61%|██████▏   | 415/675 [02:29<02:01,  2.14it/s]"
          ]
        },
        {
          "output_type": "stream",
          "name": "stdout",
          "text": [
            "[1092/1352] jatuh/video_83_flip.avi | Frames: 42 | Person detections: 11\n"
          ]
        },
        {
          "output_type": "stream",
          "name": "stderr",
          "text": [
            "\rjatuh:  62%|██████▏   | 416/675 [02:29<01:53,  2.28it/s]"
          ]
        },
        {
          "output_type": "stream",
          "name": "stdout",
          "text": [
            "[1093/1352] jatuh/video_69_flip.avi | Frames: 32 | Person detections: 13\n"
          ]
        },
        {
          "output_type": "stream",
          "name": "stderr",
          "text": [
            "\rjatuh:  62%|██████▏   | 417/675 [02:30<01:58,  2.18it/s]"
          ]
        },
        {
          "output_type": "stream",
          "name": "stdout",
          "text": [
            "[1094/1352] jatuh/video_262_flip.avi | Frames: 46 | Person detections: 29\n"
          ]
        },
        {
          "output_type": "stream",
          "name": "stderr",
          "text": [
            "\rjatuh:  62%|██████▏   | 418/675 [02:30<01:49,  2.36it/s]"
          ]
        },
        {
          "output_type": "stream",
          "name": "stdout",
          "text": [
            "[1095/1352] jatuh/video_47_flip.avi | Frames: 29 | Person detections: 29\n"
          ]
        },
        {
          "output_type": "stream",
          "name": "stderr",
          "text": [
            "\rjatuh:  62%|██████▏   | 419/675 [02:31<01:47,  2.39it/s]"
          ]
        },
        {
          "output_type": "stream",
          "name": "stdout",
          "text": [
            "[1096/1352] jatuh/video_44_flip.avi | Frames: 32 | Person detections: 32\n"
          ]
        },
        {
          "output_type": "stream",
          "name": "stderr",
          "text": [
            "\rjatuh:  62%|██████▏   | 420/675 [02:31<01:41,  2.51it/s]"
          ]
        },
        {
          "output_type": "stream",
          "name": "stdout",
          "text": [
            "[1097/1352] jatuh/video_71_flip.avi | Frames: 34 | Person detections: 1\n"
          ]
        },
        {
          "output_type": "stream",
          "name": "stderr",
          "text": [
            "\rjatuh:  62%|██████▏   | 421/675 [02:32<01:51,  2.29it/s]"
          ]
        },
        {
          "output_type": "stream",
          "name": "stdout",
          "text": [
            "[1098/1352] jatuh/video_262.avi | Frames: 46 | Person detections: 20\n"
          ]
        },
        {
          "output_type": "stream",
          "name": "stderr",
          "text": [
            "\rjatuh:  63%|██████▎   | 422/675 [02:32<01:49,  2.31it/s]"
          ]
        },
        {
          "output_type": "stream",
          "name": "stdout",
          "text": [
            "[1099/1352] jatuh/video_33.avi | Frames: 36 | Person detections: 36\n"
          ]
        },
        {
          "output_type": "stream",
          "name": "stderr",
          "text": [
            "\rjatuh:  63%|██████▎   | 423/675 [02:32<01:40,  2.51it/s]"
          ]
        },
        {
          "output_type": "stream",
          "name": "stdout",
          "text": [
            "[1100/1352] jatuh/video_64.avi | Frames: 29 | Person detections: 1\n",
            "===> Batch 21 disimpan (size 50)\n"
          ]
        },
        {
          "output_type": "stream",
          "name": "stderr",
          "text": [
            "\rjatuh:  63%|██████▎   | 424/675 [02:33<01:35,  2.62it/s]"
          ]
        },
        {
          "output_type": "stream",
          "name": "stdout",
          "text": [
            "[1101/1352] jatuh/video_61.avi | Frames: 27 | Person detections: 27\n"
          ]
        },
        {
          "output_type": "stream",
          "name": "stderr",
          "text": [
            "\rjatuh:  63%|██████▎   | 425/675 [02:33<01:27,  2.85it/s]"
          ]
        },
        {
          "output_type": "stream",
          "name": "stdout",
          "text": [
            "[1102/1352] jatuh/video_295_flip.avi | Frames: 25 | Person detections: 6\n"
          ]
        },
        {
          "output_type": "stream",
          "name": "stderr",
          "text": [
            "\rjatuh:  63%|██████▎   | 426/675 [02:33<01:30,  2.75it/s]"
          ]
        },
        {
          "output_type": "stream",
          "name": "stdout",
          "text": [
            "[1103/1352] jatuh/video_2_flip.avi | Frames: 33 | Person detections: 33\n"
          ]
        },
        {
          "output_type": "stream",
          "name": "stderr",
          "text": [
            "\rjatuh:  63%|██████▎   | 427/675 [02:34<01:34,  2.63it/s]"
          ]
        },
        {
          "output_type": "stream",
          "name": "stdout",
          "text": [
            "[1104/1352] jatuh/video_7.avi | Frames: 32 | Person detections: 32\n"
          ]
        },
        {
          "output_type": "stream",
          "name": "stderr",
          "text": [
            "\rjatuh:  63%|██████▎   | 428/675 [02:34<01:46,  2.32it/s]"
          ]
        },
        {
          "output_type": "stream",
          "name": "stdout",
          "text": [
            "[1105/1352] jatuh/video_57.avi | Frames: 47 | Person detections: 47\n"
          ]
        },
        {
          "output_type": "stream",
          "name": "stderr",
          "text": [
            "\rjatuh:  64%|██████▎   | 429/675 [02:35<01:41,  2.42it/s]"
          ]
        },
        {
          "output_type": "stream",
          "name": "stdout",
          "text": [
            "[1106/1352] jatuh/video_94_flip.avi | Frames: 32 | Person detections: 8\n"
          ]
        },
        {
          "output_type": "stream",
          "name": "stderr",
          "text": [
            "\rjatuh:  64%|██████▎   | 430/675 [02:35<01:39,  2.46it/s]"
          ]
        },
        {
          "output_type": "stream",
          "name": "stdout",
          "text": [
            "[1107/1352] jatuh/video_65.avi | Frames: 34 | Person detections: 4\n"
          ]
        },
        {
          "output_type": "stream",
          "name": "stderr",
          "text": [
            "\rjatuh:  64%|██████▍   | 431/675 [02:35<01:33,  2.61it/s]"
          ]
        },
        {
          "output_type": "stream",
          "name": "stdout",
          "text": [
            "[1108/1352] jatuh/video_81_flip.avi | Frames: 30 | Person detections: 14\n"
          ]
        },
        {
          "output_type": "stream",
          "name": "stderr",
          "text": [
            "\rjatuh:  64%|██████▍   | 432/675 [02:36<01:35,  2.56it/s]"
          ]
        },
        {
          "output_type": "stream",
          "name": "stdout",
          "text": [
            "[1109/1352] jatuh/video_270_flip.avi | Frames: 34 | Person detections: 22\n"
          ]
        },
        {
          "output_type": "stream",
          "name": "stderr",
          "text": [
            "\rjatuh:  64%|██████▍   | 433/675 [02:36<01:31,  2.64it/s]"
          ]
        },
        {
          "output_type": "stream",
          "name": "stdout",
          "text": [
            "[1110/1352] jatuh/video_95.avi | Frames: 32 | Person detections: 6\n"
          ]
        },
        {
          "output_type": "stream",
          "name": "stderr",
          "text": [
            "\rjatuh:  64%|██████▍   | 434/675 [02:37<01:34,  2.55it/s]"
          ]
        },
        {
          "output_type": "stream",
          "name": "stdout",
          "text": [
            "[1111/1352] jatuh/video_59.avi | Frames: 36 | Person detections: 36\n"
          ]
        },
        {
          "output_type": "stream",
          "name": "stderr",
          "text": [
            "\rjatuh:  64%|██████▍   | 435/675 [02:37<01:37,  2.46it/s]"
          ]
        },
        {
          "output_type": "stream",
          "name": "stdout",
          "text": [
            "[1112/1352] jatuh/video_264_flip.avi | Frames: 37 | Person detections: 26\n"
          ]
        },
        {
          "output_type": "stream",
          "name": "stderr",
          "text": [
            "\rjatuh:  65%|██████▍   | 436/675 [02:37<01:37,  2.46it/s]"
          ]
        },
        {
          "output_type": "stream",
          "name": "stdout",
          "text": [
            "[1113/1352] jatuh/video_38_flip.avi | Frames: 34 | Person detections: 34\n"
          ]
        },
        {
          "output_type": "stream",
          "name": "stderr",
          "text": [
            "\rjatuh:  65%|██████▍   | 437/675 [02:38<01:41,  2.34it/s]"
          ]
        },
        {
          "output_type": "stream",
          "name": "stdout",
          "text": [
            "[1114/1352] jatuh/video_8.avi | Frames: 38 | Person detections: 38\n"
          ]
        },
        {
          "output_type": "stream",
          "name": "stderr",
          "text": [
            "\rjatuh:  65%|██████▍   | 438/675 [02:38<01:39,  2.38it/s]"
          ]
        },
        {
          "output_type": "stream",
          "name": "stdout",
          "text": [
            "[1115/1352] jatuh/video_82.avi | Frames: 34 | Person detections: 25\n"
          ]
        },
        {
          "output_type": "stream",
          "name": "stderr",
          "text": [
            "\rjatuh:  65%|██████▌   | 439/675 [02:39<01:49,  2.16it/s]"
          ]
        },
        {
          "output_type": "stream",
          "name": "stdout",
          "text": [
            "[1116/1352] jatuh/video_6.avi | Frames: 31 | Person detections: 31\n"
          ]
        },
        {
          "output_type": "stream",
          "name": "stderr",
          "text": [
            "\rjatuh:  65%|██████▌   | 440/675 [02:39<01:49,  2.15it/s]"
          ]
        },
        {
          "output_type": "stream",
          "name": "stdout",
          "text": [
            "[1117/1352] jatuh/video_75_flip.avi | Frames: 32 | Person detections: 1\n"
          ]
        },
        {
          "output_type": "stream",
          "name": "stderr",
          "text": [
            "\rjatuh:  65%|██████▌   | 441/675 [02:40<01:50,  2.13it/s]"
          ]
        },
        {
          "output_type": "stream",
          "name": "stdout",
          "text": [
            "[1118/1352] jatuh/video_79_flip.avi | Frames: 31 | Person detections: 4\n"
          ]
        },
        {
          "output_type": "stream",
          "name": "stderr",
          "text": [
            "\rjatuh:  65%|██████▌   | 442/675 [02:40<01:58,  1.97it/s]"
          ]
        },
        {
          "output_type": "stream",
          "name": "stdout",
          "text": [
            "[1119/1352] jatuh/video_271_flip.avi | Frames: 31 | Person detections: 31\n"
          ]
        },
        {
          "output_type": "stream",
          "name": "stderr",
          "text": [
            "\rjatuh:  66%|██████▌   | 443/675 [02:41<02:04,  1.86it/s]"
          ]
        },
        {
          "output_type": "stream",
          "name": "stdout",
          "text": [
            "[1120/1352] jatuh/video_97_flip.avi | Frames: 39 | Person detections: 4\n"
          ]
        },
        {
          "output_type": "stream",
          "name": "stderr",
          "text": [
            "\rjatuh:  66%|██████▌   | 444/675 [02:42<02:10,  1.77it/s]"
          ]
        },
        {
          "output_type": "stream",
          "name": "stdout",
          "text": [
            "[1121/1352] jatuh/video_56.avi | Frames: 35 | Person detections: 35\n"
          ]
        },
        {
          "output_type": "stream",
          "name": "stderr",
          "text": [
            "\rjatuh:  66%|██████▌   | 445/675 [02:42<01:58,  1.95it/s]"
          ]
        },
        {
          "output_type": "stream",
          "name": "stdout",
          "text": [
            "[1122/1352] jatuh/video_54.avi | Frames: 33 | Person detections: 33\n"
          ]
        },
        {
          "output_type": "stream",
          "name": "stderr",
          "text": [
            "\rjatuh:  66%|██████▌   | 446/675 [02:42<01:49,  2.08it/s]"
          ]
        },
        {
          "output_type": "stream",
          "name": "stdout",
          "text": [
            "[1123/1352] jatuh/video_7_flip.avi | Frames: 32 | Person detections: 32\n"
          ]
        },
        {
          "output_type": "stream",
          "name": "stderr",
          "text": [
            "\rjatuh:  66%|██████▌   | 447/675 [02:43<01:49,  2.09it/s]"
          ]
        },
        {
          "output_type": "stream",
          "name": "stdout",
          "text": [
            "[1124/1352] jatuh/video_288.avi | Frames: 42 | Person detections: 35\n"
          ]
        },
        {
          "output_type": "stream",
          "name": "stderr",
          "text": [
            "\rjatuh:  66%|██████▋   | 448/675 [02:43<01:46,  2.14it/s]"
          ]
        },
        {
          "output_type": "stream",
          "name": "stdout",
          "text": [
            "[1125/1352] jatuh/video_59_flip.avi | Frames: 36 | Person detections: 36\n"
          ]
        },
        {
          "output_type": "stream",
          "name": "stderr",
          "text": [
            "\rjatuh:  67%|██████▋   | 449/675 [02:44<01:41,  2.22it/s]"
          ]
        },
        {
          "output_type": "stream",
          "name": "stdout",
          "text": [
            "[1126/1352] jatuh/video_92.avi | Frames: 36 | Person detections: 31\n"
          ]
        },
        {
          "output_type": "stream",
          "name": "stderr",
          "text": [
            "\rjatuh:  67%|██████▋   | 450/675 [02:44<01:37,  2.32it/s]"
          ]
        },
        {
          "output_type": "stream",
          "name": "stdout",
          "text": [
            "[1127/1352] jatuh/video_297_flip.avi | Frames: 34 | Person detections: 33\n"
          ]
        },
        {
          "output_type": "stream",
          "name": "stderr",
          "text": [
            "\rjatuh:  67%|██████▋   | 451/675 [02:45<01:34,  2.38it/s]"
          ]
        },
        {
          "output_type": "stream",
          "name": "stdout",
          "text": [
            "[1128/1352] jatuh/video_34_flip.avi | Frames: 32 | Person detections: 32\n"
          ]
        },
        {
          "output_type": "stream",
          "name": "stderr",
          "text": [
            "\rjatuh:  67%|██████▋   | 452/675 [02:45<01:25,  2.59it/s]"
          ]
        },
        {
          "output_type": "stream",
          "name": "stdout",
          "text": [
            "[1129/1352] jatuh/video_76_flip.avi | Frames: 29 | Person detections: 0\n"
          ]
        },
        {
          "output_type": "stream",
          "name": "stderr",
          "text": [
            "\rjatuh:  67%|██████▋   | 453/675 [02:45<01:34,  2.34it/s]"
          ]
        },
        {
          "output_type": "stream",
          "name": "stdout",
          "text": [
            "[1130/1352] jatuh/video_58_flip.avi | Frames: 44 | Person detections: 44\n"
          ]
        },
        {
          "output_type": "stream",
          "name": "stderr",
          "text": [
            "\rjatuh:  67%|██████▋   | 454/675 [02:46<01:28,  2.49it/s]"
          ]
        },
        {
          "output_type": "stream",
          "name": "stdout",
          "text": [
            "[1131/1352] jatuh/video_287_flip.avi | Frames: 31 | Person detections: 7\n"
          ]
        },
        {
          "output_type": "stream",
          "name": "stderr",
          "text": [
            "\rjatuh:  67%|██████▋   | 455/675 [02:46<01:29,  2.47it/s]"
          ]
        },
        {
          "output_type": "stream",
          "name": "stdout",
          "text": [
            "[1132/1352] jatuh/video_40.avi | Frames: 34 | Person detections: 34\n"
          ]
        },
        {
          "output_type": "stream",
          "name": "stderr",
          "text": [
            "\rjatuh:  68%|██████▊   | 456/675 [02:47<01:30,  2.42it/s]"
          ]
        },
        {
          "output_type": "stream",
          "name": "stdout",
          "text": [
            "[1133/1352] jatuh/video_46_flip.avi | Frames: 35 | Person detections: 35\n"
          ]
        },
        {
          "output_type": "stream",
          "name": "stderr",
          "text": [
            "\rjatuh:  68%|██████▊   | 457/675 [02:47<01:25,  2.54it/s]"
          ]
        },
        {
          "output_type": "stream",
          "name": "stdout",
          "text": [
            "[1134/1352] jatuh/video_91.avi | Frames: 31 | Person detections: 13\n"
          ]
        },
        {
          "output_type": "stream",
          "name": "stderr",
          "text": [
            "\rjatuh:  68%|██████▊   | 458/675 [02:47<01:25,  2.54it/s]"
          ]
        },
        {
          "output_type": "stream",
          "name": "stdout",
          "text": [
            "[1135/1352] jatuh/video_52_flip.avi | Frames: 33 | Person detections: 33\n"
          ]
        },
        {
          "output_type": "stream",
          "name": "stderr",
          "text": [
            "\rjatuh:  68%|██████▊   | 459/675 [02:48<01:37,  2.22it/s]"
          ]
        },
        {
          "output_type": "stream",
          "name": "stdout",
          "text": [
            "[1136/1352] jatuh/video_275.avi | Frames: 43 | Person detections: 43\n"
          ]
        },
        {
          "output_type": "stream",
          "name": "stderr",
          "text": [
            "\rjatuh:  68%|██████▊   | 460/675 [02:48<01:34,  2.27it/s]"
          ]
        },
        {
          "output_type": "stream",
          "name": "stdout",
          "text": [
            "[1137/1352] jatuh/video_46.avi | Frames: 35 | Person detections: 35\n"
          ]
        },
        {
          "output_type": "stream",
          "name": "stderr",
          "text": [
            "\rjatuh:  68%|██████▊   | 461/675 [02:49<01:38,  2.17it/s]"
          ]
        },
        {
          "output_type": "stream",
          "name": "stdout",
          "text": [
            "[1138/1352] jatuh/video_288_flip.avi | Frames: 42 | Person detections: 39\n"
          ]
        },
        {
          "output_type": "stream",
          "name": "stderr",
          "text": [
            "\rjatuh:  68%|██████▊   | 462/675 [02:49<01:33,  2.29it/s]"
          ]
        },
        {
          "output_type": "stream",
          "name": "stdout",
          "text": [
            "[1139/1352] jatuh/video_28_flip.avi | Frames: 33 | Person detections: 33\n"
          ]
        },
        {
          "output_type": "stream",
          "name": "stderr",
          "text": [
            "\rjatuh:  69%|██████▊   | 463/675 [02:50<01:36,  2.21it/s]"
          ]
        },
        {
          "output_type": "stream",
          "name": "stdout",
          "text": [
            "[1140/1352] jatuh/video_257_flip.avi | Frames: 44 | Person detections: 16\n"
          ]
        },
        {
          "output_type": "stream",
          "name": "stderr",
          "text": [
            "\rjatuh:  69%|██████▊   | 464/675 [02:50<01:35,  2.21it/s]"
          ]
        },
        {
          "output_type": "stream",
          "name": "stdout",
          "text": [
            "[1141/1352] jatuh/video_83.avi | Frames: 42 | Person detections: 11\n"
          ]
        },
        {
          "output_type": "stream",
          "name": "stderr",
          "text": [
            "\rjatuh:  69%|██████▉   | 465/675 [02:51<01:34,  2.22it/s]"
          ]
        },
        {
          "output_type": "stream",
          "name": "stdout",
          "text": [
            "[1142/1352] jatuh/video_278.avi | Frames: 33 | Person detections: 33\n"
          ]
        },
        {
          "output_type": "stream",
          "name": "stderr",
          "text": [
            "\rjatuh:  69%|██████▉   | 466/675 [02:51<01:29,  2.33it/s]"
          ]
        },
        {
          "output_type": "stream",
          "name": "stdout",
          "text": [
            "[1143/1352] jatuh/video_270.avi | Frames: 34 | Person detections: 24\n"
          ]
        },
        {
          "output_type": "stream",
          "name": "stderr",
          "text": [
            "\rjatuh:  69%|██████▉   | 467/675 [02:51<01:34,  2.20it/s]"
          ]
        },
        {
          "output_type": "stream",
          "name": "stdout",
          "text": [
            "[1144/1352] jatuh/video_58.avi | Frames: 44 | Person detections: 44\n"
          ]
        },
        {
          "output_type": "stream",
          "name": "stderr",
          "text": [
            "\rjatuh:  69%|██████▉   | 468/675 [02:52<01:44,  1.99it/s]"
          ]
        },
        {
          "output_type": "stream",
          "name": "stdout",
          "text": [
            "[1145/1352] jatuh/video_264.avi | Frames: 37 | Person detections: 27\n"
          ]
        },
        {
          "output_type": "stream",
          "name": "stderr",
          "text": [
            "\rjatuh:  69%|██████▉   | 469/675 [02:53<01:43,  2.00it/s]"
          ]
        },
        {
          "output_type": "stream",
          "name": "stdout",
          "text": [
            "[1146/1352] jatuh/video_266_flip.avi | Frames: 31 | Person detections: 9\n"
          ]
        },
        {
          "output_type": "stream",
          "name": "stderr",
          "text": [
            "\rjatuh:  70%|██████▉   | 470/675 [02:53<01:40,  2.04it/s]"
          ]
        },
        {
          "output_type": "stream",
          "name": "stdout",
          "text": [
            "[1147/1352] jatuh/video_85.avi | Frames: 28 | Person detections: 9\n"
          ]
        },
        {
          "output_type": "stream",
          "name": "stderr",
          "text": [
            "\rjatuh:  70%|██████▉   | 471/675 [02:53<01:34,  2.17it/s]"
          ]
        },
        {
          "output_type": "stream",
          "name": "stdout",
          "text": [
            "[1148/1352] jatuh/video_74.avi | Frames: 24 | Person detections: 9\n"
          ]
        },
        {
          "output_type": "stream",
          "name": "stderr",
          "text": [
            "\rjatuh:  70%|██████▉   | 472/675 [02:54<01:48,  1.86it/s]"
          ]
        },
        {
          "output_type": "stream",
          "name": "stdout",
          "text": [
            "[1149/1352] jatuh/video_290.avi | Frames: 43 | Person detections: 38\n"
          ]
        },
        {
          "output_type": "stream",
          "name": "stderr",
          "text": [
            "\rjatuh:  70%|███████   | 473/675 [02:55<01:48,  1.86it/s]"
          ]
        },
        {
          "output_type": "stream",
          "name": "stdout",
          "text": [
            "[1150/1352] jatuh/video_284 (1).avi | Frames: 31 | Person detections: 16\n",
            "===> Batch 22 disimpan (size 50)\n"
          ]
        },
        {
          "output_type": "stream",
          "name": "stderr",
          "text": [
            "\rjatuh:  70%|███████   | 474/675 [02:55<01:42,  1.96it/s]"
          ]
        },
        {
          "output_type": "stream",
          "name": "stdout",
          "text": [
            "[1151/1352] jatuh/video_96_flip.avi | Frames: 35 | Person detections: 10\n",
            "[1152/1352] jatuh/video_256.avi | Frames: 2 | Person detections: 2\n"
          ]
        },
        {
          "output_type": "stream",
          "name": "stderr",
          "text": [
            "\rjatuh:  71%|███████   | 476/675 [02:56<01:13,  2.71it/s]"
          ]
        },
        {
          "output_type": "stream",
          "name": "stdout",
          "text": [
            "[1153/1352] jatuh/video_265.avi | Frames: 34 | Person detections: 10\n"
          ]
        },
        {
          "output_type": "stream",
          "name": "stderr",
          "text": [
            "\rjatuh:  71%|███████   | 477/675 [02:56<01:16,  2.59it/s]"
          ]
        },
        {
          "output_type": "stream",
          "name": "stdout",
          "text": [
            "[1154/1352] jatuh/video_278_flip (1).avi | Frames: 33 | Person detections: 33\n"
          ]
        },
        {
          "output_type": "stream",
          "name": "stderr",
          "text": [
            "\rjatuh:  71%|███████   | 478/675 [02:56<01:17,  2.54it/s]"
          ]
        },
        {
          "output_type": "stream",
          "name": "stdout",
          "text": [
            "[1155/1352] jatuh/video_35.avi | Frames: 34 | Person detections: 34\n"
          ]
        },
        {
          "output_type": "stream",
          "name": "stderr",
          "text": [
            "\rjatuh:  71%|███████   | 479/675 [02:57<01:13,  2.67it/s]"
          ]
        },
        {
          "output_type": "stream",
          "name": "stdout",
          "text": [
            "[1156/1352] jatuh/video_45.avi | Frames: 27 | Person detections: 27\n"
          ]
        },
        {
          "output_type": "stream",
          "name": "stderr",
          "text": [
            "\rjatuh:  71%|███████   | 480/675 [02:57<01:14,  2.60it/s]"
          ]
        },
        {
          "output_type": "stream",
          "name": "stdout",
          "text": [
            "[1157/1352] jatuh/video_31.avi | Frames: 34 | Person detections: 34\n"
          ]
        },
        {
          "output_type": "stream",
          "name": "stderr",
          "text": [
            "\rjatuh:  71%|███████▏  | 481/675 [02:58<01:24,  2.30it/s]"
          ]
        },
        {
          "output_type": "stream",
          "name": "stdout",
          "text": [
            "[1158/1352] jatuh/video_281 (1).avi | Frames: 42 | Person detections: 31\n"
          ]
        },
        {
          "output_type": "stream",
          "name": "stderr",
          "text": [
            "\rjatuh:  71%|███████▏  | 482/675 [02:58<01:17,  2.48it/s]"
          ]
        },
        {
          "output_type": "stream",
          "name": "stdout",
          "text": [
            "[1159/1352] jatuh/video_66.avi | Frames: 26 | Person detections: 12\n"
          ]
        },
        {
          "output_type": "stream",
          "name": "stderr",
          "text": [
            "\rjatuh:  72%|███████▏  | 483/675 [02:58<01:13,  2.61it/s]"
          ]
        },
        {
          "output_type": "stream",
          "name": "stdout",
          "text": [
            "[1160/1352] jatuh/video_81.avi | Frames: 30 | Person detections: 15\n"
          ]
        },
        {
          "output_type": "stream",
          "name": "stderr",
          "text": [
            "\rjatuh:  72%|███████▏  | 484/675 [02:59<01:12,  2.62it/s]"
          ]
        },
        {
          "output_type": "stream",
          "name": "stdout",
          "text": [
            "[1161/1352] jatuh/video_6_flip.avi | Frames: 31 | Person detections: 31\n"
          ]
        },
        {
          "output_type": "stream",
          "name": "stderr",
          "text": [
            "\rjatuh:  72%|███████▏  | 485/675 [02:59<01:11,  2.66it/s]"
          ]
        },
        {
          "output_type": "stream",
          "name": "stdout",
          "text": [
            "[1162/1352] jatuh/video_93_flip.avi | Frames: 30 | Person detections: 29\n",
            "[1163/1352] jatuh/video_276_flip.avi | Frames: 1 | Person detections: 1\n"
          ]
        },
        {
          "output_type": "stream",
          "name": "stderr",
          "text": [
            "\rjatuh:  72%|███████▏  | 487/675 [02:59<00:56,  3.34it/s]"
          ]
        },
        {
          "output_type": "stream",
          "name": "stdout",
          "text": [
            "[1164/1352] jatuh/video_60_flip.avi | Frames: 33 | Person detections: 33\n"
          ]
        },
        {
          "output_type": "stream",
          "name": "stderr",
          "text": [
            "\rjatuh:  72%|███████▏  | 488/675 [03:00<01:02,  2.97it/s]"
          ]
        },
        {
          "output_type": "stream",
          "name": "stdout",
          "text": [
            "[1165/1352] jatuh/video_84_flip.avi | Frames: 42 | Person detections: 16\n"
          ]
        },
        {
          "output_type": "stream",
          "name": "stderr",
          "text": [
            "\rjatuh:  72%|███████▏  | 489/675 [03:00<01:07,  2.76it/s]"
          ]
        },
        {
          "output_type": "stream",
          "name": "stdout",
          "text": [
            "[1166/1352] jatuh/video_53_flip.avi | Frames: 35 | Person detections: 35\n"
          ]
        },
        {
          "output_type": "stream",
          "name": "stderr",
          "text": [
            "\rjatuh:  73%|███████▎  | 490/675 [03:01<01:08,  2.69it/s]"
          ]
        },
        {
          "output_type": "stream",
          "name": "stdout",
          "text": [
            "[1167/1352] jatuh/video_37_flip.avi | Frames: 33 | Person detections: 33\n"
          ]
        },
        {
          "output_type": "stream",
          "name": "stderr",
          "text": [
            "\rjatuh:  73%|███████▎  | 491/675 [03:01<01:09,  2.66it/s]"
          ]
        },
        {
          "output_type": "stream",
          "name": "stdout",
          "text": [
            "[1168/1352] jatuh/video_63.avi | Frames: 32 | Person detections: 26\n"
          ]
        },
        {
          "output_type": "stream",
          "name": "stderr",
          "text": [
            "\rjatuh:  73%|███████▎  | 492/675 [03:02<01:07,  2.72it/s]"
          ]
        },
        {
          "output_type": "stream",
          "name": "stdout",
          "text": [
            "[1169/1352] jatuh/video_72_flip.avi | Frames: 34 | Person detections: 0\n"
          ]
        },
        {
          "output_type": "stream",
          "name": "stderr",
          "text": [
            "\rjatuh:  73%|███████▎  | 493/675 [03:02<01:07,  2.68it/s]"
          ]
        },
        {
          "output_type": "stream",
          "name": "stdout",
          "text": [
            "[1170/1352] jatuh/video_28 (1).avi | Frames: 33 | Person detections: 33\n"
          ]
        },
        {
          "output_type": "stream",
          "name": "stderr",
          "text": [
            "\rjatuh:  73%|███████▎  | 494/675 [03:02<01:08,  2.64it/s]"
          ]
        },
        {
          "output_type": "stream",
          "name": "stdout",
          "text": [
            "[1171/1352] jatuh/video_269.avi | Frames: 32 | Person detections: 15\n"
          ]
        },
        {
          "output_type": "stream",
          "name": "stderr",
          "text": [
            "\rjatuh:  73%|███████▎  | 495/675 [03:03<01:08,  2.64it/s]"
          ]
        },
        {
          "output_type": "stream",
          "name": "stdout",
          "text": [
            "[1172/1352] jatuh/video_44.avi | Frames: 32 | Person detections: 32\n"
          ]
        },
        {
          "output_type": "stream",
          "name": "stderr",
          "text": [
            "\rjatuh:  73%|███████▎  | 496/675 [03:03<01:08,  2.61it/s]"
          ]
        },
        {
          "output_type": "stream",
          "name": "stdout",
          "text": [
            "[1173/1352] jatuh/video_38.avi | Frames: 34 | Person detections: 34\n"
          ]
        },
        {
          "output_type": "stream",
          "name": "stderr",
          "text": [
            "\rjatuh:  74%|███████▎  | 497/675 [03:04<01:11,  2.49it/s]"
          ]
        },
        {
          "output_type": "stream",
          "name": "stdout",
          "text": [
            "[1174/1352] jatuh/video_89.avi | Frames: 39 | Person detections: 5\n"
          ]
        },
        {
          "output_type": "stream",
          "name": "stderr",
          "text": [
            "\rjatuh:  74%|███████▍  | 498/675 [03:04<01:16,  2.31it/s]"
          ]
        },
        {
          "output_type": "stream",
          "name": "stdout",
          "text": [
            "[1175/1352] jatuh/video_4_flip.avi | Frames: 43 | Person detections: 43\n"
          ]
        },
        {
          "output_type": "stream",
          "name": "stderr",
          "text": [
            "\rjatuh:  74%|███████▍  | 499/675 [03:04<01:16,  2.30it/s]"
          ]
        },
        {
          "output_type": "stream",
          "name": "stdout",
          "text": [
            "[1176/1352] jatuh/video_258.avi | Frames: 38 | Person detections: 17\n"
          ]
        },
        {
          "output_type": "stream",
          "name": "stderr",
          "text": [
            "\rjatuh:  74%|███████▍  | 500/675 [03:05<01:17,  2.24it/s]"
          ]
        },
        {
          "output_type": "stream",
          "name": "stdout",
          "text": [
            "[1177/1352] jatuh/video_279_flip (1).avi | Frames: 32 | Person detections: 31\n"
          ]
        },
        {
          "output_type": "stream",
          "name": "stderr",
          "text": [
            "\rjatuh:  74%|███████▍  | 501/675 [03:05<01:23,  2.08it/s]"
          ]
        },
        {
          "output_type": "stream",
          "name": "stdout",
          "text": [
            "[1178/1352] jatuh/video_60.avi | Frames: 33 | Person detections: 33\n"
          ]
        },
        {
          "output_type": "stream",
          "name": "stderr",
          "text": [
            "\rjatuh:  74%|███████▍  | 502/675 [03:06<01:38,  1.76it/s]"
          ]
        },
        {
          "output_type": "stream",
          "name": "stdout",
          "text": [
            "[1179/1352] jatuh/video_282 (1).avi | Frames: 41 | Person detections: 41\n",
            "[1180/1352] jatuh/video_276.avi | Frames: 1 | Person detections: 1\n"
          ]
        },
        {
          "output_type": "stream",
          "name": "stderr",
          "text": [
            "\rjatuh:  75%|███████▍  | 504/675 [03:07<01:14,  2.29it/s]"
          ]
        },
        {
          "output_type": "stream",
          "name": "stdout",
          "text": [
            "[1181/1352] jatuh/video_283 (1).avi | Frames: 32 | Person detections: 15\n"
          ]
        },
        {
          "output_type": "stream",
          "name": "stderr",
          "text": [
            "\rjatuh:  75%|███████▍  | 505/675 [03:07<01:16,  2.23it/s]"
          ]
        },
        {
          "output_type": "stream",
          "name": "stdout",
          "text": [
            "[1182/1352] jatuh/video_286.avi | Frames: 31 | Person detections: 17\n"
          ]
        },
        {
          "output_type": "stream",
          "name": "stderr",
          "text": [
            "\rjatuh:  75%|███████▍  | 506/675 [03:08<01:16,  2.21it/s]"
          ]
        },
        {
          "output_type": "stream",
          "name": "stdout",
          "text": [
            "[1183/1352] jatuh/video_80_flip.avi | Frames: 28 | Person detections: 5\n"
          ]
        },
        {
          "output_type": "stream",
          "name": "stderr",
          "text": [
            "\rjatuh:  75%|███████▌  | 507/675 [03:08<01:24,  2.00it/s]"
          ]
        },
        {
          "output_type": "stream",
          "name": "stdout",
          "text": [
            "[1184/1352] jatuh/video_33_flip.avi | Frames: 36 | Person detections: 36\n"
          ]
        },
        {
          "output_type": "stream",
          "name": "stderr",
          "text": [
            "\rjatuh:  75%|███████▌  | 508/675 [03:09<01:20,  2.08it/s]"
          ]
        },
        {
          "output_type": "stream",
          "name": "stdout",
          "text": [
            "[1185/1352] jatuh/video_274_flip.avi | Frames: 31 | Person detections: 31\n"
          ]
        },
        {
          "output_type": "stream",
          "name": "stderr",
          "text": [
            "\rjatuh:  75%|███████▌  | 509/675 [03:09<01:19,  2.09it/s]"
          ]
        },
        {
          "output_type": "stream",
          "name": "stdout",
          "text": [
            "[1186/1352] jatuh/video_29.avi | Frames: 41 | Person detections: 41\n"
          ]
        },
        {
          "output_type": "stream",
          "name": "stderr",
          "text": [
            "\rjatuh:  76%|███████▌  | 510/675 [03:10<01:21,  2.02it/s]"
          ]
        },
        {
          "output_type": "stream",
          "name": "stdout",
          "text": [
            "[1187/1352] jatuh/video_291.avi | Frames: 46 | Person detections: 32\n"
          ]
        },
        {
          "output_type": "stream",
          "name": "stderr",
          "text": [
            "\rjatuh:  76%|███████▌  | 511/675 [03:10<01:20,  2.04it/s]"
          ]
        },
        {
          "output_type": "stream",
          "name": "stdout",
          "text": [
            "[1188/1352] jatuh/video_86.avi | Frames: 42 | Person detections: 42\n",
            "[1189/1352] jatuh/video_253.avi | Frames: 2 | Person detections: 2\n"
          ]
        },
        {
          "output_type": "stream",
          "name": "stderr",
          "text": [
            "\rjatuh:  76%|███████▌  | 513/675 [03:11<00:58,  2.75it/s]"
          ]
        },
        {
          "output_type": "stream",
          "name": "stdout",
          "text": [
            "[1190/1352] jatuh/video_260.avi | Frames: 33 | Person detections: 14\n"
          ]
        },
        {
          "output_type": "stream",
          "name": "stderr",
          "text": [
            "\rjatuh:  76%|███████▌  | 514/675 [03:11<00:57,  2.82it/s]"
          ]
        },
        {
          "output_type": "stream",
          "name": "stdout",
          "text": [
            "[1191/1352] jatuh/video_70_flip.avi | Frames: 31 | Person detections: 0\n"
          ]
        },
        {
          "output_type": "stream",
          "name": "stderr",
          "text": [
            "\rjatuh:  76%|███████▋  | 515/675 [03:11<00:55,  2.90it/s]"
          ]
        },
        {
          "output_type": "stream",
          "name": "stdout",
          "text": [
            "[1192/1352] jatuh/video_85_flip.avi | Frames: 28 | Person detections: 8\n"
          ]
        },
        {
          "output_type": "stream",
          "name": "stderr",
          "text": [
            "\rjatuh:  76%|███████▋  | 516/675 [03:12<00:55,  2.86it/s]"
          ]
        },
        {
          "output_type": "stream",
          "name": "stdout",
          "text": [
            "[1193/1352] jatuh/video_285_flip.avi | Frames: 29 | Person detections: 22\n"
          ]
        },
        {
          "output_type": "stream",
          "name": "stderr",
          "text": [
            "\rjatuh:  77%|███████▋  | 517/675 [03:12<00:59,  2.64it/s]"
          ]
        },
        {
          "output_type": "stream",
          "name": "stdout",
          "text": [
            "[1194/1352] jatuh/video_49.avi | Frames: 38 | Person detections: 38\n"
          ]
        },
        {
          "output_type": "stream",
          "name": "stderr",
          "text": [
            "\rjatuh:  77%|███████▋  | 518/675 [03:13<01:00,  2.61it/s]"
          ]
        },
        {
          "output_type": "stream",
          "name": "stdout",
          "text": [
            "[1195/1352] jatuh/video_263_flip.avi | Frames: 36 | Person detections: 15\n"
          ]
        },
        {
          "output_type": "stream",
          "name": "stderr",
          "text": [
            "\rjatuh:  77%|███████▋  | 519/675 [03:13<00:58,  2.66it/s]"
          ]
        },
        {
          "output_type": "stream",
          "name": "stdout",
          "text": [
            "[1196/1352] jatuh/video_71.avi | Frames: 34 | Person detections: 3\n",
            "[1197/1352] jatuh/video_256_flip.avi | Frames: 2 | Person detections: 1\n"
          ]
        },
        {
          "output_type": "stream",
          "name": "stderr",
          "text": [
            "\rjatuh:  77%|███████▋  | 521/675 [03:13<00:45,  3.39it/s]"
          ]
        },
        {
          "output_type": "stream",
          "name": "stdout",
          "text": [
            "[1198/1352] jatuh/video_5.avi | Frames: 32 | Person detections: 32\n"
          ]
        },
        {
          "output_type": "stream",
          "name": "stderr",
          "text": [
            "\rjatuh:  77%|███████▋  | 522/675 [03:14<00:47,  3.23it/s]"
          ]
        },
        {
          "output_type": "stream",
          "name": "stdout",
          "text": [
            "[1199/1352] jatuh/video_95_flip.avi | Frames: 32 | Person detections: 6\n"
          ]
        },
        {
          "output_type": "stream",
          "name": "stderr",
          "text": [
            "\rjatuh:  77%|███████▋  | 523/675 [03:14<00:52,  2.87it/s]"
          ]
        },
        {
          "output_type": "stream",
          "name": "stdout",
          "text": [
            "[1200/1352] jatuh/video_77.avi | Frames: 46 | Person detections: 0\n",
            "===> Batch 23 disimpan (size 50)\n"
          ]
        },
        {
          "output_type": "stream",
          "name": "stderr",
          "text": [
            "\rjatuh:  78%|███████▊  | 524/675 [03:14<00:49,  3.04it/s]"
          ]
        },
        {
          "output_type": "stream",
          "name": "stdout",
          "text": [
            "[1201/1352] jatuh/video_66_flip.avi | Frames: 26 | Person detections: 10\n"
          ]
        },
        {
          "output_type": "stream",
          "name": "stderr",
          "text": [
            "\rjatuh:  78%|███████▊  | 525/675 [03:15<00:51,  2.92it/s]"
          ]
        },
        {
          "output_type": "stream",
          "name": "stdout",
          "text": [
            "[1202/1352] jatuh/video_96.avi | Frames: 35 | Person detections: 6\n"
          ]
        },
        {
          "output_type": "stream",
          "name": "stderr",
          "text": [
            "\rjatuh:  78%|███████▊  | 526/675 [03:15<00:51,  2.87it/s]"
          ]
        },
        {
          "output_type": "stream",
          "name": "stdout",
          "text": [
            "[1203/1352] jatuh/video_5_flip.avi | Frames: 32 | Person detections: 32\n"
          ]
        },
        {
          "output_type": "stream",
          "name": "stderr",
          "text": [
            "\rjatuh:  78%|███████▊  | 527/675 [03:16<00:53,  2.76it/s]"
          ]
        },
        {
          "output_type": "stream",
          "name": "stdout",
          "text": [
            "[1204/1352] jatuh/video_31_flip.avi | Frames: 34 | Person detections: 34\n"
          ]
        },
        {
          "output_type": "stream",
          "name": "stderr",
          "text": [
            "\rjatuh:  78%|███████▊  | 528/675 [03:16<00:54,  2.69it/s]"
          ]
        },
        {
          "output_type": "stream",
          "name": "stdout",
          "text": [
            "[1205/1352] jatuh/video_52.avi | Frames: 33 | Person detections: 33\n"
          ]
        },
        {
          "output_type": "stream",
          "name": "stderr",
          "text": [
            "\rjatuh:  78%|███████▊  | 529/675 [03:16<00:52,  2.77it/s]"
          ]
        },
        {
          "output_type": "stream",
          "name": "stdout",
          "text": [
            "[1206/1352] jatuh/video_98.avi | Frames: 31 | Person detections: 17\n",
            "[1207/1352] jatuh/video_255_flip.avi | Frames: 1 | Person detections: 1\n"
          ]
        },
        {
          "output_type": "stream",
          "name": "stderr",
          "text": [
            "\rjatuh:  79%|███████▊  | 531/675 [03:17<00:40,  3.54it/s]"
          ]
        },
        {
          "output_type": "stream",
          "name": "stdout",
          "text": [
            "[1208/1352] jatuh/video_41.avi | Frames: 31 | Person detections: 31\n"
          ]
        },
        {
          "output_type": "stream",
          "name": "stderr",
          "text": [
            "\rjatuh:  79%|███████▉  | 532/675 [03:17<00:44,  3.18it/s]"
          ]
        },
        {
          "output_type": "stream",
          "name": "stdout",
          "text": [
            "[1209/1352] jatuh/video_289_flip.avi | Frames: 34 | Person detections: 23\n"
          ]
        },
        {
          "output_type": "stream",
          "name": "stderr",
          "text": [
            "\rjatuh:  79%|███████▉  | 533/675 [03:17<00:45,  3.11it/s]"
          ]
        },
        {
          "output_type": "stream",
          "name": "stdout",
          "text": [
            "[1210/1352] jatuh/video_47.avi | Frames: 29 | Person detections: 29\n"
          ]
        },
        {
          "output_type": "stream",
          "name": "stderr",
          "text": [
            "\rjatuh:  79%|███████▉  | 534/675 [03:18<00:51,  2.74it/s]"
          ]
        },
        {
          "output_type": "stream",
          "name": "stdout",
          "text": [
            "[1211/1352] jatuh/video_77_flip.avi | Frames: 46 | Person detections: 0\n"
          ]
        },
        {
          "output_type": "stream",
          "name": "stderr",
          "text": [
            "\rjatuh:  79%|███████▉  | 535/675 [03:19<01:01,  2.27it/s]"
          ]
        },
        {
          "output_type": "stream",
          "name": "stdout",
          "text": [
            "[1212/1352] jatuh/video_293_flip.avi | Frames: 51 | Person detections: 18\n"
          ]
        },
        {
          "output_type": "stream",
          "name": "stderr",
          "text": [
            "\rjatuh:  79%|███████▉  | 536/675 [03:19<01:05,  2.11it/s]"
          ]
        },
        {
          "output_type": "stream",
          "name": "stdout",
          "text": [
            "[1213/1352] jatuh/video_28.avi | Frames: 33 | Person detections: 33\n"
          ]
        },
        {
          "output_type": "stream",
          "name": "stderr",
          "text": [
            "\rjatuh:  80%|███████▉  | 537/675 [03:20<01:06,  2.06it/s]"
          ]
        },
        {
          "output_type": "stream",
          "name": "stdout",
          "text": [
            "[1214/1352] jatuh/video_283.avi | Frames: 32 | Person detections: 15\n"
          ]
        },
        {
          "output_type": "stream",
          "name": "stderr",
          "text": [
            "\rjatuh:  80%|███████▉  | 538/675 [03:20<01:07,  2.04it/s]"
          ]
        },
        {
          "output_type": "stream",
          "name": "stdout",
          "text": [
            "[1215/1352] jatuh/video_25_flip.avi | Frames: 30 | Person detections: 30\n"
          ]
        },
        {
          "output_type": "stream",
          "name": "stderr",
          "text": [
            "\rjatuh:  80%|███████▉  | 539/675 [03:21<01:05,  2.09it/s]"
          ]
        },
        {
          "output_type": "stream",
          "name": "stdout",
          "text": [
            "[1216/1352] jatuh/video_32.avi | Frames: 29 | Person detections: 29\n"
          ]
        },
        {
          "output_type": "stream",
          "name": "stderr",
          "text": [
            "\rjatuh:  80%|████████  | 540/675 [03:21<01:13,  1.84it/s]"
          ]
        },
        {
          "output_type": "stream",
          "name": "stdout",
          "text": [
            "[1217/1352] jatuh/video_43.avi | Frames: 40 | Person detections: 40\n"
          ]
        },
        {
          "output_type": "stream",
          "name": "stderr",
          "text": [
            "\rjatuh:  80%|████████  | 541/675 [03:22<01:10,  1.90it/s]"
          ]
        },
        {
          "output_type": "stream",
          "name": "stdout",
          "text": [
            "[1218/1352] jatuh/video_88_flip.avi | Frames: 34 | Person detections: 0\n"
          ]
        },
        {
          "output_type": "stream",
          "name": "stderr",
          "text": [
            "\rjatuh:  80%|████████  | 542/675 [03:22<01:08,  1.94it/s]"
          ]
        },
        {
          "output_type": "stream",
          "name": "stdout",
          "text": [
            "[1219/1352] jatuh/video_261.avi | Frames: 43 | Person detections: 24\n"
          ]
        },
        {
          "output_type": "stream",
          "name": "stderr",
          "text": [
            "\rjatuh:  80%|████████  | 543/675 [03:23<01:02,  2.11it/s]"
          ]
        },
        {
          "output_type": "stream",
          "name": "stdout",
          "text": [
            "[1220/1352] jatuh/video_65_flip.avi | Frames: 34 | Person detections: 3\n"
          ]
        },
        {
          "output_type": "stream",
          "name": "stderr",
          "text": [
            "\rjatuh:  81%|████████  | 544/675 [03:23<00:58,  2.25it/s]"
          ]
        },
        {
          "output_type": "stream",
          "name": "stdout",
          "text": [
            "[1221/1352] jatuh/video_37.avi | Frames: 33 | Person detections: 33\n"
          ]
        },
        {
          "output_type": "stream",
          "name": "stderr",
          "text": [
            "\rjatuh:  81%|████████  | 545/675 [03:23<00:57,  2.28it/s]"
          ]
        },
        {
          "output_type": "stream",
          "name": "stdout",
          "text": [
            "[1222/1352] jatuh/video_90_flip.avi | Frames: 36 | Person detections: 14\n"
          ]
        },
        {
          "output_type": "stream",
          "name": "stderr",
          "text": [
            "\rjatuh:  81%|████████  | 546/675 [03:24<00:51,  2.50it/s]"
          ]
        },
        {
          "output_type": "stream",
          "name": "stdout",
          "text": [
            "[1223/1352] jatuh/video_61_flip.avi | Frames: 27 | Person detections: 27\n"
          ]
        },
        {
          "output_type": "stream",
          "name": "stderr",
          "text": [
            "\rjatuh:  81%|████████  | 547/675 [03:24<00:49,  2.60it/s]"
          ]
        },
        {
          "output_type": "stream",
          "name": "stdout",
          "text": [
            "[1224/1352] jatuh/video_78.avi | Frames: 34 | Person detections: 0\n"
          ]
        },
        {
          "output_type": "stream",
          "name": "stderr",
          "text": [
            "\rjatuh:  81%|████████  | 548/675 [03:24<00:48,  2.62it/s]"
          ]
        },
        {
          "output_type": "stream",
          "name": "stdout",
          "text": [
            "[1225/1352] jatuh/video_99.avi | Frames: 30 | Person detections: 30\n"
          ]
        },
        {
          "output_type": "stream",
          "name": "stderr",
          "text": [
            "\rjatuh:  81%|████████▏ | 549/675 [03:25<00:46,  2.69it/s]"
          ]
        },
        {
          "output_type": "stream",
          "name": "stdout",
          "text": [
            "[1226/1352] jatuh/video_99_flip.avi | Frames: 30 | Person detections: 29\n"
          ]
        },
        {
          "output_type": "stream",
          "name": "stderr",
          "text": [
            "\rjatuh:  81%|████████▏ | 550/675 [03:25<00:45,  2.75it/s]"
          ]
        },
        {
          "output_type": "stream",
          "name": "stdout",
          "text": [
            "[1227/1352] jatuh/video_30_flip.avi | Frames: 30 | Person detections: 30\n"
          ]
        },
        {
          "output_type": "stream",
          "name": "stderr",
          "text": [
            "\rjatuh:  82%|████████▏ | 551/675 [03:26<00:49,  2.49it/s]"
          ]
        },
        {
          "output_type": "stream",
          "name": "stdout",
          "text": [
            "[1228/1352] jatuh/video_261_flip.avi | Frames: 43 | Person detections: 23\n"
          ]
        },
        {
          "output_type": "stream",
          "name": "stderr",
          "text": [
            "\rjatuh:  82%|████████▏ | 552/675 [03:26<00:48,  2.52it/s]"
          ]
        },
        {
          "output_type": "stream",
          "name": "stdout",
          "text": [
            "[1229/1352] jatuh/video_263.avi | Frames: 36 | Person detections: 15\n"
          ]
        },
        {
          "output_type": "stream",
          "name": "stderr",
          "text": [
            "\rjatuh:  82%|████████▏ | 553/675 [03:26<00:46,  2.64it/s]"
          ]
        },
        {
          "output_type": "stream",
          "name": "stdout",
          "text": [
            "[1230/1352] jatuh/video_98_flip.avi | Frames: 31 | Person detections: 17\n"
          ]
        },
        {
          "output_type": "stream",
          "name": "stderr",
          "text": [
            "\rjatuh:  82%|████████▏ | 554/675 [03:27<00:45,  2.66it/s]"
          ]
        },
        {
          "output_type": "stream",
          "name": "stdout",
          "text": [
            "[1231/1352] jatuh/video_268_flip.avi | Frames: 31 | Person detections: 16\n"
          ]
        },
        {
          "output_type": "stream",
          "name": "stderr",
          "text": [
            "\rjatuh:  82%|████████▏ | 555/675 [03:27<00:44,  2.72it/s]"
          ]
        },
        {
          "output_type": "stream",
          "name": "stdout",
          "text": [
            "[1232/1352] jatuh/video_294_flip.avi | Frames: 31 | Person detections: 14\n"
          ]
        },
        {
          "output_type": "stream",
          "name": "stderr",
          "text": [
            "\rjatuh:  82%|████████▏ | 556/675 [03:28<00:46,  2.56it/s]"
          ]
        },
        {
          "output_type": "stream",
          "name": "stdout",
          "text": [
            "[1233/1352] jatuh/video_53.avi | Frames: 35 | Person detections: 35\n"
          ]
        },
        {
          "output_type": "stream",
          "name": "stderr",
          "text": [
            "\rjatuh:  83%|████████▎ | 557/675 [03:28<00:51,  2.30it/s]"
          ]
        },
        {
          "output_type": "stream",
          "name": "stdout",
          "text": [
            "[1234/1352] jatuh/video_259_flip.avi | Frames: 46 | Person detections: 29\n"
          ]
        },
        {
          "output_type": "stream",
          "name": "stderr",
          "text": [
            "\rjatuh:  83%|████████▎ | 558/675 [03:29<00:55,  2.11it/s]"
          ]
        },
        {
          "output_type": "stream",
          "name": "stdout",
          "text": [
            "[1235/1352] jatuh/video_293.avi | Frames: 51 | Person detections: 23\n"
          ]
        },
        {
          "output_type": "stream",
          "name": "stderr",
          "text": [
            "\rjatuh:  83%|████████▎ | 559/675 [03:29<00:54,  2.14it/s]"
          ]
        },
        {
          "output_type": "stream",
          "name": "stdout",
          "text": [
            "[1236/1352] jatuh/video_43_flip.avi | Frames: 40 | Person detections: 40\n"
          ]
        },
        {
          "output_type": "stream",
          "name": "stderr",
          "text": [
            "\rjatuh:  83%|████████▎ | 560/675 [03:29<00:49,  2.32it/s]"
          ]
        },
        {
          "output_type": "stream",
          "name": "stdout",
          "text": [
            "[1237/1352] jatuh/video_27.avi | Frames: 30 | Person detections: 30\n"
          ]
        },
        {
          "output_type": "stream",
          "name": "stderr",
          "text": [
            "\rjatuh:  83%|████████▎ | 561/675 [03:30<00:46,  2.47it/s]"
          ]
        },
        {
          "output_type": "stream",
          "name": "stdout",
          "text": [
            "[1238/1352] jatuh/video_266.avi | Frames: 31 | Person detections: 6\n"
          ]
        },
        {
          "output_type": "stream",
          "name": "stderr",
          "text": [
            "\rjatuh:  83%|████████▎ | 562/675 [03:30<00:44,  2.55it/s]"
          ]
        },
        {
          "output_type": "stream",
          "name": "stdout",
          "text": [
            "[1239/1352] jatuh/video_254.avi | Frames: 30 | Person detections: 28\n"
          ]
        },
        {
          "output_type": "stream",
          "name": "stderr",
          "text": [
            "\rjatuh:  83%|████████▎ | 563/675 [03:30<00:43,  2.60it/s]"
          ]
        },
        {
          "output_type": "stream",
          "name": "stdout",
          "text": [
            "[1240/1352] jatuh/video_26_flip.avi | Frames: 32 | Person detections: 32\n"
          ]
        },
        {
          "output_type": "stream",
          "name": "stderr",
          "text": [
            "\rjatuh:  84%|████████▎ | 564/675 [03:31<00:46,  2.37it/s]"
          ]
        },
        {
          "output_type": "stream",
          "name": "stdout",
          "text": [
            "[1241/1352] jatuh/video_281_flip (1).avi | Frames: 42 | Person detections: 28\n"
          ]
        },
        {
          "output_type": "stream",
          "name": "stderr",
          "text": [
            "\rjatuh:  84%|████████▎ | 565/675 [03:32<00:48,  2.25it/s]"
          ]
        },
        {
          "output_type": "stream",
          "name": "stdout",
          "text": [
            "[1242/1352] jatuh/video_280_flip.avi | Frames: 42 | Person detections: 30\n"
          ]
        },
        {
          "output_type": "stream",
          "name": "stderr",
          "text": [
            "\rjatuh:  84%|████████▍ | 566/675 [03:32<00:52,  2.07it/s]"
          ]
        },
        {
          "output_type": "stream",
          "name": "stdout",
          "text": [
            "[1243/1352] jatuh/video_278_flip.avi | Frames: 33 | Person detections: 33\n"
          ]
        },
        {
          "output_type": "stream",
          "name": "stderr",
          "text": [
            "\rjatuh:  84%|████████▍ | 567/675 [03:33<00:52,  2.06it/s]"
          ]
        },
        {
          "output_type": "stream",
          "name": "stdout",
          "text": [
            "[1244/1352] jatuh/video_63_flip.avi | Frames: 32 | Person detections: 30\n"
          ]
        },
        {
          "output_type": "stream",
          "name": "stderr",
          "text": [
            "\rjatuh:  84%|████████▍ | 568/675 [03:33<00:52,  2.03it/s]"
          ]
        },
        {
          "output_type": "stream",
          "name": "stdout",
          "text": [
            "[1245/1352] jatuh/video_75.avi | Frames: 32 | Person detections: 0\n"
          ]
        },
        {
          "output_type": "stream",
          "name": "stderr",
          "text": [
            "\rjatuh:  84%|████████▍ | 569/675 [03:34<00:55,  1.93it/s]"
          ]
        },
        {
          "output_type": "stream",
          "name": "stdout",
          "text": [
            "[1246/1352] jatuh/video_89_flip.avi | Frames: 39 | Person detections: 5\n"
          ]
        },
        {
          "output_type": "stream",
          "name": "stderr",
          "text": [
            "\rjatuh:  84%|████████▍ | 570/675 [03:34<00:56,  1.86it/s]"
          ]
        },
        {
          "output_type": "stream",
          "name": "stdout",
          "text": [
            "[1247/1352] jatuh/video_35_flip.avi | Frames: 34 | Person detections: 34\n"
          ]
        },
        {
          "output_type": "stream",
          "name": "stderr",
          "text": [
            "\rjatuh:  85%|████████▍ | 571/675 [03:35<01:03,  1.65it/s]"
          ]
        },
        {
          "output_type": "stream",
          "name": "stdout",
          "text": [
            "[1248/1352] jatuh/video_281_flip.avi | Frames: 42 | Person detections: 28\n"
          ]
        },
        {
          "output_type": "stream",
          "name": "stderr",
          "text": [
            "\rjatuh:  85%|████████▍ | 572/675 [03:35<00:57,  1.78it/s]"
          ]
        },
        {
          "output_type": "stream",
          "name": "stdout",
          "text": [
            "[1249/1352] jatuh/video_48_flip.avi | Frames: 34 | Person detections: 34\n",
            "[1250/1352] jatuh/video_253_flip.avi | Frames: 2 | Person detections: 2\n",
            "===> Batch 24 disimpan (size 50)\n"
          ]
        },
        {
          "output_type": "stream",
          "name": "stderr",
          "text": [
            "\rjatuh:  85%|████████▌ | 574/675 [03:36<00:41,  2.43it/s]"
          ]
        },
        {
          "output_type": "stream",
          "name": "stdout",
          "text": [
            "[1251/1352] jatuh/video_73.avi | Frames: 43 | Person detections: 2\n"
          ]
        },
        {
          "output_type": "stream",
          "name": "stderr",
          "text": [
            "\rjatuh:  85%|████████▌ | 575/675 [03:36<00:39,  2.51it/s]"
          ]
        },
        {
          "output_type": "stream",
          "name": "stdout",
          "text": [
            "[1252/1352] jatuh/video_284.avi | Frames: 31 | Person detections: 16\n"
          ]
        },
        {
          "output_type": "stream",
          "name": "stderr",
          "text": [
            "\rjatuh:  85%|████████▌ | 576/675 [03:37<00:37,  2.66it/s]"
          ]
        },
        {
          "output_type": "stream",
          "name": "stdout",
          "text": [
            "[1253/1352] jatuh/video_64_flip.avi | Frames: 29 | Person detections: 1\n"
          ]
        },
        {
          "output_type": "stream",
          "name": "stderr",
          "text": [
            "\rjatuh:  85%|████████▌ | 577/675 [03:37<00:37,  2.62it/s]"
          ]
        },
        {
          "output_type": "stream",
          "name": "stdout",
          "text": [
            "[1254/1352] jatuh/video_272.avi | Frames: 32 | Person detections: 32\n"
          ]
        },
        {
          "output_type": "stream",
          "name": "stderr",
          "text": [
            "\rjatuh:  86%|████████▌ | 578/675 [03:37<00:36,  2.68it/s]"
          ]
        },
        {
          "output_type": "stream",
          "name": "stdout",
          "text": [
            "[1255/1352] jatuh/video_294.avi | Frames: 31 | Person detections: 13\n"
          ]
        },
        {
          "output_type": "stream",
          "name": "stderr",
          "text": [
            "\rjatuh:  86%|████████▌ | 579/675 [03:38<00:34,  2.75it/s]"
          ]
        },
        {
          "output_type": "stream",
          "name": "stdout",
          "text": [
            "[1256/1352] jatuh/video_36_flip.avi | Frames: 28 | Person detections: 28\n"
          ]
        },
        {
          "output_type": "stream",
          "name": "stderr",
          "text": [
            "\rjatuh:  86%|████████▌ | 580/675 [03:38<00:39,  2.43it/s]"
          ]
        },
        {
          "output_type": "stream",
          "name": "stdout",
          "text": [
            "[1257/1352] jatuh/video_281.avi | Frames: 42 | Person detections: 31\n"
          ]
        },
        {
          "output_type": "stream",
          "name": "stderr",
          "text": [
            "\rjatuh:  86%|████████▌ | 581/675 [03:39<00:37,  2.50it/s]"
          ]
        },
        {
          "output_type": "stream",
          "name": "stdout",
          "text": [
            "[1258/1352] jatuh/video_254_flip.avi | Frames: 30 | Person detections: 28\n"
          ]
        },
        {
          "output_type": "stream",
          "name": "stderr",
          "text": [
            "\rjatuh:  86%|████████▌ | 582/675 [03:39<00:41,  2.25it/s]"
          ]
        },
        {
          "output_type": "stream",
          "name": "stdout",
          "text": [
            "[1259/1352] jatuh/video_282.avi | Frames: 41 | Person detections: 41\n"
          ]
        },
        {
          "output_type": "stream",
          "name": "stderr",
          "text": [
            "\rjatuh:  86%|████████▋ | 583/675 [03:40<00:42,  2.17it/s]"
          ]
        },
        {
          "output_type": "stream",
          "name": "stdout",
          "text": [
            "[1260/1352] jatuh/video_296.avi | Frames: 44 | Person detections: 24\n"
          ]
        },
        {
          "output_type": "stream",
          "name": "stderr",
          "text": [
            "\rjatuh:  87%|████████▋ | 584/675 [03:40<00:41,  2.19it/s]"
          ]
        },
        {
          "output_type": "stream",
          "name": "stdout",
          "text": [
            "[1261/1352] jatuh/video_8_flip.avi | Frames: 38 | Person detections: 38\n"
          ]
        },
        {
          "output_type": "stream",
          "name": "stderr",
          "text": [
            "\rjatuh:  87%|████████▋ | 585/675 [03:40<00:39,  2.28it/s]"
          ]
        },
        {
          "output_type": "stream",
          "name": "stdout",
          "text": [
            "[1262/1352] jatuh/video_26.avi | Frames: 32 | Person detections: 32\n"
          ]
        },
        {
          "output_type": "stream",
          "name": "stderr",
          "text": [
            "\rjatuh:  87%|████████▋ | 586/675 [03:41<00:37,  2.36it/s]"
          ]
        },
        {
          "output_type": "stream",
          "name": "stdout",
          "text": [
            "[1263/1352] jatuh/video_90.avi | Frames: 36 | Person detections: 13\n"
          ]
        },
        {
          "output_type": "stream",
          "name": "stderr",
          "text": [
            "\rjatuh:  87%|████████▋ | 587/675 [03:41<00:35,  2.48it/s]"
          ]
        },
        {
          "output_type": "stream",
          "name": "stdout",
          "text": [
            "[1264/1352] jatuh/video_79.avi | Frames: 31 | Person detections: 4\n"
          ]
        },
        {
          "output_type": "stream",
          "name": "stderr",
          "text": [
            "\rjatuh:  87%|████████▋ | 588/675 [03:42<00:34,  2.52it/s]"
          ]
        },
        {
          "output_type": "stream",
          "name": "stdout",
          "text": [
            "[1265/1352] jatuh/video_289.avi | Frames: 34 | Person detections: 25\n"
          ]
        },
        {
          "output_type": "stream",
          "name": "stderr",
          "text": [
            "\rjatuh:  87%|████████▋ | 589/675 [03:42<00:33,  2.59it/s]"
          ]
        },
        {
          "output_type": "stream",
          "name": "stdout",
          "text": [
            "[1266/1352] jatuh/video_267.avi | Frames: 32 | Person detections: 13\n"
          ]
        },
        {
          "output_type": "stream",
          "name": "stderr",
          "text": [
            "\rjatuh:  87%|████████▋ | 590/675 [03:42<00:32,  2.61it/s]"
          ]
        },
        {
          "output_type": "stream",
          "name": "stdout",
          "text": [
            "[1267/1352] jatuh/video_69.avi | Frames: 32 | Person detections: 17\n"
          ]
        },
        {
          "output_type": "stream",
          "name": "stderr",
          "text": [
            "\rjatuh:  88%|████████▊ | 591/675 [03:43<00:32,  2.62it/s]"
          ]
        },
        {
          "output_type": "stream",
          "name": "stdout",
          "text": [
            "[1268/1352] jatuh/video_34.avi | Frames: 32 | Person detections: 32\n"
          ]
        },
        {
          "output_type": "stream",
          "name": "stderr",
          "text": [
            "\rjatuh:  88%|████████▊ | 592/675 [03:43<00:34,  2.39it/s]"
          ]
        },
        {
          "output_type": "stream",
          "name": "stdout",
          "text": [
            "[1269/1352] jatuh/video_51_flip.avi | Frames: 44 | Person detections: 44\n"
          ]
        },
        {
          "output_type": "stream",
          "name": "stderr",
          "text": [
            "\rjatuh:  88%|████████▊ | 593/675 [03:44<00:37,  2.17it/s]"
          ]
        },
        {
          "output_type": "stream",
          "name": "stdout",
          "text": [
            "[1270/1352] jatuh/video_280.avi | Frames: 42 | Person detections: 42\n"
          ]
        },
        {
          "output_type": "stream",
          "name": "stderr",
          "text": [
            "\rjatuh:  88%|████████▊ | 594/675 [03:44<00:36,  2.23it/s]"
          ]
        },
        {
          "output_type": "stream",
          "name": "stdout",
          "text": [
            "[1271/1352] jatuh/video_279_flip.avi | Frames: 32 | Person detections: 31\n"
          ]
        },
        {
          "output_type": "stream",
          "name": "stderr",
          "text": [
            "\rjatuh:  88%|████████▊ | 595/675 [03:45<00:39,  2.03it/s]"
          ]
        },
        {
          "output_type": "stream",
          "name": "stdout",
          "text": [
            "[1272/1352] jatuh/video_299_flip.avi | Frames: 49 | Person detections: 49\n"
          ]
        },
        {
          "output_type": "stream",
          "name": "stderr",
          "text": [
            "\rjatuh:  88%|████████▊ | 596/675 [03:45<00:37,  2.09it/s]"
          ]
        },
        {
          "output_type": "stream",
          "name": "stdout",
          "text": [
            "[1273/1352] jatuh/video_36.avi | Frames: 28 | Person detections: 28\n"
          ]
        },
        {
          "output_type": "stream",
          "name": "stderr",
          "text": [
            "\rjatuh:  88%|████████▊ | 597/675 [03:50<02:11,  1.68s/it]"
          ]
        },
        {
          "output_type": "stream",
          "name": "stdout",
          "text": [
            "[1274/1352] jatuh/26.mp4 | Frames: 190 | Person detections: 177\n"
          ]
        },
        {
          "output_type": "stream",
          "name": "stderr",
          "text": [
            "\rjatuh:  89%|████████▊ | 598/675 [03:51<02:10,  1.69s/it]"
          ]
        },
        {
          "output_type": "stream",
          "name": "stdout",
          "text": [
            "[1275/1352] jatuh/63.mp4 | Frames: 139 | Person detections: 139\n"
          ]
        },
        {
          "output_type": "stream",
          "name": "stderr",
          "text": [
            "\rjatuh:  89%|████████▊ | 599/675 [03:54<02:26,  1.92s/it]"
          ]
        },
        {
          "output_type": "stream",
          "name": "stdout",
          "text": [
            "[1276/1352] jatuh/76.mp4 | Frames: 157 | Person detections: 105\n"
          ]
        },
        {
          "output_type": "stream",
          "name": "stderr",
          "text": [
            "\rjatuh:  89%|████████▉ | 600/675 [03:57<02:59,  2.39s/it]"
          ]
        },
        {
          "output_type": "stream",
          "name": "stdout",
          "text": [
            "[1277/1352] jatuh/23.mp4 | Frames: 225 | Person detections: 225\n"
          ]
        },
        {
          "output_type": "stream",
          "name": "stderr",
          "text": [
            "\rjatuh:  89%|████████▉ | 601/675 [04:00<03:10,  2.57s/it]"
          ]
        },
        {
          "output_type": "stream",
          "name": "stdout",
          "text": [
            "[1278/1352] jatuh/73.mp4 | Frames: 136 | Person detections: 102\n"
          ]
        },
        {
          "output_type": "stream",
          "name": "stderr",
          "text": [
            "\rjatuh:  89%|████████▉ | 602/675 [04:03<03:10,  2.61s/it]"
          ]
        },
        {
          "output_type": "stream",
          "name": "stdout",
          "text": [
            "[1279/1352] jatuh/54.mp4 | Frames: 121 | Person detections: 118\n"
          ]
        },
        {
          "output_type": "stream",
          "name": "stderr",
          "text": [
            "\rjatuh:  89%|████████▉ | 603/675 [04:06<03:13,  2.69s/it]"
          ]
        },
        {
          "output_type": "stream",
          "name": "stdout",
          "text": [
            "[1280/1352] jatuh/68.mp4 | Frames: 183 | Person detections: 103\n"
          ]
        },
        {
          "output_type": "stream",
          "name": "stderr",
          "text": [
            "\rjatuh:  89%|████████▉ | 604/675 [04:09<03:19,  2.80s/it]"
          ]
        },
        {
          "output_type": "stream",
          "name": "stdout",
          "text": [
            "[1281/1352] jatuh/43.mp4 | Frames: 196 | Person detections: 114\n"
          ]
        },
        {
          "output_type": "stream",
          "name": "stderr",
          "text": [
            "\rjatuh:  90%|████████▉ | 605/675 [04:12<03:12,  2.75s/it]"
          ]
        },
        {
          "output_type": "stream",
          "name": "stdout",
          "text": [
            "[1282/1352] jatuh/11.mp4 | Frames: 181 | Person detections: 165\n"
          ]
        },
        {
          "output_type": "stream",
          "name": "stderr",
          "text": [
            "\rjatuh:  90%|████████▉ | 606/675 [04:17<04:01,  3.50s/it]"
          ]
        },
        {
          "output_type": "stream",
          "name": "stdout",
          "text": [
            "[1283/1352] jatuh/27.mp4 | Frames: 252 | Person detections: 136\n"
          ]
        },
        {
          "output_type": "stream",
          "name": "stderr",
          "text": [
            "\rjatuh:  90%|████████▉ | 607/675 [04:20<03:54,  3.44s/it]"
          ]
        },
        {
          "output_type": "stream",
          "name": "stdout",
          "text": [
            "[1284/1352] jatuh/24.mp4 | Frames: 213 | Person detections: 208\n"
          ]
        },
        {
          "output_type": "stream",
          "name": "stderr",
          "text": [
            "\rjatuh:  90%|█████████ | 608/675 [04:24<04:05,  3.66s/it]"
          ]
        },
        {
          "output_type": "stream",
          "name": "stdout",
          "text": [
            "[1285/1352] jatuh/62.mp4 | Frames: 274 | Person detections: 265\n"
          ]
        },
        {
          "output_type": "stream",
          "name": "stderr",
          "text": [
            "\rjatuh:  90%|█████████ | 609/675 [04:26<03:30,  3.19s/it]"
          ]
        },
        {
          "output_type": "stream",
          "name": "stdout",
          "text": [
            "[1286/1352] jatuh/08.mp4 | Frames: 129 | Person detections: 47\n"
          ]
        },
        {
          "output_type": "stream",
          "name": "stderr",
          "text": [
            "\rjatuh:  90%|█████████ | 610/675 [04:30<03:31,  3.26s/it]"
          ]
        },
        {
          "output_type": "stream",
          "name": "stdout",
          "text": [
            "[1287/1352] jatuh/74.mp4 | Frames: 138 | Person detections: 121\n"
          ]
        },
        {
          "output_type": "stream",
          "name": "stderr",
          "text": [
            "\rjatuh:  91%|█████████ | 611/675 [04:33<03:18,  3.11s/it]"
          ]
        },
        {
          "output_type": "stream",
          "name": "stdout",
          "text": [
            "[1288/1352] jatuh/02.mp4 | Frames: 189 | Person detections: 149\n"
          ]
        },
        {
          "output_type": "stream",
          "name": "stderr",
          "text": [
            "\rjatuh:  91%|█████████ | 612/675 [04:35<03:07,  2.98s/it]"
          ]
        },
        {
          "output_type": "stream",
          "name": "stdout",
          "text": [
            "[1289/1352] jatuh/34.mp4 | Frames: 167 | Person detections: 139\n"
          ]
        },
        {
          "output_type": "stream",
          "name": "stderr",
          "text": [
            "\rjatuh:  91%|█████████ | 613/675 [04:37<02:41,  2.61s/it]"
          ]
        },
        {
          "output_type": "stream",
          "name": "stdout",
          "text": [
            "[1290/1352] jatuh/42.mp4 | Frames: 114 | Person detections: 25\n"
          ]
        },
        {
          "output_type": "stream",
          "name": "stderr",
          "text": [
            "\rjatuh:  91%|█████████ | 614/675 [04:44<03:54,  3.85s/it]"
          ]
        },
        {
          "output_type": "stream",
          "name": "stdout",
          "text": [
            "[1291/1352] jatuh/18.mp4 | Frames: 345 | Person detections: 331\n"
          ]
        },
        {
          "output_type": "stream",
          "name": "stderr",
          "text": [
            "\rjatuh:  91%|█████████ | 615/675 [04:46<03:17,  3.29s/it]"
          ]
        },
        {
          "output_type": "stream",
          "name": "stdout",
          "text": [
            "[1292/1352] jatuh/14.mp4 | Frames: 169 | Person detections: 169\n"
          ]
        },
        {
          "output_type": "stream",
          "name": "stderr",
          "text": [
            "\rjatuh:  91%|█████████▏| 616/675 [04:50<03:27,  3.52s/it]"
          ]
        },
        {
          "output_type": "stream",
          "name": "stdout",
          "text": [
            "[1293/1352] jatuh/52.mp4 | Frames: 267 | Person detections: 188\n"
          ]
        },
        {
          "output_type": "stream",
          "name": "stderr",
          "text": [
            "\rjatuh:  91%|█████████▏| 617/675 [04:52<02:55,  3.03s/it]"
          ]
        },
        {
          "output_type": "stream",
          "name": "stdout",
          "text": [
            "[1294/1352] jatuh/41.mp4 | Frames: 120 | Person detections: 120\n"
          ]
        },
        {
          "output_type": "stream",
          "name": "stderr",
          "text": [
            "\rjatuh:  92%|█████████▏| 618/675 [04:54<02:37,  2.76s/it]"
          ]
        },
        {
          "output_type": "stream",
          "name": "stdout",
          "text": [
            "[1295/1352] jatuh/09.mp4 | Frames: 131 | Person detections: 75\n"
          ]
        },
        {
          "output_type": "stream",
          "name": "stderr",
          "text": [
            "\rjatuh:  92%|█████████▏| 619/675 [04:57<02:37,  2.81s/it]"
          ]
        },
        {
          "output_type": "stream",
          "name": "stdout",
          "text": [
            "[1296/1352] jatuh/10.mp4 | Frames: 133 | Person detections: 66\n"
          ]
        },
        {
          "output_type": "stream",
          "name": "stderr",
          "text": [
            "\rjatuh:  92%|█████████▏| 620/675 [04:59<02:21,  2.58s/it]"
          ]
        },
        {
          "output_type": "stream",
          "name": "stdout",
          "text": [
            "[1297/1352] jatuh/51.mp4 | Frames: 131 | Person detections: 58\n"
          ]
        },
        {
          "output_type": "stream",
          "name": "stderr",
          "text": [
            "\rjatuh:  92%|█████████▏| 621/675 [05:03<02:46,  3.08s/it]"
          ]
        },
        {
          "output_type": "stream",
          "name": "stdout",
          "text": [
            "[1298/1352] jatuh/48.mp4 | Frames: 269 | Person detections: 252\n"
          ]
        },
        {
          "output_type": "stream",
          "name": "stderr",
          "text": [
            "\rjatuh:  92%|█████████▏| 622/675 [05:06<02:35,  2.93s/it]"
          ]
        },
        {
          "output_type": "stream",
          "name": "stdout",
          "text": [
            "[1299/1352] jatuh/35.mp4 | Frames: 167 | Person detections: 112\n"
          ]
        },
        {
          "output_type": "stream",
          "name": "stderr",
          "text": [
            "\rjatuh:  92%|█████████▏| 623/675 [05:14<03:59,  4.60s/it]"
          ]
        },
        {
          "output_type": "stream",
          "name": "stdout",
          "text": [
            "[1300/1352] jatuh/19.mp4 | Frames: 463 | Person detections: 463\n",
            "===> Batch 25 disimpan (size 50)\n"
          ]
        },
        {
          "output_type": "stream",
          "name": "stderr",
          "text": [
            "\rjatuh:  92%|█████████▏| 624/675 [05:17<03:27,  4.07s/it]"
          ]
        },
        {
          "output_type": "stream",
          "name": "stdout",
          "text": [
            "[1301/1352] jatuh/59.mp4 | Frames: 178 | Person detections: 105\n"
          ]
        },
        {
          "output_type": "stream",
          "name": "stderr",
          "text": [
            "\rjatuh:  93%|█████████▎| 625/675 [05:20<03:05,  3.72s/it]"
          ]
        },
        {
          "output_type": "stream",
          "name": "stdout",
          "text": [
            "[1302/1352] jatuh/01.mp4 | Frames: 203 | Person detections: 136\n"
          ]
        },
        {
          "output_type": "stream",
          "name": "stderr",
          "text": [
            "\rjatuh:  93%|█████████▎| 626/675 [05:24<03:07,  3.82s/it]"
          ]
        },
        {
          "output_type": "stream",
          "name": "stdout",
          "text": [
            "[1303/1352] jatuh/12.mp4 | Frames: 200 | Person detections: 197\n"
          ]
        },
        {
          "output_type": "stream",
          "name": "stderr",
          "text": [
            "\rjatuh:  93%|█████████▎| 627/675 [05:26<02:43,  3.41s/it]"
          ]
        },
        {
          "output_type": "stream",
          "name": "stdout",
          "text": [
            "[1304/1352] jatuh/77.mp4 | Frames: 145 | Person detections: 143\n"
          ]
        },
        {
          "output_type": "stream",
          "name": "stderr",
          "text": [
            "\rjatuh:  93%|█████████▎| 628/675 [05:29<02:26,  3.12s/it]"
          ]
        },
        {
          "output_type": "stream",
          "name": "stdout",
          "text": [
            "[1305/1352] jatuh/65.mp4 | Frames: 200 | Person detections: 156\n"
          ]
        },
        {
          "output_type": "stream",
          "name": "stderr",
          "text": [
            "\rjatuh:  93%|█████████▎| 629/675 [05:34<02:51,  3.73s/it]"
          ]
        },
        {
          "output_type": "stream",
          "name": "stdout",
          "text": [
            "[1306/1352] jatuh/20.mp4 | Frames: 342 | Person detections: 342\n"
          ]
        },
        {
          "output_type": "stream",
          "name": "stderr",
          "text": [
            "\rjatuh:  93%|█████████▎| 630/675 [05:38<02:55,  3.90s/it]"
          ]
        },
        {
          "output_type": "stream",
          "name": "stdout",
          "text": [
            "[1307/1352] jatuh/69.mp4 | Frames: 188 | Person detections: 85\n"
          ]
        },
        {
          "output_type": "stream",
          "name": "stderr",
          "text": [
            "\rjatuh:  93%|█████████▎| 631/675 [05:42<02:43,  3.72s/it]"
          ]
        },
        {
          "output_type": "stream",
          "name": "stdout",
          "text": [
            "[1308/1352] jatuh/79.mp4 | Frames: 207 | Person detections: 207\n"
          ]
        },
        {
          "output_type": "stream",
          "name": "stderr",
          "text": [
            "\rjatuh:  94%|█████████▎| 632/675 [05:47<03:00,  4.19s/it]"
          ]
        },
        {
          "output_type": "stream",
          "name": "stdout",
          "text": [
            "[1309/1352] jatuh/40.mp4 | Frames: 348 | Person detections: 339\n"
          ]
        },
        {
          "output_type": "stream",
          "name": "stderr",
          "text": [
            "\rjatuh:  94%|█████████▍| 633/675 [05:48<02:18,  3.30s/it]"
          ]
        },
        {
          "output_type": "stream",
          "name": "stdout",
          "text": [
            "[1310/1352] jatuh/60.mp4 | Frames: 86 | Person detections: 70\n"
          ]
        },
        {
          "output_type": "stream",
          "name": "stderr",
          "text": [
            "\rjatuh:  94%|█████████▍| 634/675 [05:51<02:15,  3.31s/it]"
          ]
        },
        {
          "output_type": "stream",
          "name": "stdout",
          "text": [
            "[1311/1352] jatuh/04.mp4 | Frames: 146 | Person detections: 105\n"
          ]
        },
        {
          "output_type": "stream",
          "name": "stderr",
          "text": [
            "\rjatuh:  94%|█████████▍| 635/675 [05:53<01:56,  2.92s/it]"
          ]
        },
        {
          "output_type": "stream",
          "name": "stdout",
          "text": [
            "[1312/1352] jatuh/15.mp4 | Frames: 178 | Person detections: 100\n"
          ]
        },
        {
          "output_type": "stream",
          "name": "stderr",
          "text": [
            "\rjatuh:  94%|█████████▍| 636/675 [05:56<01:52,  2.90s/it]"
          ]
        },
        {
          "output_type": "stream",
          "name": "stdout",
          "text": [
            "[1313/1352] jatuh/71.mp4 | Frames: 181 | Person detections: 181\n"
          ]
        },
        {
          "output_type": "stream",
          "name": "stderr",
          "text": [
            "\rjatuh:  94%|█████████▍| 637/675 [05:58<01:41,  2.66s/it]"
          ]
        },
        {
          "output_type": "stream",
          "name": "stdout",
          "text": [
            "[1314/1352] jatuh/32.mp4 | Frames: 135 | Person detections: 96\n"
          ]
        },
        {
          "output_type": "stream",
          "name": "stderr",
          "text": [
            "\rjatuh:  95%|█████████▍| 638/675 [06:02<01:44,  2.82s/it]"
          ]
        },
        {
          "output_type": "stream",
          "name": "stdout",
          "text": [
            "[1315/1352] jatuh/28.mp4 | Frames: 210 | Person detections: 22\n"
          ]
        },
        {
          "output_type": "stream",
          "name": "stderr",
          "text": [
            "\rjatuh:  95%|█████████▍| 639/675 [06:08<02:15,  3.77s/it]"
          ]
        },
        {
          "output_type": "stream",
          "name": "stdout",
          "text": [
            "[1316/1352] jatuh/46.mp4 | Frames: 300 | Person detections: 272\n"
          ]
        },
        {
          "output_type": "stream",
          "name": "stderr",
          "text": [
            "\rjatuh:  95%|█████████▍| 640/675 [06:11<02:07,  3.63s/it]"
          ]
        },
        {
          "output_type": "stream",
          "name": "stdout",
          "text": [
            "[1317/1352] jatuh/25.mp4 | Frames: 218 | Person detections: 218\n"
          ]
        },
        {
          "output_type": "stream",
          "name": "stderr",
          "text": [
            "\rjatuh:  95%|█████████▍| 641/675 [06:13<01:45,  3.11s/it]"
          ]
        },
        {
          "output_type": "stream",
          "name": "stdout",
          "text": [
            "[1318/1352] jatuh/58.mp4 | Frames: 128 | Person detections: 34\n"
          ]
        },
        {
          "output_type": "stream",
          "name": "stderr",
          "text": [
            "\rjatuh:  95%|█████████▌| 642/675 [06:16<01:46,  3.23s/it]"
          ]
        },
        {
          "output_type": "stream",
          "name": "stdout",
          "text": [
            "[1319/1352] jatuh/50.mp4 | Frames: 186 | Person detections: 175\n"
          ]
        },
        {
          "output_type": "stream",
          "name": "stderr",
          "text": [
            "\rjatuh:  95%|█████████▌| 643/675 [06:19<01:33,  2.92s/it]"
          ]
        },
        {
          "output_type": "stream",
          "name": "stdout",
          "text": [
            "[1320/1352] jatuh/13.mp4 | Frames: 128 | Person detections: 128\n"
          ]
        },
        {
          "output_type": "stream",
          "name": "stderr",
          "text": [
            "\rjatuh:  95%|█████████▌| 644/675 [06:21<01:23,  2.71s/it]"
          ]
        },
        {
          "output_type": "stream",
          "name": "stdout",
          "text": [
            "[1321/1352] jatuh/37.mp4 | Frames: 184 | Person detections: 143\n"
          ]
        },
        {
          "output_type": "stream",
          "name": "stderr",
          "text": [
            "\rjatuh:  96%|█████████▌| 645/675 [06:23<01:19,  2.63s/it]"
          ]
        },
        {
          "output_type": "stream",
          "name": "stdout",
          "text": [
            "[1322/1352] jatuh/05.mp4 | Frames: 174 | Person detections: 77\n"
          ]
        },
        {
          "output_type": "stream",
          "name": "stderr",
          "text": [
            "\rjatuh:  96%|█████████▌| 646/675 [06:26<01:14,  2.56s/it]"
          ]
        },
        {
          "output_type": "stream",
          "name": "stdout",
          "text": [
            "[1323/1352] jatuh/36.mp4 | Frames: 159 | Person detections: 65\n"
          ]
        },
        {
          "output_type": "stream",
          "name": "stderr",
          "text": [
            "\rjatuh:  96%|█████████▌| 647/675 [06:29<01:19,  2.85s/it]"
          ]
        },
        {
          "output_type": "stream",
          "name": "stdout",
          "text": [
            "[1324/1352] jatuh/78.mp4 | Frames: 212 | Person detections: 190\n"
          ]
        },
        {
          "output_type": "stream",
          "name": "stderr",
          "text": [
            "\rjatuh:  96%|█████████▌| 648/675 [06:32<01:17,  2.85s/it]"
          ]
        },
        {
          "output_type": "stream",
          "name": "stdout",
          "text": [
            "[1325/1352] jatuh/39.mp4 | Frames: 168 | Person detections: 84\n"
          ]
        },
        {
          "output_type": "stream",
          "name": "stderr",
          "text": [
            "\rjatuh:  96%|█████████▌| 649/675 [06:36<01:19,  3.07s/it]"
          ]
        },
        {
          "output_type": "stream",
          "name": "stdout",
          "text": [
            "[1326/1352] jatuh/67.mp4 | Frames: 221 | Person detections: 217\n"
          ]
        },
        {
          "output_type": "stream",
          "name": "stderr",
          "text": [
            "\rjatuh:  96%|█████████▋| 650/675 [06:38<01:12,  2.92s/it]"
          ]
        },
        {
          "output_type": "stream",
          "name": "stdout",
          "text": [
            "[1327/1352] jatuh/47.mp4 | Frames: 166 | Person detections: 38\n"
          ]
        },
        {
          "output_type": "stream",
          "name": "stderr",
          "text": [
            "\rjatuh:  96%|█████████▋| 651/675 [06:41<01:09,  2.89s/it]"
          ]
        },
        {
          "output_type": "stream",
          "name": "stdout",
          "text": [
            "[1328/1352] jatuh/33.mp4 | Frames: 181 | Person detections: 117\n"
          ]
        },
        {
          "output_type": "stream",
          "name": "stderr",
          "text": [
            "\rjatuh:  97%|█████████▋| 652/675 [06:47<01:26,  3.77s/it]"
          ]
        },
        {
          "output_type": "stream",
          "name": "stdout",
          "text": [
            "[1329/1352] jatuh/21.mp4 | Frames: 283 | Person detections: 283\n"
          ]
        },
        {
          "output_type": "stream",
          "name": "stderr",
          "text": [
            "\rjatuh:  97%|█████████▋| 653/675 [06:50<01:17,  3.51s/it]"
          ]
        },
        {
          "output_type": "stream",
          "name": "stdout",
          "text": [
            "[1330/1352] jatuh/70.mp4 | Frames: 187 | Person detections: 168\n"
          ]
        },
        {
          "output_type": "stream",
          "name": "stderr",
          "text": [
            "\rjatuh:  97%|█████████▋| 654/675 [06:51<01:01,  2.92s/it]"
          ]
        },
        {
          "output_type": "stream",
          "name": "stdout",
          "text": [
            "[1331/1352] jatuh/38.mp4 | Frames: 133 | Person detections: 92\n"
          ]
        },
        {
          "output_type": "stream",
          "name": "stderr",
          "text": [
            "\rjatuh:  97%|█████████▋| 655/675 [06:54<00:56,  2.84s/it]"
          ]
        },
        {
          "output_type": "stream",
          "name": "stdout",
          "text": [
            "[1332/1352] jatuh/44.mp4 | Frames: 167 | Person detections: 145\n"
          ]
        },
        {
          "output_type": "stream",
          "name": "stderr",
          "text": [
            "\rjatuh:  97%|█████████▋| 656/675 [07:01<01:18,  4.11s/it]"
          ]
        },
        {
          "output_type": "stream",
          "name": "stdout",
          "text": [
            "[1333/1352] jatuh/55.mp4 | Frames: 367 | Person detections: 319\n"
          ]
        },
        {
          "output_type": "stream",
          "name": "stderr",
          "text": [
            "\rjatuh:  97%|█████████▋| 657/675 [07:03<01:05,  3.63s/it]"
          ]
        },
        {
          "output_type": "stream",
          "name": "stdout",
          "text": [
            "[1334/1352] jatuh/45.mp4 | Frames: 163 | Person detections: 75\n"
          ]
        },
        {
          "output_type": "stream",
          "name": "stderr",
          "text": [
            "\rjatuh:  97%|█████████▋| 658/675 [07:06<00:55,  3.28s/it]"
          ]
        },
        {
          "output_type": "stream",
          "name": "stdout",
          "text": [
            "[1335/1352] jatuh/06.mp4 | Frames: 169 | Person detections: 105\n"
          ]
        },
        {
          "output_type": "stream",
          "name": "stderr",
          "text": [
            "\rjatuh:  98%|█████████▊| 659/675 [07:08<00:46,  2.92s/it]"
          ]
        },
        {
          "output_type": "stream",
          "name": "stdout",
          "text": [
            "[1336/1352] jatuh/07.mp4 | Frames: 153 | Person detections: 58\n"
          ]
        },
        {
          "output_type": "stream",
          "name": "stderr",
          "text": [
            "\rjatuh:  98%|█████████▊| 660/675 [07:11<00:44,  2.99s/it]"
          ]
        },
        {
          "output_type": "stream",
          "name": "stdout",
          "text": [
            "[1337/1352] jatuh/16.mp4 | Frames: 181 | Person detections: 124\n"
          ]
        },
        {
          "output_type": "stream",
          "name": "stderr",
          "text": [
            "\rjatuh:  98%|█████████▊| 661/675 [07:14<00:41,  2.96s/it]"
          ]
        },
        {
          "output_type": "stream",
          "name": "stdout",
          "text": [
            "[1338/1352] jatuh/30.mp4 | Frames: 135 | Person detections: 120\n"
          ]
        },
        {
          "output_type": "stream",
          "name": "stderr",
          "text": [
            "\rjatuh:  98%|█████████▊| 662/675 [07:17<00:38,  2.99s/it]"
          ]
        },
        {
          "output_type": "stream",
          "name": "stdout",
          "text": [
            "[1339/1352] jatuh/17.mp4 | Frames: 194 | Person detections: 194\n"
          ]
        },
        {
          "output_type": "stream",
          "name": "stderr",
          "text": [
            "\rjatuh:  98%|█████████▊| 663/675 [07:18<00:29,  2.44s/it]"
          ]
        },
        {
          "output_type": "stream",
          "name": "stdout",
          "text": [
            "[1340/1352] jatuh/61.mp4 | Frames: 94 | Person detections: 87\n"
          ]
        },
        {
          "output_type": "stream",
          "name": "stderr",
          "text": [
            "\rjatuh:  98%|█████████▊| 664/675 [07:19<00:22,  2.03s/it]"
          ]
        },
        {
          "output_type": "stream",
          "name": "stdout",
          "text": [
            "[1341/1352] jatuh/64.mp4 | Frames: 89 | Person detections: 64\n"
          ]
        },
        {
          "output_type": "stream",
          "name": "stderr",
          "text": [
            "\rjatuh:  99%|█████████▊| 665/675 [07:22<00:23,  2.32s/it]"
          ]
        },
        {
          "output_type": "stream",
          "name": "stdout",
          "text": [
            "[1342/1352] jatuh/31.mp4 | Frames: 194 | Person detections: 150\n"
          ]
        },
        {
          "output_type": "stream",
          "name": "stderr",
          "text": [
            "\rjatuh:  99%|█████████▊| 666/675 [07:24<00:19,  2.13s/it]"
          ]
        },
        {
          "output_type": "stream",
          "name": "stdout",
          "text": [
            "[1343/1352] jatuh/56.mp4 | Frames: 85 | Person detections: 49\n"
          ]
        },
        {
          "output_type": "stream",
          "name": "stderr",
          "text": [
            "\rjatuh:  99%|█████████▉| 667/675 [07:30<00:26,  3.26s/it]"
          ]
        },
        {
          "output_type": "stream",
          "name": "stdout",
          "text": [
            "[1344/1352] jatuh/29.mp4 | Frames: 305 | Person detections: 278\n"
          ]
        },
        {
          "output_type": "stream",
          "name": "stderr",
          "text": [
            "\rjatuh:  99%|█████████▉| 668/675 [07:32<00:20,  2.94s/it]"
          ]
        },
        {
          "output_type": "stream",
          "name": "stdout",
          "text": [
            "[1345/1352] jatuh/66.mp4 | Frames: 141 | Person detections: 93\n"
          ]
        },
        {
          "output_type": "stream",
          "name": "stderr",
          "text": [
            "\rjatuh:  99%|█████████▉| 669/675 [07:35<00:16,  2.79s/it]"
          ]
        },
        {
          "output_type": "stream",
          "name": "stdout",
          "text": [
            "[1346/1352] jatuh/22.mp4 | Frames: 155 | Person detections: 155\n"
          ]
        },
        {
          "output_type": "stream",
          "name": "stderr",
          "text": [
            "\rjatuh:  99%|█████████▉| 670/675 [07:37<00:13,  2.65s/it]"
          ]
        },
        {
          "output_type": "stream",
          "name": "stdout",
          "text": [
            "[1347/1352] jatuh/72.mp4 | Frames: 151 | Person detections: 77\n"
          ]
        },
        {
          "output_type": "stream",
          "name": "stderr",
          "text": [
            "\rjatuh:  99%|█████████▉| 671/675 [07:41<00:12,  3.02s/it]"
          ]
        },
        {
          "output_type": "stream",
          "name": "stdout",
          "text": [
            "[1348/1352] jatuh/03.mp4 | Frames: 176 | Person detections: 150\n"
          ]
        },
        {
          "output_type": "stream",
          "name": "stderr",
          "text": [
            "\rjatuh: 100%|█████████▉| 672/675 [07:43<00:08,  2.82s/it]"
          ]
        },
        {
          "output_type": "stream",
          "name": "stdout",
          "text": [
            "[1349/1352] jatuh/75.mp4 | Frames: 149 | Person detections: 147\n"
          ]
        },
        {
          "output_type": "stream",
          "name": "stderr",
          "text": [
            "\rjatuh: 100%|█████████▉| 673/675 [07:45<00:05,  2.58s/it]"
          ]
        },
        {
          "output_type": "stream",
          "name": "stdout",
          "text": [
            "[1350/1352] jatuh/53.mp4 | Frames: 127 | Person detections: 104\n",
            "===> Batch 26 disimpan (size 50)\n"
          ]
        },
        {
          "output_type": "stream",
          "name": "stderr",
          "text": [
            "\rjatuh: 100%|█████████▉| 674/675 [07:46<00:02,  2.23s/it]"
          ]
        },
        {
          "output_type": "stream",
          "name": "stdout",
          "text": [
            "[1351/1352] jatuh/57.mp4 | Frames: 91 | Person detections: 72\n"
          ]
        },
        {
          "output_type": "stream",
          "name": "stderr",
          "text": [
            "jatuh: 100%|██████████| 675/675 [07:49<00:00,  1.44it/s]"
          ]
        },
        {
          "output_type": "stream",
          "name": "stdout",
          "text": [
            "[1352/1352] jatuh/49.mp4 | Frames: 186 | Person detections: 49\n",
            "===> Batch 27 disimpan (size 2)\n"
          ]
        },
        {
          "output_type": "stream",
          "name": "stderr",
          "text": [
            "\n"
          ]
        }
      ],
      "source": [
        "\n",
        "dataset_dir = \"/content/drive/MyDrive/dataset\"\n",
        "sequence_length = 60\n",
        "batch_size = 50  # jumlah video per batch\n",
        "X_batch, y_batch = [], []\n",
        "batch_count = 0\n",
        "\n",
        "# Baca daftar video yang sudah diproses\n",
        "if os.path.exists(\"processed_videos.txt\"):\n",
        "    with open(\"processed_videos.txt\", \"r\") as f:\n",
        "        processed_videos = set(line.strip() for line in f.readlines())\n",
        "else:\n",
        "    processed_videos = set()\n",
        "\n",
        "class_map = {\"nonJatuh\": 0, \"jatuh\": 1}\n",
        "\n",
        "# Hitung total video\n",
        "total_videos = 0\n",
        "for label_name in class_map.keys():\n",
        "    class_path = os.path.join(dataset_dir, label_name)\n",
        "    if os.path.exists(class_path):\n",
        "        video_files = [f for f in os.listdir(class_path) if f.lower().endswith((\".mp4\", \".avi\", \".mov\"))]\n",
        "        total_videos += len(video_files)\n",
        "print(f\"Total video ditemukan: {total_videos}\")\n",
        "\n",
        "# Loop dataset\n",
        "processed_count = 0\n",
        "for label_name, label_value in class_map.items():\n",
        "    class_path = os.path.join(dataset_dir, label_name)\n",
        "    if not os.path.exists(class_path):\n",
        "        continue\n",
        "\n",
        "    video_files = [f for f in os.listdir(class_path) if f.lower().endswith((\".mp4\", \".avi\", \".mov\"))]\n",
        "    for filename in tqdm(video_files, desc=f\"{label_name}\"):\n",
        "        video_path = os.path.join(class_path, filename)\n",
        "\n",
        "        # Skip jika video sudah diproses\n",
        "        if video_path in processed_videos:\n",
        "            print(f\"Skip {filename}, sudah diproses.\")\n",
        "            continue\n",
        "\n",
        "        processed_count += 1\n",
        "        tracker = norfair.Tracker(distance_function=\"iou\", distance_threshold=0.7)\n",
        "\n",
        "        # Ekstraksi fitur\n",
        "        features, label, frame_count, person_count = process_video(\n",
        "            video_path, label_value, yolo_model, tracker, sequence_length\n",
        "        )\n",
        "        X_batch.append(features)\n",
        "        y_batch.append(label)\n",
        "\n",
        "        # Simpan ke log video\n",
        "        with open(\"processed_videos.txt\", \"a\") as f:\n",
        "            f.write(video_path + \"\\n\")\n",
        "\n",
        "        print(f\"[{processed_count}/{total_videos}] {label_name}/{filename} \"\n",
        "              f\"| Frames: {frame_count} | Person detections: {person_count}\")\n",
        "\n",
        "        # Simpan batch kalau sudah penuh\n",
        "        if len(X_batch) >= batch_size:\n",
        "            batch_file = f\"features_batch_{batch_count}.npz\"\n",
        "            if os.path.exists(batch_file):\n",
        "                print(f\"===> Batch {batch_count} SUDAH ADA, dilewati.\")\n",
        "            else:\n",
        "                np.savez(batch_file, X=np.array(X_batch, dtype=np.float32), y=np.array(y_batch, dtype=np.int32))\n",
        "                print(f\"===> Batch {batch_count} disimpan (size {len(X_batch)})\")\n",
        "            batch_count += 1\n",
        "            X_batch, y_batch = [], []\n",
        "\n",
        "# Simpan sisa batch terakhir\n",
        "if X_batch:\n",
        "    batch_file = f\"features_batch_{batch_count}.npz\"\n",
        "    if os.path.exists(batch_file):\n",
        "        print(f\"===> Batch {batch_count} SUDAH ADA, dilewati.\")\n",
        "    else:\n",
        "        np.savez(batch_file, X=np.array(X_batch, dtype=np.float32), y=np.array(y_batch, dtype=np.int32))\n",
        "        print(f\"===> Batch {batch_count} disimpan (size {len(X_batch)})\")"
      ]
    },
    {
      "cell_type": "code",
      "execution_count": null,
      "metadata": {
        "colab": {
          "base_uri": "https://localhost:8080/"
        },
        "id": "oXtZYp-qDPFH",
        "outputId": "834fca52-5d26-4e70-ff08-310f3ce20048"
      },
      "outputs": [
        {
          "output_type": "stream",
          "name": "stdout",
          "text": [
            "Shape X: (1352, 60, 4)\n",
            "Shape y: (1352,)\n"
          ]
        }
      ],
      "source": [
        "import numpy as np\n",
        "from sklearn.preprocessing import MinMaxScaler\n",
        "import glob\n",
        "\n",
        "# Load semua batch .npz\n",
        "all_X, all_y = [], []\n",
        "for file in sorted(glob.glob(\"/content/features_batch_*.npz\")):\n",
        "    data = np.load(file)\n",
        "    all_X.append(data[\"X\"])\n",
        "    all_y.append(data[\"y\"])\n",
        "\n",
        "# Gabungkan semua batch jadi satu array\n",
        "X = np.concatenate(all_X, axis=0)\n",
        "y = np.concatenate(all_y, axis=0)\n",
        "\n",
        "print(\"Shape X:\", X.shape)\n",
        "print(\"Shape y:\", y.shape)\n"
      ]
    },
    {
      "cell_type": "code",
      "source": [
        "n_samples, n_timesteps, n_features = X.shape\n",
        "X_reshaped = X.reshape(-1, n_features)\n",
        "\n",
        "scaler = MinMaxScaler()\n",
        "X_normalized = scaler.fit_transform(X_reshaped)\n",
        "X = X_normalized.reshape(n_samples, n_timesteps, n_features)\n",
        "print(\"Contoh fitur setelah normalisasi:\\n\", X[0])"
      ],
      "metadata": {
        "colab": {
          "base_uri": "https://localhost:8080/"
        },
        "id": "KqGfqfSQ0vnt",
        "outputId": "05c1a4fc-dd84-4bfa-9219-3efba07258de"
      },
      "execution_count": null,
      "outputs": [
        {
          "output_type": "stream",
          "name": "stdout",
          "text": [
            "Contoh fitur setelah normalisasi:\n",
            " [[    0.17087    0.010232    0.050303     0.29324]\n",
            " [    0.17087    0.010232    0.050303     0.29324]\n",
            " [    0.17087    0.010232    0.050303     0.29324]\n",
            " [    0.17087    0.010232    0.050303     0.29324]\n",
            " [    0.17087    0.010232    0.050303     0.29324]\n",
            " [    0.17087    0.010232    0.050303     0.29324]\n",
            " [    0.17087    0.010232    0.050303     0.29324]\n",
            " [    0.17087    0.010232    0.050303     0.29324]\n",
            " [    0.17087    0.010232    0.050303     0.29324]\n",
            " [    0.17087    0.010232    0.050303     0.29324]\n",
            " [    0.17087    0.010232    0.050303     0.29324]\n",
            " [    0.17087    0.010232    0.050303     0.29324]\n",
            " [    0.17087    0.010232    0.050303     0.29324]\n",
            " [    0.17087    0.010232    0.050303     0.29324]\n",
            " [    0.17087    0.010232    0.050303     0.29324]\n",
            " [    0.17087    0.010232    0.050303     0.29324]\n",
            " [    0.17087    0.010232    0.050303     0.29324]\n",
            " [    0.17087    0.010232    0.050303     0.29324]\n",
            " [    0.17087    0.010232    0.050303     0.29324]\n",
            " [    0.17087    0.010232    0.050303     0.29324]\n",
            " [    0.17087    0.010232    0.050303     0.29324]\n",
            " [    0.17087    0.010232    0.050303     0.29324]\n",
            " [    0.17087    0.010232    0.050303     0.29324]\n",
            " [    0.17087    0.010232    0.050303     0.29324]\n",
            " [    0.17087    0.010232    0.050303     0.29324]\n",
            " [    0.17087    0.010232    0.050303     0.29324]\n",
            " [    0.17087    0.010232    0.050303     0.29324]\n",
            " [    0.17087    0.010232    0.050303     0.29324]\n",
            " [    0.17087    0.010232    0.050303     0.29324]\n",
            " [    0.17087    0.010232    0.050303     0.29324]\n",
            " [    0.17087    0.010232    0.050303     0.29324]\n",
            " [    0.17087    0.010232    0.050303     0.29324]\n",
            " [    0.17087    0.010232    0.050303     0.29324]\n",
            " [    0.17087    0.010232    0.050303     0.29324]\n",
            " [    0.17087    0.010232    0.050303     0.29324]\n",
            " [    0.17087    0.010232    0.050303     0.29324]\n",
            " [    0.17087    0.010232    0.050303     0.29324]\n",
            " [    0.17087    0.010232    0.050303     0.29324]\n",
            " [    0.17087    0.010232    0.050303     0.29324]\n",
            " [    0.17087    0.010232    0.050303     0.29324]\n",
            " [    0.17087    0.010232    0.050303     0.29324]\n",
            " [    0.17087    0.010232    0.050303     0.29324]\n",
            " [    0.17087    0.010232    0.050303     0.29324]\n",
            " [    0.17087    0.010232    0.050303     0.29324]\n",
            " [    0.17087    0.010232    0.050303     0.29324]\n",
            " [    0.17087    0.010232    0.050303     0.29324]\n",
            " [    0.17087    0.010232    0.050303     0.29324]\n",
            " [    0.17087    0.010232    0.050303     0.29324]\n",
            " [    0.17087    0.010232    0.050303     0.29324]\n",
            " [    0.17087    0.010232    0.050303     0.29324]\n",
            " [    0.17087    0.010232    0.050303     0.29324]\n",
            " [    0.17087    0.010232    0.050303     0.29324]\n",
            " [    0.17087    0.010232    0.050303     0.29324]\n",
            " [    0.17087    0.010232    0.050303     0.29324]\n",
            " [    0.17087    0.010232    0.050303     0.29324]\n",
            " [    0.17087    0.010232    0.050303     0.29324]\n",
            " [    0.17087    0.010232    0.050303     0.29324]\n",
            " [    0.17087    0.010232    0.050303     0.29324]\n",
            " [    0.17087    0.010232    0.050303     0.29324]\n",
            " [    0.17087    0.010232    0.050303     0.29324]]\n"
          ]
        }
      ]
    },
    {
      "cell_type": "code",
      "execution_count": null,
      "metadata": {
        "colab": {
          "base_uri": "https://localhost:8080/"
        },
        "id": "hSCmSWwdDV6I",
        "outputId": "c4281cb8-fdae-4e39-fd1a-19fa55f4f2cf"
      },
      "outputs": [
        {
          "output_type": "stream",
          "name": "stdout",
          "text": [
            "Train: (946, 60, 4), Val: (203, 60, 4), Test: (203, 60, 4)\n"
          ]
        }
      ],
      "source": [
        "from sklearn.model_selection import train_test_split\n",
        "\n",
        "X_train, X_temp, y_train, y_temp = train_test_split(X, y, test_size=0.3, random_state=42, stratify=y)\n",
        "X_val, X_test, y_val, y_test = train_test_split(X_temp, y_temp, test_size=0.5, random_state=42, stratify=y_temp)\n",
        "\n",
        "print(f\"Train: {X_train.shape}, Val: {X_val.shape}, Test: {X_test.shape}\")"
      ]
    },
    {
      "cell_type": "code",
      "execution_count": null,
      "metadata": {
        "colab": {
          "base_uri": "https://localhost:8080/"
        },
        "id": "xqh1WivmEvmB",
        "outputId": "a5e64da7-fc1b-4ae9-85d2-01af60ef32a0"
      },
      "outputs": [
        {
          "output_type": "stream",
          "name": "stdout",
          "text": [
            "X_train: (946, 60, 4) float32\n",
            "y_train: (946,) float32\n",
            "X_val: (203, 60, 4) float32\n",
            "y_val: (203,) float32\n",
            "X_test: (203, 60, 4) float32\n",
            "y_test: (203,) float32\n"
          ]
        }
      ],
      "source": [
        "# Pastikan tipe data sesuai untuk TensorFlow\n",
        "X_train = X_train.astype(np.float32)\n",
        "X_val = X_val.astype(np.float32)\n",
        "X_test = X_test.astype(np.float32)\n",
        "\n",
        "y_train = y_train.astype(np.float32)\n",
        "y_val = y_val.astype(np.float32)\n",
        "y_test = y_test.astype(np.float32)\n",
        "\n",
        "print(\"X_train:\", X_train.shape, X_train.dtype)\n",
        "print(\"y_train:\", y_train.shape, y_train.dtype)\n",
        "print(\"X_val:\", X_val.shape, X_val.dtype)\n",
        "print(\"y_val:\", y_val.shape, y_val.dtype)\n",
        "print(\"X_test:\", X_test.shape, X_test.dtype)\n",
        "print(\"y_test:\", y_test.shape, y_test.dtype)"
      ]
    },
    {
      "cell_type": "code",
      "execution_count": null,
      "metadata": {
        "colab": {
          "base_uri": "https://localhost:8080/",
          "height": 289
        },
        "id": "MV6OeqOfDZwL",
        "outputId": "75591d43-8363-4b88-e632-74521460251e"
      },
      "outputs": [
        {
          "output_type": "display_data",
          "data": {
            "text/plain": [
              "\u001b[1mModel: \"sequential_3\"\u001b[0m\n"
            ],
            "text/html": [
              "<pre style=\"white-space:pre;overflow-x:auto;line-height:normal;font-family:Menlo,'DejaVu Sans Mono',consolas,'Courier New',monospace\"><span style=\"font-weight: bold\">Model: \"sequential_3\"</span>\n",
              "</pre>\n"
            ]
          },
          "metadata": {}
        },
        {
          "output_type": "display_data",
          "data": {
            "text/plain": [
              "┏━━━━━━━━━━━━━━━━━━━━━━━━━━━━━━━━━┳━━━━━━━━━━━━━━━━━━━━━━━━┳━━━━━━━━━━━━━━━┓\n",
              "┃\u001b[1m \u001b[0m\u001b[1mLayer (type)                   \u001b[0m\u001b[1m \u001b[0m┃\u001b[1m \u001b[0m\u001b[1mOutput Shape          \u001b[0m\u001b[1m \u001b[0m┃\u001b[1m \u001b[0m\u001b[1m      Param #\u001b[0m\u001b[1m \u001b[0m┃\n",
              "┡━━━━━━━━━━━━━━━━━━━━━━━━━━━━━━━━━╇━━━━━━━━━━━━━━━━━━━━━━━━╇━━━━━━━━━━━━━━━┩\n",
              "│ lstm_6 (\u001b[38;5;33mLSTM\u001b[0m)                   │ (\u001b[38;5;45mNone\u001b[0m, \u001b[38;5;34m60\u001b[0m, \u001b[38;5;34m64\u001b[0m)         │        \u001b[38;5;34m17,664\u001b[0m │\n",
              "├─────────────────────────────────┼────────────────────────┼───────────────┤\n",
              "│ dropout_6 (\u001b[38;5;33mDropout\u001b[0m)             │ (\u001b[38;5;45mNone\u001b[0m, \u001b[38;5;34m60\u001b[0m, \u001b[38;5;34m64\u001b[0m)         │             \u001b[38;5;34m0\u001b[0m │\n",
              "├─────────────────────────────────┼────────────────────────┼───────────────┤\n",
              "│ lstm_7 (\u001b[38;5;33mLSTM\u001b[0m)                   │ (\u001b[38;5;45mNone\u001b[0m, \u001b[38;5;34m32\u001b[0m)             │        \u001b[38;5;34m12,416\u001b[0m │\n",
              "├─────────────────────────────────┼────────────────────────┼───────────────┤\n",
              "│ dropout_7 (\u001b[38;5;33mDropout\u001b[0m)             │ (\u001b[38;5;45mNone\u001b[0m, \u001b[38;5;34m32\u001b[0m)             │             \u001b[38;5;34m0\u001b[0m │\n",
              "├─────────────────────────────────┼────────────────────────┼───────────────┤\n",
              "│ dense_3 (\u001b[38;5;33mDense\u001b[0m)                 │ (\u001b[38;5;45mNone\u001b[0m, \u001b[38;5;34m1\u001b[0m)              │            \u001b[38;5;34m33\u001b[0m │\n",
              "└─────────────────────────────────┴────────────────────────┴───────────────┘\n"
            ],
            "text/html": [
              "<pre style=\"white-space:pre;overflow-x:auto;line-height:normal;font-family:Menlo,'DejaVu Sans Mono',consolas,'Courier New',monospace\">┏━━━━━━━━━━━━━━━━━━━━━━━━━━━━━━━━━┳━━━━━━━━━━━━━━━━━━━━━━━━┳━━━━━━━━━━━━━━━┓\n",
              "┃<span style=\"font-weight: bold\"> Layer (type)                    </span>┃<span style=\"font-weight: bold\"> Output Shape           </span>┃<span style=\"font-weight: bold\">       Param # </span>┃\n",
              "┡━━━━━━━━━━━━━━━━━━━━━━━━━━━━━━━━━╇━━━━━━━━━━━━━━━━━━━━━━━━╇━━━━━━━━━━━━━━━┩\n",
              "│ lstm_6 (<span style=\"color: #0087ff; text-decoration-color: #0087ff\">LSTM</span>)                   │ (<span style=\"color: #00d7ff; text-decoration-color: #00d7ff\">None</span>, <span style=\"color: #00af00; text-decoration-color: #00af00\">60</span>, <span style=\"color: #00af00; text-decoration-color: #00af00\">64</span>)         │        <span style=\"color: #00af00; text-decoration-color: #00af00\">17,664</span> │\n",
              "├─────────────────────────────────┼────────────────────────┼───────────────┤\n",
              "│ dropout_6 (<span style=\"color: #0087ff; text-decoration-color: #0087ff\">Dropout</span>)             │ (<span style=\"color: #00d7ff; text-decoration-color: #00d7ff\">None</span>, <span style=\"color: #00af00; text-decoration-color: #00af00\">60</span>, <span style=\"color: #00af00; text-decoration-color: #00af00\">64</span>)         │             <span style=\"color: #00af00; text-decoration-color: #00af00\">0</span> │\n",
              "├─────────────────────────────────┼────────────────────────┼───────────────┤\n",
              "│ lstm_7 (<span style=\"color: #0087ff; text-decoration-color: #0087ff\">LSTM</span>)                   │ (<span style=\"color: #00d7ff; text-decoration-color: #00d7ff\">None</span>, <span style=\"color: #00af00; text-decoration-color: #00af00\">32</span>)             │        <span style=\"color: #00af00; text-decoration-color: #00af00\">12,416</span> │\n",
              "├─────────────────────────────────┼────────────────────────┼───────────────┤\n",
              "│ dropout_7 (<span style=\"color: #0087ff; text-decoration-color: #0087ff\">Dropout</span>)             │ (<span style=\"color: #00d7ff; text-decoration-color: #00d7ff\">None</span>, <span style=\"color: #00af00; text-decoration-color: #00af00\">32</span>)             │             <span style=\"color: #00af00; text-decoration-color: #00af00\">0</span> │\n",
              "├─────────────────────────────────┼────────────────────────┼───────────────┤\n",
              "│ dense_3 (<span style=\"color: #0087ff; text-decoration-color: #0087ff\">Dense</span>)                 │ (<span style=\"color: #00d7ff; text-decoration-color: #00d7ff\">None</span>, <span style=\"color: #00af00; text-decoration-color: #00af00\">1</span>)              │            <span style=\"color: #00af00; text-decoration-color: #00af00\">33</span> │\n",
              "└─────────────────────────────────┴────────────────────────┴───────────────┘\n",
              "</pre>\n"
            ]
          },
          "metadata": {}
        },
        {
          "output_type": "display_data",
          "data": {
            "text/plain": [
              "\u001b[1m Total params: \u001b[0m\u001b[38;5;34m30,113\u001b[0m (117.63 KB)\n"
            ],
            "text/html": [
              "<pre style=\"white-space:pre;overflow-x:auto;line-height:normal;font-family:Menlo,'DejaVu Sans Mono',consolas,'Courier New',monospace\"><span style=\"font-weight: bold\"> Total params: </span><span style=\"color: #00af00; text-decoration-color: #00af00\">30,113</span> (117.63 KB)\n",
              "</pre>\n"
            ]
          },
          "metadata": {}
        },
        {
          "output_type": "display_data",
          "data": {
            "text/plain": [
              "\u001b[1m Trainable params: \u001b[0m\u001b[38;5;34m30,113\u001b[0m (117.63 KB)\n"
            ],
            "text/html": [
              "<pre style=\"white-space:pre;overflow-x:auto;line-height:normal;font-family:Menlo,'DejaVu Sans Mono',consolas,'Courier New',monospace\"><span style=\"font-weight: bold\"> Trainable params: </span><span style=\"color: #00af00; text-decoration-color: #00af00\">30,113</span> (117.63 KB)\n",
              "</pre>\n"
            ]
          },
          "metadata": {}
        },
        {
          "output_type": "display_data",
          "data": {
            "text/plain": [
              "\u001b[1m Non-trainable params: \u001b[0m\u001b[38;5;34m0\u001b[0m (0.00 B)\n"
            ],
            "text/html": [
              "<pre style=\"white-space:pre;overflow-x:auto;line-height:normal;font-family:Menlo,'DejaVu Sans Mono',consolas,'Courier New',monospace\"><span style=\"font-weight: bold\"> Non-trainable params: </span><span style=\"color: #00af00; text-decoration-color: #00af00\">0</span> (0.00 B)\n",
              "</pre>\n"
            ]
          },
          "metadata": {}
        }
      ],
      "source": [
        "import tensorflow as tf\n",
        "from tensorflow.keras.models import Sequential\n",
        "from tensorflow.keras.layers import LSTM, Dense, Dropout, Input\n",
        "from tensorflow.keras.callbacks import ModelCheckpoint, EarlyStopping\n",
        "\n",
        "\n",
        "\n",
        "early_stop = EarlyStopping(\n",
        "    monitor=\"val_loss\",\n",
        "    patience=10,\n",
        "    restore_best_weights=True\n",
        ")\n",
        "# Simpan model terbaik (berdasarkan val_loss)\n",
        "checkpoint = ModelCheckpoint(\n",
        "    \"best_model.keras\",     # nama file hasil simpan\n",
        "    monitor=\"val_loss\",  # patokan: loss di validation\n",
        "    save_best_only=True, # hanya simpan yang terbaik\n",
        "    mode=\"min\",          # karena loss lebih kecil = lebih baik\n",
        "    verbose=1\n",
        ")\n",
        "\n",
        "model = Sequential([\n",
        "    Input(shape=(sequence_length, 4)),\n",
        "    LSTM(64,\n",
        "         return_sequences=True,\n",
        "         activation=\"tanh\",\n",
        "         recurrent_activation=\"sigmoid\",\n",
        "         dropout=0.2,\n",
        "         recurrent_dropout=0.2),\n",
        "    Dropout(0.3),\n",
        "    LSTM(32,\n",
        "         activation=\"tanh\",\n",
        "         recurrent_activation=\"sigmoid\",\n",
        "         dropout=0.2,\n",
        "         recurrent_dropout=0.2),\n",
        "    Dropout(0.3),\n",
        "    Dense(1, activation='sigmoid')  # Sigmoid untuk binary classification\n",
        "])\n",
        "\n",
        "model.compile(\n",
        "    loss='binary_crossentropy',\n",
        "    optimizer='adam',\n",
        "    metrics=['accuracy']\n",
        ")\n",
        "\n",
        "model.summary()\n"
      ]
    },
    {
      "cell_type": "code",
      "execution_count": null,
      "metadata": {
        "colab": {
          "base_uri": "https://localhost:8080/"
        },
        "id": "Zw68yf5tDuDF",
        "outputId": "237c526a-1118-414c-d1f7-f846a7acecc6"
      },
      "outputs": [
        {
          "output_type": "stream",
          "name": "stdout",
          "text": [
            "Epoch 1/100\n",
            "\u001b[1m60/60\u001b[0m \u001b[32m━━━━━━━━━━━━━━━━━━━━\u001b[0m\u001b[37m\u001b[0m \u001b[1m0s\u001b[0m 373ms/step - accuracy: 0.6725 - loss: 0.5708\n",
            "Epoch 1: val_loss did not improve from 0.55114\n",
            "\u001b[1m60/60\u001b[0m \u001b[32m━━━━━━━━━━━━━━━━━━━━\u001b[0m\u001b[37m\u001b[0m \u001b[1m24s\u001b[0m 395ms/step - accuracy: 0.6721 - loss: 0.5710 - val_accuracy: 0.6650 - val_loss: 0.5909\n",
            "Epoch 2/100\n",
            "\u001b[1m60/60\u001b[0m \u001b[32m━━━━━━━━━━━━━━━━━━━━\u001b[0m\u001b[37m\u001b[0m \u001b[1m0s\u001b[0m 345ms/step - accuracy: 0.6083 - loss: 0.5989\n",
            "Epoch 2: val_loss did not improve from 0.55114\n",
            "\u001b[1m60/60\u001b[0m \u001b[32m━━━━━━━━━━━━━━━━━━━━\u001b[0m\u001b[37m\u001b[0m \u001b[1m40s\u001b[0m 368ms/step - accuracy: 0.6085 - loss: 0.5987 - val_accuracy: 0.6552 - val_loss: 0.5705\n",
            "Epoch 3/100\n",
            "\u001b[1m60/60\u001b[0m \u001b[32m━━━━━━━━━━━━━━━━━━━━\u001b[0m\u001b[37m\u001b[0m \u001b[1m0s\u001b[0m 347ms/step - accuracy: 0.6695 - loss: 0.5901\n",
            "Epoch 3: val_loss did not improve from 0.55114\n",
            "\u001b[1m60/60\u001b[0m \u001b[32m━━━━━━━━━━━━━━━━━━━━\u001b[0m\u001b[37m\u001b[0m \u001b[1m42s\u001b[0m 391ms/step - accuracy: 0.6694 - loss: 0.5899 - val_accuracy: 0.6256 - val_loss: 0.5807\n",
            "Epoch 4/100\n",
            "\u001b[1m60/60\u001b[0m \u001b[32m━━━━━━━━━━━━━━━━━━━━\u001b[0m\u001b[37m\u001b[0m \u001b[1m0s\u001b[0m 372ms/step - accuracy: 0.6213 - loss: 0.6019\n",
            "Epoch 4: val_loss did not improve from 0.55114\n",
            "\u001b[1m60/60\u001b[0m \u001b[32m━━━━━━━━━━━━━━━━━━━━\u001b[0m\u001b[37m\u001b[0m \u001b[1m41s\u001b[0m 386ms/step - accuracy: 0.6216 - loss: 0.6017 - val_accuracy: 0.6453 - val_loss: 0.6210\n",
            "Epoch 5/100\n",
            "\u001b[1m60/60\u001b[0m \u001b[32m━━━━━━━━━━━━━━━━━━━━\u001b[0m\u001b[37m\u001b[0m \u001b[1m0s\u001b[0m 340ms/step - accuracy: 0.6130 - loss: 0.5933\n",
            "Epoch 5: val_loss did not improve from 0.55114\n",
            "\u001b[1m60/60\u001b[0m \u001b[32m━━━━━━━━━━━━━━━━━━━━\u001b[0m\u001b[37m\u001b[0m \u001b[1m22s\u001b[0m 361ms/step - accuracy: 0.6134 - loss: 0.5931 - val_accuracy: 0.6552 - val_loss: 0.5550\n",
            "Epoch 6/100\n",
            "\u001b[1m60/60\u001b[0m \u001b[32m━━━━━━━━━━━━━━━━━━━━\u001b[0m\u001b[37m\u001b[0m \u001b[1m0s\u001b[0m 370ms/step - accuracy: 0.6610 - loss: 0.5691\n",
            "Epoch 6: val_loss did not improve from 0.55114\n",
            "\u001b[1m60/60\u001b[0m \u001b[32m━━━━━━━━━━━━━━━━━━━━\u001b[0m\u001b[37m\u001b[0m \u001b[1m43s\u001b[0m 392ms/step - accuracy: 0.6611 - loss: 0.5691 - val_accuracy: 0.6453 - val_loss: 0.5775\n",
            "Epoch 7/100\n",
            "\u001b[1m60/60\u001b[0m \u001b[32m━━━━━━━━━━━━━━━━━━━━\u001b[0m\u001b[37m\u001b[0m \u001b[1m0s\u001b[0m 371ms/step - accuracy: 0.6768 - loss: 0.5915\n",
            "Epoch 7: val_loss did not improve from 0.55114\n",
            "\u001b[1m60/60\u001b[0m \u001b[32m━━━━━━━━━━━━━━━━━━━━\u001b[0m\u001b[37m\u001b[0m \u001b[1m41s\u001b[0m 394ms/step - accuracy: 0.6766 - loss: 0.5915 - val_accuracy: 0.6502 - val_loss: 0.5610\n",
            "Epoch 8/100\n",
            "\u001b[1m60/60\u001b[0m \u001b[32m━━━━━━━━━━━━━━━━━━━━\u001b[0m\u001b[37m\u001b[0m \u001b[1m0s\u001b[0m 352ms/step - accuracy: 0.6519 - loss: 0.5792\n",
            "Epoch 8: val_loss did not improve from 0.55114\n",
            "\u001b[1m60/60\u001b[0m \u001b[32m━━━━━━━━━━━━━━━━━━━━\u001b[0m\u001b[37m\u001b[0m \u001b[1m40s\u001b[0m 374ms/step - accuracy: 0.6518 - loss: 0.5793 - val_accuracy: 0.6700 - val_loss: 0.5678\n",
            "Epoch 9/100\n",
            "\u001b[1m60/60\u001b[0m \u001b[32m━━━━━━━━━━━━━━━━━━━━\u001b[0m\u001b[37m\u001b[0m \u001b[1m0s\u001b[0m 344ms/step - accuracy: 0.6424 - loss: 0.5824\n",
            "Epoch 9: val_loss did not improve from 0.55114\n",
            "\u001b[1m60/60\u001b[0m \u001b[32m━━━━━━━━━━━━━━━━━━━━\u001b[0m\u001b[37m\u001b[0m \u001b[1m40s\u001b[0m 363ms/step - accuracy: 0.6426 - loss: 0.5824 - val_accuracy: 0.6601 - val_loss: 0.5619\n",
            "Epoch 10/100\n",
            "\u001b[1m60/60\u001b[0m \u001b[32m━━━━━━━━━━━━━━━━━━━━\u001b[0m\u001b[37m\u001b[0m \u001b[1m0s\u001b[0m 376ms/step - accuracy: 0.6104 - loss: 0.5877\n",
            "Epoch 10: val_loss did not improve from 0.55114\n",
            "\u001b[1m60/60\u001b[0m \u001b[32m━━━━━━━━━━━━━━━━━━━━\u001b[0m\u001b[37m\u001b[0m \u001b[1m43s\u001b[0m 398ms/step - accuracy: 0.6106 - loss: 0.5876 - val_accuracy: 0.6601 - val_loss: 0.5586\n",
            "Epoch 11/100\n",
            "\u001b[1m60/60\u001b[0m \u001b[32m━━━━━━━━━━━━━━━━━━━━\u001b[0m\u001b[37m\u001b[0m \u001b[1m0s\u001b[0m 375ms/step - accuracy: 0.6643 - loss: 0.5753\n",
            "Epoch 11: val_loss improved from 0.55114 to 0.54203, saving model to best_model.keras\n",
            "\u001b[1m60/60\u001b[0m \u001b[32m━━━━━━━━━━━━━━━━━━━━\u001b[0m\u001b[37m\u001b[0m \u001b[1m41s\u001b[0m 397ms/step - accuracy: 0.6642 - loss: 0.5755 - val_accuracy: 0.6749 - val_loss: 0.5420\n",
            "Epoch 12/100\n",
            "\u001b[1m60/60\u001b[0m \u001b[32m━━━━━━━━━━━━━━━━━━━━\u001b[0m\u001b[37m\u001b[0m \u001b[1m0s\u001b[0m 361ms/step - accuracy: 0.6706 - loss: 0.5882\n",
            "Epoch 12: val_loss did not improve from 0.54203\n",
            "\u001b[1m60/60\u001b[0m \u001b[32m━━━━━━━━━━━━━━━━━━━━\u001b[0m\u001b[37m\u001b[0m \u001b[1m40s\u001b[0m 375ms/step - accuracy: 0.6705 - loss: 0.5879 - val_accuracy: 0.6502 - val_loss: 0.5815\n",
            "Epoch 13/100\n",
            "\u001b[1m60/60\u001b[0m \u001b[32m━━━━━━━━━━━━━━━━━━━━\u001b[0m\u001b[37m\u001b[0m \u001b[1m0s\u001b[0m 377ms/step - accuracy: 0.6646 - loss: 0.5535\n",
            "Epoch 13: val_loss did not improve from 0.54203\n",
            "\u001b[1m60/60\u001b[0m \u001b[32m━━━━━━━━━━━━━━━━━━━━\u001b[0m\u001b[37m\u001b[0m \u001b[1m24s\u001b[0m 399ms/step - accuracy: 0.6643 - loss: 0.5539 - val_accuracy: 0.6404 - val_loss: 0.5916\n",
            "Epoch 14/100\n",
            "\u001b[1m60/60\u001b[0m \u001b[32m━━━━━━━━━━━━━━━━━━━━\u001b[0m\u001b[37m\u001b[0m \u001b[1m0s\u001b[0m 378ms/step - accuracy: 0.6338 - loss: 0.5778\n",
            "Epoch 14: val_loss did not improve from 0.54203\n",
            "\u001b[1m60/60\u001b[0m \u001b[32m━━━━━━━━━━━━━━━━━━━━\u001b[0m\u001b[37m\u001b[0m \u001b[1m41s\u001b[0m 392ms/step - accuracy: 0.6339 - loss: 0.5778 - val_accuracy: 0.6453 - val_loss: 0.5697\n",
            "Epoch 15/100\n",
            "\u001b[1m60/60\u001b[0m \u001b[32m━━━━━━━━━━━━━━━━━━━━\u001b[0m\u001b[37m\u001b[0m \u001b[1m0s\u001b[0m 374ms/step - accuracy: 0.6522 - loss: 0.5585\n",
            "Epoch 15: val_loss did not improve from 0.54203\n",
            "\u001b[1m60/60\u001b[0m \u001b[32m━━━━━━━━━━━━━━━━━━━━\u001b[0m\u001b[37m\u001b[0m \u001b[1m24s\u001b[0m 396ms/step - accuracy: 0.6522 - loss: 0.5586 - val_accuracy: 0.6158 - val_loss: 0.6031\n",
            "Epoch 16/100\n",
            "\u001b[1m60/60\u001b[0m \u001b[32m━━━━━━━━━━━━━━━━━━━━\u001b[0m\u001b[37m\u001b[0m \u001b[1m0s\u001b[0m 376ms/step - accuracy: 0.6581 - loss: 0.5819\n",
            "Epoch 16: val_loss did not improve from 0.54203\n",
            "\u001b[1m60/60\u001b[0m \u001b[32m━━━━━━━━━━━━━━━━━━━━\u001b[0m\u001b[37m\u001b[0m \u001b[1m41s\u001b[0m 398ms/step - accuracy: 0.6581 - loss: 0.5818 - val_accuracy: 0.6650 - val_loss: 0.5782\n",
            "Epoch 17/100\n",
            "\u001b[1m60/60\u001b[0m \u001b[32m━━━━━━━━━━━━━━━━━━━━\u001b[0m\u001b[37m\u001b[0m \u001b[1m0s\u001b[0m 355ms/step - accuracy: 0.6484 - loss: 0.5689\n",
            "Epoch 17: val_loss did not improve from 0.54203\n",
            "\u001b[1m60/60\u001b[0m \u001b[32m━━━━━━━━━━━━━━━━━━━━\u001b[0m\u001b[37m\u001b[0m \u001b[1m40s\u001b[0m 369ms/step - accuracy: 0.6487 - loss: 0.5688 - val_accuracy: 0.6847 - val_loss: 0.5458\n",
            "Epoch 18/100\n",
            "\u001b[1m60/60\u001b[0m \u001b[32m━━━━━━━━━━━━━━━━━━━━\u001b[0m\u001b[37m\u001b[0m \u001b[1m0s\u001b[0m 347ms/step - accuracy: 0.6721 - loss: 0.5500\n",
            "Epoch 18: val_loss did not improve from 0.54203\n",
            "\u001b[1m60/60\u001b[0m \u001b[32m━━━━━━━━━━━━━━━━━━━━\u001b[0m\u001b[37m\u001b[0m \u001b[1m40s\u001b[0m 365ms/step - accuracy: 0.6721 - loss: 0.5502 - val_accuracy: 0.6552 - val_loss: 0.5857\n",
            "Epoch 19/100\n",
            "\u001b[1m60/60\u001b[0m \u001b[32m━━━━━━━━━━━━━━━━━━━━\u001b[0m\u001b[37m\u001b[0m \u001b[1m0s\u001b[0m 375ms/step - accuracy: 0.6457 - loss: 0.5982\n",
            "Epoch 19: val_loss did not improve from 0.54203\n",
            "\u001b[1m60/60\u001b[0m \u001b[32m━━━━━━━━━━━━━━━━━━━━\u001b[0m\u001b[37m\u001b[0m \u001b[1m42s\u001b[0m 389ms/step - accuracy: 0.6458 - loss: 0.5980 - val_accuracy: 0.6601 - val_loss: 0.5607\n",
            "Epoch 20/100\n",
            "\u001b[1m60/60\u001b[0m \u001b[32m━━━━━━━━━━━━━━━━━━━━\u001b[0m\u001b[37m\u001b[0m \u001b[1m0s\u001b[0m 378ms/step - accuracy: 0.6714 - loss: 0.5759\n",
            "Epoch 20: val_loss did not improve from 0.54203\n",
            "\u001b[1m60/60\u001b[0m \u001b[32m━━━━━━━━━━━━━━━━━━━━\u001b[0m\u001b[37m\u001b[0m \u001b[1m42s\u001b[0m 401ms/step - accuracy: 0.6713 - loss: 0.5761 - val_accuracy: 0.6798 - val_loss: 0.5423\n",
            "Epoch 21/100\n",
            "\u001b[1m60/60\u001b[0m \u001b[32m━━━━━━━━━━━━━━━━━━━━\u001b[0m\u001b[37m\u001b[0m \u001b[1m0s\u001b[0m 373ms/step - accuracy: 0.6539 - loss: 0.5695\n",
            "Epoch 21: val_loss did not improve from 0.54203\n",
            "\u001b[1m60/60\u001b[0m \u001b[32m━━━━━━━━━━━━━━━━━━━━\u001b[0m\u001b[37m\u001b[0m \u001b[1m41s\u001b[0m 387ms/step - accuracy: 0.6539 - loss: 0.5697 - val_accuracy: 0.6749 - val_loss: 0.5608\n"
          ]
        }
      ],
      "source": [
        "history = model.fit(\n",
        "    X_train, y_train,\n",
        "    validation_data=(X_val, y_val),\n",
        "    epochs=100,\n",
        "    batch_size=16,\n",
        "    verbose=1,\n",
        "    callbacks=[checkpoint,early_stop]\n",
        ")"
      ]
    },
    {
      "cell_type": "code",
      "execution_count": null,
      "metadata": {
        "id": "TK3X2K93IFhq"
      },
      "outputs": [],
      "source": [
        "model.save(\"lstm_fall.keras\")"
      ]
    },
    {
      "cell_type": "code",
      "execution_count": null,
      "metadata": {
        "colab": {
          "base_uri": "https://localhost:8080/"
        },
        "id": "1IV7MRsUIMUy",
        "outputId": "be365f41-540e-40fa-e234-6fe3b03b3f8a"
      },
      "outputs": [
        {
          "output_type": "stream",
          "name": "stdout",
          "text": [
            "\u001b[1m7/7\u001b[0m \u001b[32m━━━━━━━━━━━━━━━━━━━━\u001b[0m\u001b[37m\u001b[0m \u001b[1m1s\u001b[0m 113ms/step - accuracy: 0.6845 - loss: 0.5217\n",
            "Test Loss: 0.5121\n",
            "Test Accuracy: 0.7094\n"
          ]
        }
      ],
      "source": [
        "loss, acc = model.evaluate(X_test, y_test, verbose=1)\n",
        "print(f\"Test Loss: {loss:.4f}\")\n",
        "print(f\"Test Accuracy: {acc:.4f}\")"
      ]
    },
    {
      "cell_type": "code",
      "execution_count": null,
      "metadata": {
        "colab": {
          "base_uri": "https://localhost:8080/"
        },
        "id": "Lh7XiXbjIOpu",
        "outputId": "f8e69eb5-a5e4-4ed9-92cb-b5c8b9e83f01"
      },
      "outputs": [
        {
          "output_type": "stream",
          "name": "stdout",
          "text": [
            "\u001b[1m7/7\u001b[0m \u001b[32m━━━━━━━━━━━━━━━━━━━━\u001b[0m\u001b[37m\u001b[0m \u001b[1m2s\u001b[0m 156ms/step\n",
            "              precision    recall  f1-score   support\n",
            "\n",
            "         0.0       0.65      0.90      0.76       102\n",
            "         1.0       0.84      0.51      0.64       101\n",
            "\n",
            "    accuracy                           0.71       203\n",
            "   macro avg       0.75      0.71      0.70       203\n",
            "weighted avg       0.75      0.71      0.70       203\n",
            "\n"
          ]
        }
      ],
      "source": [
        "from sklearn.metrics import classification_report\n",
        "\n",
        "# Prediksi probabilitas\n",
        "y_pred_prob = model.predict(X_test)\n",
        "\n",
        "# Binerkan prediksi (threshold = 0.5)\n",
        "y_pred = (y_pred_prob > 0.5).astype(int)\n",
        "\n",
        "print(classification_report(y_test, y_pred))"
      ]
    },
    {
      "cell_type": "code",
      "execution_count": null,
      "metadata": {
        "colab": {
          "base_uri": "https://localhost:8080/",
          "height": 541
        },
        "id": "hj-wWELPIdpt",
        "outputId": "2b63c6f5-ed65-416e-cb56-368bb7610275"
      },
      "outputs": [
        {
          "output_type": "stream",
          "name": "stdout",
          "text": [
            "\u001b[1m7/7\u001b[0m \u001b[32m━━━━━━━━━━━━━━━━━━━━\u001b[0m\u001b[37m\u001b[0m \u001b[1m1s\u001b[0m 102ms/step\n"
          ]
        },
        {
          "output_type": "display_data",
          "data": {
            "text/plain": [
              "<Figure size 640x480 with 2 Axes>"
            ],
            "image/png": "[encoded data removed]"
          },
          "metadata": {}
        },
        {
          "output_type": "stream",
          "name": "stdout",
          "text": [
            "Confusion Matrix:\n",
            " [[92 10]\n",
            " [49 52]]\n"
          ]
        }
      ],
      "source": [
        "from sklearn.metrics import confusion_matrix, ConfusionMatrixDisplay\n",
        "import matplotlib.pyplot as plt\n",
        "import numpy as np\n",
        "\n",
        "# 1. Prediksi probabilitas\n",
        "y_pred_prob = model.predict(X_test)\n",
        "\n",
        "# 2. Konversi ke label 0/1 (threshold = 0.5)\n",
        "y_pred = (y_pred_prob > 0.5).astype(int)\n",
        "\n",
        "# 3. Buat confusion matrix\n",
        "cm = confusion_matrix(y_test, y_pred)\n",
        "\n",
        "# 4. Tampilkan\n",
        "disp = ConfusionMatrixDisplay(confusion_matrix=cm, display_labels=[0, 1])\n",
        "disp.plot(cmap=plt.cm.Blues)\n",
        "plt.title(\"Confusion Matrix\")\n",
        "plt.show()\n",
        "\n",
        "# Opsional: cetak nilai CM\n",
        "print(\"Confusion Matrix:\\n\", cm)"
      ]
    },
    {
      "cell_type": "code",
      "execution_count": null,
      "metadata": {
        "colab": {
          "base_uri": "https://localhost:8080/"
        },
        "id": "1a99ddaf",
        "outputId": "46af31d0-1c80-4077-d901-bf6749f7f48b"
      },
      "outputs": [
        {
          "output_type": "stream",
          "name": "stdout",
          "text": [
            "Jumlah sampel per kelas:\n",
            "- ADL: 677 sampel\n",
            "- Fall: 675 sampel\n",
            "\n",
            "Persentase sampel per kelas:\n",
            "- ADL: 50.07%\n",
            "- Fall: 49.93%\n"
          ]
        }
      ],
      "source": [
        "# Hitung jumlah sampel per kelas\n",
        "unique_classes, counts = np.unique(y, return_counts=True)\n",
        "\n",
        "print(\"Jumlah sampel per kelas:\")\n",
        "for class_value, count in zip(unique_classes, counts):\n",
        "    if class_value == 0:\n",
        "        label_name = \"ADL\"\n",
        "    elif class_value == 1:\n",
        "        label_name = \"Fall\"\n",
        "    else:\n",
        "        label_name = f\"Class {class_value}\"\n",
        "    print(f\"- {label_name}: {count} sampel\")\n",
        "\n",
        "# Hitung persentase\n",
        "total_samples = len(y)\n",
        "print(\"\\nPersentase sampel per kelas:\")\n",
        "for class_value, count in zip(unique_classes, counts):\n",
        "    if class_value == 0:\n",
        "        label_name = \"ADL\"\n",
        "    elif class_value == 1:\n",
        "        label_name = \"Fall\"\n",
        "    else:\n",
        "        label_name = f\"Class {class_value}\"\n",
        "    percentage = (count / total_samples) * 100\n",
        "    print(f\"- {label_name}: {percentage:.2f}%\")"
      ]
    },
    {
      "cell_type": "code",
      "execution_count": null,
      "metadata": {
        "colab": {
          "base_uri": "https://localhost:8080/",
          "height": 639,
          "referenced_widgets": [
            "11ece9670ac343aba2ecc0dcbf65d517",
            "54e2a02ce60e44f0975b5e16a6d68ae8",
            "0b43a21e2dad42d8837a1f1f5af5323d",
            "e0bc2b750aa9443ab60a2d9ae2f8d5aa",
            "5d67afec2aa74784a9cd5dcb2ac2d787",
            "b5ac29c4e8d84c8b92bb4ed75743cc6c",
            "6cc8a5814e7940c0989f004d5ecc6119",
            "e26c4765cc95419d819b4542cc1e1a3b",
            "58adbdc43ea14cb0ac3aea19e1918762",
            "8184022549ea40a5bed31d97f5af21d5",
            "34efbc2ddf674c49843b201d3e8e1b08"
          ]
        },
        "id": "hAZ61xYkNIxb",
        "outputId": "89a12b3c-b5b0-4869-fc7e-98a6bf9a8439"
      },
      "outputs": [
        {
          "data": {
            "application/vnd.jupyter.widget-view+json": {
              "model_id": "11ece9670ac343aba2ecc0dcbf65d517",
              "version_major": 2,
              "version_minor": 0
            },
            "text/plain": [
              "Downloading 5 files:   0%|          | 0/5 [00:00<?, ?it/s]"
            ]
          },
          "metadata": {},
          "output_type": "display_data"
        },
        {
          "name": "stdout",
          "output_type": "stream",
          "text": [
            "Downloading from https://www.kaggle.com/api/v1/models/google/yamnet/tfJs/tfjs/1/download/group1-shard3of4.bin...\n",
            "Downloading from https://www.kaggle.com/api/v1/models/google/yamnet/tfJs/tfjs/1/download/group1-shard4of4.bin...\n"
          ]
        },
        {
          "name": "stderr",
          "output_type": "stream",
          "text": [
            "\n",
            "  0%|          | 0.00/4.00M [00:00<?, ?B/s]\u001b[A\n",
            "\n",
            "  0%|          | 0.00/3.30M [00:00<?, ?B/s]\u001b[A\u001b[A"
          ]
        },
        {
          "name": "stdout",
          "output_type": "stream",
          "text": [
            "Downloading from https://www.kaggle.com/api/v1/models/google/yamnet/tfJs/tfjs/1/download/model.json...\n"
          ]
        },
        {
          "name": "stderr",
          "output_type": "stream",
          "text": [
            "\n",
            "\n",
            "\n",
            "  0%|          | 0.00/98.4k [00:00<?, ?B/s]\u001b[A\u001b[A\u001b[A"
          ]
        },
        {
          "name": "stdout",
          "output_type": "stream",
          "text": [
            "Downloading from https://www.kaggle.com/api/v1/models/google/yamnet/tfJs/tfjs/1/download/group1-shard2of4.bin...\n"
          ]
        },
        {
          "name": "stderr",
          "output_type": "stream",
          "text": [
            "\n",
            "\n",
            "\n",
            "\n",
            "  0%|          | 0.00/4.00M [00:00<?, ?B/s]"
          ]
        },
        {
          "name": "stdout",
          "output_type": "stream",
          "text": [
            "Downloading from https://www.kaggle.com/api/v1/models/google/yamnet/tfJs/tfjs/1/download/group1-shard1of4.bin...\n"
          ]
        },
        {
          "name": "stderr",
          "output_type": "stream",
          "text": [
            "100%|██████████| 98.4k/98.4k [00:00<00:00, 1.37MB/s]\n",
            "\n",
            "\n",
            "\n",
            "  0%|          | 0.00/4.00M [00:00<?, ?B/s]\u001b[A\u001b[A\u001b[A\n",
            " 25%|██▌       | 1.00M/4.00M [00:00<00:00, 5.68MB/s]\u001b[A\n",
            "\n",
            "100%|██████████| 3.30M/3.30M [00:00<00:00, 14.8MB/s]\n",
            "100%|██████████| 4.00M/4.00M [00:00<00:00, 16.9MB/s]\n",
            "\n",
            "\n",
            "\n",
            "\n",
            " 25%|██▌       | 1.00M/4.00M [00:00<00:00, 5.83MB/s]\u001b[A\u001b[A\u001b[A\u001b[A\n",
            "\n",
            "\n",
            "100%|██████████| 4.00M/4.00M [00:00<00:00, 17.3MB/s]\n",
            "100%|██████████| 4.00M/4.00M [00:00<00:00, 17.0MB/s]"
          ]
        },
        {
          "name": "stdout",
          "output_type": "stream",
          "text": [
            "Path to model files: /root/.cache/kagglehub/models/google/yamnet/tfJs/tfjs/1\n"
          ]
        },
        {
          "name": "stderr",
          "output_type": "stream",
          "text": [
            "\n"
          ]
        }
      ],
      "source": [
        "import kagglehub\n",
        "\n",
        "# Download latest version\n",
        "path = kagglehub.model_download(\"google/yamnet/tfJs/tfjs\")\n",
        "\n",
        "print(\"Path to model files:\", path)"
      ]
    }
  ],
  "metadata": {
    "accelerator": "GPU",
    "colab": {
      "gpuType": "T4",
      "provenance": []
    },
    "kernelspec": {
      "display_name": "Python 3",
      "name": "python3"
    },
    "language_info": {
      "name": "python"
    },
    "widgets": {
      "application/vnd.jupyter.widget-state+json": {
        "0b43a21e2dad42d8837a1f1f5af5323d": {
          "model_module": "@jupyter-widgets/controls",
          "model_module_version": "1.5.0",
          "model_name": "FloatProgressModel",
          "state": {
            "_dom_classes": [],
            "_model_module": "@jupyter-widgets/controls",
            "_model_module_version": "1.5.0",
            "_model_name": "FloatProgressModel",
            "_view_count": null,
            "_view_module": "@jupyter-widgets/controls",
            "_view_module_version": "1.5.0",
            "_view_name": "ProgressView",
            "bar_style": "success",
            "description": "",
            "description_tooltip": null,
            "layout": "IPY_MODEL_e26c4765cc95419d819b4542cc1e1a3b",
            "max": 5,
            "min": 0,
            "orientation": "horizontal",
            "style": "IPY_MODEL_58adbdc43ea14cb0ac3aea19e1918762",
            "value": 5
          }
        },
        "11ece9670ac343aba2ecc0dcbf65d517": {
          "model_module": "@jupyter-widgets/controls",
          "model_module_version": "1.5.0",
          "model_name": "HBoxModel",
          "state": {
            "_dom_classes": [],
            "_model_module": "@jupyter-widgets/controls",
            "_model_module_version": "1.5.0",
            "_model_name": "HBoxModel",
            "_view_count": null,
            "_view_module": "@jupyter-widgets/controls",
            "_view_module_version": "1.5.0",
            "_view_name": "HBoxView",
            "box_style": "",
            "children": [
              "IPY_MODEL_54e2a02ce60e44f0975b5e16a6d68ae8",
              "IPY_MODEL_0b43a21e2dad42d8837a1f1f5af5323d",
              "IPY_MODEL_e0bc2b750aa9443ab60a2d9ae2f8d5aa"
            ],
            "layout": "IPY_MODEL_5d67afec2aa74784a9cd5dcb2ac2d787"
          }
        },
        "34efbc2ddf674c49843b201d3e8e1b08": {
          "model_module": "@jupyter-widgets/controls",
          "model_module_version": "1.5.0",
          "model_name": "DescriptionStyleModel",
          "state": {
            "_model_module": "@jupyter-widgets/controls",
            "_model_module_version": "1.5.0",
            "_model_name": "DescriptionStyleModel",
            "_view_count": null,
            "_view_module": "@jupyter-widgets/base",
            "_view_module_version": "1.2.0",
            "_view_name": "StyleView",
            "description_width": ""
          }
        },
        "54e2a02ce60e44f0975b5e16a6d68ae8": {
          "model_module": "@jupyter-widgets/controls",
          "model_module_version": "1.5.0",
          "model_name": "HTMLModel",
          "state": {
            "_dom_classes": [],
            "_model_module": "@jupyter-widgets/controls",
            "_model_module_version": "1.5.0",
            "_model_name": "HTMLModel",
            "_view_count": null,
            "_view_module": "@jupyter-widgets/controls",
            "_view_module_version": "1.5.0",
            "_view_name": "HTMLView",
            "description": "",
            "description_tooltip": null,
            "layout": "IPY_MODEL_b5ac29c4e8d84c8b92bb4ed75743cc6c",
            "placeholder": "​",
            "style": "IPY_MODEL_6cc8a5814e7940c0989f004d5ecc6119",
            "value": "Downloading 5 files: 100%"
          }
        },
        "58adbdc43ea14cb0ac3aea19e1918762": {
          "model_module": "@jupyter-widgets/controls",
          "model_module_version": "1.5.0",
          "model_name": "ProgressStyleModel",
          "state": {
            "_model_module": "@jupyter-widgets/controls",
            "_model_module_version": "1.5.0",
            "_model_name": "ProgressStyleModel",
            "_view_count": null,
            "_view_module": "@jupyter-widgets/base",
            "_view_module_version": "1.2.0",
            "_view_name": "StyleView",
            "bar_color": null,
            "description_width": ""
          }
        },
        "5d67afec2aa74784a9cd5dcb2ac2d787": {
          "model_module": "@jupyter-widgets/base",
          "model_module_version": "1.2.0",
          "model_name": "LayoutModel",
          "state": {
            "_model_module": "@jupyter-widgets/base",
            "_model_module_version": "1.2.0",
            "_model_name": "LayoutModel",
            "_view_count": null,
            "_view_module": "@jupyter-widgets/base",
            "_view_module_version": "1.2.0",
            "_view_name": "LayoutView",
            "align_content": null,
            "align_items": null,
            "align_self": null,
            "border": null,
            "bottom": null,
            "display": null,
            "flex": null,
            "flex_flow": null,
            "grid_area": null,
            "grid_auto_columns": null,
            "grid_auto_flow": null,
            "grid_auto_rows": null,
            "grid_column": null,
            "grid_gap": null,
            "grid_row": null,
            "grid_template_areas": null,
            "grid_template_columns": null,
            "grid_template_rows": null,
            "height": null,
            "justify_content": null,
            "justify_items": null,
            "left": null,
            "margin": null,
            "max_height": null,
            "max_width": null,
            "min_height": null,
            "min_width": null,
            "object_fit": null,
            "object_position": null,
            "order": null,
            "overflow": null,
            "overflow_x": null,
            "overflow_y": null,
            "padding": null,
            "right": null,
            "top": null,
            "visibility": null,
            "width": null
          }
        },
        "6cc8a5814e7940c0989f004d5ecc6119": {
          "model_module": "@jupyter-widgets/controls",
          "model_module_version": "1.5.0",
          "model_name": "DescriptionStyleModel",
          "state": {
            "_model_module": "@jupyter-widgets/controls",
            "_model_module_version": "1.5.0",
            "_model_name": "DescriptionStyleModel",
            "_view_count": null,
            "_view_module": "@jupyter-widgets/base",
            "_view_module_version": "1.2.0",
            "_view_name": "StyleView",
            "description_width": ""
          }
        },
        "8184022549ea40a5bed31d97f5af21d5": {
          "model_module": "@jupyter-widgets/base",
          "model_module_version": "1.2.0",
          "model_name": "LayoutModel",
          "state": {
            "_model_module": "@jupyter-widgets/base",
            "_model_module_version": "1.2.0",
            "_model_name": "LayoutModel",
            "_view_count": null,
            "_view_module": "@jupyter-widgets/base",
            "_view_module_version": "1.2.0",
            "_view_name": "LayoutView",
            "align_content": null,
            "align_items": null,
            "align_self": null,
            "border": null,
            "bottom": null,
            "display": null,
            "flex": null,
            "flex_flow": null,
            "grid_area": null,
            "grid_auto_columns": null,
            "grid_auto_flow": null,
            "grid_auto_rows": null,
            "grid_column": null,
            "grid_gap": null,
            "grid_row": null,
            "grid_template_areas": null,
            "grid_template_columns": null,
            "grid_template_rows": null,
            "height": null,
            "justify_content": null,
            "justify_items": null,
            "left": null,
            "margin": null,
            "max_height": null,
            "max_width": null,
            "min_height": null,
            "min_width": null,
            "object_fit": null,
            "object_position": null,
            "order": null,
            "overflow": null,
            "overflow_x": null,
            "overflow_y": null,
            "padding": null,
            "right": null,
            "top": null,
            "visibility": null,
            "width": null
          }
        },
        "b5ac29c4e8d84c8b92bb4ed75743cc6c": {
          "model_module": "@jupyter-widgets/base",
          "model_module_version": "1.2.0",
          "model_name": "LayoutModel",
          "state": {
            "_model_module": "@jupyter-widgets/base",
            "_model_module_version": "1.2.0",
            "_model_name": "LayoutModel",
            "_view_count": null,
            "_view_module": "@jupyter-widgets/base",
            "_view_module_version": "1.2.0",
            "_view_name": "LayoutView",
            "align_content": null,
            "align_items": null,
            "align_self": null,
            "border": null,
            "bottom": null,
            "display": null,
            "flex": null,
            "flex_flow": null,
            "grid_area": null,
            "grid_auto_columns": null,
            "grid_auto_flow": null,
            "grid_auto_rows": null,
            "grid_column": null,
            "grid_gap": null,
            "grid_row": null,
            "grid_template_areas": null,
            "grid_template_columns": null,
            "grid_template_rows": null,
            "height": null,
            "justify_content": null,
            "justify_items": null,
            "left": null,
            "margin": null,
            "max_height": null,
            "max_width": null,
            "min_height": null,
            "min_width": null,
            "object_fit": null,
            "object_position": null,
            "order": null,
            "overflow": null,
            "overflow_x": null,
            "overflow_y": null,
            "padding": null,
            "right": null,
            "top": null,
            "visibility": null,
            "width": null
          }
        },
        "e0bc2b750aa9443ab60a2d9ae2f8d5aa": {
          "model_module": "@jupyter-widgets/controls",
          "model_module_version": "1.5.0",
          "model_name": "HTMLModel",
          "state": {
            "_dom_classes": [],
            "_model_module": "@jupyter-widgets/controls",
            "_model_module_version": "1.5.0",
            "_model_name": "HTMLModel",
            "_view_count": null,
            "_view_module": "@jupyter-widgets/controls",
            "_view_module_version": "1.5.0",
            "_view_name": "HTMLView",
            "description": "",
            "description_tooltip": null,
            "layout": "IPY_MODEL_8184022549ea40a5bed31d97f5af21d5",
            "placeholder": "​",
            "style": "IPY_MODEL_34efbc2ddf674c49843b201d3e8e1b08",
            "value": " 5/5 [00:00&lt;00:00,  1.17it/s]"
          }
        },
        "e26c4765cc95419d819b4542cc1e1a3b": {
          "model_module": "@jupyter-widgets/base",
          "model_module_version": "1.2.0",
          "model_name": "LayoutModel",
          "state": {
            "_model_module": "@jupyter-widgets/base",
            "_model_module_version": "1.2.0",
            "_model_name": "LayoutModel",
            "_view_count": null,
            "_view_module": "@jupyter-widgets/base",
            "_view_module_version": "1.2.0",
            "_view_name": "LayoutView",
            "align_content": null,
            "align_items": null,
            "align_self": null,
            "border": null,
            "bottom": null,
            "display": null,
            "flex": null,
            "flex_flow": null,
            "grid_area": null,
            "grid_auto_columns": null,
            "grid_auto_flow": null,
            "grid_auto_rows": null,
            "grid_column": null,
            "grid_gap": null,
            "grid_row": null,
            "grid_template_areas": null,
            "grid_template_columns": null,
            "grid_template_rows": null,
            "height": null,
            "justify_content": null,
            "justify_items": null,
            "left": null,
            "margin": null,
            "max_height": null,
            "max_width": null,
            "min_height": null,
            "min_width": null,
            "object_fit": null,
            "object_position": null,
            "order": null,
            "overflow": null,
            "overflow_x": null,
            "overflow_y": null,
            "padding": null,
            "right": null,
            "top": null,
            "visibility": null,
            "width": null
          }
        }
      }
    }
  },
  "nbformat": 4,
  "nbformat_minor": 0
}